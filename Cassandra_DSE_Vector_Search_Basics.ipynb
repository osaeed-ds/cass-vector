{
  "cells": [
    {
      "cell_type": "markdown",
      "metadata": {
        "id": "view-in-github",
        "colab_type": "text"
      },
      "source": [
        "<a href=\"https://colab.research.google.com/github/osaeed-ds/cass-vector/blob/main/Cassandra_DSE_Vector_Search_Basics.ipynb\" target=\"_parent\"><img src=\"https://colab.research.google.com/assets/colab-badge.svg\" alt=\"Open In Colab\"/></a>"
      ]
    },
    {
      "cell_type": "markdown",
      "id": "8ee0e82f-95fa-4efa-84e3-9873d4dcdaf1",
      "metadata": {
        "id": "8ee0e82f-95fa-4efa-84e3-9873d4dcdaf1"
      },
      "source": [
        "# Getting Started with this notebook"
      ]
    },
    {
      "cell_type": "markdown",
      "id": "58bc1d2f-7039-4d2a-950c-ff3686013c55",
      "metadata": {
        "id": "58bc1d2f-7039-4d2a-950c-ff3686013c55"
      },
      "source": [
        "- Create a DSE 7 or Cassandra 5 database and have your login, password, and IP\n",
        "- To generate embeddings, we will use Sentence Transformers from LangChain configured with the all-MiniLM-L6-v2 model from Hugging Face\n"
      ]
    },
    {
      "cell_type": "markdown",
      "id": "2c1f964d-aa85-4b2f-a04c-71c295fe9d1e",
      "metadata": {
        "id": "2c1f964d-aa85-4b2f-a04c-71c295fe9d1e"
      },
      "source": [
        "# Setup"
      ]
    },
    {
      "cell_type": "code",
      "execution_count": 17,
      "id": "3e57b18c-275c-40bf-8a71-bbb0c94b2a7b",
      "metadata": {
        "scrolled": true,
        "colab": {
          "base_uri": "https://localhost:8080/"
        },
        "id": "3e57b18c-275c-40bf-8a71-bbb0c94b2a7b",
        "outputId": "37470653-9f79-45b4-ec96-46d207384ece"
      },
      "outputs": [
        {
          "output_type": "stream",
          "name": "stdout",
          "text": [
            "Requirement already satisfied: openai in /usr/local/lib/python3.10/dist-packages (1.3.0)\n",
            "Requirement already satisfied: datasets in /usr/local/lib/python3.10/dist-packages (2.14.7)\n",
            "Requirement already satisfied: pandas in /usr/local/lib/python3.10/dist-packages (1.5.3)\n",
            "Requirement already satisfied: cassandra-driver in /usr/local/lib/python3.10/dist-packages (3.28.0)\n",
            "Collecting sentence-transformers\n",
            "  Downloading sentence-transformers-2.2.2.tar.gz (85 kB)\n",
            "\u001b[2K     \u001b[90m━━━━━━━━━━━━━━━━━━━━━━━━━━━━━━━━━━━━━━━━\u001b[0m \u001b[32m86.0/86.0 kB\u001b[0m \u001b[31m2.1 MB/s\u001b[0m eta \u001b[36m0:00:00\u001b[0m\n",
            "\u001b[?25h  Preparing metadata (setup.py) ... \u001b[?25l\u001b[?25hdone\n",
            "Collecting transformers\n",
            "  Downloading transformers-4.35.2-py3-none-any.whl (7.9 MB)\n",
            "\u001b[2K     \u001b[90m━━━━━━━━━━━━━━━━━━━━━━━━━━━━━━━━━━━━━━━━\u001b[0m \u001b[32m7.9/7.9 MB\u001b[0m \u001b[31m61.5 MB/s\u001b[0m eta \u001b[36m0:00:00\u001b[0m\n",
            "\u001b[?25hRequirement already satisfied: anyio<4,>=3.5.0 in /usr/local/lib/python3.10/dist-packages (from openai) (3.7.1)\n",
            "Requirement already satisfied: distro<2,>=1.7.0 in /usr/lib/python3/dist-packages (from openai) (1.7.0)\n",
            "Requirement already satisfied: httpx<1,>=0.23.0 in /usr/local/lib/python3.10/dist-packages (from openai) (0.25.1)\n",
            "Requirement already satisfied: pydantic<3,>=1.9.0 in /usr/local/lib/python3.10/dist-packages (from openai) (1.10.13)\n",
            "Requirement already satisfied: tqdm>4 in /usr/local/lib/python3.10/dist-packages (from openai) (4.66.1)\n",
            "Requirement already satisfied: typing-extensions<5,>=4.5 in /usr/local/lib/python3.10/dist-packages (from openai) (4.5.0)\n",
            "Requirement already satisfied: numpy>=1.17 in /usr/local/lib/python3.10/dist-packages (from datasets) (1.23.5)\n",
            "Requirement already satisfied: pyarrow>=8.0.0 in /usr/local/lib/python3.10/dist-packages (from datasets) (9.0.0)\n",
            "Requirement already satisfied: pyarrow-hotfix in /usr/local/lib/python3.10/dist-packages (from datasets) (0.5)\n",
            "Requirement already satisfied: dill<0.3.8,>=0.3.0 in /usr/local/lib/python3.10/dist-packages (from datasets) (0.3.7)\n",
            "Requirement already satisfied: requests>=2.19.0 in /usr/local/lib/python3.10/dist-packages (from datasets) (2.31.0)\n",
            "Requirement already satisfied: xxhash in /usr/local/lib/python3.10/dist-packages (from datasets) (3.4.1)\n",
            "Requirement already satisfied: multiprocess in /usr/local/lib/python3.10/dist-packages (from datasets) (0.70.15)\n",
            "Requirement already satisfied: fsspec[http]<=2023.10.0,>=2023.1.0 in /usr/local/lib/python3.10/dist-packages (from datasets) (2023.6.0)\n",
            "Requirement already satisfied: aiohttp in /usr/local/lib/python3.10/dist-packages (from datasets) (3.8.6)\n",
            "Requirement already satisfied: huggingface-hub<1.0.0,>=0.14.0 in /usr/local/lib/python3.10/dist-packages (from datasets) (0.19.3)\n",
            "Requirement already satisfied: packaging in /usr/local/lib/python3.10/dist-packages (from datasets) (23.2)\n",
            "Requirement already satisfied: pyyaml>=5.1 in /usr/local/lib/python3.10/dist-packages (from datasets) (6.0.1)\n",
            "Requirement already satisfied: python-dateutil>=2.8.1 in /usr/local/lib/python3.10/dist-packages (from pandas) (2.8.2)\n",
            "Requirement already satisfied: pytz>=2020.1 in /usr/local/lib/python3.10/dist-packages (from pandas) (2023.3.post1)\n",
            "Requirement already satisfied: six>=1.9 in /usr/local/lib/python3.10/dist-packages (from cassandra-driver) (1.16.0)\n",
            "Requirement already satisfied: geomet<0.3,>=0.1 in /usr/local/lib/python3.10/dist-packages (from cassandra-driver) (0.2.1.post1)\n",
            "Requirement already satisfied: torch>=1.6.0 in /usr/local/lib/python3.10/dist-packages (from sentence-transformers) (2.1.0+cu118)\n",
            "Requirement already satisfied: torchvision in /usr/local/lib/python3.10/dist-packages (from sentence-transformers) (0.16.0+cu118)\n",
            "Requirement already satisfied: scikit-learn in /usr/local/lib/python3.10/dist-packages (from sentence-transformers) (1.2.2)\n",
            "Requirement already satisfied: scipy in /usr/local/lib/python3.10/dist-packages (from sentence-transformers) (1.11.3)\n",
            "Requirement already satisfied: nltk in /usr/local/lib/python3.10/dist-packages (from sentence-transformers) (3.8.1)\n",
            "Collecting sentencepiece (from sentence-transformers)\n",
            "  Downloading sentencepiece-0.1.99-cp310-cp310-manylinux_2_17_x86_64.manylinux2014_x86_64.whl (1.3 MB)\n",
            "\u001b[2K     \u001b[90m━━━━━━━━━━━━━━━━━━━━━━━━━━━━━━━━━━━━━━━━\u001b[0m \u001b[32m1.3/1.3 MB\u001b[0m \u001b[31m75.9 MB/s\u001b[0m eta \u001b[36m0:00:00\u001b[0m\n",
            "\u001b[?25hRequirement already satisfied: filelock in /usr/local/lib/python3.10/dist-packages (from transformers) (3.13.1)\n",
            "Requirement already satisfied: regex!=2019.12.17 in /usr/local/lib/python3.10/dist-packages (from transformers) (2023.6.3)\n",
            "Collecting tokenizers<0.19,>=0.14 (from transformers)\n",
            "  Downloading tokenizers-0.15.0-cp310-cp310-manylinux_2_17_x86_64.manylinux2014_x86_64.whl (3.8 MB)\n",
            "\u001b[2K     \u001b[90m━━━━━━━━━━━━━━━━━━━━━━━━━━━━━━━━━━━━━━━━\u001b[0m \u001b[32m3.8/3.8 MB\u001b[0m \u001b[31m64.3 MB/s\u001b[0m eta \u001b[36m0:00:00\u001b[0m\n",
            "\u001b[?25hCollecting safetensors>=0.3.1 (from transformers)\n",
            "  Downloading safetensors-0.4.0-cp310-cp310-manylinux_2_17_x86_64.manylinux2014_x86_64.whl (1.3 MB)\n",
            "\u001b[2K     \u001b[90m━━━━━━━━━━━━━━━━━━━━━━━━━━━━━━━━━━━━━━━━\u001b[0m \u001b[32m1.3/1.3 MB\u001b[0m \u001b[31m76.2 MB/s\u001b[0m eta \u001b[36m0:00:00\u001b[0m\n",
            "\u001b[?25hRequirement already satisfied: idna>=2.8 in /usr/local/lib/python3.10/dist-packages (from anyio<4,>=3.5.0->openai) (3.4)\n",
            "Requirement already satisfied: sniffio>=1.1 in /usr/local/lib/python3.10/dist-packages (from anyio<4,>=3.5.0->openai) (1.3.0)\n",
            "Requirement already satisfied: exceptiongroup in /usr/local/lib/python3.10/dist-packages (from anyio<4,>=3.5.0->openai) (1.1.3)\n",
            "Requirement already satisfied: attrs>=17.3.0 in /usr/local/lib/python3.10/dist-packages (from aiohttp->datasets) (23.1.0)\n",
            "Requirement already satisfied: charset-normalizer<4.0,>=2.0 in /usr/local/lib/python3.10/dist-packages (from aiohttp->datasets) (3.3.2)\n",
            "Requirement already satisfied: multidict<7.0,>=4.5 in /usr/local/lib/python3.10/dist-packages (from aiohttp->datasets) (6.0.4)\n",
            "Requirement already satisfied: async-timeout<5.0,>=4.0.0a3 in /usr/local/lib/python3.10/dist-packages (from aiohttp->datasets) (4.0.3)\n",
            "Requirement already satisfied: yarl<2.0,>=1.0 in /usr/local/lib/python3.10/dist-packages (from aiohttp->datasets) (1.9.2)\n",
            "Requirement already satisfied: frozenlist>=1.1.1 in /usr/local/lib/python3.10/dist-packages (from aiohttp->datasets) (1.4.0)\n",
            "Requirement already satisfied: aiosignal>=1.1.2 in /usr/local/lib/python3.10/dist-packages (from aiohttp->datasets) (1.3.1)\n",
            "Requirement already satisfied: click in /usr/local/lib/python3.10/dist-packages (from geomet<0.3,>=0.1->cassandra-driver) (8.1.7)\n",
            "Requirement already satisfied: certifi in /usr/local/lib/python3.10/dist-packages (from httpx<1,>=0.23.0->openai) (2023.7.22)\n",
            "Requirement already satisfied: httpcore in /usr/local/lib/python3.10/dist-packages (from httpx<1,>=0.23.0->openai) (1.0.2)\n",
            "Requirement already satisfied: urllib3<3,>=1.21.1 in /usr/local/lib/python3.10/dist-packages (from requests>=2.19.0->datasets) (2.0.7)\n",
            "Requirement already satisfied: sympy in /usr/local/lib/python3.10/dist-packages (from torch>=1.6.0->sentence-transformers) (1.12)\n",
            "Requirement already satisfied: networkx in /usr/local/lib/python3.10/dist-packages (from torch>=1.6.0->sentence-transformers) (3.2.1)\n",
            "Requirement already satisfied: jinja2 in /usr/local/lib/python3.10/dist-packages (from torch>=1.6.0->sentence-transformers) (3.1.2)\n",
            "Requirement already satisfied: triton==2.1.0 in /usr/local/lib/python3.10/dist-packages (from torch>=1.6.0->sentence-transformers) (2.1.0)\n",
            "Requirement already satisfied: joblib in /usr/local/lib/python3.10/dist-packages (from nltk->sentence-transformers) (1.3.2)\n",
            "Requirement already satisfied: threadpoolctl>=2.0.0 in /usr/local/lib/python3.10/dist-packages (from scikit-learn->sentence-transformers) (3.2.0)\n",
            "Requirement already satisfied: pillow!=8.3.*,>=5.3.0 in /usr/local/lib/python3.10/dist-packages (from torchvision->sentence-transformers) (9.4.0)\n",
            "Requirement already satisfied: h11<0.15,>=0.13 in /usr/local/lib/python3.10/dist-packages (from httpcore->httpx<1,>=0.23.0->openai) (0.14.0)\n",
            "Requirement already satisfied: MarkupSafe>=2.0 in /usr/local/lib/python3.10/dist-packages (from jinja2->torch>=1.6.0->sentence-transformers) (2.1.3)\n",
            "Requirement already satisfied: mpmath>=0.19 in /usr/local/lib/python3.10/dist-packages (from sympy->torch>=1.6.0->sentence-transformers) (1.3.0)\n",
            "Building wheels for collected packages: sentence-transformers\n",
            "  Building wheel for sentence-transformers (setup.py) ... \u001b[?25l\u001b[?25hdone\n",
            "  Created wheel for sentence-transformers: filename=sentence_transformers-2.2.2-py3-none-any.whl size=125923 sha256=96e9fefd3c2b9ba986b8ebb23d2430ad35d1effae609cf29ccb680b1954f79d2\n",
            "  Stored in directory: /root/.cache/pip/wheels/62/f2/10/1e606fd5f02395388f74e7462910fe851042f97238cbbd902f\n",
            "Successfully built sentence-transformers\n",
            "Installing collected packages: sentencepiece, safetensors, tokenizers, transformers, sentence-transformers\n",
            "Successfully installed safetensors-0.4.0 sentence-transformers-2.2.2 sentencepiece-0.1.99 tokenizers-0.15.0 transformers-4.35.2\n"
          ]
        }
      ],
      "source": [
        "!pip install openai datasets pandas cassandra-driver sentence-transformers transformers"
      ]
    },
    {
      "cell_type": "markdown",
      "id": "25d08ec4-0e7b-4819-933f-43ed5ff95e48",
      "metadata": {
        "id": "25d08ec4-0e7b-4819-933f-43ed5ff95e48"
      },
      "source": [
        "# Imports"
      ]
    },
    {
      "cell_type": "code",
      "execution_count": 2,
      "id": "01da99af-da9b-4f38-b841-d802ff23bf2f",
      "metadata": {
        "id": "01da99af-da9b-4f38-b841-d802ff23bf2f"
      },
      "outputs": [],
      "source": [
        "from cassandra.cluster import Cluster\n",
        "from cassandra.auth import PlainTextAuthProvider\n",
        "from cassandra.query import dict_factory\n",
        "from cassandra.query import SimpleStatement\n",
        "import numpy\n",
        "import pandas as pd"
      ]
    },
    {
      "cell_type": "markdown",
      "id": "b7a93b64-e9e9-41d1-95c9-dc9194a5ec8d",
      "metadata": {
        "id": "b7a93b64-e9e9-41d1-95c9-dc9194a5ec8d"
      },
      "source": [
        "# Keys & Environment Variables"
      ]
    },
    {
      "cell_type": "code",
      "source": [
        "# keys and tokens here\n",
        "cass_user = 'cassandra'\n",
        "cass_pw = 'cassandra'\n",
        "cass_ip = '18.222.204.232'\n",
        "cass_keyspace ='vector_preview'"
      ],
      "metadata": {
        "id": "DXAgeW4qoAtk"
      },
      "id": "DXAgeW4qoAtk",
      "execution_count": 12,
      "outputs": []
    },
    {
      "cell_type": "markdown",
      "id": "a96369f4-d311-44c2-8469-f960a2a8718a",
      "metadata": {
        "id": "a96369f4-d311-44c2-8469-f960a2a8718a"
      },
      "source": [
        "# Select a model to compute embeddings"
      ]
    },
    {
      "cell_type": "code",
      "source": [
        "# Download the all-MiniLM-L6-v2 from HuggingFace, and configure it to infer on the CPU (as opposed to GPU)\n",
        "from sentence_transformers import SentenceTransformer\n",
        "model = SentenceTransformer('all-MiniLM-L6-v2', device='cpu')"
      ],
      "metadata": {
        "colab": {
          "base_uri": "https://localhost:8080/",
          "height": 465,
          "referenced_widgets": [
            "d83991d9e9ce4046b3f69a2eb4436997",
            "398798d4895c4edb868df1bb9d2cd36c",
            "48f73a1f70bc40c1b272c25b28571883",
            "80425b6acdf94affbdd3ee1486113004",
            "40c244b43aaa43389c59ab738cc7ea71",
            "18b6a474ab95425c91c692435e5c7941",
            "dfe0920747f949c083f89c6a3a4459dd",
            "bf4b784acccb439e965c6e0044968dfc",
            "5cc634f8adc64a43806f3ce92cc7dc83",
            "9099f45c16e94452a2e9c40efb60b017",
            "88e202ccc6f74f91a5612d0245362175",
            "04f482066eec458d83c85db37d9ea65b",
            "8dba8eb6dabd4e389c06ed85af1e71ac",
            "02c2840399ee470fb4e52fe11806eb67",
            "762d74423a0e4e2092ee835d0d66130a",
            "d8033c06f11149619da0f17664a1a322",
            "8e4b2649887e426d91ca49fecf0dc2ba",
            "4bfac0c51eb246dfae0e090ab5504306",
            "1bcaa00b0a4d405e969940685148b081",
            "c8cd26b586aa4c1f965480052cafaa87",
            "5d40e4787f33401b81e833651de27e68",
            "d0e913c0b15d4c3592ca6b0503c6664e",
            "6cdb1214eed04038a61515e8ff4e3c92",
            "e5f0dc4d2cac41f7875d25f65d082e01",
            "386b7dbd28e04228903d9be7a7c6d769",
            "cb92cd20a7df49538824dea0cbadd841",
            "379855733838463c81cd29317b9a5621",
            "90b46b804913413f8b7fffc1dbc1f25d",
            "2fe8696adab34f35ab765a67721fe324",
            "3b19b1dfedf4476ab214cfd09c4528ce",
            "89575e680d084ba89a4c07532ca885e0",
            "64e36d867ef2403cb83fcd98eefe8d56",
            "6d196552f106427481e594dace1ecc6a",
            "0b914cb1dc66482fb742212a041039bc",
            "555d66e9e1ff456aab2836d1f58857cd",
            "aed2ecadf79446989fcde813f3b3a57f",
            "ba4103f391534f49a20f69b393e3ba70",
            "e883bdc2ec7a4b46b9d7ef3186d2d14b",
            "1ab652415dcb430cb751ceec45632d86",
            "a0dbc32e15284734b6638977a24c5897",
            "1d711d6062f74879b9683c4fb8b00e6a",
            "fbf317c54b044eff9453cc41e7878647",
            "c2ab4fca4b7f4d6086e59a9a4ddff3b8",
            "1b1ddd7cae4646b7b15f8620cdaa8c36",
            "58a2b70210174eb18a884437f549a390",
            "69145dfefc474d3fa04addec277f5e48",
            "5d738875989a44738fdd7d3f5f2d1dd3",
            "f693eced4eda464198a12b5bababe8f8",
            "19505a3f30764e008a93c1ffffe69b09",
            "7d5d8a8412f3425ba68a0959246d872f",
            "58ba243803f2406f91a560c5d98f549b",
            "7ca33288dabf4972bae2a9bc8a13b42b",
            "6364e322502c441baed3b41fb2073d15",
            "b2197770c50544ae99ee3ec4eaa4ae42",
            "6a504e01cdca4566a6c6ad9b0a4242ad",
            "246eaee9cd7b490abae2b09e7f741ab9",
            "11333571ddbd4f64951f477b018b7c0a",
            "7d211e9f46c84178ac2c3cc622b4b7c0",
            "07a1ffdb7b964d2e9bb349b130c978d2",
            "eb14b3970757447193d4666e9f619fda",
            "6893318d42b34283a4491b0998d9293b",
            "ebd51fa336d349aab6f26bc93baf2dae",
            "d9dc641089624f3bb0cd1dc7a772fde9",
            "41a2b4ebaeb841c2a0e493546a9848c7",
            "2f93916d6eb14550a4f8785f01d0015e",
            "a30a1d4e238d4928976c3e1fa4e476c5",
            "7af943228b8848138dd7ecb3f28d1eb4",
            "792542c4044c452fbba46a30ac6fa713",
            "4a4f37d2c4144d4bb2bbfbb637cca2cf",
            "06df21dd886e4771ba35c0bf74cb1088",
            "107d2e4692b84d8887bde2412397ccc0",
            "0d84c2cdd557461da904399742f59daa",
            "8ceeee6b81ed4e7da54dc94271a02efd",
            "821578e442084d5bbab467f192f9dac7",
            "ed3d4543036b47e3820f06c69fce1b18",
            "86af00cd388c45a5ae649adbf531fa99",
            "1096fe72fcf9436f98ff6b39deee499b",
            "39638c44029a4e67b253aa6a2e0595e6",
            "a1909bada4654bbdb53c20c888ed4d0f",
            "31c019c2d6f7495d86d5fc66534ca2ec",
            "523c5e378a3241d7bd11ae07832e1c9e",
            "3c9d70461e70423d961fbe08ebbc9fc2",
            "f25bc758e4e6441992a82ddbd6177124",
            "9c7c6ef0083543febf724cfcad00075d",
            "6d8c8e2e17064f1a9a56b6ca24b52dff",
            "993cd4a06eab4aab9e44c5d5f8ef77fd",
            "0a2a4b70c17d427286e9738ab3ac8a65",
            "ee33107654904375b6cc67e62b526bc7",
            "d0187debc2c344f78ac0b64ee1fde880",
            "992caa5f53594c67908329c6570ee69a",
            "245a66ee3a51485688b0396032aa91e0",
            "a69e4c87d0524f62a34418a810c12463",
            "0beda4cdc4cf48c49caed78836057ea2",
            "9fda0d520fb145e999f13acf45d326c6",
            "c4d8800cb9a042949cbba40f5452e660",
            "c660c8a8043d4f4ba2260afb85a9e50e",
            "4c5148e396304524a01f611b6148f164",
            "31ea9755254c4211aedc785c8312dd20",
            "153bf9b233e542c5b27d04142f644d81",
            "e0953e048c9543ce986522f2edf18d8b",
            "6a46ab6e2b2d46c899c6a0b1a5cc74ca",
            "dc622f2b507e477fb67da72baf3bbe16",
            "f680fcc7f7fa47a499a5752b35077531",
            "99c7780adab147ccb025e949fb19990c",
            "9777b6bca9314c0da135e9a617c4218b",
            "a8650c8f0f1b4f608e6494b8c5a265e5",
            "6dfffc26286d4bac8c175f8a20f16694",
            "2a7e695a4e6b43ab8f1dc651867906d0",
            "0ae11611009b434eb0bbd2f359d6db2d",
            "8257d6cb5ceb4351803a6c7bf4f737bc",
            "0ea18492c8e04417bd14860eef221376",
            "74f76610d5d84d0a9278565274cf4364",
            "0fb85a7b259b4f26a66dc98d70718634",
            "fcd3dcf6fef24b59b78b76946ce8215e",
            "a3f2304454194514b5dd219b64ffb3fa",
            "64fac30fb6134f05ae296c3fdd8dddb6",
            "5ed64686ed884e8182d914ab28a9909e",
            "2f6f9423fa7c4b0d800f5f2fb3aceef7",
            "019aa719d87a480ba0fae00cbff9af69",
            "4764ca6692e04defb0443060472dc920",
            "aa95c5311aa14761b9d7d8243f04f2bd",
            "cb2c34e7850143c7abb2a0b5bcecc895",
            "e199dfb265114835a98c6eec08011f22",
            "afa649d7d6644afaa65953bfb46eaf1b",
            "65b225ce4f8a4503bd627d9759bdb48e",
            "29a9d4a7b7044449bb576424cda8fe6e",
            "7d30b00ce0e441038bd428d76b3fa00f",
            "e68c3217c08f4f3b83143a5d0b2bc3bb",
            "c12ed6a3692c439989b33c6b72f4c538",
            "4eeed210e18f40ddb7d50199cc8d2ca8",
            "9c231951708e4b2ea140ebb45920ebee",
            "d455efdc27864e4eb00e1ef1b914130c",
            "8af5b67f96a24b2488e2ed759c428d50",
            "0550f12aa40245e293b1ec553cb9b5e0",
            "44a0ba571f8b4d5db234e8214538c863",
            "135ba78036db4801929d95522b0bce8e",
            "3a623663964742ea85c02c163621bb66",
            "b819cd57be3a4e5481718e05bdc6cb95",
            "a5e541f1d20a40dc9cd79b93b4e17b73",
            "0a727ac800c34800bf7898178eee6af6",
            "5afe9191f54a43139ca01ef965680bbb",
            "3f5d8cad2ac74610a2b1c9c70d3f0708",
            "258c8f1a1cb343acb18ab257d7646194",
            "ed8f18d3f7be48258ec3413d56e4ec39",
            "b89e97be66ac45058a1a482f0edcbcff",
            "02d94fea96c04973b197c3f4968e57f4",
            "bf526b48f117469586ffcd50c96b9947",
            "04821e63074741f694bc616cc4a19745",
            "52d04579674c47e8b4ba3fd26800a1c3",
            "4253b3f49b7746f6a1dfced98383942d",
            "1733d40462e3441abe9b99cd52fb6bd2",
            "740f4a5890964fddbe5c382a1539cb51",
            "79635826573c4f169e02ab6d1626b760",
            "4fb094db700a46b2b584ccd2925c761f"
          ]
        },
        "id": "u5rK8af65CrC",
        "outputId": "87aaafe9-00fd-4754-c9bd-8956383aeb3d"
      },
      "id": "u5rK8af65CrC",
      "execution_count": 18,
      "outputs": [
        {
          "output_type": "display_data",
          "data": {
            "text/plain": [
              "(…)f3d3c277d6e90027e55de9125/.gitattributes:   0%|          | 0.00/1.18k [00:00<?, ?B/s]"
            ],
            "application/vnd.jupyter.widget-view+json": {
              "version_major": 2,
              "version_minor": 0,
              "model_id": "d83991d9e9ce4046b3f69a2eb4436997"
            }
          },
          "metadata": {}
        },
        {
          "output_type": "display_data",
          "data": {
            "text/plain": [
              "(…)7d6e90027e55de9125/1_Pooling/config.json:   0%|          | 0.00/190 [00:00<?, ?B/s]"
            ],
            "application/vnd.jupyter.widget-view+json": {
              "version_major": 2,
              "version_minor": 0,
              "model_id": "04f482066eec458d83c85db37d9ea65b"
            }
          },
          "metadata": {}
        },
        {
          "output_type": "display_data",
          "data": {
            "text/plain": [
              "(…)e2f80f3d3c277d6e90027e55de9125/README.md:   0%|          | 0.00/10.6k [00:00<?, ?B/s]"
            ],
            "application/vnd.jupyter.widget-view+json": {
              "version_major": 2,
              "version_minor": 0,
              "model_id": "6cdb1214eed04038a61515e8ff4e3c92"
            }
          },
          "metadata": {}
        },
        {
          "output_type": "display_data",
          "data": {
            "text/plain": [
              "(…)f80f3d3c277d6e90027e55de9125/config.json:   0%|          | 0.00/612 [00:00<?, ?B/s]"
            ],
            "application/vnd.jupyter.widget-view+json": {
              "version_major": 2,
              "version_minor": 0,
              "model_id": "0b914cb1dc66482fb742212a041039bc"
            }
          },
          "metadata": {}
        },
        {
          "output_type": "display_data",
          "data": {
            "text/plain": [
              "(…)de9125/config_sentence_transformers.json:   0%|          | 0.00/116 [00:00<?, ?B/s]"
            ],
            "application/vnd.jupyter.widget-view+json": {
              "version_major": 2,
              "version_minor": 0,
              "model_id": "58a2b70210174eb18a884437f549a390"
            }
          },
          "metadata": {}
        },
        {
          "output_type": "display_data",
          "data": {
            "text/plain": [
              "(…)d3c277d6e90027e55de9125/data_config.json:   0%|          | 0.00/39.3k [00:00<?, ?B/s]"
            ],
            "application/vnd.jupyter.widget-view+json": {
              "version_major": 2,
              "version_minor": 0,
              "model_id": "246eaee9cd7b490abae2b09e7f741ab9"
            }
          },
          "metadata": {}
        },
        {
          "output_type": "display_data",
          "data": {
            "text/plain": [
              "pytorch_model.bin:   0%|          | 0.00/90.9M [00:00<?, ?B/s]"
            ],
            "application/vnd.jupyter.widget-view+json": {
              "version_major": 2,
              "version_minor": 0,
              "model_id": "7af943228b8848138dd7ecb3f28d1eb4"
            }
          },
          "metadata": {}
        },
        {
          "output_type": "display_data",
          "data": {
            "text/plain": [
              "(…)90027e55de9125/sentence_bert_config.json:   0%|          | 0.00/53.0 [00:00<?, ?B/s]"
            ],
            "application/vnd.jupyter.widget-view+json": {
              "version_major": 2,
              "version_minor": 0,
              "model_id": "39638c44029a4e67b253aa6a2e0595e6"
            }
          },
          "metadata": {}
        },
        {
          "output_type": "display_data",
          "data": {
            "text/plain": [
              "(…)6e90027e55de9125/special_tokens_map.json:   0%|          | 0.00/112 [00:00<?, ?B/s]"
            ],
            "application/vnd.jupyter.widget-view+json": {
              "version_major": 2,
              "version_minor": 0,
              "model_id": "d0187debc2c344f78ac0b64ee1fde880"
            }
          },
          "metadata": {}
        },
        {
          "output_type": "display_data",
          "data": {
            "text/plain": [
              "(…)f3d3c277d6e90027e55de9125/tokenizer.json:   0%|          | 0.00/466k [00:00<?, ?B/s]"
            ],
            "application/vnd.jupyter.widget-view+json": {
              "version_major": 2,
              "version_minor": 0,
              "model_id": "e0953e048c9543ce986522f2edf18d8b"
            }
          },
          "metadata": {}
        },
        {
          "output_type": "display_data",
          "data": {
            "text/plain": [
              "(…)7d6e90027e55de9125/tokenizer_config.json:   0%|          | 0.00/350 [00:00<?, ?B/s]"
            ],
            "application/vnd.jupyter.widget-view+json": {
              "version_major": 2,
              "version_minor": 0,
              "model_id": "0ea18492c8e04417bd14860eef221376"
            }
          },
          "metadata": {}
        },
        {
          "output_type": "display_data",
          "data": {
            "text/plain": [
              "(…)3d3c277d6e90027e55de9125/train_script.py:   0%|          | 0.00/13.2k [00:00<?, ?B/s]"
            ],
            "application/vnd.jupyter.widget-view+json": {
              "version_major": 2,
              "version_minor": 0,
              "model_id": "cb2c34e7850143c7abb2a0b5bcecc895"
            }
          },
          "metadata": {}
        },
        {
          "output_type": "display_data",
          "data": {
            "text/plain": [
              "(…)e2f80f3d3c277d6e90027e55de9125/vocab.txt:   0%|          | 0.00/232k [00:00<?, ?B/s]"
            ],
            "application/vnd.jupyter.widget-view+json": {
              "version_major": 2,
              "version_minor": 0,
              "model_id": "8af5b67f96a24b2488e2ed759c428d50"
            }
          },
          "metadata": {}
        },
        {
          "output_type": "display_data",
          "data": {
            "text/plain": [
              "(…)80f3d3c277d6e90027e55de9125/modules.json:   0%|          | 0.00/349 [00:00<?, ?B/s]"
            ],
            "application/vnd.jupyter.widget-view+json": {
              "version_major": 2,
              "version_minor": 0,
              "model_id": "ed8f18d3f7be48258ec3413d56e4ec39"
            }
          },
          "metadata": {}
        }
      ]
    },
    {
      "cell_type": "markdown",
      "id": "bafd4fc1-84a4-4384-bb3e-42ecffab2455",
      "metadata": {
        "id": "bafd4fc1-84a4-4384-bb3e-42ecffab2455"
      },
      "source": [
        "# Connect to the Cluster"
      ]
    },
    {
      "cell_type": "code",
      "source": [
        "# Don't mind the \"Closing connection\" error after \"downgrading protocol...\" messages,\n",
        "# it is really just a warning: the connection will work smoothly.\n",
        "auth_provider = PlainTextAuthProvider(cass_user, cass_pw)\n",
        "cluster = Cluster(\n",
        "    [cass_ip],\n",
        "    auth_provider=auth_provider\n",
        ")\n",
        "\n",
        "session = cluster.connect()\n",
        "keyspace = cass_keyspace"
      ],
      "metadata": {
        "colab": {
          "base_uri": "https://localhost:8080/"
        },
        "id": "07wzc22I0xIz",
        "outputId": "7fdf79ec-c72c-41c1-d723-32f782b247f1"
      },
      "id": "07wzc22I0xIz",
      "execution_count": 6,
      "outputs": [
        {
          "output_type": "stream",
          "name": "stderr",
          "text": [
            "WARNING:cassandra.cluster:Cluster.__init__ called with contact_points specified, but no load_balancing_policy. In the next major version, this will raise an error; please specify a load-balancing policy. (contact_points = ['18.222.204.222'], lbp = None)\n",
            "WARNING:cassandra.cluster:Downgrading core protocol version from 66 to 65 for 18.222.204.222:9042. To avoid this, it is best practice to explicitly set Cluster(protocol_version) to the version supported by your cluster. http://datastax.github.io/python-driver/api/cassandra/cluster.html#cassandra.cluster.Cluster.protocol_version\n",
            "WARNING:cassandra.cluster:Downgrading core protocol version from 65 to 5 for 18.222.204.222:9042. To avoid this, it is best practice to explicitly set Cluster(protocol_version) to the version supported by your cluster. http://datastax.github.io/python-driver/api/cassandra/cluster.html#cassandra.cluster.Cluster.protocol_version\n",
            "WARNING:cassandra.connection:An authentication challenge was not sent, this is suspicious because the driver expects authentication (configured authenticator = PlainTextAuthenticator)\n",
            "WARNING:cassandra.connection:An authentication challenge was not sent, this is suspicious because the driver expects authentication (configured authenticator = PlainTextAuthenticator)\n"
          ]
        }
      ]
    },
    {
      "cell_type": "markdown",
      "id": "0670b30f-927f-47da-b71d-0a99092c3f58",
      "metadata": {
        "id": "0670b30f-927f-47da-b71d-0a99092c3f58"
      },
      "source": [
        "# Drop / Create Schema"
      ]
    },
    {
      "cell_type": "code",
      "execution_count": 7,
      "id": "acf0fd4c-8367-4d5f-983f-5aa7d14a8948",
      "metadata": {
        "colab": {
          "base_uri": "https://localhost:8080/"
        },
        "id": "acf0fd4c-8367-4d5f-983f-5aa7d14a8948",
        "outputId": "cb8b403a-797f-49cd-b5cc-18e909234869"
      },
      "outputs": [
        {
          "output_type": "execute_result",
          "data": {
            "text/plain": [
              "<cassandra.cluster.ResultSet at 0x7ac03b7446a0>"
            ]
          },
          "metadata": {},
          "execution_count": 7
        }
      ],
      "source": [
        "# only use this to reset the schema\n",
        "session.execute(\"DROP INDEX IF EXISTS {}.openai_desc\".format(cass_keyspace))\n",
        "session.execute(\"DROP INDEX IF EXISTS {}.minilm_desc\".format(cass_keyspace))\n",
        "session.execute(\"DROP TABLE IF EXISTS {}.products_table\".format(cass_keyspace))"
      ]
    },
    {
      "cell_type": "code",
      "execution_count": 8,
      "id": "a941c487-1c6b-4f46-a0a3-305a95931d82",
      "metadata": {
        "colab": {
          "base_uri": "https://localhost:8080/"
        },
        "id": "a941c487-1c6b-4f46-a0a3-305a95931d82",
        "outputId": "c94d7ebe-3495-4776-f0dc-512c26d1c1a5"
      },
      "outputs": [
        {
          "output_type": "stream",
          "name": "stderr",
          "text": [
            "WARNING:cassandra.protocol:Server warning: SAI ANN indexes on vector columns are experimental and are not recommended for production use.\n",
            "They don't yet support SELECT queries with:\n",
            " * Consistency level higher than ONE/LOCAL_ONE.\n",
            " * Paging.\n",
            " * No LIMIT clauses.\n",
            " * PER PARTITION LIMIT clauses.\n",
            " * GROUP BY clauses.\n",
            " * Aggregation functions.\n",
            " * Filters on columns without a SAI index.\n",
            "WARNING:cassandra.protocol:Server warning: SAI ANN indexes on vector columns are experimental and are not recommended for production use.\n",
            "They don't yet support SELECT queries with:\n",
            " * Consistency level higher than ONE/LOCAL_ONE.\n",
            " * Paging.\n",
            " * No LIMIT clauses.\n",
            " * PER PARTITION LIMIT clauses.\n",
            " * GROUP BY clauses.\n",
            " * Aggregation functions.\n",
            " * Filters on columns without a SAI index.\n",
            "WARNING:cassandra.protocol:Server warning: SAI ANN indexes on vector columns are experimental and are not recommended for production use.\n",
            "They don't yet support SELECT queries with:\n",
            " * Consistency level higher than ONE/LOCAL_ONE.\n",
            " * Paging.\n",
            " * No LIMIT clauses.\n",
            " * PER PARTITION LIMIT clauses.\n",
            " * GROUP BY clauses.\n",
            " * Aggregation functions.\n",
            " * Filters on columns without a SAI index.\n"
          ]
        },
        {
          "output_type": "execute_result",
          "data": {
            "text/plain": [
              "<cassandra.cluster.ResultSet at 0x7ac03b7063e0>"
            ]
          },
          "metadata": {},
          "execution_count": 8
        }
      ],
      "source": [
        "\n",
        "# # Create Table\n",
        "session.execute(\"\"\"CREATE TABLE IF NOT EXISTS {}.products_table\n",
        "(product_id int,\n",
        " chunk_id int,\n",
        "\n",
        " product_name text,\n",
        " description text,\n",
        " price text,\n",
        "\n",
        " openai_description_embedding vector<float, 1536>,\n",
        " minilm_description_embedding vector<float, 384>,\n",
        "\n",
        " PRIMARY KEY (product_id, chunk_id))\"\"\".format(cass_keyspace))\n",
        "\n",
        "# # Create Index\n",
        "session.execute(\"\"\"CREATE CUSTOM INDEX IF NOT EXISTS openai_desc ON {}.products_table (openai_description_embedding) USING 'org.apache.cassandra.index.sai.StorageAttachedIndex'\"\"\".format(cass_keyspace))\n",
        "session.execute(\"\"\"CREATE CUSTOM INDEX IF NOT EXISTS minilm_desc ON {}.products_table (minilm_description_embedding) USING 'org.apache.cassandra.index.sai.StorageAttachedIndex'\"\"\".format(cass_keyspace))\n"
      ]
    },
    {
      "cell_type": "markdown",
      "id": "c1fe256f-9efb-41f0-8803-d99696c6089b",
      "metadata": {
        "id": "c1fe256f-9efb-41f0-8803-d99696c6089b"
      },
      "source": [
        "# Load the table with data and create text embeddings\n",
        "\n"
      ]
    },
    {
      "cell_type": "code",
      "source": [
        "import datasets\n",
        "from datasets import load_dataset\n",
        "dataset = load_dataset(\"jdabello/products\", split=\"train\")\n",
        "dataset"
      ],
      "metadata": {
        "colab": {
          "base_uri": "https://localhost:8080/",
          "height": 246,
          "referenced_widgets": [
            "c6cf93ea47034e41899dd5acc8232ff1",
            "96b8c874ba354a8aa8000e6ddb1f11a7",
            "d8e84b867a0f4df1bd6a1de6691dc333",
            "e80076939843449293a5ca42b7a656ba",
            "be10aa7110a64c569deae18e19dbd1b7",
            "06d7e6db3d8f4dc3938c8e4f684cc730",
            "1af9a20564974ea891d5d2b792e8b616",
            "3c3e7466a253478ea855173f27eba8c4",
            "ca05a5015f0e45b7842e6bea40b91a63",
            "72ad3444ca604f59a73f5469f4bf367c",
            "2c9e9b71956d4c55bc0f45452800726d",
            "5953cb2073c94ca7a6f5026b4d2f1301",
            "1fb57cdb93b04faba72c62aea8f920cf",
            "cc5d504f052a4f299d839c06b8d36a4e",
            "91e607b93fda47ecb6902dc77490fa2e",
            "6c7a0843a7c947b490ae55a11aa67abb",
            "218d046e52c146d38a89cc329a288f02",
            "28f5760f5b6c4fc19d39f867ee14621f",
            "56830500669f484a8d96dd13f5ae63ca",
            "3641d520ce3643638acc1605e03fa8dc",
            "f4c7b48d80504b53a76ff2096734b61a",
            "54870d74f740443ba247db929348c2e9",
            "0d565485e0c74cde8947fb4d786f58ca",
            "2400c7362d274f1a9ca68bac547f1feb",
            "d39158e6407645f2be669b9b7fa1ff5b",
            "d7d2142f8eb041c585b27d318842d07d",
            "b223aeb659fb49e0b64f57cca2760af9",
            "ba4c06b94bce4d0baa0799a3914fdc60",
            "ba4c1822d4f4449fb0793d2ab47670de",
            "e7867406a7914a13bf3b2b918cc55170",
            "64aa1004c8c943e68a2b63f056257c2f",
            "6f9ee7d7be164f0aa858f7662b5e5e93",
            "7acc8a5005ee4c59b565b66f2fcdae60",
            "0413c4033b234485ac1188d7e4ccc1ae",
            "fdd54779530d47c39ec3a45a48bb0ade",
            "7bc0149df9744ee4b1f87984ea350e39",
            "b29e4b5c2f704c0ab2ca9bf7677a4901",
            "34cae4c44a224caea908bafd597e5500",
            "4eee987cce50478c83348ec8dadbbe6d",
            "2819fdaa83fb48f2b9b33340e311d2ca",
            "4b694589f429427da7655d49a8553a24",
            "68635925dabe4a6d994c7297bfd0f6d2",
            "ff5eacea2290452789c592a7093732c3",
            "522f7b1ae9244f4a9ada366f01e842ca",
            "b45273979acf4a67bf37fa50efe383bd",
            "f78177d2859340e4b78b28a42996a069",
            "b99ae2c0c16d439ca9b6dacc15b3723b",
            "95310f87f4994174ba0dd71d84a049cf",
            "93930f5a75bb401b892ab83a33a367c6",
            "718f439ecf61477f87c1c39ef55ea04b",
            "01d43d39f62a45c78ba6548a0414597a",
            "eb236f0c1d644e199ca9d404f882e006",
            "b647319b1d1245b4a5d94b530fcbfdde",
            "77d292f028594aeeb05d529b49bc594e",
            "b307e7f08c064131b76e7357afc7c887"
          ]
        },
        "id": "R_rQQYhO6Cus",
        "outputId": "16daed15-6545-4621-fca8-7e68d287cbc3"
      },
      "id": "R_rQQYhO6Cus",
      "execution_count": 9,
      "outputs": [
        {
          "output_type": "display_data",
          "data": {
            "text/plain": [
              "Downloading readme:   0%|          | 0.00/28.0 [00:00<?, ?B/s]"
            ],
            "application/vnd.jupyter.widget-view+json": {
              "version_major": 2,
              "version_minor": 0,
              "model_id": "c6cf93ea47034e41899dd5acc8232ff1"
            }
          },
          "metadata": {}
        },
        {
          "output_type": "display_data",
          "data": {
            "text/plain": [
              "Downloading data files:   0%|          | 0/1 [00:00<?, ?it/s]"
            ],
            "application/vnd.jupyter.widget-view+json": {
              "version_major": 2,
              "version_minor": 0,
              "model_id": "5953cb2073c94ca7a6f5026b4d2f1301"
            }
          },
          "metadata": {}
        },
        {
          "output_type": "display_data",
          "data": {
            "text/plain": [
              "Downloading data:   0%|          | 0.00/346k [00:00<?, ?B/s]"
            ],
            "application/vnd.jupyter.widget-view+json": {
              "version_major": 2,
              "version_minor": 0,
              "model_id": "0d565485e0c74cde8947fb4d786f58ca"
            }
          },
          "metadata": {}
        },
        {
          "output_type": "display_data",
          "data": {
            "text/plain": [
              "Extracting data files:   0%|          | 0/1 [00:00<?, ?it/s]"
            ],
            "application/vnd.jupyter.widget-view+json": {
              "version_major": 2,
              "version_minor": 0,
              "model_id": "0413c4033b234485ac1188d7e4ccc1ae"
            }
          },
          "metadata": {}
        },
        {
          "output_type": "display_data",
          "data": {
            "text/plain": [
              "Generating train split: 0 examples [00:00, ? examples/s]"
            ],
            "application/vnd.jupyter.widget-view+json": {
              "version_major": 2,
              "version_minor": 0,
              "model_id": "b45273979acf4a67bf37fa50efe383bd"
            }
          },
          "metadata": {}
        },
        {
          "output_type": "execute_result",
          "data": {
            "text/plain": [
              "Dataset({\n",
              "    features: ['product_id', 'product_name', 'description', 'price'],\n",
              "    num_rows: 1081\n",
              "})"
            ]
          },
          "metadata": {},
          "execution_count": 9
        }
      ]
    },
    {
      "cell_type": "code",
      "execution_count": 10,
      "id": "cec8fd49-90b7-4f8f-b6e8-50a34896e452",
      "metadata": {
        "colab": {
          "base_uri": "https://localhost:8080/",
          "height": 424
        },
        "id": "cec8fd49-90b7-4f8f-b6e8-50a34896e452",
        "outputId": "c06f3559-249d-4960-872f-dbb133804e02"
      },
      "outputs": [
        {
          "output_type": "execute_result",
          "data": {
            "text/plain": [
              "      product_id                                       product_name  \\\n",
              "0            552                          Sony Turntable - PSLX350H   \n",
              "1            580  Bose Acoustimass 5 Series III Speaker System -...   \n",
              "2           4696                             Sony Switcher - SBV40S   \n",
              "3           5644                   Sony 5 Disc CD Player - CDPCE375   \n",
              "4           6284  Bose 27028 161 Bookshelf Pair Speakers In Whit...   \n",
              "...          ...                                                ...   \n",
              "1076       39088  Logitech Cordless Desktop Wave Keyboard And Mo...   \n",
              "1077       39090             Mitsubishi DLP Black TV Stand - MBS73V   \n",
              "1078       39175  Logitech Digital Precision PC Gaming Headset -...   \n",
              "1079       39176  Logitech 2.1 Multimedia Silver Speaker System ...   \n",
              "1080       39179         Linksys Wireless-G Range Expander - WRE54G   \n",
              "\n",
              "                                            description    price  \n",
              "0     Sony Turntable - PSLX350H/ Belt Drive System/ ...     None  \n",
              "1     Bose Acoustimass 5 Series III Speaker System -...  $399.00  \n",
              "2     Sony Switcher - SBV40S/ Eliminates Disconnecti...   $49.00  \n",
              "3     Sony 5 Disc CD Player- CDPCE375/ 5 Disc Change...     None  \n",
              "4     Bose 161 Bookshelf Speakers In White - 161WH/ ...  $158.00  \n",
              "...                                                 ...      ...  \n",
              "1076  Logitech Cordless Desktop Wave Keyboard And Mo...   $79.00  \n",
              "1077  Mitsubishi DLP Black TV Stand - MBS73V/ Matchi...  $549.00  \n",
              "1078  Logitech Digital Precision PC Gaming Headset -...   $49.00  \n",
              "1079  Logitech 2.1 Multimedia Silver Speaker System ...     None  \n",
              "1080  Linksys Wireless-G Range Expander - WRE54G/ Su...   $99.00  \n",
              "\n",
              "[1081 rows x 4 columns]"
            ],
            "text/html": [
              "\n",
              "  <div id=\"df-0bfa1386-f8f5-4e34-8eeb-784b2a335027\" class=\"colab-df-container\">\n",
              "    <div>\n",
              "<style scoped>\n",
              "    .dataframe tbody tr th:only-of-type {\n",
              "        vertical-align: middle;\n",
              "    }\n",
              "\n",
              "    .dataframe tbody tr th {\n",
              "        vertical-align: top;\n",
              "    }\n",
              "\n",
              "    .dataframe thead th {\n",
              "        text-align: right;\n",
              "    }\n",
              "</style>\n",
              "<table border=\"1\" class=\"dataframe\">\n",
              "  <thead>\n",
              "    <tr style=\"text-align: right;\">\n",
              "      <th></th>\n",
              "      <th>product_id</th>\n",
              "      <th>product_name</th>\n",
              "      <th>description</th>\n",
              "      <th>price</th>\n",
              "    </tr>\n",
              "  </thead>\n",
              "  <tbody>\n",
              "    <tr>\n",
              "      <th>0</th>\n",
              "      <td>552</td>\n",
              "      <td>Sony Turntable - PSLX350H</td>\n",
              "      <td>Sony Turntable - PSLX350H/ Belt Drive System/ ...</td>\n",
              "      <td>None</td>\n",
              "    </tr>\n",
              "    <tr>\n",
              "      <th>1</th>\n",
              "      <td>580</td>\n",
              "      <td>Bose Acoustimass 5 Series III Speaker System -...</td>\n",
              "      <td>Bose Acoustimass 5 Series III Speaker System -...</td>\n",
              "      <td>$399.00</td>\n",
              "    </tr>\n",
              "    <tr>\n",
              "      <th>2</th>\n",
              "      <td>4696</td>\n",
              "      <td>Sony Switcher - SBV40S</td>\n",
              "      <td>Sony Switcher - SBV40S/ Eliminates Disconnecti...</td>\n",
              "      <td>$49.00</td>\n",
              "    </tr>\n",
              "    <tr>\n",
              "      <th>3</th>\n",
              "      <td>5644</td>\n",
              "      <td>Sony 5 Disc CD Player - CDPCE375</td>\n",
              "      <td>Sony 5 Disc CD Player- CDPCE375/ 5 Disc Change...</td>\n",
              "      <td>None</td>\n",
              "    </tr>\n",
              "    <tr>\n",
              "      <th>4</th>\n",
              "      <td>6284</td>\n",
              "      <td>Bose 27028 161 Bookshelf Pair Speakers In Whit...</td>\n",
              "      <td>Bose 161 Bookshelf Speakers In White - 161WH/ ...</td>\n",
              "      <td>$158.00</td>\n",
              "    </tr>\n",
              "    <tr>\n",
              "      <th>...</th>\n",
              "      <td>...</td>\n",
              "      <td>...</td>\n",
              "      <td>...</td>\n",
              "      <td>...</td>\n",
              "    </tr>\n",
              "    <tr>\n",
              "      <th>1076</th>\n",
              "      <td>39088</td>\n",
              "      <td>Logitech Cordless Desktop Wave Keyboard And Mo...</td>\n",
              "      <td>Logitech Cordless Desktop Wave Keyboard And Mo...</td>\n",
              "      <td>$79.00</td>\n",
              "    </tr>\n",
              "    <tr>\n",
              "      <th>1077</th>\n",
              "      <td>39090</td>\n",
              "      <td>Mitsubishi DLP Black TV Stand - MBS73V</td>\n",
              "      <td>Mitsubishi DLP Black TV Stand - MBS73V/ Matchi...</td>\n",
              "      <td>$549.00</td>\n",
              "    </tr>\n",
              "    <tr>\n",
              "      <th>1078</th>\n",
              "      <td>39175</td>\n",
              "      <td>Logitech Digital Precision PC Gaming Headset -...</td>\n",
              "      <td>Logitech Digital Precision PC Gaming Headset -...</td>\n",
              "      <td>$49.00</td>\n",
              "    </tr>\n",
              "    <tr>\n",
              "      <th>1079</th>\n",
              "      <td>39176</td>\n",
              "      <td>Logitech 2.1 Multimedia Silver Speaker System ...</td>\n",
              "      <td>Logitech 2.1 Multimedia Silver Speaker System ...</td>\n",
              "      <td>None</td>\n",
              "    </tr>\n",
              "    <tr>\n",
              "      <th>1080</th>\n",
              "      <td>39179</td>\n",
              "      <td>Linksys Wireless-G Range Expander - WRE54G</td>\n",
              "      <td>Linksys Wireless-G Range Expander - WRE54G/ Su...</td>\n",
              "      <td>$99.00</td>\n",
              "    </tr>\n",
              "  </tbody>\n",
              "</table>\n",
              "<p>1081 rows × 4 columns</p>\n",
              "</div>\n",
              "    <div class=\"colab-df-buttons\">\n",
              "\n",
              "  <div class=\"colab-df-container\">\n",
              "    <button class=\"colab-df-convert\" onclick=\"convertToInteractive('df-0bfa1386-f8f5-4e34-8eeb-784b2a335027')\"\n",
              "            title=\"Convert this dataframe to an interactive table.\"\n",
              "            style=\"display:none;\">\n",
              "\n",
              "  <svg xmlns=\"http://www.w3.org/2000/svg\" height=\"24px\" viewBox=\"0 -960 960 960\">\n",
              "    <path d=\"M120-120v-720h720v720H120Zm60-500h600v-160H180v160Zm220 220h160v-160H400v160Zm0 220h160v-160H400v160ZM180-400h160v-160H180v160Zm440 0h160v-160H620v160ZM180-180h160v-160H180v160Zm440 0h160v-160H620v160Z\"/>\n",
              "  </svg>\n",
              "    </button>\n",
              "\n",
              "  <style>\n",
              "    .colab-df-container {\n",
              "      display:flex;\n",
              "      gap: 12px;\n",
              "    }\n",
              "\n",
              "    .colab-df-convert {\n",
              "      background-color: #E8F0FE;\n",
              "      border: none;\n",
              "      border-radius: 50%;\n",
              "      cursor: pointer;\n",
              "      display: none;\n",
              "      fill: #1967D2;\n",
              "      height: 32px;\n",
              "      padding: 0 0 0 0;\n",
              "      width: 32px;\n",
              "    }\n",
              "\n",
              "    .colab-df-convert:hover {\n",
              "      background-color: #E2EBFA;\n",
              "      box-shadow: 0px 1px 2px rgba(60, 64, 67, 0.3), 0px 1px 3px 1px rgba(60, 64, 67, 0.15);\n",
              "      fill: #174EA6;\n",
              "    }\n",
              "\n",
              "    .colab-df-buttons div {\n",
              "      margin-bottom: 4px;\n",
              "    }\n",
              "\n",
              "    [theme=dark] .colab-df-convert {\n",
              "      background-color: #3B4455;\n",
              "      fill: #D2E3FC;\n",
              "    }\n",
              "\n",
              "    [theme=dark] .colab-df-convert:hover {\n",
              "      background-color: #434B5C;\n",
              "      box-shadow: 0px 1px 3px 1px rgba(0, 0, 0, 0.15);\n",
              "      filter: drop-shadow(0px 1px 2px rgba(0, 0, 0, 0.3));\n",
              "      fill: #FFFFFF;\n",
              "    }\n",
              "  </style>\n",
              "\n",
              "    <script>\n",
              "      const buttonEl =\n",
              "        document.querySelector('#df-0bfa1386-f8f5-4e34-8eeb-784b2a335027 button.colab-df-convert');\n",
              "      buttonEl.style.display =\n",
              "        google.colab.kernel.accessAllowed ? 'block' : 'none';\n",
              "\n",
              "      async function convertToInteractive(key) {\n",
              "        const element = document.querySelector('#df-0bfa1386-f8f5-4e34-8eeb-784b2a335027');\n",
              "        const dataTable =\n",
              "          await google.colab.kernel.invokeFunction('convertToInteractive',\n",
              "                                                    [key], {});\n",
              "        if (!dataTable) return;\n",
              "\n",
              "        const docLinkHtml = 'Like what you see? Visit the ' +\n",
              "          '<a target=\"_blank\" href=https://colab.research.google.com/notebooks/data_table.ipynb>data table notebook</a>'\n",
              "          + ' to learn more about interactive tables.';\n",
              "        element.innerHTML = '';\n",
              "        dataTable['output_type'] = 'display_data';\n",
              "        await google.colab.output.renderOutput(dataTable, element);\n",
              "        const docLink = document.createElement('div');\n",
              "        docLink.innerHTML = docLinkHtml;\n",
              "        element.appendChild(docLink);\n",
              "      }\n",
              "    </script>\n",
              "  </div>\n",
              "\n",
              "\n",
              "<div id=\"df-ddaae3f0-385b-43b4-90a3-731ed648a122\">\n",
              "  <button class=\"colab-df-quickchart\" onclick=\"quickchart('df-ddaae3f0-385b-43b4-90a3-731ed648a122')\"\n",
              "            title=\"Suggest charts\"\n",
              "            style=\"display:none;\">\n",
              "\n",
              "<svg xmlns=\"http://www.w3.org/2000/svg\" height=\"24px\"viewBox=\"0 0 24 24\"\n",
              "     width=\"24px\">\n",
              "    <g>\n",
              "        <path d=\"M19 3H5c-1.1 0-2 .9-2 2v14c0 1.1.9 2 2 2h14c1.1 0 2-.9 2-2V5c0-1.1-.9-2-2-2zM9 17H7v-7h2v7zm4 0h-2V7h2v10zm4 0h-2v-4h2v4z\"/>\n",
              "    </g>\n",
              "</svg>\n",
              "  </button>\n",
              "\n",
              "<style>\n",
              "  .colab-df-quickchart {\n",
              "      --bg-color: #E8F0FE;\n",
              "      --fill-color: #1967D2;\n",
              "      --hover-bg-color: #E2EBFA;\n",
              "      --hover-fill-color: #174EA6;\n",
              "      --disabled-fill-color: #AAA;\n",
              "      --disabled-bg-color: #DDD;\n",
              "  }\n",
              "\n",
              "  [theme=dark] .colab-df-quickchart {\n",
              "      --bg-color: #3B4455;\n",
              "      --fill-color: #D2E3FC;\n",
              "      --hover-bg-color: #434B5C;\n",
              "      --hover-fill-color: #FFFFFF;\n",
              "      --disabled-bg-color: #3B4455;\n",
              "      --disabled-fill-color: #666;\n",
              "  }\n",
              "\n",
              "  .colab-df-quickchart {\n",
              "    background-color: var(--bg-color);\n",
              "    border: none;\n",
              "    border-radius: 50%;\n",
              "    cursor: pointer;\n",
              "    display: none;\n",
              "    fill: var(--fill-color);\n",
              "    height: 32px;\n",
              "    padding: 0;\n",
              "    width: 32px;\n",
              "  }\n",
              "\n",
              "  .colab-df-quickchart:hover {\n",
              "    background-color: var(--hover-bg-color);\n",
              "    box-shadow: 0 1px 2px rgba(60, 64, 67, 0.3), 0 1px 3px 1px rgba(60, 64, 67, 0.15);\n",
              "    fill: var(--button-hover-fill-color);\n",
              "  }\n",
              "\n",
              "  .colab-df-quickchart-complete:disabled,\n",
              "  .colab-df-quickchart-complete:disabled:hover {\n",
              "    background-color: var(--disabled-bg-color);\n",
              "    fill: var(--disabled-fill-color);\n",
              "    box-shadow: none;\n",
              "  }\n",
              "\n",
              "  .colab-df-spinner {\n",
              "    border: 2px solid var(--fill-color);\n",
              "    border-color: transparent;\n",
              "    border-bottom-color: var(--fill-color);\n",
              "    animation:\n",
              "      spin 1s steps(1) infinite;\n",
              "  }\n",
              "\n",
              "  @keyframes spin {\n",
              "    0% {\n",
              "      border-color: transparent;\n",
              "      border-bottom-color: var(--fill-color);\n",
              "      border-left-color: var(--fill-color);\n",
              "    }\n",
              "    20% {\n",
              "      border-color: transparent;\n",
              "      border-left-color: var(--fill-color);\n",
              "      border-top-color: var(--fill-color);\n",
              "    }\n",
              "    30% {\n",
              "      border-color: transparent;\n",
              "      border-left-color: var(--fill-color);\n",
              "      border-top-color: var(--fill-color);\n",
              "      border-right-color: var(--fill-color);\n",
              "    }\n",
              "    40% {\n",
              "      border-color: transparent;\n",
              "      border-right-color: var(--fill-color);\n",
              "      border-top-color: var(--fill-color);\n",
              "    }\n",
              "    60% {\n",
              "      border-color: transparent;\n",
              "      border-right-color: var(--fill-color);\n",
              "    }\n",
              "    80% {\n",
              "      border-color: transparent;\n",
              "      border-right-color: var(--fill-color);\n",
              "      border-bottom-color: var(--fill-color);\n",
              "    }\n",
              "    90% {\n",
              "      border-color: transparent;\n",
              "      border-bottom-color: var(--fill-color);\n",
              "    }\n",
              "  }\n",
              "</style>\n",
              "\n",
              "  <script>\n",
              "    async function quickchart(key) {\n",
              "      const quickchartButtonEl =\n",
              "        document.querySelector('#' + key + ' button');\n",
              "      quickchartButtonEl.disabled = true;  // To prevent multiple clicks.\n",
              "      quickchartButtonEl.classList.add('colab-df-spinner');\n",
              "      try {\n",
              "        const charts = await google.colab.kernel.invokeFunction(\n",
              "            'suggestCharts', [key], {});\n",
              "      } catch (error) {\n",
              "        console.error('Error during call to suggestCharts:', error);\n",
              "      }\n",
              "      quickchartButtonEl.classList.remove('colab-df-spinner');\n",
              "      quickchartButtonEl.classList.add('colab-df-quickchart-complete');\n",
              "    }\n",
              "    (() => {\n",
              "      let quickchartButtonEl =\n",
              "        document.querySelector('#df-ddaae3f0-385b-43b4-90a3-731ed648a122 button');\n",
              "      quickchartButtonEl.style.display =\n",
              "        google.colab.kernel.accessAllowed ? 'block' : 'none';\n",
              "    })();\n",
              "  </script>\n",
              "</div>\n",
              "    </div>\n",
              "  </div>\n"
            ]
          },
          "metadata": {},
          "execution_count": 10
        }
      ],
      "source": [
        "products_list = dataset.to_pandas()\n",
        "products_list"
      ]
    },
    {
      "cell_type": "code",
      "execution_count": 20,
      "id": "14eb4355-9fcd-4795-8406-aee98fd4b11f",
      "metadata": {
        "scrolled": true,
        "colab": {
          "base_uri": "https://localhost:8080/",
          "height": 1000
        },
        "id": "14eb4355-9fcd-4795-8406-aee98fd4b11f",
        "outputId": "31af8ae3-8663-443b-eb01-df8eda00e7b3"
      },
      "outputs": [
        {
          "output_type": "display_data",
          "data": {
            "text/plain": [
              "product_id                                                    552\n",
              "product_name                            Sony Turntable - PSLX350H\n",
              "description     Sony Turntable - PSLX350H/ Belt Drive System/ ...\n",
              "price                                                        None\n",
              "Name: 0, dtype: object"
            ]
          },
          "metadata": {}
        },
        {
          "output_type": "display_data",
          "data": {
            "text/plain": [
              "product_id                                                    580\n",
              "product_name    Bose Acoustimass 5 Series III Speaker System -...\n",
              "description     Bose Acoustimass 5 Series III Speaker System -...\n",
              "price                                                     $399.00\n",
              "Name: 1, dtype: object"
            ]
          },
          "metadata": {}
        },
        {
          "output_type": "display_data",
          "data": {
            "text/plain": [
              "product_id                                                   4696\n",
              "product_name                               Sony Switcher - SBV40S\n",
              "description     Sony Switcher - SBV40S/ Eliminates Disconnecti...\n",
              "price                                                      $49.00\n",
              "Name: 2, dtype: object"
            ]
          },
          "metadata": {}
        },
        {
          "output_type": "display_data",
          "data": {
            "text/plain": [
              "product_id                                                   5644\n",
              "product_name                     Sony 5 Disc CD Player - CDPCE375\n",
              "description     Sony 5 Disc CD Player- CDPCE375/ 5 Disc Change...\n",
              "price                                                        None\n",
              "Name: 3, dtype: object"
            ]
          },
          "metadata": {}
        },
        {
          "output_type": "display_data",
          "data": {
            "text/plain": [
              "product_id                                                   6284\n",
              "product_name    Bose 27028 161 Bookshelf Pair Speakers In Whit...\n",
              "description     Bose 161 Bookshelf Speakers In White - 161WH/ ...\n",
              "price                                                     $158.00\n",
              "Name: 4, dtype: object"
            ]
          },
          "metadata": {}
        },
        {
          "output_type": "display_data",
          "data": {
            "text/plain": [
              "product_id                                                   6493\n",
              "product_name                        Denon Stereo Tuner - TU1500RD\n",
              "description     Denon Stereo Tuner - TU1500RD/ RDS Radio Data ...\n",
              "price                                                     $375.00\n",
              "Name: 5, dtype: object"
            ]
          },
          "metadata": {}
        },
        {
          "output_type": "display_data",
          "data": {
            "text/plain": [
              "product_id                                                   6726\n",
              "product_name            KitchenAid Pasta Roller And Cutter - KPRA\n",
              "description     KitchenAid Pasta Roller And Cutter - KPRA/ One...\n",
              "price                                                        None\n",
              "Name: 6, dtype: object"
            ]
          },
          "metadata": {}
        },
        {
          "output_type": "display_data",
          "data": {
            "text/plain": [
              "product_id                                                   6742\n",
              "product_name    Panasonic Yeast Pro Automatic Breadmaker - SDY...\n",
              "description     Panasonic Yeast Pro Automatic Breadmaker - SDY...\n",
              "price                                                        None\n",
              "Name: 7, dtype: object"
            ]
          },
          "metadata": {}
        },
        {
          "output_type": "display_data",
          "data": {
            "text/plain": [
              "product_id                                                   7195\n",
              "product_name    Sony Vertical-In-The-Ear Stereo Headphones - M...\n",
              "description     Sony Vertical-In-The-Ear Stereo Headphones - M...\n",
              "price                                                        None\n",
              "Name: 8, dtype: object"
            ]
          },
          "metadata": {}
        },
        {
          "output_type": "display_data",
          "data": {
            "text/plain": [
              "product_id                                                   7783\n",
              "product_name     Panasonic 2-Line Integrated Telephone - KXTSC14W\n",
              "description     Panasonic 2-Line Integrated Telephone - KXTSC1...\n",
              "price                                                        None\n",
              "Name: 9, dtype: object"
            ]
          },
          "metadata": {}
        },
        {
          "output_type": "display_data",
          "data": {
            "text/plain": [
              "product_id                                                   7936\n",
              "product_name     Panasonic Integrated Telephone System - KXTS108W\n",
              "description     Panasonic Integrated Telephone System - KXTS10...\n",
              "price                                                      $44.00\n",
              "Name: 10, dtype: object"
            ]
          },
          "metadata": {}
        },
        {
          "output_type": "display_data",
          "data": {
            "text/plain": [
              "product_id                                                   8060\n",
              "product_name    Panasonic 2-Line Integrated Telephone System -...\n",
              "description     Panasonic 2-Line Integrated Telephone System -...\n",
              "price                                                        None\n",
              "Name: 11, dtype: object"
            ]
          },
          "metadata": {}
        },
        {
          "output_type": "display_data",
          "data": {
            "text/plain": [
              "product_id                                                   8552\n",
              "product_name                  Sony 300 Disc CD Changer - CDPCX355\n",
              "description     Sony 300 Disc CD Changer - CDPCX355/ MegaStora...\n",
              "price                                                        None\n",
              "Name: 12, dtype: object"
            ]
          },
          "metadata": {}
        },
        {
          "output_type": "display_data",
          "data": {
            "text/plain": [
              "product_id                                                   9071\n",
              "product_name      Sony 400 Disc MegaStorage CD Changer - CDPCX455\n",
              "description     Sony 400 Disc MegaStorage CD Changer - CDPCX45...\n",
              "price                                                        None\n",
              "Name: 13, dtype: object"
            ]
          },
          "metadata": {}
        },
        {
          "output_type": "display_data",
          "data": {
            "text/plain": [
              "product_id                                                   9312\n",
              "product_name               Panasonic Hands-Free Headset - KXTCA86\n",
              "description     Panasonic Hands-Free Headset - KXTCA86/ Comfor...\n",
              "price                                                      $14.95\n",
              "Name: 14, dtype: object"
            ]
          },
          "metadata": {}
        },
        {
          "output_type": "display_data",
          "data": {
            "text/plain": [
              "product_id                                                   9314\n",
              "product_name              Panasonic Hands Free Headset  - KXTCA92\n",
              "description     Panasonic Hands Free Headset - KXTCA92/ Comfor...\n",
              "price                                                      $25.00\n",
              "Name: 15, dtype: object"
            ]
          },
          "metadata": {}
        },
        {
          "output_type": "display_data",
          "data": {
            "text/plain": [
              "product_id                                                   9355\n",
              "product_name    Cuisinart Convection-Oven-Toaster-Broiler With...\n",
              "description     Cuisinart Convection-Oven-Toaster-Broiler With...\n",
              "price                                                     $149.00\n",
              "Name: 16, dtype: object"
            ]
          },
          "metadata": {}
        },
        {
          "output_type": "display_data",
          "data": {
            "text/plain": [
              "product_id                                                   9546\n",
              "product_name    Frigidaire 24' White Built-In Dishwasher - FDB...\n",
              "description     Frigidaire 24' FDB130RGS White Built-In Dishwa...\n",
              "price                                                     $229.00\n",
              "Name: 17, dtype: object"
            ]
          },
          "metadata": {}
        },
        {
          "output_type": "display_data",
          "data": {
            "text/plain": [
              "product_id                                                   9646\n",
              "product_name           Cuisinart Cordless Electric Kettle - KUA17\n",
              "description     Cuisinart Cordless Electric Kettle - KUA17/ 1-...\n",
              "price                                                      $70.00\n",
              "Name: 18, dtype: object"
            ]
          },
          "metadata": {}
        },
        {
          "output_type": "display_data",
          "data": {
            "text/plain": [
              "product_id                                                  10101\n",
              "product_name                Omnimount Wall Speaker Mount - 20WLBK\n",
              "description     Omnimount Wall Speaker Mount - 20WLBK/ Stainle...\n",
              "price                                                      $39.95\n",
              "Name: 19, dtype: object"
            ]
          },
          "metadata": {}
        },
        {
          "output_type": "display_data",
          "data": {
            "text/plain": [
              "product_id                                                  10102\n",
              "product_name                Omnimount Wall Speaker Mount - 20WLWH\n",
              "description     Omnimount Wall Speaker Mount - 20WLWH/ Stainle...\n",
              "price                                                      $40.00\n",
              "Name: 20, dtype: object"
            ]
          },
          "metadata": {}
        },
        {
          "output_type": "display_data",
          "data": {
            "text/plain": [
              "product_id                                                  10640\n",
              "product_name    Denon Semi-Automatic Turntable - Black Finish ...\n",
              "description     Denon Semi-Automatic Turntable - DP29F/ Metal ...\n",
              "price                                                     $150.00\n",
              "Name: 21, dtype: object"
            ]
          },
          "metadata": {}
        },
        {
          "output_type": "display_data",
          "data": {
            "text/plain": [
              "product_id                                                  11338\n",
              "product_name    Sony Xplod 10-Disc Add-On CD/MP3 Changer - CDX...\n",
              "description     Sony Xplod 10-Disc Add-On CD/MP3 Changer - CDX...\n",
              "price                                                        None\n",
              "Name: 22, dtype: object"
            ]
          },
          "metadata": {}
        },
        {
          "output_type": "display_data",
          "data": {
            "text/plain": [
              "product_id                                                  11801\n",
              "product_name    Escort Passport Radar And Laser Detector - Bla...\n",
              "description     Escort Passport X50 Radar And Laser Detector -...\n",
              "price                                                     $313.95\n",
              "Name: 23, dtype: object"
            ]
          },
          "metadata": {}
        },
        {
          "output_type": "display_data",
          "data": {
            "text/plain": [
              "product_id                                                  13155\n",
              "product_name          Peerless Wall TV Mounts In Black - PM1327BK\n",
              "description     Peerless Wall TV Mounts - PM1327BK/ TV Wall Mo...\n",
              "price                                                        None\n",
              "Name: 24, dtype: object"
            ]
          },
          "metadata": {}
        },
        {
          "output_type": "display_data",
          "data": {
            "text/plain": [
              "product_id                                                  13202\n",
              "product_name             Panasonic Laser Toner Cartridge - KXFA83\n",
              "description     Panasonic Laser Toner Cartridge - KXFA83/ Used...\n",
              "price                                                        None\n",
              "Name: 25, dtype: object"
            ]
          },
          "metadata": {}
        },
        {
          "output_type": "display_data",
          "data": {
            "text/plain": [
              "product_id                                                  13213\n",
              "product_name         Sony Compact Disc Player/Recorder - RCDW500C\n",
              "description     Sony Compact Disc Player/Recorder - RCDW500C/ ...\n",
              "price                                                     $299.00\n",
              "Name: 26, dtype: object"
            ]
          },
          "metadata": {}
        },
        {
          "output_type": "display_data",
          "data": {
            "text/plain": [
              "product_id                                                  13580\n",
              "product_name    Sanus WMS3B Black Weather Resistant Small Spea...\n",
              "description     Sanus WMS3B Black Small Speaker Wall Mount - W...\n",
              "price                                                      $29.99\n",
              "Name: 27, dtype: object"
            ]
          },
          "metadata": {}
        },
        {
          "output_type": "display_data",
          "data": {
            "text/plain": [
              "product_id                                                  13581\n",
              "product_name    Sanus WMS3S Silver Weather Resistant Small Spe...\n",
              "description     Sanus WMS3S Silver Small Speaker Wall Mount - ...\n",
              "price                                                      $29.99\n",
              "Name: 28, dtype: object"
            ]
          },
          "metadata": {}
        },
        {
          "output_type": "display_data",
          "data": {
            "text/plain": [
              "product_id                                                  13700\n",
              "product_name    Sanus Euro Foundations Satellite Speaker Stand...\n",
              "description     Sanus Euro Foundations Satellite Speaker Stand...\n",
              "price                                                      $79.99\n",
              "Name: 29, dtype: object"
            ]
          },
          "metadata": {}
        },
        {
          "output_type": "display_data",
          "data": {
            "text/plain": [
              "product_id                                                  13701\n",
              "product_name    Sanus Euro Foundations Satellite Speaker Stand...\n",
              "description     Sanus Euro Foundations Satellite Speaker Stand...\n",
              "price                                                      $79.99\n",
              "Name: 30, dtype: object"
            ]
          },
          "metadata": {}
        },
        {
          "output_type": "display_data",
          "data": {
            "text/plain": [
              "product_id                                                  13945\n",
              "product_name             Onkyo 6 Disc CD Player Changer - DXC390B\n",
              "description     Onkyo 6 Disc CD Player Changer- DXC390B/ Multi...\n",
              "price                                                        None\n",
              "Name: 31, dtype: object"
            ]
          },
          "metadata": {}
        },
        {
          "output_type": "display_data",
          "data": {
            "text/plain": [
              "product_id                                                  13954\n",
              "product_name                   Panasonic Corded Phone - KXTS3282B\n",
              "description     Panasonic Corded Phone - KXTS3282B/ 2 Phone Li...\n",
              "price                                                        None\n",
              "Name: 32, dtype: object"
            ]
          },
          "metadata": {}
        },
        {
          "output_type": "display_data",
          "data": {
            "text/plain": [
              "product_id                                                  13996\n",
              "product_name            Escort Cordless Solo Radar Detector - S2E\n",
              "description     Escort Cordless Solo Radar Detector - S2E/ S2/...\n",
              "price                                                     $343.95\n",
              "Name: 33, dtype: object"
            ]
          },
          "metadata": {}
        },
        {
          "output_type": "display_data",
          "data": {
            "text/plain": [
              "product_id                                                  14033\n",
              "product_name    Garmin Deluxe Carrying Case - Black Finish - 0...\n",
              "description     Garmin Deluxe Carrying Case - 0101023101/ Desi...\n",
              "price                                                        None\n",
              "Name: 34, dtype: object"
            ]
          },
          "metadata": {}
        },
        {
          "output_type": "display_data",
          "data": {
            "text/plain": [
              "product_id                                                  14061\n",
              "product_name                  Kenwood 6-Disc CD Changer - KDCC669\n",
              "description     Kenwood 6-Disc CD Changer - KDCC669/ 3-Angle M...\n",
              "price                                                     $129.00\n",
              "Name: 35, dtype: object"
            ]
          },
          "metadata": {}
        },
        {
          "output_type": "display_data",
          "data": {
            "text/plain": [
              "product_id                                                  14070\n",
              "product_name    Cuisinart Automatic Brew And Serve Coffeemaker...\n",
              "description     Cuisinart Automatic Brew And Serve Coffeemaker...\n",
              "price                                                      $99.95\n",
              "Name: 36, dtype: object"
            ]
          },
          "metadata": {}
        },
        {
          "output_type": "display_data",
          "data": {
            "text/plain": [
              "product_id                                                  14563\n",
              "product_name      Sharp Over The Counter Microwave Oven - R1214SS\n",
              "description     Sharp Over The Counter Microwave Oven - R1214S...\n",
              "price                                                     $429.00\n",
              "Name: 37, dtype: object"
            ]
          },
          "metadata": {}
        },
        {
          "output_type": "display_data",
          "data": {
            "text/plain": [
              "product_id                                                  14715\n",
              "product_name    Toshiba Rechargeable 5-Hour Battery Pack - MED...\n",
              "description     Toshiba Rechargeable 5-Hour Battery Pack - MED...\n",
              "price                                                     $149.99\n",
              "Name: 38, dtype: object"
            ]
          },
          "metadata": {}
        },
        {
          "output_type": "display_data",
          "data": {
            "text/plain": [
              "product_id                                                  15046\n",
              "product_name    GE GSD4000NWW White Built-In Dishwasher - GSD4...\n",
              "description     GE GSD4000NWW White Built-In Dishwasher - GSD4...\n",
              "price                                                        None\n",
              "Name: 39, dtype: object"
            ]
          },
          "metadata": {}
        },
        {
          "output_type": "display_data",
          "data": {
            "text/plain": [
              "product_id                                                  15452\n",
              "product_name                Sony Stereo Audio Receiver - STRDE197\n",
              "description     Sony Stereo Audio Receiver - STRDE197/ 100 Wat...\n",
              "price                                                        None\n",
              "Name: 40, dtype: object"
            ]
          },
          "metadata": {}
        },
        {
          "output_type": "display_data",
          "data": {
            "text/plain": [
              "product_id                                                  16000\n",
              "product_name    Maytag Bisque Over-The-Range Microwave Oven - ...\n",
              "description     Maytag Bisque Over-The-Range Microwave Oven - ...\n",
              "price                                                        None\n",
              "Name: 41, dtype: object"
            ]
          },
          "metadata": {}
        },
        {
          "output_type": "display_data",
          "data": {
            "text/plain": [
              "product_id                                                  16003\n",
              "product_name     Maytag Over-The-Range Microwave Oven - MMV5207BK\n",
              "description     Maytag Over-The-Range Microwave Oven - MMV5207...\n",
              "price                                                        None\n",
              "Name: 42, dtype: object"
            ]
          },
          "metadata": {}
        },
        {
          "output_type": "display_data",
          "data": {
            "text/plain": [
              "product_id                                                  16112\n",
              "product_name    Panasonic Genius Prestige Inverter Microwave C...\n",
              "description     Panasonic Genius Prestige Microwave Convection...\n",
              "price                                                        None\n",
              "Name: 43, dtype: object"
            ]
          },
          "metadata": {}
        },
        {
          "output_type": "display_data",
          "data": {
            "text/plain": [
              "product_id                                                  16309\n",
              "product_name                Sony Super Audio CD Player - SCDCE595\n",
              "description     Sony Super Audio CD Player - SCDCE595/ Multi-C...\n",
              "price                                                     $149.00\n",
              "Name: 44, dtype: object"
            ]
          },
          "metadata": {}
        },
        {
          "output_type": "display_data",
          "data": {
            "text/plain": [
              "product_id                                                  16329\n",
              "product_name         Whirlpool 24' Built-In Dishwasher - DU1100SS\n",
              "description     Whirlpool 24' Built-In Dishwasher - DU1100SS/ ...\n",
              "price                                                        None\n",
              "Name: 45, dtype: object"
            ]
          },
          "metadata": {}
        },
        {
          "output_type": "display_data",
          "data": {
            "text/plain": [
              "product_id                                                  16394\n",
              "product_name                     Danby Twin Tub Washer - DTT420WH\n",
              "description     Danby Twin Tub Washer - DTT420WH/ 10lb Capacit...\n",
              "price                                                        None\n",
              "Name: 46, dtype: object"
            ]
          },
          "metadata": {}
        },
        {
          "output_type": "display_data",
          "data": {
            "text/plain": [
              "product_id                                                  16668\n",
              "product_name                 Omnimount TV Top Shelf Mount - CCH1P\n",
              "description     Omnimount TV Top Shelf Mount - CCH1P/ TV Top S...\n",
              "price                                                        None\n",
              "Name: 47, dtype: object"
            ]
          },
          "metadata": {}
        },
        {
          "output_type": "display_data",
          "data": {
            "text/plain": [
              "product_id                                                  16669\n",
              "product_name                 Omnimount TV Top Shelf Mount - CCH1B\n",
              "description     Omnimount TV Top Shelf Mount - CCH1B/ TV Top S...\n",
              "price                                                        None\n",
              "Name: 48, dtype: object"
            ]
          },
          "metadata": {}
        },
        {
          "output_type": "display_data",
          "data": {
            "text/plain": [
              "product_id                                                  16741\n",
              "product_name    Delonghi Twenty Four Seven Coffee Maker In Bla...\n",
              "description     Delonghi Twenty Four Seven Coffee Maker - DC50...\n",
              "price                                                      $22.00\n",
              "Name: 49, dtype: object"
            ]
          },
          "metadata": {}
        },
        {
          "output_type": "display_data",
          "data": {
            "text/plain": [
              "product_id                                                  16758\n",
              "product_name       Sanus Silver LCD Television Turntable - TVLCDS\n",
              "description     Sanus Silver LCD Television Turntable - TVLCDS...\n",
              "price                                                      $29.99\n",
              "Name: 50, dtype: object"
            ]
          },
          "metadata": {}
        },
        {
          "output_type": "display_data",
          "data": {
            "text/plain": [
              "product_id                                                  16765\n",
              "product_name    Frigidaire 27' Electric Stack Washer Dryer Com...\n",
              "description     Frigidaire 27' Electric Stack Washer Dryer Com...\n",
              "price                                                        None\n",
              "Name: 51, dtype: object"
            ]
          },
          "metadata": {}
        },
        {
          "output_type": "display_data",
          "data": {
            "text/plain": [
              "product_id                                                  16774\n",
              "product_name    Olympus Olympus Ni-MH Quick Charger And Batter...\n",
              "description     Olympus Olympus Ni-MH Quick Charger And Batter...\n",
              "price                                                        None\n",
              "Name: 52, dtype: object"
            ]
          },
          "metadata": {}
        },
        {
          "output_type": "display_data",
          "data": {
            "text/plain": [
              "product_id                                                  16877\n",
              "product_name    Sony Digital Photo Printer Paper 40 Pack  - SV...\n",
              "description     Sony Digital Photo Printer Paper 40 Pack - SVM...\n",
              "price                                                        None\n",
              "Name: 53, dtype: object"
            ]
          },
          "metadata": {}
        },
        {
          "output_type": "display_data",
          "data": {
            "text/plain": [
              "product_id                                                  17067\n",
              "product_name                Canon Rechargeable Battery - 9763A001\n",
              "description     Canon Rechargeable Battery - 9763A001/ Compati...\n",
              "price                                                        None\n",
              "Name: 54, dtype: object"
            ]
          },
          "metadata": {}
        },
        {
          "output_type": "display_data",
          "data": {
            "text/plain": [
              "product_id                                                  17094\n",
              "product_name      Delonghi Twenty Four Seven Coffee Maker - DC50W\n",
              "description     Delonghi Twenty Four Seven Coffee Maker - DC50...\n",
              "price                                                      $22.00\n",
              "Name: 55, dtype: object"
            ]
          },
          "metadata": {}
        },
        {
          "output_type": "display_data",
          "data": {
            "text/plain": [
              "product_id                                                  17187\n",
              "product_name                       Universal IR/RF Remote - MX350\n",
              "description     Universal IR/RF Remote - MX350/ Controls Up To...\n",
              "price                                                     $149.95\n",
              "Name: 56, dtype: object"
            ]
          },
          "metadata": {}
        },
        {
          "output_type": "display_data",
          "data": {
            "text/plain": [
              "product_id                                                  17191\n",
              "product_name    Universal IR/RF Aeros Remote Control- MX850 - ...\n",
              "description     Universal IR/RF Aeros Remote Control- MX850/ L...\n",
              "price                                                     $399.95\n",
              "Name: 57, dtype: object"
            ]
          },
          "metadata": {}
        },
        {
          "output_type": "display_data",
          "data": {
            "text/plain": [
              "product_id                                                  17220\n",
              "product_name          Panasonic 5-Pack DVD-RAM Discs - LMAF120LU5\n",
              "description     Panasonic 5-Pack DVD-RAM Discs - LMAF120LU5/ S...\n",
              "price                                                      $15.00\n",
              "Name: 58, dtype: object"
            ]
          },
          "metadata": {}
        },
        {
          "output_type": "display_data",
          "data": {
            "text/plain": [
              "product_id                                                  17372\n",
              "product_name                      Belkin AC Anywhere - F5C400300W\n",
              "description     Belkin AC Anywhere - F5C400300W/ Mobile Power ...\n",
              "price                                                        None\n",
              "Name: 59, dtype: object"
            ]
          },
          "metadata": {}
        },
        {
          "output_type": "display_data",
          "data": {
            "text/plain": [
              "product_id                                                  17417\n",
              "product_name    Sanus 13' - 30' VisionMount Flat Panel TV Silv...\n",
              "description     Sanus 13' - 30' VisionMount Flat Panel TV Silv...\n",
              "price                                                      $39.99\n",
              "Name: 60, dtype: object"
            ]
          },
          "metadata": {}
        },
        {
          "output_type": "display_data",
          "data": {
            "text/plain": [
              "product_id                                                  17479\n",
              "product_name      Weber Performer 22-1/2' Charcoal Grill - 841001\n",
              "description     Weber Performer 22-1/2' Charcoal Grill - 84100...\n",
              "price                                                     $329.00\n",
              "Name: 61, dtype: object"
            ]
          },
          "metadata": {}
        },
        {
          "output_type": "display_data",
          "data": {
            "text/plain": [
              "product_id                                                  17596\n",
              "product_name    Sanus 13' - 30' Flat Panel TV Black Wall Mount...\n",
              "description     Sanus 13' - 30' Flat Panel TV Black Wall Mount...\n",
              "price                                                      $69.99\n",
              "Name: 62, dtype: object"
            ]
          },
          "metadata": {}
        },
        {
          "output_type": "display_data",
          "data": {
            "text/plain": [
              "product_id                                                  17653\n",
              "product_name                           Sony HD DVC Tape - DVM63HD\n",
              "description     Sony HD DVC Tape - DVM63HD/ 63 Minutes Recordi...\n",
              "price                                                        None\n",
              "Name: 63, dtype: object"
            ]
          },
          "metadata": {}
        },
        {
          "output_type": "display_data",
          "data": {
            "text/plain": [
              "product_id                                                  17872\n",
              "product_name    Sanus 15' - 40' Flat Panel TV Silver Wall Moun...\n",
              "description     Sanus 15' - 40' Flat Panel TV Silver Wall Moun...\n",
              "price                                                     $219.99\n",
              "Name: 64, dtype: object"
            ]
          },
          "metadata": {}
        },
        {
          "output_type": "display_data",
          "data": {
            "text/plain": [
              "product_id                                                  17873\n",
              "product_name    Sanus 15' - 40' Flat Panel TV Black Wall Mount...\n",
              "description     Sanus 15' - 40' Flat Panel TV Black Wall Mount...\n",
              "price                                                        None\n",
              "Name: 65, dtype: object"
            ]
          },
          "metadata": {}
        },
        {
          "output_type": "display_data",
          "data": {
            "text/plain": [
              "product_id                                                  17906\n",
              "product_name                Frigidaire Electric Dryer - FEQ1442WH\n",
              "description     Frigidaire Electric Dryer - FEQ1442WH/ 5.8 Cub...\n",
              "price                                                        None\n",
              "Name: 66, dtype: object"
            ]
          },
          "metadata": {}
        },
        {
          "output_type": "display_data",
          "data": {
            "text/plain": [
              "product_id                                                  18040\n",
              "product_name                           Delonghi Oil Filters - FK8\n",
              "description     Delonghi Oil Filters - FK8/ Made For Use With ...\n",
              "price                                                      $18.00\n",
              "Name: 67, dtype: object"
            ]
          },
          "metadata": {}
        },
        {
          "output_type": "display_data",
          "data": {
            "text/plain": [
              "product_id                                                  18087\n",
              "product_name       Danby Designer Portable Dishwasher - DDW1805WH\n",
              "description     Danby Designer Portable Dishwasher - DDW1805WH...\n",
              "price                                                        None\n",
              "Name: 68, dtype: object"
            ]
          },
          "metadata": {}
        },
        {
          "output_type": "display_data",
          "data": {
            "text/plain": [
              "product_id                                                  18202\n",
              "product_name      Canon Optura/Elura Accessory Kit - ACCESSORYKIT\n",
              "description     Canon Optura/Elura Accessory Kit - ACCESSORYKI...\n",
              "price                                                        None\n",
              "Name: 69, dtype: object"
            ]
          },
          "metadata": {}
        },
        {
          "output_type": "display_data",
          "data": {
            "text/plain": [
              "product_id                                                  18441\n",
              "product_name    Mosquito Magnet Defender Replacement Net - MM4...\n",
              "description     Mosquito Magnet Defender Replacement Net - MM4...\n",
              "price                                                        None\n",
              "Name: 70, dtype: object"
            ]
          },
          "metadata": {}
        },
        {
          "output_type": "display_data",
          "data": {
            "text/plain": [
              "product_id                                                  18516\n",
              "product_name    Panasonic Genius Countertop Microwave In White...\n",
              "description     Panasonic Genius Countertop White Microwave - ...\n",
              "price                                                        None\n",
              "Name: 71, dtype: object"
            ]
          },
          "metadata": {}
        },
        {
          "output_type": "display_data",
          "data": {
            "text/plain": [
              "product_id                                                  18524\n",
              "product_name      Weber Performer 22-1/2' Charcoal Grill - 848001\n",
              "description     Weber Performer 22-1/2' Charcoal Grill - 84800...\n",
              "price                                                     $329.00\n",
              "Name: 72, dtype: object"
            ]
          },
          "metadata": {}
        },
        {
          "output_type": "display_data",
          "data": {
            "text/plain": [
              "product_id                                                  18564\n",
              "product_name         Whirlpool 24' Built-In Dishwasher - DU1055BK\n",
              "description     Whirlpool 24' Built-In Dishwasher - DU1055BK/ ...\n",
              "price                                                     $397.00\n",
              "Name: 73, dtype: object"
            ]
          },
          "metadata": {}
        },
        {
          "output_type": "display_data",
          "data": {
            "text/plain": [
              "product_id                                                  18567\n",
              "product_name         Whirlpool 24' Built-In Dishwasher - DU1055SS\n",
              "description     Whirlpool 24' Built-In Dishwasher - DU1055SS/ ...\n",
              "price                                                     $491.00\n",
              "Name: 74, dtype: object"
            ]
          },
          "metadata": {}
        },
        {
          "output_type": "display_data",
          "data": {
            "text/plain": [
              "product_id                                                  18837\n",
              "product_name                  Cuisinart Countertop Griddler - GR4\n",
              "description     Cuisinart Countertop Griddler - GR4/ Nonstick ...\n",
              "price                                                        None\n",
              "Name: 75, dtype: object"
            ]
          },
          "metadata": {}
        },
        {
          "output_type": "display_data",
          "data": {
            "text/plain": [
              "product_id                                                  18960\n",
              "product_name                Nikon AF Speedlight Accessory - SB600\n",
              "description     Nikon AF Speedlight Accessory - SB600/ Versati...\n",
              "price                                                        None\n",
              "Name: 76, dtype: object"
            ]
          },
          "metadata": {}
        },
        {
          "output_type": "display_data",
          "data": {
            "text/plain": [
              "product_id                                                  18970\n",
              "product_name    Panasonic Genius Countertop Microwave In Black...\n",
              "description     Panasonic Genius Countertop Microwave - NNH965...\n",
              "price                                                        None\n",
              "Name: 77, dtype: object"
            ]
          },
          "metadata": {}
        },
        {
          "output_type": "display_data",
          "data": {
            "text/plain": [
              "product_id                                                  19112\n",
              "product_name          Sony Soft Cyber-Shot Carrying Case - LCSCST\n",
              "description     Sony Soft Cyber-Shot Carrying Case - LCSCST/ S...\n",
              "price                                                      $14.00\n",
              "Name: 78, dtype: object"
            ]
          },
          "metadata": {}
        },
        {
          "output_type": "display_data",
          "data": {
            "text/plain": [
              "product_id                                                  19132\n",
              "product_name    Pioneer XM Digital Satellite Tuner for Pioneer...\n",
              "description     Pioneer XM Digital Satellite Tuner For Pioneer...\n",
              "price                                                      $98.00\n",
              "Name: 79, dtype: object"
            ]
          },
          "metadata": {}
        },
        {
          "output_type": "display_data",
          "data": {
            "text/plain": [
              "product_id                                                  19141\n",
              "product_name    Sanus Universal Projector Ceiling Mount -  Bla...\n",
              "description     Sanus Universal Projector Ceiling Mount - VMPR...\n",
              "price                                                     $129.99\n",
              "Name: 80, dtype: object"
            ]
          },
          "metadata": {}
        },
        {
          "output_type": "display_data",
          "data": {
            "text/plain": [
              "product_id                                                  19204\n",
              "product_name    OmniMount G-303 Gray Stellar Series Audio Towe...\n",
              "description     OmniMount G-303 Gray Stellar Series Audio Towe...\n",
              "price                                                        None\n",
              "Name: 81, dtype: object"
            ]
          },
          "metadata": {}
        },
        {
          "output_type": "display_data",
          "data": {
            "text/plain": [
              "product_id                                                  19358\n",
              "product_name            Sennheiser RF Wireless Headphones - RS140\n",
              "description     Sennheiser RF Wireless Headphones - RS140/ Swi...\n",
              "price                                                        None\n",
              "Name: 82, dtype: object"
            ]
          },
          "metadata": {}
        },
        {
          "output_type": "display_data",
          "data": {
            "text/plain": [
              "product_id                                                  19604\n",
              "product_name             Kenwood iPod Mobile Interface - KCAIP500\n",
              "description     Kenwood iPod Mobile Interface - KCAIP500/ Comp...\n",
              "price                                                      $49.99\n",
              "Name: 83, dtype: object"
            ]
          },
          "metadata": {}
        },
        {
          "output_type": "display_data",
          "data": {
            "text/plain": [
              "product_id                                                  19628\n",
              "product_name    Pioneer Wired Marine Remote Control Display - ...\n",
              "description     Pioneer Wired Marine Remote Control Display - ...\n",
              "price                                                     $149.00\n",
              "Name: 84, dtype: object"
            ]
          },
          "metadata": {}
        },
        {
          "output_type": "display_data",
          "data": {
            "text/plain": [
              "product_id                                                  19631\n",
              "product_name                       Bose Second Zone Remote - PMC2\n",
              "description     Bose Second Zone Remote - PMC2/ Controls Lifes...\n",
              "price                                                     $149.00\n",
              "Name: 85, dtype: object"
            ]
          },
          "metadata": {}
        },
        {
          "output_type": "display_data",
          "data": {
            "text/plain": [
              "product_id                                                  19672\n",
              "product_name    Sony 400-Disc DVD/SA-CD/CD Mega Changer - DVPC...\n",
              "description     Sony 400-Disc DVD, SACD & CD Mega Changer - DV...\n",
              "price                                                        None\n",
              "Name: 86, dtype: object"
            ]
          },
          "metadata": {}
        },
        {
          "output_type": "display_data",
          "data": {
            "text/plain": [
              "product_id                                                  19676\n",
              "product_name    Sanus 32' - 84' Flat Panel TV Black Tilting Wa...\n",
              "description     Sanus 32' - 84' Flat Panel TV Black Tilting Wa...\n",
              "price                                                        None\n",
              "Name: 87, dtype: object"
            ]
          },
          "metadata": {}
        },
        {
          "output_type": "display_data",
          "data": {
            "text/plain": [
              "product_id                                                  20447\n",
              "product_name    Sony DVD-R Recordable Camcorder Media - 3DMR30L1H\n",
              "description     Sony DVD-R Recordable Camcorder Media 3 Pack -...\n",
              "price                                                       $9.99\n",
              "Name: 88, dtype: object"
            ]
          },
          "metadata": {}
        },
        {
          "output_type": "display_data",
          "data": {
            "text/plain": [
              "product_id                                                  20448\n",
              "product_name    Sony VAIO Neoprene Laptop Carrying Case - Blac...\n",
              "description     Sony VAIO Neoprene Laptop Carrying Case - VGPA...\n",
              "price                                                      $22.00\n",
              "Name: 89, dtype: object"
            ]
          },
          "metadata": {}
        },
        {
          "output_type": "display_data",
          "data": {
            "text/plain": [
              "product_id                                                  20450\n",
              "product_name                        Canon Color Ink Tank - CL41CL\n",
              "description     Canon Color Ink Tank - CL41CL/ Compatible With...\n",
              "price                                                      $24.00\n",
              "Name: 90, dtype: object"
            ]
          },
          "metadata": {}
        },
        {
          "output_type": "display_data",
          "data": {
            "text/plain": [
              "product_id                                                  20453\n",
              "product_name                   Canon Cyan Ink Tank - Cyan - CLI8C\n",
              "description     Canon Cyan Ink Tank - CLI8C/ Compatible With T...\n",
              "price                                                      $16.00\n",
              "Name: 91, dtype: object"
            ]
          },
          "metadata": {}
        },
        {
          "output_type": "display_data",
          "data": {
            "text/plain": [
              "product_id                                                  20454\n",
              "product_name             Canon Magenta Ink Tank - Magenta - CLI8M\n",
              "description     Canon Magenta Ink Tank - CLI8M/ Compatible Wit...\n",
              "price                                                      $16.00\n",
              "Name: 92, dtype: object"
            ]
          },
          "metadata": {}
        },
        {
          "output_type": "display_data",
          "data": {
            "text/plain": [
              "product_id                                                  20458\n",
              "product_name       Canon Cyan Photo Ink Cartridge - Cyan - CLI8PC\n",
              "description     Canon Cyan Photo Ink Cartridge - CLI8PC/ Compa...\n",
              "price                                                      $16.00\n",
              "Name: 93, dtype: object"
            ]
          },
          "metadata": {}
        },
        {
          "output_type": "display_data",
          "data": {
            "text/plain": [
              "product_id                                                  20459\n",
              "product_name    Canon Magenta Photo Ink Cartridge - Magenta - ...\n",
              "description     Canon Magenta Photo Ink Cartridge - CLI8PM/ Co...\n",
              "price                                                      $16.00\n",
              "Name: 94, dtype: object"
            ]
          },
          "metadata": {}
        },
        {
          "output_type": "display_data",
          "data": {
            "text/plain": [
              "product_id                                                  20461\n",
              "product_name          Canon Yellow Ink Cartridge - Yellow - CLI8Y\n",
              "description     Canon Yellow Ink Cartridge - CLI8Y/ Compatible...\n",
              "price                                                      $16.00\n",
              "Name: 95, dtype: object"
            ]
          },
          "metadata": {}
        },
        {
          "output_type": "display_data",
          "data": {
            "text/plain": [
              "product_id                                                  20466\n",
              "product_name           Canon Black Ink Cartridge - Black - PG40BK\n",
              "description     Canon Black Ink Cartridge - PG40BK/ Compatible...\n",
              "price                                                      $19.00\n",
              "Name: 96, dtype: object"
            ]
          },
          "metadata": {}
        },
        {
          "output_type": "display_data",
          "data": {
            "text/plain": [
              "product_id                                                  20532\n",
              "product_name    Belkin Pro Series 16 Ft.  USB 2.0 Cable - F3U1...\n",
              "description     Belkin Pro Series 16 Ft. USB 2.0 Device Cable ...\n",
              "price                                                        None\n",
              "Name: 97, dtype: object"
            ]
          },
          "metadata": {}
        },
        {
          "output_type": "display_data",
          "data": {
            "text/plain": [
              "product_id                                                  20534\n",
              "product_name    Pioneer Voice Command Pack - Black Finish - CDVC1\n",
              "description     Pioneer Voice Command Pack - CDVC1/ Microphone...\n",
              "price                                                      $48.00\n",
              "Name: 98, dtype: object"
            ]
          },
          "metadata": {}
        },
        {
          "output_type": "display_data",
          "data": {
            "text/plain": [
              "product_id                                                  21047\n",
              "product_name    Sony VAIO Neoprene Notebook With AC Adapter Ca...\n",
              "description     Sony VAIO Neoprene Notebook With AC Adapter Ca...\n",
              "price                                                      $24.00\n",
              "Name: 99, dtype: object"
            ]
          },
          "metadata": {}
        },
        {
          "output_type": "display_data",
          "data": {
            "text/plain": [
              "product_id                                                  21175\n",
              "product_name       NetGear ProSafe 24 Port Smart Switch - FS726TP\n",
              "description     NetGear ProSafe 24 Port Smart Switch - FS726TP...\n",
              "price                                                     $605.00\n",
              "Name: 100, dtype: object"
            ]
          },
          "metadata": {}
        },
        {
          "output_type": "display_data",
          "data": {
            "text/plain": [
              "product_id                                                  21182\n",
              "product_name     GE Platinum HDTV Millennium TV Antenna - TV24734\n",
              "description     GE Platinum HDTV Millennium TV Antenna - TV247...\n",
              "price                                                        None\n",
              "Name: 101, dtype: object"
            ]
          },
          "metadata": {}
        },
        {
          "output_type": "display_data",
          "data": {
            "text/plain": [
              "product_id                                                  21267\n",
              "product_name    Garmin Streetpilot C Series Vehicle Suction Mo...\n",
              "description     Garmin Streetpilot C Series Vehicle Suction Mo...\n",
              "price                                                        None\n",
              "Name: 102, dtype: object"
            ]
          },
          "metadata": {}
        },
        {
          "output_type": "display_data",
          "data": {
            "text/plain": [
              "product_id                                                  21268\n",
              "product_name    Garmin StreetPilot C330 Dash Mount - Black Fin...\n",
              "description     Garmin StreetPilot C330 Dash Mount - 010106130...\n",
              "price                                                      $57.00\n",
              "Name: 103, dtype: object"
            ]
          },
          "metadata": {}
        },
        {
          "output_type": "display_data",
          "data": {
            "text/plain": [
              "product_id                                                  21297\n",
              "product_name    Sony Memory Stick Duo Replacement Adaptor - Si...\n",
              "description     Sony Memory Stick Duo Replacement Adaptor - MS...\n",
              "price                                                        None\n",
              "Name: 104, dtype: object"
            ]
          },
          "metadata": {}
        },
        {
          "output_type": "display_data",
          "data": {
            "text/plain": [
              "product_id                                                  21554\n",
              "product_name    Yamaha High Performance Subwoofer -  Black Fin...\n",
              "description     Yamaha High Performance Subwoofer - YSTFSW100B...\n",
              "price                                                     $150.00\n",
              "Name: 105, dtype: object"
            ]
          },
          "metadata": {}
        },
        {
          "output_type": "display_data",
          "data": {
            "text/plain": [
              "product_id                                                  21875\n",
              "product_name    Netgear ProSafe 16 Port 10/100 Desktop Switch ...\n",
              "description     Netgear ProSafe 16 Port 10/100 Desktop Switch ...\n",
              "price                                                     $299.00\n",
              "Name: 106, dtype: object"
            ]
          },
          "metadata": {}
        },
        {
          "output_type": "display_data",
          "data": {
            "text/plain": [
              "product_id                                                  21989\n",
              "product_name           Frigidaire Electric White Dryer - FEQ332WH\n",
              "description     Frigidaire FEQ332 Electric Dryer - FEQ332WH/ 5...\n",
              "price                                                        None\n",
              "Name: 107, dtype: object"
            ]
          },
          "metadata": {}
        },
        {
          "output_type": "display_data",
          "data": {
            "text/plain": [
              "product_id                                                  22042\n",
              "product_name    Logitech Harmony 890 Advanced Universal Remote...\n",
              "description     Logitech Harmony 890 Advanced Universal Remote...\n",
              "price                                                        None\n",
              "Name: 108, dtype: object"
            ]
          },
          "metadata": {}
        },
        {
          "output_type": "display_data",
          "data": {
            "text/plain": [
              "product_id                                                  22100\n",
              "product_name    Canon High Capacity Color Ink Cartridge - Colo...\n",
              "description     Canon High Capacity Color Ink Cartridge - CL51...\n",
              "price                                                      $35.00\n",
              "Name: 109, dtype: object"
            ]
          },
          "metadata": {}
        },
        {
          "output_type": "display_data",
          "data": {
            "text/plain": [
              "product_id                                                  22101\n",
              "product_name                     Canon Photo Ink Cartridge - CL52\n",
              "description     Canon Photo Ink Cartridge - CL52/ Compatible W...\n",
              "price                                                      $25.00\n",
              "Name: 110, dtype: object"
            ]
          },
          "metadata": {}
        },
        {
          "output_type": "display_data",
          "data": {
            "text/plain": [
              "product_id                                                  22187\n",
              "product_name    Nikon 18-200mm Nikkor Zoom Lens - Black Finish...\n",
              "description     Nikon 18-200mm Nikkor Zoom Lens Accessory - 21...\n",
              "price                                                        None\n",
              "Name: 111, dtype: object"
            ]
          },
          "metadata": {}
        },
        {
          "output_type": "display_data",
          "data": {
            "text/plain": [
              "product_id                                                  22212\n",
              "product_name         Sennheisser Hi-Fi Wireless Headphone - RS120\n",
              "description     Sennheisser Hi-Fi Wireless Headphone - RS120/ ...\n",
              "price                                                        None\n",
              "Name: 112, dtype: object"
            ]
          },
          "metadata": {}
        },
        {
          "output_type": "display_data",
          "data": {
            "text/plain": [
              "product_id                                                  22242\n",
              "product_name    Cuisinart Programmable Coffeemaker - Stainless...\n",
              "description     Cuisinart 12-Cup Programmable Coffeemaker - DC...\n",
              "price                                                     $100.00\n",
              "Name: 113, dtype: object"
            ]
          },
          "metadata": {}
        },
        {
          "output_type": "display_data",
          "data": {
            "text/plain": [
              "product_id                                                  22306\n",
              "product_name    Sanus Center Channel Speaker Mount - Black Fin...\n",
              "description     Sanus Center Channel Speaker Mount - VMCC1B/ W...\n",
              "price                                                      $99.99\n",
              "Name: 114, dtype: object"
            ]
          },
          "metadata": {}
        },
        {
          "output_type": "display_data",
          "data": {
            "text/plain": [
              "product_id                                                  22382\n",
              "product_name    Sanus 32' - 50' Flat Panel TV Black Wall Mount...\n",
              "description     Sanus 32' - 50' Flat Panel TV Black Wall Mount...\n",
              "price                                                        None\n",
              "Name: 115, dtype: object"
            ]
          },
          "metadata": {}
        },
        {
          "output_type": "display_data",
          "data": {
            "text/plain": [
              "product_id                                                  22558\n",
              "product_name    Netgear RangeMax Wireless Access Point - White...\n",
              "description     Netgear RangeMax Wireless Access Point - WPN80...\n",
              "price                                                     $130.00\n",
              "Name: 116, dtype: object"
            ]
          },
          "metadata": {}
        },
        {
          "output_type": "display_data",
          "data": {
            "text/plain": [
              "product_id                                                  22727\n",
              "product_name    Weber Q 300 Liquid Propane Outdoor Grill - 426001\n",
              "description     Weber Q 300 Liquid Propane Outdoor Grill - 426...\n",
              "price                                                     $349.00\n",
              "Name: 117, dtype: object"
            ]
          },
          "metadata": {}
        },
        {
          "output_type": "display_data",
          "data": {
            "text/plain": [
              "product_id                                                  22729\n",
              "product_name     Sony Lightweight Tripod - Black Finish - VCTR100\n",
              "description     Sony Lightweight Tripod - VCTR100/ Lightweight...\n",
              "price                                                      $34.00\n",
              "Name: 118, dtype: object"
            ]
          },
          "metadata": {}
        },
        {
          "output_type": "display_data",
          "data": {
            "text/plain": [
              "product_id                                                  22798\n",
              "product_name    Sanus VMAV Black VisionMount Component Wall Sh...\n",
              "description     Sanus VMAV Black VisionMount Component Wall Sh...\n",
              "price                                                      $34.99\n",
              "Name: 119, dtype: object"
            ]
          },
          "metadata": {}
        },
        {
          "output_type": "display_data",
          "data": {
            "text/plain": [
              "product_id                                                  22940\n",
              "product_name    Panasonic Plain Paper Fax/Copier With All-Digi...\n",
              "description     Panasonic Plain Paper Fax/Copier With All-Digi...\n",
              "price                                                        None\n",
              "Name: 120, dtype: object"
            ]
          },
          "metadata": {}
        },
        {
          "output_type": "display_data",
          "data": {
            "text/plain": [
              "product_id                                                  23006\n",
              "product_name                       Tivo Wireless Adapter - AG0100\n",
              "description     Tivo Wireless Adapter - AG0100/ For Use With A...\n",
              "price                                                        None\n",
              "Name: 121, dtype: object"
            ]
          },
          "metadata": {}
        },
        {
          "output_type": "display_data",
          "data": {
            "text/plain": [
              "product_id                                                  23097\n",
              "product_name    Uniden 5.8GHz Accessory Handset And Charger - ...\n",
              "description     Uniden 5.8GHz Accessory Handset And Charger - ...\n",
              "price                                                        None\n",
              "Name: 122, dtype: object"
            ]
          },
          "metadata": {}
        },
        {
          "output_type": "display_data",
          "data": {
            "text/plain": [
              "product_id                                                  23246\n",
              "product_name    Plantronics Voyager 510 Bluetooth Headset - Si...\n",
              "description     Plantronics Voyager 510 Bluetooth Headset - 49...\n",
              "price                                                        None\n",
              "Name: 123, dtype: object"
            ]
          },
          "metadata": {}
        },
        {
          "output_type": "display_data",
          "data": {
            "text/plain": [
              "product_id                                                  23296\n",
              "product_name    Kingdom Hearts II Video Game For The Sony PS2 ...\n",
              "description     Kingdom Hearts II Video Game For The Sony PS2 ...\n",
              "price                                                        None\n",
              "Name: 124, dtype: object"
            ]
          },
          "metadata": {}
        },
        {
          "output_type": "display_data",
          "data": {
            "text/plain": [
              "product_id                                                  23325\n",
              "product_name    TiVo Series2 Dual Tuner Digital Video Recorder...\n",
              "description     TiVo Series2 Dual Tuner Digital Video Recorder...\n",
              "price                                                        None\n",
              "Name: 125, dtype: object"
            ]
          },
          "metadata": {}
        },
        {
          "output_type": "display_data",
          "data": {
            "text/plain": [
              "product_id                                                  23347\n",
              "product_name    Sony PlayStation 2 DUALSHOCK 2 Analog Controll...\n",
              "description     Sony PlayStation 2 DUALSHOCK 2 Analog Controll...\n",
              "price                                                      $24.99\n",
              "Name: 126, dtype: object"
            ]
          },
          "metadata": {}
        },
        {
          "output_type": "display_data",
          "data": {
            "text/plain": [
              "product_id                                                  23349\n",
              "product_name    Sony PlayStation 2 8MB Memory Card - Black Fin...\n",
              "description     Sony PlayStation 2 8MB Memory Card - 711719702...\n",
              "price                                                      $24.99\n",
              "Name: 127, dtype: object"
            ]
          },
          "metadata": {}
        },
        {
          "output_type": "display_data",
          "data": {
            "text/plain": [
              "product_id                                                  23350\n",
              "product_name    Sony PlayStation 2 8MB Memory Card (2 Pack) - ...\n",
              "description     Sony PlayStation 2 8MB Memory Card (2 Pack) - ...\n",
              "price                                                      $34.99\n",
              "Name: 128, dtype: object"
            ]
          },
          "metadata": {}
        },
        {
          "output_type": "display_data",
          "data": {
            "text/plain": [
              "product_id                                                  23519\n",
              "product_name    Whirlpool Duet Sport Front Loading White Washe...\n",
              "description     Whirlpool Duet Sport Front Loading White Washe...\n",
              "price                                                        None\n",
              "Name: 129, dtype: object"
            ]
          },
          "metadata": {}
        },
        {
          "output_type": "display_data",
          "data": {
            "text/plain": [
              "product_id                                                  23537\n",
              "product_name    Universal RF Series MasterControl Remote Contr...\n",
              "description     Universal RF Series MasterControl Remote Contr...\n",
              "price                                                      $79.99\n",
              "Name: 130, dtype: object"
            ]
          },
          "metadata": {}
        },
        {
          "output_type": "display_data",
          "data": {
            "text/plain": [
              "product_id                                                  23635\n",
              "product_name      Panasonic Network Camera - White Finish - BLC1A\n",
              "description     Panasonic Network Camera - BLC1A/ Automatic Ne...\n",
              "price                                                      $99.00\n",
              "Name: 131, dtype: object"
            ]
          },
          "metadata": {}
        },
        {
          "output_type": "display_data",
          "data": {
            "text/plain": [
              "product_id                                                  23651\n",
              "product_name    Pioneer 6.5' 2-Way Marine White Speakers - TSM...\n",
              "description     Pioneer 6.5' 2-Way Marine Speakers - TSMR1640/...\n",
              "price                                                     $120.00\n",
              "Name: 132, dtype: object"
            ]
          },
          "metadata": {}
        },
        {
          "output_type": "display_data",
          "data": {
            "text/plain": [
              "product_id                                                  23658\n",
              "product_name             Apple USB Modem - White Finish - MA034ZA\n",
              "description     Apple USB Modem - MA034ZA/ Supports Caller ID,...\n",
              "price                                                      $54.00\n",
              "Name: 133, dtype: object"
            ]
          },
          "metadata": {}
        },
        {
          "output_type": "display_data",
          "data": {
            "text/plain": [
              "product_id                                                  23686\n",
              "product_name    Linksys EtherFast 4124 24-Port Ethernet Switch...\n",
              "description     Linksys EtherFast 4124 24-Port Ethernet Switch...\n",
              "price                                                     $119.00\n",
              "Name: 134, dtype: object"
            ]
          },
          "metadata": {}
        },
        {
          "output_type": "display_data",
          "data": {
            "text/plain": [
              "product_id                                                  23837\n",
              "product_name    Sony Learning Remote Control - Silver Finish -...\n",
              "description     Sony Learning Remote Control - RMVL600/ One-To...\n",
              "price                                                        None\n",
              "Name: 135, dtype: object"
            ]
          },
          "metadata": {}
        },
        {
          "output_type": "display_data",
          "data": {
            "text/plain": [
              "product_id                                                  23864\n",
              "product_name    Hoover Bagged Tempo Widepath Upright Vacuum - ...\n",
              "description     Hoover U5140-900 Bagged Tempo Widepath Upright...\n",
              "price                                                        None\n",
              "Name: 136, dtype: object"
            ]
          },
          "metadata": {}
        },
        {
          "output_type": "display_data",
          "data": {
            "text/plain": [
              "product_id                                                  23965\n",
              "product_name    Panasonic All-in-One Flatbed Laser Fax - KXFLB801\n",
              "description     Panasonic All-in-One Flatbed Laser Fax - KXFLB...\n",
              "price                                                        None\n",
              "Name: 137, dtype: object"
            ]
          },
          "metadata": {}
        },
        {
          "output_type": "display_data",
          "data": {
            "text/plain": [
              "product_id                                                  24034\n",
              "product_name    Sony DVD Remote Control For PS2 - Black Finish...\n",
              "description     Sony DVD Remote Control For PS2 - 711719707608...\n",
              "price                                                      $19.00\n",
              "Name: 138, dtype: object"
            ]
          },
          "metadata": {}
        },
        {
          "output_type": "display_data",
          "data": {
            "text/plain": [
              "product_id                                                  24153\n",
              "product_name    Whirlpool 10' WHP1000SQ Duet Washer And Dryer ...\n",
              "description     Whirlpool 10' WHP1000SQ Duet Washer And Dryer ...\n",
              "price                                                        None\n",
              "Name: 139, dtype: object"
            ]
          },
          "metadata": {}
        },
        {
          "output_type": "display_data",
          "data": {
            "text/plain": [
              "product_id                                                  24316\n",
              "product_name    Whirlpool Duet Sport 27' White Electric Dryer ...\n",
              "description     Whirlpool Duet Sport 27' Electric Dryer - WED8...\n",
              "price                                                        None\n",
              "Name: 140, dtype: object"
            ]
          },
          "metadata": {}
        },
        {
          "output_type": "display_data",
          "data": {
            "text/plain": [
              "product_id                                                  24346\n",
              "product_name    Panasonic Lithium Ion Rechargeable Battery - B...\n",
              "description     Panasonic Lithium Ion Rechargeable Battery - C...\n",
              "price                                                        None\n",
              "Name: 141, dtype: object"
            ]
          },
          "metadata": {}
        },
        {
          "output_type": "display_data",
          "data": {
            "text/plain": [
              "product_id                                                  24368\n",
              "product_name        Panasonic Digital Camera Battery - CGAS007A1B\n",
              "description     Panasonic Digital Camera Battery - CGAS007A1B/...\n",
              "price                                                        None\n",
              "Name: 142, dtype: object"
            ]
          },
          "metadata": {}
        },
        {
          "output_type": "display_data",
          "data": {
            "text/plain": [
              "product_id                                                  24386\n",
              "product_name    Nikon Rechargeable Li-Ion Battery - Black Fini...\n",
              "description     Nikon ENEL3E Rechargeable Li-Ion Battery - 253...\n",
              "price                                                        None\n",
              "Name: 143, dtype: object"
            ]
          },
          "metadata": {}
        },
        {
          "output_type": "display_data",
          "data": {
            "text/plain": [
              "product_id                                                  24402\n",
              "product_name    KitchenAid 5-Speed Blender - Red Finish - KSB5...\n",
              "description     KitchenAid 5-Speed Blender - KSB560ER/ 56-Oz. ...\n",
              "price                                                        None\n",
              "Name: 144, dtype: object"
            ]
          },
          "metadata": {}
        },
        {
          "output_type": "display_data",
          "data": {
            "text/plain": [
              "product_id                                                  24493\n",
              "product_name    Panasonic 2-Line Integrated Phone System - Whi...\n",
              "description     Panasonic 2-Line Integrated Phone System - KXT...\n",
              "price                                                        None\n",
              "Name: 145, dtype: object"
            ]
          },
          "metadata": {}
        },
        {
          "output_type": "display_data",
          "data": {
            "text/plain": [
              "product_id                                                  24571\n",
              "product_name    Panasonic 2 Line 5.8 GHz FHSS GigaRange Expand...\n",
              "description     Panasonic 2 Line 5.8 GHz FHSS GigaRange Expand...\n",
              "price                                                        None\n",
              "Name: 146, dtype: object"
            ]
          },
          "metadata": {}
        },
        {
          "output_type": "display_data",
          "data": {
            "text/plain": [
              "product_id                                                  24572\n",
              "product_name    Panasonic 5.8GHz Add-On Handset For The KXTG67...\n",
              "description     Panasonic 5.8GHz Add-On Handset For The KXTG67...\n",
              "price                                                        None\n",
              "Name: 147, dtype: object"
            ]
          },
          "metadata": {}
        },
        {
          "output_type": "display_data",
          "data": {
            "text/plain": [
              "product_id                                                  24615\n",
              "product_name     Nikon 55-200MM Zoom-Nikkor Lens Accessory - 2156\n",
              "description     Nikon 55-200MM Zoom-Nikkor Lens Accessory - 21...\n",
              "price                                                     $199.00\n",
              "Name: 148, dtype: object"
            ]
          },
          "metadata": {}
        },
        {
          "output_type": "display_data",
          "data": {
            "text/plain": [
              "product_id                                                  24648\n",
              "product_name    Waring Professional Cool-Touch Deep Fryer - Bl...\n",
              "description     Waring Professional Cool-Touch Deep Fryer - DF...\n",
              "price                                                      $70.00\n",
              "Name: 149, dtype: object"
            ]
          },
          "metadata": {}
        },
        {
          "output_type": "display_data",
          "data": {
            "text/plain": [
              "product_id                                                  24693\n",
              "product_name      Denon Fully Automatic Analog Turntable - DP300F\n",
              "description     Denon Fully Automatic Analog Turntable - DP300...\n",
              "price                                                     $329.00\n",
              "Name: 150, dtype: object"
            ]
          },
          "metadata": {}
        },
        {
          "output_type": "display_data",
          "data": {
            "text/plain": [
              "product_id                                                  24789\n",
              "product_name    Terk Mini Tuner Cartridge For XM Ready Home Pr...\n",
              "description     Terk Mini Tuner Cartridge For XM Ready Home Pr...\n",
              "price                                                      $29.00\n",
              "Name: 151, dtype: object"
            ]
          },
          "metadata": {}
        },
        {
          "output_type": "display_data",
          "data": {
            "text/plain": [
              "product_id                                                  24825\n",
              "product_name    Panasonic Plain Paper Fax/Copier With Cordless...\n",
              "description     Panasonic Plain Paper Fax/Copier With Cordless...\n",
              "price                                                     $119.00\n",
              "Name: 152, dtype: object"
            ]
          },
          "metadata": {}
        },
        {
          "output_type": "display_data",
          "data": {
            "text/plain": [
              "product_id                                                  24921\n",
              "product_name    Sony DSCH2 Soft Carrying Camera Case - Black F...\n",
              "description     Sony DSCH2 Soft Carrying Black Camera Case - L...\n",
              "price                                                        None\n",
              "Name: 153, dtype: object"
            ]
          },
          "metadata": {}
        },
        {
          "output_type": "display_data",
          "data": {
            "text/plain": [
              "product_id                                                  24937\n",
              "product_name         Omnimount Moda 2 Shelf Wall Furniture - MWFS\n",
              "description     Omnimount Moda 2 Shelf Wall Furniture - MWFS/ ...\n",
              "price                                                     $299.00\n",
              "Name: 154, dtype: object"
            ]
          },
          "metadata": {}
        },
        {
          "output_type": "display_data",
          "data": {
            "text/plain": [
              "product_id                                                  25036\n",
              "product_name    LEGO Star Wars II: The Original Trilogy Video ...\n",
              "description     LEGO Star Wars II: The Original Trilogy Video ...\n",
              "price                                                        None\n",
              "Name: 155, dtype: object"
            ]
          },
          "metadata": {}
        },
        {
          "output_type": "display_data",
          "data": {
            "text/plain": [
              "product_id                                                  25111\n",
              "product_name    Terk Mini Tuner Home Dock For XM Ready Home Pr...\n",
              "description     Terk Mini Tuner Home Dock For XM Ready Home Pr...\n",
              "price                                                      $30.00\n",
              "Name: 156, dtype: object"
            ]
          },
          "metadata": {}
        },
        {
          "output_type": "display_data",
          "data": {
            "text/plain": [
              "product_id                                                  25113\n",
              "product_name    Denon 5-Disc CD Auto Changer - Black Finish - ...\n",
              "description     Denon 5-Disc CD Auto Changer - DCM290/ CD-R/RW...\n",
              "price                                                     $249.00\n",
              "Name: 157, dtype: object"
            ]
          },
          "metadata": {}
        },
        {
          "output_type": "display_data",
          "data": {
            "text/plain": [
              "product_id                                                  25136\n",
              "product_name       Denon 5 Disc CD Player - Black Finish - DCM390\n",
              "description     Denon 5 Disc CD Player - DCM390/ CD-R/RW Playb...\n",
              "price                                                     $349.00\n",
              "Name: 158, dtype: object"
            ]
          },
          "metadata": {}
        },
        {
          "output_type": "display_data",
          "data": {
            "text/plain": [
              "product_id                                                  25167\n",
              "product_name    Denon Progressive Scan Universal DVD Player - ...\n",
              "description     Denon Progressive Scan Universal DVD Player - ...\n",
              "price                                                     $849.00\n",
              "Name: 159, dtype: object"
            ]
          },
          "metadata": {}
        },
        {
          "output_type": "display_data",
          "data": {
            "text/plain": [
              "product_id                                                  25262\n",
              "product_name    Netgear Prosafe 16 Port 10/100 Rackmount Switc...\n",
              "description     Netgear Prosafe 16 Port 10/100 Rackmount Switc...\n",
              "price                                                     $131.00\n",
              "Name: 160, dtype: object"
            ]
          },
          "metadata": {}
        },
        {
          "output_type": "display_data",
          "data": {
            "text/plain": [
              "product_id                                                  25291\n",
              "product_name             Sirius Sportster 4 With Car Kit - SP4TK1\n",
              "description     Sirius Sportster 4 With Car Kit - SP4TK1/ Repl...\n",
              "price                                                        None\n",
              "Name: 161, dtype: object"
            ]
          },
          "metadata": {}
        },
        {
          "output_type": "display_data",
          "data": {
            "text/plain": [
              "product_id                                                  25318\n",
              "product_name     Terk XM Outdoor Home Antenna - Grey Finish - XM6\n",
              "description     Terk XM Outdoor Home Antenna - XM6/ Universal ...\n",
              "price                                                      $80.00\n",
              "Name: 162, dtype: object"
            ]
          },
          "metadata": {}
        },
        {
          "output_type": "display_data",
          "data": {
            "text/plain": [
              "product_id                                                  25364\n",
              "product_name    Olympus Digital Camera Neoprene Soft Case - Bl...\n",
              "description     Olympus Digital Camera Neoprene Soft Case - 20...\n",
              "price                                                        None\n",
              "Name: 163, dtype: object"
            ]
          },
          "metadata": {}
        },
        {
          "output_type": "display_data",
          "data": {
            "text/plain": [
              "product_id                                                  25388\n",
              "product_name    Sanus 9' - 17' VisionMount Series Under Cabine...\n",
              "description     Sanus 9' - 17' VisionMount Series Under Cabine...\n",
              "price                                                      $99.99\n",
              "Name: 164, dtype: object"
            ]
          },
          "metadata": {}
        },
        {
          "output_type": "display_data",
          "data": {
            "text/plain": [
              "product_id                                                  25413\n",
              "product_name             Sony MiniDV Cleaning Cassette - DVM12CLD\n",
              "description     Sony MiniDV Cleaning Cassette - DVM12CLD/ Play...\n",
              "price                                                        None\n",
              "Name: 165, dtype: object"
            ]
          },
          "metadata": {}
        },
        {
          "output_type": "display_data",
          "data": {
            "text/plain": [
              "product_id                                                  25532\n",
              "product_name    GE Futura Indoor TV Antenna - Silver Finish - ...\n",
              "description     GE Futura Indoor TV Antenna - TV24746/ Special...\n",
              "price                                                        None\n",
              "Name: 166, dtype: object"
            ]
          },
          "metadata": {}
        },
        {
          "output_type": "display_data",
          "data": {
            "text/plain": [
              "product_id                                                  25550\n",
              "product_name    Sanus 15' To 40' Flat Panel Black TV Wall Moun...\n",
              "description     Sanus 15' To 40' Flat Panel Black TV Wall Moun...\n",
              "price                                                        None\n",
              "Name: 167, dtype: object"
            ]
          },
          "metadata": {}
        },
        {
          "output_type": "display_data",
          "data": {
            "text/plain": [
              "product_id                                                  25670\n",
              "product_name     Olympus Lithium Ion Rechargeable Battery - LI42B\n",
              "description     Olympus LI-42B Lithium Ion Rechargeable Batter...\n",
              "price                                                        None\n",
              "Name: 168, dtype: object"
            ]
          },
          "metadata": {}
        },
        {
          "output_type": "display_data",
          "data": {
            "text/plain": [
              "product_id                                                  25732\n",
              "product_name    Olympus Premium Slim Leather Case In Black - 2...\n",
              "description     Olympus 202087-410 Premium Slim Leather Case I...\n",
              "price                                                        None\n",
              "Name: 169, dtype: object"
            ]
          },
          "metadata": {}
        },
        {
          "output_type": "display_data",
          "data": {
            "text/plain": [
              "product_id                                                  25749\n",
              "product_name    Sanus 15' - 40' VisionMount Flat Panel TV Blac...\n",
              "description     Sanus 15' - 40' VisionMount Flat Panel TV Blac...\n",
              "price                                                      $99.99\n",
              "Name: 170, dtype: object"
            ]
          },
          "metadata": {}
        },
        {
          "output_type": "display_data",
          "data": {
            "text/plain": [
              "product_id                                                  25776\n",
              "product_name     Sony Lightweight Tripod - Black Finish - VCTR640\n",
              "description     Sony Lightweight Tripod - VCTR640/ Adjustable ...\n",
              "price                                                        None\n",
              "Name: 171, dtype: object"
            ]
          },
          "metadata": {}
        },
        {
          "output_type": "display_data",
          "data": {
            "text/plain": [
              "product_id                                                  25788\n",
              "product_name    Nikon 70-300mm f/4.5-5.6G ED-IF AF-S VR Zoom-N...\n",
              "description     Nikon 70-300mm f/4.5-5.6G ED-IF AF-S VR Zoom-N...\n",
              "price                                                        None\n",
              "Name: 172, dtype: object"
            ]
          },
          "metadata": {}
        },
        {
          "output_type": "display_data",
          "data": {
            "text/plain": [
              "product_id                                                  25797\n",
              "product_name    Garmin GPS Carrying Case - Black Finish - 0101...\n",
              "description     Garmin GPS Carrying Case - 0101070400/ Protect...\n",
              "price                                                      $30.00\n",
              "Name: 173, dtype: object"
            ]
          },
          "metadata": {}
        },
        {
          "output_type": "display_data",
          "data": {
            "text/plain": [
              "product_id                                                  25813\n",
              "product_name    Tech Craft Avalon Series TV Stand - Black Fini...\n",
              "description     Tech Craft Avalon Series TV Stand - ABS32/ 32'...\n",
              "price                                                     $249.00\n",
              "Name: 174, dtype: object"
            ]
          },
          "metadata": {}
        },
        {
          "output_type": "display_data",
          "data": {
            "text/plain": [
              "product_id                                                  25814\n",
              "product_name            Tech Craft Avalon Series TV Stand - SWP48\n",
              "description     Tech Craft Avalon Series TV Stand - SWP48/ 48'...\n",
              "price                                                     $299.00\n",
              "Name: 175, dtype: object"
            ]
          },
          "metadata": {}
        },
        {
          "output_type": "display_data",
          "data": {
            "text/plain": [
              "product_id                                                  25829\n",
              "product_name    Sanus 15' - 40' VisionMount Flat Panel TV Blac...\n",
              "description     Sanus 15' - 40' VisionMount Flat Panel TV Blac...\n",
              "price                                                     $179.99\n",
              "Name: 176, dtype: object"
            ]
          },
          "metadata": {}
        },
        {
          "output_type": "display_data",
          "data": {
            "text/plain": [
              "product_id                                                  25855\n",
              "product_name    Garmin Nuvi 360 010-10815-00 Black Replacement...\n",
              "description     Garmin Nuvi 360 010-10815-00 Black Replacement...\n",
              "price                                                      $39.00\n",
              "Name: 177, dtype: object"
            ]
          },
          "metadata": {}
        },
        {
          "output_type": "display_data",
          "data": {
            "text/plain": [
              "product_id                                                  25857\n",
              "product_name    Garmin Nuvi 360 010-10723-06 Black 12 Volt Ada...\n",
              "description     Garmin Nuvi 360 010-10723-06 Black 12 Volt Ada...\n",
              "price                                                      $47.00\n",
              "Name: 178, dtype: object"
            ]
          },
          "metadata": {}
        },
        {
          "output_type": "display_data",
          "data": {
            "text/plain": [
              "product_id                                                  25858\n",
              "product_name    Garmin Nuvi 660 010-10747-03 Black 12 Volt Ada...\n",
              "description     Garmin Nuvi 660 010-10747-03 Black 12 Volt Ada...\n",
              "price                                                      $39.00\n",
              "Name: 179, dtype: object"
            ]
          },
          "metadata": {}
        },
        {
          "output_type": "display_data",
          "data": {
            "text/plain": [
              "product_id                                                  25902\n",
              "product_name      Lowepro Digital Camera Case In Black - REZO15BK\n",
              "description     Lowepro Rezo 15 Digital Camera Case In Black -...\n",
              "price                                                        None\n",
              "Name: 180, dtype: object"
            ]
          },
          "metadata": {}
        },
        {
          "output_type": "display_data",
          "data": {
            "text/plain": [
              "product_id                                                  25905\n",
              "product_name     Lowepro Digital Camera Case In Black - EDIT100BK\n",
              "description     Lowepro Edit 100 Digital Camera Case In Black ...\n",
              "price                                                        None\n",
              "Name: 181, dtype: object"
            ]
          },
          "metadata": {}
        },
        {
          "output_type": "display_data",
          "data": {
            "text/plain": [
              "product_id                                                  25950\n",
              "product_name    Garmin 010-10702-00 Black GA 25MCX Remote GPS ...\n",
              "description     Garmin 010-10702-00 Black GA 25MCX Remote GPS ...\n",
              "price                                                      $30.00\n",
              "Name: 182, dtype: object"
            ]
          },
          "metadata": {}
        },
        {
          "output_type": "display_data",
          "data": {
            "text/plain": [
              "product_id                                                  25990\n",
              "product_name    Frigidaire 24' PLD4375RFC Built-In Stainless S...\n",
              "description     Frigidaire 24' PLD4375RFC Built-In Stainless S...\n",
              "price                                                        None\n",
              "Name: 183, dtype: object"
            ]
          },
          "metadata": {}
        },
        {
          "output_type": "display_data",
          "data": {
            "text/plain": [
              "product_id                                                  26059\n",
              "product_name    Garmin 010-10823-00 Black Nuvi 660 Vehicle Suc...\n",
              "description     Garmin 010-10823-00 Black Nuvi 660 Vehicle Suc...\n",
              "price                                                      $46.00\n",
              "Name: 184, dtype: object"
            ]
          },
          "metadata": {}
        },
        {
          "output_type": "display_data",
          "data": {
            "text/plain": [
              "product_id                                                  26082\n",
              "product_name    Whirlpool WED6400SB Cabrio Super Capacity Plus...\n",
              "description     Whirlpool WED6400SB Cabrio Super Capacity Plus...\n",
              "price                                                        None\n",
              "Name: 185, dtype: object"
            ]
          },
          "metadata": {}
        },
        {
          "output_type": "display_data",
          "data": {
            "text/plain": [
              "product_id                                                  26117\n",
              "product_name     Universal MRF-350 RF Black Base Station - MRF350\n",
              "description     Universal MRF-350 RF Black Base Station - MRF3...\n",
              "price                                                     $250.00\n",
              "Name: 186, dtype: object"
            ]
          },
          "metadata": {}
        },
        {
          "output_type": "display_data",
          "data": {
            "text/plain": [
              "product_id                                                  26137\n",
              "product_name    Panasonic SR-NA18 White Deluxe Fuzzy Logic Ric...\n",
              "description     Panasonic SR-NA18 White Deluxe Fuzzy Logic Ric...\n",
              "price                                                        None\n",
              "Name: 187, dtype: object"
            ]
          },
          "metadata": {}
        },
        {
          "output_type": "display_data",
          "data": {
            "text/plain": [
              "product_id                                                  26241\n",
              "product_name    Whirlpool Cabrio WTW6400SW Top Loading White W...\n",
              "description     Whirlpool Cabrio WTW6400SW Top Loading White W...\n",
              "price                                                        None\n",
              "Name: 188, dtype: object"
            ]
          },
          "metadata": {}
        },
        {
          "output_type": "display_data",
          "data": {
            "text/plain": [
              "product_id                                                  26310\n",
              "product_name                Bose In-Ear Black Headphones - BOSEIE\n",
              "description     Bose In-Ear Black Headphones - BOSEIE/ Comfort...\n",
              "price                                                      $99.95\n",
              "Name: 189, dtype: object"
            ]
          },
          "metadata": {}
        },
        {
          "output_type": "display_data",
          "data": {
            "text/plain": [
              "product_id                                                  26346\n",
              "product_name    Panasonic KX-TG4500B Black 5.8 GHz Cordless Ph...\n",
              "description     Panasonic KX-TG4500B Black 5.8 GHz Cordless Ph...\n",
              "price                                                        None\n",
              "Name: 190, dtype: object"
            ]
          },
          "metadata": {}
        },
        {
          "output_type": "display_data",
          "data": {
            "text/plain": [
              "product_id                                                  26350\n",
              "product_name    Panasonic KX-TGA450B Black 5.8 GHz Cordless Ha...\n",
              "description     Panasonic KX-TGA450B Black 5.8 GHz Cordless Ha...\n",
              "price                                                        None\n",
              "Name: 191, dtype: object"
            ]
          },
          "metadata": {}
        },
        {
          "output_type": "display_data",
          "data": {
            "text/plain": [
              "product_id                                                  26444\n",
              "product_name    Nyko PlayStation 3 Dual Charger AC - 743840830153\n",
              "description     Nyko PlayStation 3 Dual Charger AC - 743840830...\n",
              "price                                                      $24.99\n",
              "Name: 192, dtype: object"
            ]
          },
          "metadata": {}
        },
        {
          "output_type": "display_data",
          "data": {
            "text/plain": [
              "product_id                                                  26445\n",
              "product_name    Nyko PlayStation 3 ChargeLink USB Charging Cab...\n",
              "description     Nyko PlayStation 3 ChargeLink USB Charging Cab...\n",
              "price                                                      $14.99\n",
              "Name: 193, dtype: object"
            ]
          },
          "metadata": {}
        },
        {
          "output_type": "display_data",
          "data": {
            "text/plain": [
              "product_id                                                  26461\n",
              "product_name    Linksys Wireless-G VPN Broadband Silver Router...\n",
              "description     Linksys Wireless-G VPN Broadband Silver Router...\n",
              "price                                                     $149.00\n",
              "Name: 194, dtype: object"
            ]
          },
          "metadata": {}
        },
        {
          "output_type": "display_data",
          "data": {
            "text/plain": [
              "product_id                                                  26525\n",
              "product_name    Bose SL2 Wireless Black Surround Link - SL2WIR...\n",
              "description     Bose SL2 Wireless Black Surround Link - SL2WIR...\n",
              "price                                                     $249.00\n",
              "Name: 195, dtype: object"
            ]
          },
          "metadata": {}
        },
        {
          "output_type": "display_data",
          "data": {
            "text/plain": [
              "product_id                                                  26563\n",
              "product_name    Sony Digital Photo Printer Paper 120 Pack - SV...\n",
              "description     Sony Digital Photo Printer Paper 120 Pack - SV...\n",
              "price                                                      $35.00\n",
              "Name: 196, dtype: object"
            ]
          },
          "metadata": {}
        },
        {
          "output_type": "display_data",
          "data": {
            "text/plain": [
              "product_id                                                  26615\n",
              "product_name    Logitech Harmony 1000 Silver Touch Screen Remo...\n",
              "description     Logitech Harmony 1000 Silver Touch Screen Remo...\n",
              "price                                                        None\n",
              "Name: 197, dtype: object"
            ]
          },
          "metadata": {}
        },
        {
          "output_type": "display_data",
          "data": {
            "text/plain": [
              "product_id                                                  26617\n",
              "product_name      Canon PGI-5BK Black Ink Tank Cartridge - PGI5BK\n",
              "description     Canon PGI-5BK Black Ink Tank Cartridge - PGI5B...\n",
              "price                                                      $16.00\n",
              "Name: 198, dtype: object"
            ]
          },
          "metadata": {}
        },
        {
          "output_type": "display_data",
          "data": {
            "text/plain": [
              "product_id                                                  26622\n",
              "product_name    Canon Charger And Rechargable AA Battery Kit -...\n",
              "description     Canon Charger And Rechargable AA Battery Kit -...\n",
              "price                                                        None\n",
              "Name: 199, dtype: object"
            ]
          },
          "metadata": {}
        },
        {
          "output_type": "display_data",
          "data": {
            "text/plain": [
              "product_id                                                  26695\n",
              "product_name    Lowepro SlingShot 200 AW Digital Camera Back P...\n",
              "description     Lowepro SlingShot 200 AW Digital Camera Back P...\n",
              "price                                                      $89.95\n",
              "Name: 200, dtype: object"
            ]
          },
          "metadata": {}
        },
        {
          "output_type": "display_data",
          "data": {
            "text/plain": [
              "product_id                                                  26805\n",
              "product_name    Tech Craft ABS48 Antique Black Avalon Series 4...\n",
              "description     Tech Craft ABS48 Antique Black Avalon Series 4...\n",
              "price                                                     $299.00\n",
              "Name: 201, dtype: object"
            ]
          },
          "metadata": {}
        },
        {
          "output_type": "display_data",
          "data": {
            "text/plain": [
              "product_id                                                  26861\n",
              "product_name    Sirius ST4-TK1 Starmate 4 Radio With Car Kit -...\n",
              "description     Sirius ST4-TK1 Starmate 4 Radio With Car Kit -...\n",
              "price                                                        None\n",
              "Name: 202, dtype: object"
            ]
          },
          "metadata": {}
        },
        {
          "output_type": "display_data",
          "data": {
            "text/plain": [
              "product_id                                                  26891\n",
              "product_name    Garmin 010-10723-03 Nuvi Suction Cup Mount - 0...\n",
              "description     Garmin 010-10723-03 Nuvi Suction Cup Mount - 0...\n",
              "price                                                      $39.00\n",
              "Name: 203, dtype: object"
            ]
          },
          "metadata": {}
        },
        {
          "output_type": "display_data",
          "data": {
            "text/plain": [
              "product_id                                                  26929\n",
              "product_name    Monster PS3 CV/FO-10 Playstation 3 GameLink Co...\n",
              "description     Monster PS3 CV/FO-10 Playstation 3 GameLink Co...\n",
              "price                                                        None\n",
              "Name: 204, dtype: object"
            ]
          },
          "metadata": {}
        },
        {
          "output_type": "display_data",
          "data": {
            "text/plain": [
              "product_id                                                  26930\n",
              "product_name    Monster PS3 HDMI-2M Playstation 3 GameLink HDM...\n",
              "description     Monster PS3 HDMI-2M Playstation 3 GameLink HDM...\n",
              "price                                                        None\n",
              "Name: 205, dtype: object"
            ]
          },
          "metadata": {}
        },
        {
          "output_type": "display_data",
          "data": {
            "text/plain": [
              "product_id                                                  27091\n",
              "product_name    LG TROMM WM2688HNM 4.2 Cu. Ft. Navy Blue Front...\n",
              "description     LG TROMM WM2688HNM 4.2 Cu. Ft. Navy Blue Front...\n",
              "price                                                        None\n",
              "Name: 206, dtype: object"
            ]
          },
          "metadata": {}
        },
        {
          "output_type": "display_data",
          "data": {
            "text/plain": [
              "product_id                                                  27103\n",
              "product_name    LG WDP3N 14' Tall Navy Blue Pedestal With Draw...\n",
              "description     LG WDP3N 14' Tall Navy Blue Pedestal With Draw...\n",
              "price                                                        None\n",
              "Name: 207, dtype: object"
            ]
          },
          "metadata": {}
        },
        {
          "output_type": "display_data",
          "data": {
            "text/plain": [
              "product_id                                                  27137\n",
              "product_name    Nikon EN-EL9 Black Rechargeable Li-ion Battery...\n",
              "description     Nikon EN-EL9 Black Rechargeable Li-ion Battery...\n",
              "price                                                        None\n",
              "Name: 208, dtype: object"
            ]
          },
          "metadata": {}
        },
        {
          "output_type": "display_data",
          "data": {
            "text/plain": [
              "product_id                                                  27182\n",
              "product_name        Logitech Harmony RF Wireless Extender - RFEXT\n",
              "description     Logitech Harmony RF Wireless Extender - RFEXT/...\n",
              "price                                                        None\n",
              "Name: 209, dtype: object"
            ]
          },
          "metadata": {}
        },
        {
          "output_type": "display_data",
          "data": {
            "text/plain": [
              "product_id                                                  27186\n",
              "product_name    Weber Stainless Steel Summit S-650 Liquid Prop...\n",
              "description     Weber Stainless Steel Summit S-650 Liquid Prop...\n",
              "price                                                   $1,999.00\n",
              "Name: 210, dtype: object"
            ]
          },
          "metadata": {}
        },
        {
          "output_type": "display_data",
          "data": {
            "text/plain": [
              "product_id                                                  27188\n",
              "product_name    Weber Stainless Steel Genesis S-310 Liquid Pro...\n",
              "description     Weber Stainless Steel Genesis S-310 Liquid Pro...\n",
              "price                                                     $899.00\n",
              "Name: 211, dtype: object"
            ]
          },
          "metadata": {}
        },
        {
          "output_type": "display_data",
          "data": {
            "text/plain": [
              "product_id                                                  27194\n",
              "product_name    Weber Stainless Steel Genesis S320 LP Grill - ...\n",
              "description     Weber 3780001 Stainless Steel Genesis S-320 Li...\n",
              "price                                                     $949.00\n",
              "Name: 212, dtype: object"
            ]
          },
          "metadata": {}
        },
        {
          "output_type": "display_data",
          "data": {
            "text/plain": [
              "product_id                                                  27197\n",
              "product_name    Weber Stainless Steel Genesis S320 Natural Gas...\n",
              "description     Weber Stainless Steel Genesis S-320 Natural Ga...\n",
              "price                                                     $969.00\n",
              "Name: 213, dtype: object"
            ]
          },
          "metadata": {}
        },
        {
          "output_type": "display_data",
          "data": {
            "text/plain": [
              "product_id                                                  27248\n",
              "product_name    Belkin F3H982-10 Pro Series High Integrity 10 ...\n",
              "description     Belkin F3H982-10 Pro Series High Integrity 10 ...\n",
              "price                                                        None\n",
              "Name: 214, dtype: object"
            ]
          },
          "metadata": {}
        },
        {
          "output_type": "display_data",
          "data": {
            "text/plain": [
              "product_id                                                  27364\n",
              "product_name    Kenwood KCA-IP200 Black iPod Direct Cable - KC...\n",
              "description     Kenwood KCA-IP200 Black iPod Direct Cable - KC...\n",
              "price                                                        None\n",
              "Name: 215, dtype: object"
            ]
          },
          "metadata": {}
        },
        {
          "output_type": "display_data",
          "data": {
            "text/plain": [
              "product_id                                                  27391\n",
              "product_name    Kenwood KCA-IP300V iPod Video Direct Cable - K...\n",
              "description     Kenwood KCA-IP300V iPod Video Direct Cable - K...\n",
              "price                                                      $49.99\n",
              "Name: 216, dtype: object"
            ]
          },
          "metadata": {}
        },
        {
          "output_type": "display_data",
          "data": {
            "text/plain": [
              "product_id                                                  27407\n",
              "product_name    Sony SCPH-98046 PlayStation 3 Blu-Ray DVD Remo...\n",
              "description     Sony SCPH-98046 PlayStation 3 Blu-Ray DVD Remo...\n",
              "price                                                      $24.99\n",
              "Name: 217, dtype: object"
            ]
          },
          "metadata": {}
        },
        {
          "output_type": "display_data",
          "data": {
            "text/plain": [
              "product_id                                                  27479\n",
              "product_name    Tripp-Lite PV375 PowerVerter 375-Watt Ultra-Co...\n",
              "description     Tripp-Lite PV375 PowerVerter 375-Watt Ultra-Co...\n",
              "price                                                      $49.00\n",
              "Name: 218, dtype: object"
            ]
          },
          "metadata": {}
        },
        {
          "output_type": "display_data",
          "data": {
            "text/plain": [
              "product_id                                                  27501\n",
              "product_name     Sirius FMDA25 Wired FM Modulation Relay - FMDA25\n",
              "description     Sirius FMDA25 Wired FM Modulation Relay - FMDA...\n",
              "price                                                      $20.00\n",
              "Name: 219, dtype: object"
            ]
          },
          "metadata": {}
        },
        {
          "output_type": "display_data",
          "data": {
            "text/plain": [
              "product_id                                                  27589\n",
              "product_name    Frigidaire Professional 24' PLD4555RFC Built-I...\n",
              "description     Frigidaire Professional 24' PLD4555RFC Built-I...\n",
              "price                                                        None\n",
              "Name: 220, dtype: object"
            ]
          },
          "metadata": {}
        },
        {
          "output_type": "display_data",
          "data": {
            "text/plain": [
              "product_id                                                  27719\n",
              "product_name    LG DLG0452W White XL Capacity Gas Dryer - DLG0...\n",
              "description     LG DLG0452W White XL Capacity Gas Dryer - DLG0...\n",
              "price                                                        None\n",
              "Name: 221, dtype: object"
            ]
          },
          "metadata": {}
        },
        {
          "output_type": "display_data",
          "data": {
            "text/plain": [
              "product_id                                                  27729\n",
              "product_name    LG WM0642HW 4.0 Cu Ft White Rear Control Washe...\n",
              "description     LG WM0642HW White Rear Control Washer - WM0642...\n",
              "price                                                        None\n",
              "Name: 222, dtype: object"
            ]
          },
          "metadata": {}
        },
        {
          "output_type": "display_data",
          "data": {
            "text/plain": [
              "product_id                                                  27739\n",
              "product_name    Electrolux Oxygen 3 Canister HEPA H12 Filter -...\n",
              "description     Electrolux Oxygen 3 Canister HEPA H12 Filter -...\n",
              "price                                                      $19.99\n",
              "Name: 223, dtype: object"
            ]
          },
          "metadata": {}
        },
        {
          "output_type": "display_data",
          "data": {
            "text/plain": [
              "product_id                                                  27771\n",
              "product_name                Fellowes Confetti Cut Shredder - W11C\n",
              "description     Fellowes Confetti Cut Shredder - W11C/ Shreds ...\n",
              "price                                                      $79.00\n",
              "Name: 224, dtype: object"
            ]
          },
          "metadata": {}
        },
        {
          "output_type": "display_data",
          "data": {
            "text/plain": [
              "product_id                                                  27778\n",
              "product_name       Sony LCS-CSJ Black Soft Carrying Case - LCSCSJ\n",
              "description     Sony LCS-CSJ Black Soft Carrying Case - LCSCSJ...\n",
              "price                                                        None\n",
              "Name: 225, dtype: object"
            ]
          },
          "metadata": {}
        },
        {
          "output_type": "display_data",
          "data": {
            "text/plain": [
              "product_id                                                  27779\n",
              "product_name    Sony LCS-CSQ/B Black Soft Carrying Case - LCSCSQB\n",
              "description     Sony LCS-CSQ/B Black Soft Carrying Case - LCSC...\n",
              "price                                                        None\n",
              "Name: 226, dtype: object"
            ]
          },
          "metadata": {}
        },
        {
          "output_type": "display_data",
          "data": {
            "text/plain": [
              "product_id                                                  27783\n",
              "product_name    Sony VAIO VGP-PRSZ1 SZ Series Docking Station ...\n",
              "description     Sony VAIO VGP-PRSZ1 SZ Series Docking Station ...\n",
              "price                                                     $199.00\n",
              "Name: 227, dtype: object"
            ]
          },
          "metadata": {}
        },
        {
          "output_type": "display_data",
          "data": {
            "text/plain": [
              "product_id                                                  27789\n",
              "product_name    Weber Genesis E-310 Liquid Propane Black Outdo...\n",
              "description     Weber Genesis E-310 Liquid Propane Black Outdo...\n",
              "price                                                     $699.00\n",
              "Name: 228, dtype: object"
            ]
          },
          "metadata": {}
        },
        {
          "output_type": "display_data",
          "data": {
            "text/plain": [
              "product_id                                                  27793\n",
              "product_name    Weber Genesis S-310 Natural Gas Stainless Stee...\n",
              "description     Weber Genesis S-310 Natural Gas Stainless Stee...\n",
              "price                                                     $919.00\n",
              "Name: 229, dtype: object"
            ]
          },
          "metadata": {}
        },
        {
          "output_type": "display_data",
          "data": {
            "text/plain": [
              "product_id                                                  27810\n",
              "product_name    Sony Progressive Scan Black DVD Player - DVPNS...\n",
              "description     Sony Progressive Scan Black DVD Player - DVPNS...\n",
              "price                                                        None\n",
              "Name: 230, dtype: object"
            ]
          },
          "metadata": {}
        },
        {
          "output_type": "display_data",
          "data": {
            "text/plain": [
              "product_id                                                  27840\n",
              "product_name    LG 14' Washer And Dryer Red Pedestal With Draw...\n",
              "description     LG 14' Washer And Dryer Red Pedestal With Draw...\n",
              "price                                                        None\n",
              "Name: 231, dtype: object"
            ]
          },
          "metadata": {}
        },
        {
          "output_type": "display_data",
          "data": {
            "text/plain": [
              "product_id                                                  27853\n",
              "product_name                   LG Laundry Remote Monitor - RLM20K\n",
              "description     LG Laundry Remote Monitor - RLM20K/ Makes It E...\n",
              "price                                                        None\n",
              "Name: 232, dtype: object"
            ]
          },
          "metadata": {}
        },
        {
          "output_type": "display_data",
          "data": {
            "text/plain": [
              "product_id                                                  27857\n",
              "product_name         Transcend 2GB Micro SD Memory Card - TS2GUSD\n",
              "description     Transcend 2GB Micro SD Secure Digital Memory C...\n",
              "price                                                        None\n",
              "Name: 233, dtype: object"
            ]
          },
          "metadata": {}
        },
        {
          "output_type": "display_data",
          "data": {
            "text/plain": [
              "product_id                                                  27920\n",
              "product_name    DeLonghi Magnifica Super-Automatic Espresso/Co...\n",
              "description     DeLonghi Magnifica Super-Automatic Espresso/Co...\n",
              "price                                                     $799.95\n",
              "Name: 234, dtype: object"
            ]
          },
          "metadata": {}
        },
        {
          "output_type": "display_data",
          "data": {
            "text/plain": [
              "product_id                                                  27964\n",
              "product_name    LG LRBP1031 White Bottom-Freezer Refrigerator ...\n",
              "description     LG LRBP1031W 10 Cu. Ft. White Bottom-Freezer R...\n",
              "price                                                        None\n",
              "Name: 235, dtype: object"
            ]
          },
          "metadata": {}
        },
        {
          "output_type": "display_data",
          "data": {
            "text/plain": [
              "product_id                                                  27965\n",
              "product_name    LG Titanium Bottom-Freezer Refrigerator - LRBP...\n",
              "description     LG 10 Cu. Ft.Titanium Bottom-Freezer Refrigera...\n",
              "price                                                        None\n",
              "Name: 236, dtype: object"
            ]
          },
          "metadata": {}
        },
        {
          "output_type": "display_data",
          "data": {
            "text/plain": [
              "product_id                                                  27975\n",
              "product_name    Belkin F3H982-25 Black 25 Ft Pro Series High I...\n",
              "description     Belkin F3H982-25 Black 25 Ft Pro Series High I...\n",
              "price                                                        None\n",
              "Name: 237, dtype: object"
            ]
          },
          "metadata": {}
        },
        {
          "output_type": "display_data",
          "data": {
            "text/plain": [
              "product_id                                                  27985\n",
              "product_name    Yamaha Silver USB Powered Stereo Speaker - NXU...\n",
              "description     Yamaha NX-U10 Silver USB Powered Stereo Speake...\n",
              "price                                                     $180.00\n",
              "Name: 238, dtype: object"
            ]
          },
          "metadata": {}
        },
        {
          "output_type": "display_data",
          "data": {
            "text/plain": [
              "product_id                                                  28020\n",
              "product_name        Canon FAX-JX200 Inkjet Fax Machine - FAXJX200\n",
              "description     Canon FAX-JX200 Inkjet Fax Machine - FAXJX200/...\n",
              "price                                                      $78.00\n",
              "Name: 239, dtype: object"
            ]
          },
          "metadata": {}
        },
        {
          "output_type": "display_data",
          "data": {
            "text/plain": [
              "product_id                                                  28033\n",
              "product_name    Sony MDR-NC22/BLK Black Noise Canceling Headph...\n",
              "description     Sony MDR-NC22/BLK Black Noise Canceling Headph...\n",
              "price                                                        None\n",
              "Name: 240, dtype: object"
            ]
          },
          "metadata": {}
        },
        {
          "output_type": "display_data",
          "data": {
            "text/plain": [
              "product_id                                                  28059\n",
              "product_name    Sony LCS-TWA/R Red Soft Leather Carrying Case ...\n",
              "description     Sony LCS-TWA/R Red Soft Leather Carrying Case ...\n",
              "price                                                        None\n",
              "Name: 241, dtype: object"
            ]
          },
          "metadata": {}
        },
        {
          "output_type": "display_data",
          "data": {
            "text/plain": [
              "product_id                                                  28067\n",
              "product_name    Pioneer CD-I200 iBus Interface Cable For iPod ...\n",
              "description     Pioneer CD-I200 iBus Interface Cable For iPod ...\n",
              "price                                                        None\n",
              "Name: 242, dtype: object"
            ]
          },
          "metadata": {}
        },
        {
          "output_type": "display_data",
          "data": {
            "text/plain": [
              "product_id                                                  28137\n",
              "product_name    Sony InfoLithium H Series Standard Rechargeabl...\n",
              "description     Sony InfoLithium H Series Standard Rechargeabl...\n",
              "price                                                        None\n",
              "Name: 243, dtype: object"
            ]
          },
          "metadata": {}
        },
        {
          "output_type": "display_data",
          "data": {
            "text/plain": [
              "product_id                                                  28138\n",
              "product_name    Sony NP-FH100 InfoLithium H Series Standard Re...\n",
              "description     Sony NP-FH100 InfoLithium H Series Standard Re...\n",
              "price                                                        None\n",
              "Name: 244, dtype: object"
            ]
          },
          "metadata": {}
        },
        {
          "output_type": "display_data",
          "data": {
            "text/plain": [
              "product_id                                                  28148\n",
              "product_name    LG WM3431W All-In-One White Washer And Dryer C...\n",
              "description     LG WM3431W All-In-One Front Load White Washer ...\n",
              "price                                                        None\n",
              "Name: 245, dtype: object"
            ]
          },
          "metadata": {}
        },
        {
          "output_type": "display_data",
          "data": {
            "text/plain": [
              "product_id                                                  28149\n",
              "product_name    LG WM3431HS All-In-One Front Load Titanium Was...\n",
              "description     LG WM3431HS All-In-One Front Load Titanium Was...\n",
              "price                                                        None\n",
              "Name: 246, dtype: object"
            ]
          },
          "metadata": {}
        },
        {
          "output_type": "display_data",
          "data": {
            "text/plain": [
              "product_id                                                  28175\n",
              "product_name    Weber Genesis E-310 Natural Gas Black Outdoor ...\n",
              "description     Weber Genesis E-310 Natural Gas Black Outdoor ...\n",
              "price                                                     $719.00\n",
              "Name: 247, dtype: object"
            ]
          },
          "metadata": {}
        },
        {
          "output_type": "display_data",
          "data": {
            "text/plain": [
              "product_id                                                  28180\n",
              "product_name    Microsoft Office Home And Student 2007 For Win...\n",
              "description     Microsoft Office Home And Student 2007 For Win...\n",
              "price                                                        None\n",
              "Name: 248, dtype: object"
            ]
          },
          "metadata": {}
        },
        {
          "output_type": "display_data",
          "data": {
            "text/plain": [
              "product_id                                                  28190\n",
              "product_name    Weber 3758301 Blue Genesis EP-320 LP Gas Grill...\n",
              "description     Weber 3758301 Blue Genesis EP-320 LP Gas Grill...\n",
              "price                                                     $749.00\n",
              "Name: 249, dtype: object"
            ]
          },
          "metadata": {}
        },
        {
          "output_type": "display_data",
          "data": {
            "text/plain": [
              "product_id                                                  28205\n",
              "product_name    Panasonic KX-TG6702B 5.8 GHz FHSS GigaRange Ex...\n",
              "description     Panasonic KX-TG6702B 5.8 GHz FHSS GigaRange Ex...\n",
              "price                                                     $197.00\n",
              "Name: 250, dtype: object"
            ]
          },
          "metadata": {}
        },
        {
          "output_type": "display_data",
          "data": {
            "text/plain": [
              "product_id                                                  28225\n",
              "product_name    Sony LCS-TWA/B Black Soft Leather Carrying Cas...\n",
              "description     Sony LCS-TWA/B Black Soft Leather Carrying Cas...\n",
              "price                                                        None\n",
              "Name: 251, dtype: object"
            ]
          },
          "metadata": {}
        },
        {
          "output_type": "display_data",
          "data": {
            "text/plain": [
              "product_id                                                  28256\n",
              "product_name    Sony SLV-D380P Black DVD VHS Combo Player - SL...\n",
              "description     Sony SLV-D380P Black DVD VHS Combo Player - SL...\n",
              "price                                                        None\n",
              "Name: 252, dtype: object"
            ]
          },
          "metadata": {}
        },
        {
          "output_type": "display_data",
          "data": {
            "text/plain": [
              "product_id                                                  28272\n",
              "product_name    Sony Black Cyber-Shot W Series Digital Camera ...\n",
              "description     Sony LCS-CSL Black Cyber-Shot W And S Series D...\n",
              "price                                                        None\n",
              "Name: 253, dtype: object"
            ]
          },
          "metadata": {}
        },
        {
          "output_type": "display_data",
          "data": {
            "text/plain": [
              "product_id                                                  28304\n",
              "product_name               Fellowes MicroShred Shredder - MS450CS\n",
              "description     Fellowes MS-450CS MicroShred Shredder - MS450C...\n",
              "price                                                     $189.00\n",
              "Name: 254, dtype: object"
            ]
          },
          "metadata": {}
        },
        {
          "output_type": "display_data",
          "data": {
            "text/plain": [
              "product_id                                                  28340\n",
              "product_name       Whirlpool White Front Load Washer - WFW9200SWH\n",
              "description     Whirlpool Duet WFW9200SQ White Front Load Wash...\n",
              "price                                                        None\n",
              "Name: 255, dtype: object"
            ]
          },
          "metadata": {}
        },
        {
          "output_type": "display_data",
          "data": {
            "text/plain": [
              "product_id                                                  28350\n",
              "product_name    Panasonic Silver Dect 6.0 Cordless Telephone -...\n",
              "description     Panasonic KX-TG1033S Silver Dect 6.0 Cordless ...\n",
              "price                                                        None\n",
              "Name: 256, dtype: object"
            ]
          },
          "metadata": {}
        },
        {
          "output_type": "display_data",
          "data": {
            "text/plain": [
              "product_id                                                  28366\n",
              "product_name    Sony Progressive Scan Silver DVD Player - DVPN...\n",
              "description     Sony DVP-NS57P Progressive Scan Silver DVD Pla...\n",
              "price                                                        None\n",
              "Name: 257, dtype: object"
            ]
          },
          "metadata": {}
        },
        {
          "output_type": "display_data",
          "data": {
            "text/plain": [
              "product_id                                                  28397\n",
              "product_name      GE Pre-Amplifier For Stereo Turntable - AV23292\n",
              "description     GE Pre-Amplifier For Stereo Turntable - AV2329...\n",
              "price                                                        None\n",
              "Name: 258, dtype: object"
            ]
          },
          "metadata": {}
        },
        {
          "output_type": "display_data",
          "data": {
            "text/plain": [
              "product_id                                                  28433\n",
              "product_name    Sony MRW62E/S1/181 17-In-1 External USB Memory...\n",
              "description     Sony MRW62E/S1/181 17-In-1 External USB Memory...\n",
              "price                                                      $29.00\n",
              "Name: 259, dtype: object"
            ]
          },
          "metadata": {}
        },
        {
          "output_type": "display_data",
          "data": {
            "text/plain": [
              "product_id                                                  28500\n",
              "product_name    Sony MS-A1GD 1GB Memory Stick Micro (M2) - MSA1GD\n",
              "description     Sony MS-A1GD 1GB Memory Stick Micro (M2) - MSA...\n",
              "price                                                        None\n",
              "Name: 260, dtype: object"
            ]
          },
          "metadata": {}
        },
        {
          "output_type": "display_data",
          "data": {
            "text/plain": [
              "product_id                                                  28554\n",
              "product_name    Olympus PS-BLS1 Lithium Ion Rechargeable Batte...\n",
              "description     Olympus PS-BLS1 Lithium Ion Rechargeable Batte...\n",
              "price                                                        None\n",
              "Name: 261, dtype: object"
            ]
          },
          "metadata": {}
        },
        {
          "output_type": "display_data",
          "data": {
            "text/plain": [
              "product_id                                                  28650\n",
              "product_name    Griffin Elevator Brushed Aluminum Laptop Stand...\n",
              "description     Griffin Elevator Brushed Aluminum Laptop Stand...\n",
              "price                                                      $39.00\n",
              "Name: 262, dtype: object"
            ]
          },
          "metadata": {}
        },
        {
          "output_type": "display_data",
          "data": {
            "text/plain": [
              "product_id                                                  28951\n",
              "product_name    Escort Passport 9500I Radar And Laser Detector...\n",
              "description     Escort Passport 9500I Radar And Laser Detector...\n",
              "price                                                     $449.95\n",
              "Name: 263, dtype: object"
            ]
          },
          "metadata": {}
        },
        {
          "output_type": "display_data",
          "data": {
            "text/plain": [
              "product_id                                                  28963\n",
              "product_name                 Sirius External Home Antenna - 14240\n",
              "description     Sirius External Home Antenna - 14240/ Adjustab...\n",
              "price                                                        None\n",
              "Name: 264, dtype: object"
            ]
          },
          "metadata": {}
        },
        {
          "output_type": "display_data",
          "data": {
            "text/plain": [
              "product_id                                                  28971\n",
              "product_name    Altec Lansing inMotion iPod Portable Audio Sys...\n",
              "description     Altec Lansing inMotion iPod Portable Audio Sys...\n",
              "price                                                        None\n",
              "Name: 265, dtype: object"
            ]
          },
          "metadata": {}
        },
        {
          "output_type": "display_data",
          "data": {
            "text/plain": [
              "product_id                                                  28978\n",
              "product_name    Panasonic Stainless Steel Countertop Microwave...\n",
              "description     Panasonic NNSD377S Stainless Steel Countertop ...\n",
              "price                                                        None\n",
              "Name: 266, dtype: object"
            ]
          },
          "metadata": {}
        },
        {
          "output_type": "display_data",
          "data": {
            "text/plain": [
              "product_id                                                  28979\n",
              "product_name    Panasonic Countertop Microwave Oven In Black -...\n",
              "description     Panasonic NN-SN667B Countertop Microwave Oven ...\n",
              "price                                                     $129.00\n",
              "Name: 267, dtype: object"
            ]
          },
          "metadata": {}
        },
        {
          "output_type": "display_data",
          "data": {
            "text/plain": [
              "product_id                                                  28980\n",
              "product_name    Panasonic Stainless Steel Luxury Full Size Cou...\n",
              "description     Panasonic Stainless Steel Luxury Full Size Cou...\n",
              "price                                                        None\n",
              "Name: 268, dtype: object"
            ]
          },
          "metadata": {}
        },
        {
          "output_type": "display_data",
          "data": {
            "text/plain": [
              "product_id                                                  28981\n",
              "product_name    Panasonic Countertop Microwave Oven In White -...\n",
              "description     Panasonic NN-SN667W Countertop Microwave Oven ...\n",
              "price                                                     $129.00\n",
              "Name: 269, dtype: object"
            ]
          },
          "metadata": {}
        },
        {
          "output_type": "display_data",
          "data": {
            "text/plain": [
              "product_id                                                  28982\n",
              "product_name    Panasonic Countertop Microwave Oven In Stainle...\n",
              "description     Panasonic NN-SD667S Countertop Microwave Oven ...\n",
              "price                                                        None\n",
              "Name: 270, dtype: object"
            ]
          },
          "metadata": {}
        },
        {
          "output_type": "display_data",
          "data": {
            "text/plain": [
              "product_id                                                  29007\n",
              "product_name    LG DLG2526W White Super Capacity Gas Dryer - D...\n",
              "description     LG DLG2526W White Super Capacity Gas Dryer - D...\n",
              "price                                                        None\n",
              "Name: 271, dtype: object"
            ]
          },
          "metadata": {}
        },
        {
          "output_type": "display_data",
          "data": {
            "text/plain": [
              "product_id                                                  29008\n",
              "product_name    LG WM2016CW 3.6 Cu Ft White Front Load Washer ...\n",
              "description     LG WM2016CW 3.6 Cu Ft White Front Load Washer ...\n",
              "price                                                        None\n",
              "Name: 272, dtype: object"
            ]
          },
          "metadata": {}
        },
        {
          "output_type": "display_data",
          "data": {
            "text/plain": [
              "product_id                                                  29029\n",
              "product_name          Canon 580EXII Speedlite In Black - 1946B002\n",
              "description     Canon 580EXII Speedlite In Black - 1946B002/ N...\n",
              "price                                                        None\n",
              "Name: 273, dtype: object"
            ]
          },
          "metadata": {}
        },
        {
          "output_type": "display_data",
          "data": {
            "text/plain": [
              "product_id                                                  29032\n",
              "product_name    Nikon COOLPIX Leather Camera Case In Black - 5811\n",
              "description     Nikon COOLPIX Leather Camera Case In Black - 5...\n",
              "price                                                        None\n",
              "Name: 274, dtype: object"
            ]
          },
          "metadata": {}
        },
        {
          "output_type": "display_data",
          "data": {
            "text/plain": [
              "product_id                                                  29072\n",
              "product_name    Alpine 2-DIN DVD/CD/MP3/WMA Receiver/AV Head U...\n",
              "description     Alpine 2-DIN DVD/CD/MP3/WMA Receiver/AV Head U...\n",
              "price                                                        None\n",
              "Name: 275, dtype: object"
            ]
          },
          "metadata": {}
        },
        {
          "output_type": "display_data",
          "data": {
            "text/plain": [
              "product_id                                                  29099\n",
              "product_name     Olympus Silver Digital Voice Recorder - VN4100PC\n",
              "description     Olympus Silver Digital Voice Recorder - VN4100...\n",
              "price                                                        None\n",
              "Name: 276, dtype: object"
            ]
          },
          "metadata": {}
        },
        {
          "output_type": "display_data",
          "data": {
            "text/plain": [
              "product_id                                                  29133\n",
              "product_name               Samsung DLP TV Stand In Black - TR72BX\n",
              "description     Samsung DLP TV Stand In Black - TR72BX/ Design...\n",
              "price                                                     $369.00\n",
              "Name: 277, dtype: object"
            ]
          },
          "metadata": {}
        },
        {
          "output_type": "display_data",
          "data": {
            "text/plain": [
              "product_id                                                  29228\n",
              "product_name         Sony Black Active Speaker System - SRSA212BK\n",
              "description     Sony Black Active Speaker System - SRSA212BK/ ...\n",
              "price                                                      $29.00\n",
              "Name: 278, dtype: object"
            ]
          },
          "metadata": {}
        },
        {
          "output_type": "display_data",
          "data": {
            "text/plain": [
              "product_id                                                  29231\n",
              "product_name    Panasonic Expandable Digital Cordless DECT 6.0...\n",
              "description     Panasonic Expandable Digital Cordless DECT 6.0...\n",
              "price                                                        None\n",
              "Name: 279, dtype: object"
            ]
          },
          "metadata": {}
        },
        {
          "output_type": "display_data",
          "data": {
            "text/plain": [
              "product_id                                                  29238\n",
              "product_name    Panasonic Expandable Digital Cordless DECT 6.0...\n",
              "description     Panasonic Expandable Digital Cordless DECT 6.0...\n",
              "price                                                      $39.00\n",
              "Name: 280, dtype: object"
            ]
          },
          "metadata": {}
        },
        {
          "output_type": "display_data",
          "data": {
            "text/plain": [
              "product_id                                                  29272\n",
              "product_name    Tech Craft Dark Cherry Veneto Series TV Stand ...\n",
              "description     Tech Craft Dark Cherry Veneto Series TV Stand ...\n",
              "price                                                     $399.00\n",
              "Name: 281, dtype: object"
            ]
          },
          "metadata": {}
        },
        {
          "output_type": "display_data",
          "data": {
            "text/plain": [
              "product_id                                                  29273\n",
              "product_name    Kensington MicroSaver Keyed Notebook Lock - 64...\n",
              "description     Kensington MicroSaver Keyed Notebook Lock - 64...\n",
              "price                                                        None\n",
              "Name: 282, dtype: object"
            ]
          },
          "metadata": {}
        },
        {
          "output_type": "display_data",
          "data": {
            "text/plain": [
              "product_id                                                  29304\n",
              "product_name                     Haier 13' Silver Tube TV - HTR13\n",
              "description     Haier 13' Silver Tube TV - HTR13/ Built-In Ats...\n",
              "price                                                     $124.00\n",
              "Name: 283, dtype: object"
            ]
          },
          "metadata": {}
        },
        {
          "output_type": "display_data",
          "data": {
            "text/plain": [
              "product_id                                                  29338\n",
              "product_name             Sony Memory Stick USB Adaptor - MSACUS40\n",
              "description     Sony Memory Stick USB Adaptor - MSACUS40/ Quic...\n",
              "price                                                      $29.00\n",
              "Name: 284, dtype: object"
            ]
          },
          "metadata": {}
        },
        {
          "output_type": "display_data",
          "data": {
            "text/plain": [
              "product_id                                                  29339\n",
              "product_name        Panasonic Silver Rice Cooker/Warmer - SRTMB10\n",
              "description     Panasonic Silver Rice Cooker/Warmer - SRTMB10/...\n",
              "price                                                        None\n",
              "Name: 285, dtype: object"
            ]
          },
          "metadata": {}
        },
        {
          "output_type": "display_data",
          "data": {
            "text/plain": [
              "product_id                                                  29392\n",
              "product_name    Audiovox 9' LCD Drop Down TV With Built-In DVD...\n",
              "description     Audiovox 9' LCD Drop Down TV With Built-In DVD...\n",
              "price                                                        None\n",
              "Name: 286, dtype: object"
            ]
          },
          "metadata": {}
        },
        {
          "output_type": "display_data",
          "data": {
            "text/plain": [
              "product_id                                                  29464\n",
              "product_name             Sony Clip-On Black Headphones - MDRQ68LW\n",
              "description     Sony Clip-On Black Headphones - MDRQ68LW/ Ligh...\n",
              "price                                                      $29.00\n",
              "Name: 287, dtype: object"
            ]
          },
          "metadata": {}
        },
        {
          "output_type": "display_data",
          "data": {
            "text/plain": [
              "product_id                                                  29493\n",
              "product_name       Netgear ProSafe 24-Port Smart Switch - GS724TP\n",
              "description     Netgear ProSafe 24-Port Smart Switch - GS724TP...\n",
              "price                                                     $780.00\n",
              "Name: 288, dtype: object"
            ]
          },
          "metadata": {}
        },
        {
          "output_type": "display_data",
          "data": {
            "text/plain": [
              "product_id                                                  29574\n",
              "product_name    Panasonic NNSD767S Stainless Steel Countertop ...\n",
              "description     Panasonic NNSD767S Stainless Steel Countertop ...\n",
              "price                                                        None\n",
              "Name: 289, dtype: object"
            ]
          },
          "metadata": {}
        },
        {
          "output_type": "display_data",
          "data": {
            "text/plain": [
              "product_id                                                  29612\n",
              "product_name    Sharp Over The Counter White Microwave Oven - ...\n",
              "description     Sharp Over The Counter White Microwave Oven - ...\n",
              "price                                                     $269.00\n",
              "Name: 290, dtype: object"
            ]
          },
          "metadata": {}
        },
        {
          "output_type": "display_data",
          "data": {
            "text/plain": [
              "product_id                                                  29677\n",
              "product_name    Monster iFreePlay Cordless Headphones For iPod...\n",
              "description     Monster iFreePlay Cordless Headphones For iPod...\n",
              "price                                                      $48.00\n",
              "Name: 291, dtype: object"
            ]
          },
          "metadata": {}
        },
        {
          "output_type": "display_data",
          "data": {
            "text/plain": [
              "product_id                                                  29758\n",
              "product_name                     Canon Black Ink Cartridge - PG50\n",
              "description     Canon Black Ink Cartridge - PG50/ Pigment Ink ...\n",
              "price                                                      $29.00\n",
              "Name: 292, dtype: object"
            ]
          },
          "metadata": {}
        },
        {
          "output_type": "display_data",
          "data": {
            "text/plain": [
              "product_id                                                  29806\n",
              "product_name    Panasonic White Integrated Telephone System - ...\n",
              "description     Panasonic White Integrated Telephone System - ...\n",
              "price                                                        None\n",
              "Name: 293, dtype: object"
            ]
          },
          "metadata": {}
        },
        {
          "output_type": "display_data",
          "data": {
            "text/plain": [
              "product_id                                                  29816\n",
              "product_name                 Sony HD Radio Add On Tuner - XT100HD\n",
              "description     Sony HD Radio Add On Tuner - XT100HD/ High-Fid...\n",
              "price                                                        None\n",
              "Name: 294, dtype: object"
            ]
          },
          "metadata": {}
        },
        {
          "output_type": "display_data",
          "data": {
            "text/plain": [
              "product_id                                                  29820\n",
              "product_name           Linksys Wireless N Access Point - WAP4400N\n",
              "description     Linksys Wireless N Access Point - WAP4400N/ Fu...\n",
              "price                                                        None\n",
              "Name: 295, dtype: object"
            ]
          },
          "metadata": {}
        },
        {
          "output_type": "display_data",
          "data": {
            "text/plain": [
              "product_id                                                  29823\n",
              "product_name    LG DLE2516W White Super Capacity Electric Drye...\n",
              "description     LG DLE2516W White Super Capacity Electric Drye...\n",
              "price                                                        None\n",
              "Name: 296, dtype: object"
            ]
          },
          "metadata": {}
        },
        {
          "output_type": "display_data",
          "data": {
            "text/plain": [
              "product_id                                                  29825\n",
              "product_name    LG DLE3733W White XL Capacity Electric Dryer -...\n",
              "description     LG DLE3733W White XL Capacity Electric Dryer -...\n",
              "price                                                        None\n",
              "Name: 297, dtype: object"
            ]
          },
          "metadata": {}
        },
        {
          "output_type": "display_data",
          "data": {
            "text/plain": [
              "product_id                                                  29827\n",
              "product_name    LG Pearl Gray XL Capacity Electric Dryer - DLE...\n",
              "description     LG Pearl Gray XL Capacity Electric Dryer - DLE...\n",
              "price                                                        None\n",
              "Name: 298, dtype: object"
            ]
          },
          "metadata": {}
        },
        {
          "output_type": "display_data",
          "data": {
            "text/plain": [
              "product_id                                                  29829\n",
              "product_name    LG DLE5955W White XL Capacity Electric Dryer -...\n",
              "description     LG DLE5955W White XL Capacity Electric Dryer -...\n",
              "price                                                        None\n",
              "Name: 299, dtype: object"
            ]
          },
          "metadata": {}
        },
        {
          "output_type": "display_data",
          "data": {
            "text/plain": [
              "product_id                                                  29861\n",
              "product_name    LG LSC21943ST Stainless Steel Side By Side Ref...\n",
              "description     LG LSC21943ST Stainless Steel Side By Side Ref...\n",
              "price                                                        None\n",
              "Name: 300, dtype: object"
            ]
          },
          "metadata": {}
        },
        {
          "output_type": "display_data",
          "data": {
            "text/plain": [
              "product_id                                                  29865\n",
              "product_name    LG WM2233W 4.0 Cu Ft White Front Load Washer -...\n",
              "description     LG WM2233W 4.0 Cu Ft White Front Load Washer -...\n",
              "price                                                        None\n",
              "Name: 301, dtype: object"
            ]
          },
          "metadata": {}
        },
        {
          "output_type": "display_data",
          "data": {
            "text/plain": [
              "product_id                                                  29866\n",
              "product_name    LG WM2455HG 4.2 Cu Ft Pearl Gray Front Load Wa...\n",
              "description     LG WM2455HG 4.2 Cu Ft Pearl Gray Front Load Wa...\n",
              "price                                                        None\n",
              "Name: 302, dtype: object"
            ]
          },
          "metadata": {}
        },
        {
          "output_type": "display_data",
          "data": {
            "text/plain": [
              "product_id                                                  29880\n",
              "product_name         Haier 20' ATSC Color Tube Television - HTR20\n",
              "description     Haier 20' ATSC Color Tube Television - HTR20/ ...\n",
              "price                                                        None\n",
              "Name: 303, dtype: object"
            ]
          },
          "metadata": {}
        },
        {
          "output_type": "display_data",
          "data": {
            "text/plain": [
              "product_id                                                  29892\n",
              "product_name    Maytag MED5900TW White Electric Dryer - MED590...\n",
              "description     Maytag MED5900TW White Electric Dryer - MED590...\n",
              "price                                                        None\n",
              "Name: 304, dtype: object"
            ]
          },
          "metadata": {}
        },
        {
          "output_type": "display_data",
          "data": {
            "text/plain": [
              "product_id                                                  29902\n",
              "product_name    TiVo HD Digital Video Recorder (180 Hour) - TC...\n",
              "description     TiVo HD Digital Video Recorder - TCD652160/ Se...\n",
              "price                                                        None\n",
              "Name: 305, dtype: object"
            ]
          },
          "metadata": {}
        },
        {
          "output_type": "display_data",
          "data": {
            "text/plain": [
              "product_id                                                  29906\n",
              "product_name    Audiovox Xpress XM Satellite Radio Receiver Ho...\n",
              "description     Audiovox Xpress XM Satellite Radio Receiver Ho...\n",
              "price                                                        None\n",
              "Name: 306, dtype: object"
            ]
          },
          "metadata": {}
        },
        {
          "output_type": "display_data",
          "data": {
            "text/plain": [
              "product_id                                                  29933\n",
              "product_name    Audiovox Xpress XM Satellite Radio FM Direct A...\n",
              "description     Audiovox Xpress XM Satellite Radio FM Direct A...\n",
              "price                                                      $25.00\n",
              "Name: 307, dtype: object"
            ]
          },
          "metadata": {}
        },
        {
          "output_type": "display_data",
          "data": {
            "text/plain": [
              "product_id                                                  29950\n",
              "product_name    Panasonic NNSD797S Stainless Steel Countertop ...\n",
              "description     Panasonic NNSD797S Stainless Steel Countertop ...\n",
              "price                                                     $199.00\n",
              "Name: 308, dtype: object"
            ]
          },
          "metadata": {}
        },
        {
          "output_type": "display_data",
          "data": {
            "text/plain": [
              "product_id                                                  30058\n",
              "product_name    Electrolux Pronto 2 In 1 Lightweight Upright V...\n",
              "description     Electrolux Pronto 2 In 1 Lightweight Upright V...\n",
              "price                                                        None\n",
              "Name: 309, dtype: object"
            ]
          },
          "metadata": {}
        },
        {
          "output_type": "display_data",
          "data": {
            "text/plain": [
              "product_id                                                  30093\n",
              "product_name    Sony Black DVDirect MC5 Multi-Function DVD Rec...\n",
              "description     Sony Black DVDirect MC5 Multi-Function DVD Rec...\n",
              "price                                                        None\n",
              "Name: 310, dtype: object"
            ]
          },
          "metadata": {}
        },
        {
          "output_type": "display_data",
          "data": {
            "text/plain": [
              "product_id                                                  30134\n",
              "product_name    Apple Mac Mini 1.83GHz Intel Core 2 Duo Comput...\n",
              "description     Apple Mac Mini 1.83GHz Intel Core 2 Duo Comput...\n",
              "price                                                     $599.00\n",
              "Name: 311, dtype: object"
            ]
          },
          "metadata": {}
        },
        {
          "output_type": "display_data",
          "data": {
            "text/plain": [
              "product_id                                                  30158\n",
              "product_name    LaCie 1TB FireWire 800/FireWire 400/USB 2.0 Ex...\n",
              "description     LaCie 1TB FireWire 800/FireWire 400/USB 2.0 Ex...\n",
              "price                                                        None\n",
              "Name: 312, dtype: object"
            ]
          },
          "metadata": {}
        },
        {
          "output_type": "display_data",
          "data": {
            "text/plain": [
              "product_id                                                  30159\n",
              "product_name             Alpine CD/MP3/WMA/AAC Receiver - CDA9887\n",
              "description     Alpine CD/MP3/WMA/AAC Receiver - CDA9887/ 50W ...\n",
              "price                                                        None\n",
              "Name: 313, dtype: object"
            ]
          },
          "metadata": {}
        },
        {
          "output_type": "display_data",
          "data": {
            "text/plain": [
              "product_id                                                  30196\n",
              "product_name    Denon 7.1 Channel Home Theater MultiMedia A/V ...\n",
              "description     Denon 7.1 Channel Home Theater MultiMedia AV R...\n",
              "price                                                   $2,699.00\n",
              "Name: 314, dtype: object"
            ]
          },
          "metadata": {}
        },
        {
          "output_type": "display_data",
          "data": {
            "text/plain": [
              "product_id                                                  30197\n",
              "product_name    Denon 7.1 Channel Home Theater MultiMedia A/V ...\n",
              "description     Denon 7.1 Channel Home Theater MultiMedia AV R...\n",
              "price                                                   $1,699.99\n",
              "Name: 315, dtype: object"
            ]
          },
          "metadata": {}
        },
        {
          "output_type": "display_data",
          "data": {
            "text/plain": [
              "product_id                                                  30203\n",
              "product_name    Denon X-Space Surround Bar Home Theatre System...\n",
              "description     Denon X-Space Surround Bar Home Theatre System...\n",
              "price                                                   $1,199.00\n",
              "Name: 316, dtype: object"
            ]
          },
          "metadata": {}
        },
        {
          "output_type": "display_data",
          "data": {
            "text/plain": [
              "product_id                                                  30206\n",
              "product_name    OmniMount CMK White Wall Cable Management Kit ...\n",
              "description     OmniMount CMK White Wall Cable Management Kit ...\n",
              "price                                                        None\n",
              "Name: 317, dtype: object"
            ]
          },
          "metadata": {}
        },
        {
          "output_type": "display_data",
          "data": {
            "text/plain": [
              "product_id                                                  30219\n",
              "product_name               Apple Wireless Mighty Mouse - MB111LLA\n",
              "description     Apple Wireless Mighty Mouse - MB111LLA/ Blueto...\n",
              "price                                                      $69.00\n",
              "Name: 318, dtype: object"
            ]
          },
          "metadata": {}
        },
        {
          "output_type": "display_data",
          "data": {
            "text/plain": [
              "product_id                                                  30338\n",
              "product_name     Yamaha Black Digital Sound Projector - YSP4000BK\n",
              "description     Yamaha Black Digital Sound Projector - YSP4000...\n",
              "price                                                        None\n",
              "Name: 319, dtype: object"
            ]
          },
          "metadata": {}
        },
        {
          "output_type": "display_data",
          "data": {
            "text/plain": [
              "product_id                                                  30343\n",
              "product_name    Sony PSP 2000 Playstation Portable Gaming Syst...\n",
              "description     Sony PSP 2000 Playstation Portable Gaming Syst...\n",
              "price                                                     $185.00\n",
              "Name: 320, dtype: object"
            ]
          },
          "metadata": {}
        },
        {
          "output_type": "display_data",
          "data": {
            "text/plain": [
              "product_id                                                  30355\n",
              "product_name        Yamaha Mounting Installation Bracket - SPMK30\n",
              "description     Yamaha Mounting Installation Bracket - SPMK30/...\n",
              "price                                                        None\n",
              "Name: 321, dtype: object"
            ]
          },
          "metadata": {}
        },
        {
          "output_type": "display_data",
          "data": {
            "text/plain": [
              "product_id                                                  30389\n",
              "product_name              Apple Mini-DVI To DVI Adapter - M9321GB\n",
              "description     Apple Mini-DVI To DVI Adapter - M9321GB/ Compa...\n",
              "price                                                      $19.00\n",
              "Name: 322, dtype: object"
            ]
          },
          "metadata": {}
        },
        {
          "output_type": "display_data",
          "data": {
            "text/plain": [
              "product_id                                                  30436\n",
              "product_name          Olympus DS40 Digital Voice Recorder - DS40R\n",
              "description     Olympus DS40 Digital Voice Recorder - DS40R/ 1...\n",
              "price                                                     $149.00\n",
              "Name: 323, dtype: object"
            ]
          },
          "metadata": {}
        },
        {
          "output_type": "display_data",
          "data": {
            "text/plain": [
              "product_id                                                  30453\n",
              "product_name    Bose Lifestyle 48 Series IV 43479 Home Enterta...\n",
              "description     Bose Lifestyle 48 Series IV Home Entertainment...\n",
              "price                                                   $3,999.00\n",
              "Name: 324, dtype: object"
            ]
          },
          "metadata": {}
        },
        {
          "output_type": "display_data",
          "data": {
            "text/plain": [
              "product_id                                                  30457\n",
              "product_name    Sony Black DVD Recorder And VHS Combo Player -...\n",
              "description     Sony Black DVD Recorder And VHS Combo Player -...\n",
              "price                                                     $319.00\n",
              "Name: 325, dtype: object"
            ]
          },
          "metadata": {}
        },
        {
          "output_type": "display_data",
          "data": {
            "text/plain": [
              "product_id                                                  30533\n",
              "product_name             Apple 1GB Silver iPod Shuffle - MB225LLA\n",
              "description     Apple 1GB Silver 2nd Generation iPod Shuffle -...\n",
              "price                                                      $49.00\n",
              "Name: 326, dtype: object"
            ]
          },
          "metadata": {}
        },
        {
          "output_type": "display_data",
          "data": {
            "text/plain": [
              "product_id                                                  30575\n",
              "product_name    GE 24' GSD2400NWW White Built-In Dishwasher - ...\n",
              "description     GE 24' GSD2400NWW White Built-In Dishwasher - ...\n",
              "price                                                     $259.00\n",
              "Name: 327, dtype: object"
            ]
          },
          "metadata": {}
        },
        {
          "output_type": "display_data",
          "data": {
            "text/plain": [
              "product_id                                                  30585\n",
              "product_name    Panasonic Expandable Digital Cordless DECT 6.0...\n",
              "description     Panasonic Expandable Digital Cordless DECT 6.0...\n",
              "price                                                      $69.00\n",
              "Name: 328, dtype: object"
            ]
          },
          "metadata": {}
        },
        {
          "output_type": "display_data",
          "data": {
            "text/plain": [
              "product_id                                                  30590\n",
              "product_name    Panasonic 2 Line Integrated Corded Phone Syste...\n",
              "description     Panasonic 2 Line Integrated Corded Phone Syste...\n",
              "price                                                      $74.00\n",
              "Name: 329, dtype: object"
            ]
          },
          "metadata": {}
        },
        {
          "output_type": "display_data",
          "data": {
            "text/plain": [
              "product_id                                                  30591\n",
              "product_name    Audiovox XpressEZ XM Satellite Radio Receiver ...\n",
              "description     Audiovox XpressEZ XM Satellite Radio Receiver ...\n",
              "price                                                      $69.99\n",
              "Name: 330, dtype: object"
            ]
          },
          "metadata": {}
        },
        {
          "output_type": "display_data",
          "data": {
            "text/plain": [
              "product_id                                                  30593\n",
              "product_name    Audiovox XpressR XM Satellite Radio Receiver -...\n",
              "description     Audiovox XpressR XM Satellite Radio Receiver -...\n",
              "price                                                        None\n",
              "Name: 331, dtype: object"
            ]
          },
          "metadata": {}
        },
        {
          "output_type": "display_data",
          "data": {
            "text/plain": [
              "product_id                                                  30594\n",
              "product_name    Audiovox Commander MT XM Satellite Radio Recei...\n",
              "description     Audiovox Commander MT XM Satellite Radio Recei...\n",
              "price                                                        None\n",
              "Name: 332, dtype: object"
            ]
          },
          "metadata": {}
        },
        {
          "output_type": "display_data",
          "data": {
            "text/plain": [
              "product_id                                                  30602\n",
              "product_name    Panasonic Integrated Black Telephone System Wi...\n",
              "description     Panasonic Integrated Black Telephone System Wi...\n",
              "price                                                        None\n",
              "Name: 333, dtype: object"
            ]
          },
          "metadata": {}
        },
        {
          "output_type": "display_data",
          "data": {
            "text/plain": [
              "product_id                                                  30603\n",
              "product_name    Panasonic Integrated White Telephone System Wi...\n",
              "description     Panasonic Integrated White Telephone System Wi...\n",
              "price                                                      $69.00\n",
              "Name: 334, dtype: object"
            ]
          },
          "metadata": {}
        },
        {
          "output_type": "display_data",
          "data": {
            "text/plain": [
              "product_id                                                  30680\n",
              "product_name    Sony Home Entertainment Server In Black - HESV...\n",
              "description     Sony Home Entertainment Server In Black - HESV...\n",
              "price                                                        None\n",
              "Name: 335, dtype: object"
            ]
          },
          "metadata": {}
        },
        {
          "output_type": "display_data",
          "data": {
            "text/plain": [
              "product_id                                                  30708\n",
              "product_name    Uniden DECT 6.0 Cordless Digital Answering Sys...\n",
              "description     Uniden DECT 6.0 Cordless Digital Answering Sys...\n",
              "price                                                        None\n",
              "Name: 336, dtype: object"
            ]
          },
          "metadata": {}
        },
        {
          "output_type": "display_data",
          "data": {
            "text/plain": [
              "product_id                                                  30734\n",
              "product_name    Tech Craft Veneto Series Black TV Stand - ABS60BK\n",
              "description     Tech Craft Veneto Series Black TV Stand - ABS6...\n",
              "price                                                     $399.00\n",
              "Name: 337, dtype: object"
            ]
          },
          "metadata": {}
        },
        {
          "output_type": "display_data",
          "data": {
            "text/plain": [
              "product_id                                                  30808\n",
              "product_name             Panasonic 2GB SD Memory Card - SDV02GU1A\n",
              "description     Panasonic 2GB SD Memory Card - SDV02GU1A/ Clas...\n",
              "price                                                        None\n",
              "Name: 338, dtype: object"
            ]
          },
          "metadata": {}
        },
        {
          "output_type": "display_data",
          "data": {
            "text/plain": [
              "product_id                                                  30841\n",
              "product_name    Skagen Premium Steel Slimline Mesh Womens Watc...\n",
              "description     Skagen Premium Steel Slimline Mesh Womens Watc...\n",
              "price                                                     $110.00\n",
              "Name: 339, dtype: object"
            ]
          },
          "metadata": {}
        },
        {
          "output_type": "display_data",
          "data": {
            "text/plain": [
              "product_id                                                  30867\n",
              "product_name    Seiko Quartz Le Grand Sport Womens Watch - SXDA04\n",
              "description     Seiko Quartz Le Grand Sport Womens Watch - SXD...\n",
              "price                                                        None\n",
              "Name: 340, dtype: object"
            ]
          },
          "metadata": {}
        },
        {
          "output_type": "display_data",
          "data": {
            "text/plain": [
              "product_id                                                  30939\n",
              "product_name             Canon Color Image Silver Scanner - 8800F\n",
              "description     Canon Color Image Silver Scanner - 8800F/ Reso...\n",
              "price                                                     $199.00\n",
              "Name: 341, dtype: object"
            ]
          },
          "metadata": {}
        },
        {
          "output_type": "display_data",
          "data": {
            "text/plain": [
              "product_id                                                  30951\n",
              "product_name    Canon EOS 40D Digital SLR Camera In Black - EO...\n",
              "description     Canon EOS 40D Digital SLR Camera In Black - EO...\n",
              "price                                                        None\n",
              "Name: 342, dtype: object"
            ]
          },
          "metadata": {}
        },
        {
          "output_type": "display_data",
          "data": {
            "text/plain": [
              "product_id                                                  30955\n",
              "product_name         Sony Black LocationFree Base Station - LFV30\n",
              "description     Sony Black LocationFree Base Station - LFV30/ ...\n",
              "price                                                     $199.00\n",
              "Name: 343, dtype: object"
            ]
          },
          "metadata": {}
        },
        {
          "output_type": "display_data",
          "data": {
            "text/plain": [
              "product_id                                                  30957\n",
              "product_name        Linksys Wireless-G Broadband Router - WRT54GL\n",
              "description     Linksys Wireless-G Broadband Router - WRT54GL/...\n",
              "price                                                      $79.00\n",
              "Name: 344, dtype: object"
            ]
          },
          "metadata": {}
        },
        {
          "output_type": "display_data",
          "data": {
            "text/plain": [
              "product_id                                                  30962\n",
              "product_name    Canon EOS 40D Digital SLR Camera And 28-135MM ...\n",
              "description     Canon EOS 40D Digital SLR Camera And 28-135MM ...\n",
              "price                                                        None\n",
              "Name: 345, dtype: object"
            ]
          },
          "metadata": {}
        },
        {
          "output_type": "display_data",
          "data": {
            "text/plain": [
              "product_id                                                  31014\n",
              "product_name                   Universal RF Base Station - MRF260\n",
              "description     Universal RF Base Station - MRF260/ Extends Th...\n",
              "price                                                     $149.00\n",
              "Name: 346, dtype: object"
            ]
          },
          "metadata": {}
        },
        {
          "output_type": "display_data",
          "data": {
            "text/plain": [
              "product_id                                                  31020\n",
              "product_name    Sony HD-Handycam 1.5 Meters (5 Feet) HDMI Mini...\n",
              "description     Sony HD-Handycam 1.5 Meters (5 Feet) HDMI Mini...\n",
              "price                                                        None\n",
              "Name: 347, dtype: object"
            ]
          },
          "metadata": {}
        },
        {
          "output_type": "display_data",
          "data": {
            "text/plain": [
              "product_id                                                  31030\n",
              "product_name            Canon PIXMA Multifunction Printer - MX310\n",
              "description     Canon PIXMA Multifunction Printer - MX310/ Up ...\n",
              "price                                                        None\n",
              "Name: 348, dtype: object"
            ]
          },
          "metadata": {}
        },
        {
          "output_type": "display_data",
          "data": {
            "text/plain": [
              "product_id                                                  31032\n",
              "product_name    Chestnut Hill Sound George iPod Music System I...\n",
              "description     Chestnut Hill Sound George iPod Music System I...\n",
              "price                                                     $499.00\n",
              "Name: 349, dtype: object"
            ]
          },
          "metadata": {}
        },
        {
          "output_type": "display_data",
          "data": {
            "text/plain": [
              "product_id                                                  31176\n",
              "product_name    Sony White Cybershot T Series Digital Camera J...\n",
              "description     Sony White Cybershot T Series Digital Camera J...\n",
              "price                                                        None\n",
              "Name: 350, dtype: object"
            ]
          },
          "metadata": {}
        },
        {
          "output_type": "display_data",
          "data": {
            "text/plain": [
              "product_id                                                  31273\n",
              "product_name    Sony Universal Remote Commander Remote Control...\n",
              "description     Sony Universal Remote Commander Remote Control...\n",
              "price                                                        None\n",
              "Name: 351, dtype: object"
            ]
          },
          "metadata": {}
        },
        {
          "output_type": "display_data",
          "data": {
            "text/plain": [
              "product_id                                                  31284\n",
              "product_name    Omnimount 42' - 63' Wishbone Cantilever Extra ...\n",
              "description     Omnimount 42' - 63' Wishbone Cantilever Extra ...\n",
              "price                                                        None\n",
              "Name: 352, dtype: object"
            ]
          },
          "metadata": {}
        },
        {
          "output_type": "display_data",
          "data": {
            "text/plain": [
              "product_id                                                  31332\n",
              "product_name                Sony Universal Remote Control - RMEZ4\n",
              "description     Sony Universal Remote Control - RMEZ4/ Easy-To...\n",
              "price                                                      $16.00\n",
              "Name: 353, dtype: object"
            ]
          },
          "metadata": {}
        },
        {
          "output_type": "display_data",
          "data": {
            "text/plain": [
              "product_id                                                  31337\n",
              "product_name               Sirius SiriusConnect Home Tuner - SCH1\n",
              "description     Sirius SiriusConnect Home Tuner - SCH1/ Compac...\n",
              "price                                                      $49.00\n",
              "Name: 354, dtype: object"
            ]
          },
          "metadata": {}
        },
        {
          "output_type": "display_data",
          "data": {
            "text/plain": [
              "product_id                                                  31373\n",
              "product_name    Frigidaire GLD4355RFB Gallery SpeedClean 24' B...\n",
              "description     Frigidaire GLD4355RFB Gallery SpeedClean 24' B...\n",
              "price                                                        None\n",
              "Name: 355, dtype: object"
            ]
          },
          "metadata": {}
        },
        {
          "output_type": "display_data",
          "data": {
            "text/plain": [
              "product_id                                                  31374\n",
              "product_name    Frigidaire GLD4355RFS Gallery SpeedClean 24' W...\n",
              "description     Frigidaire GLD4355RFS Gallery SpeedClean 24' W...\n",
              "price                                                        None\n",
              "Name: 356, dtype: object"
            ]
          },
          "metadata": {}
        },
        {
          "output_type": "display_data",
          "data": {
            "text/plain": [
              "product_id                                                  31392\n",
              "product_name    Speck Black ToughSkin iPod Classic Case - ICBLKTS\n",
              "description     Speck Black ToughSkin iPod Classic Case - ICBL...\n",
              "price                                                        None\n",
              "Name: 357, dtype: object"
            ]
          },
          "metadata": {}
        },
        {
          "output_type": "display_data",
          "data": {
            "text/plain": [
              "product_id                                                  31397\n",
              "product_name            Garmin Replacement USB Cable - 0101072301\n",
              "description     Garmin Replacement USB Cable - 0101072301/ Lin...\n",
              "price                                                        None\n",
              "Name: 358, dtype: object"
            ]
          },
          "metadata": {}
        },
        {
          "output_type": "display_data",
          "data": {
            "text/plain": [
              "product_id                                                  31414\n",
              "product_name    Sanus 15' - 32' Flat Panel TV Black Wall Mount...\n",
              "description     Sanus 15' - 32' Flat Panel TV Black Wall Mount...\n",
              "price                                                      $96.00\n",
              "Name: 359, dtype: object"
            ]
          },
          "metadata": {}
        },
        {
          "output_type": "display_data",
          "data": {
            "text/plain": [
              "product_id                                                  31596\n",
              "product_name    Nikon VR 55-200MM Zoom-Nikkor Lens Accessory -...\n",
              "description     Nikon VR 55-200MM Zoom-Nikkor Lens Accessory -...\n",
              "price                                                        None\n",
              "Name: 360, dtype: object"
            ]
          },
          "metadata": {}
        },
        {
          "output_type": "display_data",
          "data": {
            "text/plain": [
              "product_id                                                  31635\n",
              "product_name    Yamaha High Performance Subwoofer In Black - Y...\n",
              "description     Yamaha High Performance Subwoofer In Black - Y...\n",
              "price                                                     $279.00\n",
              "Name: 361, dtype: object"
            ]
          },
          "metadata": {}
        },
        {
          "output_type": "display_data",
          "data": {
            "text/plain": [
              "product_id                                                  31813\n",
              "product_name    Kenwood Sirius Radio Translator For In-Dash He...\n",
              "description     Kenwood Sirius Radio Translator For In-Dash He...\n",
              "price                                                      $60.00\n",
              "Name: 362, dtype: object"
            ]
          },
          "metadata": {}
        },
        {
          "output_type": "display_data",
          "data": {
            "text/plain": [
              "product_id                                                  31830\n",
              "product_name     Canon PIXMA MX700 Multifunction Printer - MX700C\n",
              "description     Canon PIXMA MX700 Multifunction Printer - MX70...\n",
              "price                                                        None\n",
              "Name: 363, dtype: object"
            ]
          },
          "metadata": {}
        },
        {
          "output_type": "display_data",
          "data": {
            "text/plain": [
              "product_id                                                  31836\n",
              "product_name    Sony Lithium-Ion Rechargeable Battery Pack - N...\n",
              "description     Sony Lithium-Ion Rechargeable Battery Pack - N...\n",
              "price                                                        None\n",
              "Name: 364, dtype: object"
            ]
          },
          "metadata": {}
        },
        {
          "output_type": "display_data",
          "data": {
            "text/plain": [
              "product_id                                                  31881\n",
              "product_name             Linksys Wireless-G PrintServer - WPSM54G\n",
              "description     Linksys Wireless-G PrintServer - WPSM54G/ Shar...\n",
              "price                                                      $99.00\n",
              "Name: 365, dtype: object"
            ]
          },
          "metadata": {}
        },
        {
          "output_type": "display_data",
          "data": {
            "text/plain": [
              "product_id                                                  31887\n",
              "product_name             Delonghi Coffee Maker In Black - DCF212T\n",
              "description     Delonghi Coffee Maker In Black - DCF212T/ Comp...\n",
              "price                                                        None\n",
              "Name: 366, dtype: object"
            ]
          },
          "metadata": {}
        },
        {
          "output_type": "display_data",
          "data": {
            "text/plain": [
              "product_id                                                  31924\n",
              "product_name    Sirius STILETTO 2 Portable Satellite Radio - S...\n",
              "description     Sirius STILETTO 2 Portable Satellite Radio - S...\n",
              "price                                                        None\n",
              "Name: 367, dtype: object"
            ]
          },
          "metadata": {}
        },
        {
          "output_type": "display_data",
          "data": {
            "text/plain": [
              "product_id                                                  31954\n",
              "product_name            Sirius STILETTO 2 Home Docking Kit - SLH2\n",
              "description     Sirius STILETTO 2 Home Docking Kit - SLH2/ Ste...\n",
              "price                                                      $49.00\n",
              "Name: 368, dtype: object"
            ]
          },
          "metadata": {}
        },
        {
          "output_type": "display_data",
          "data": {
            "text/plain": [
              "product_id                                                  31956\n",
              "product_name    Sirius Sportster 5 Dock And Play Radio With Ca...\n",
              "description     Sirius Sportster 5 Dock And Play Radio With Ca...\n",
              "price                                                        None\n",
              "Name: 369, dtype: object"
            ]
          },
          "metadata": {}
        },
        {
          "output_type": "display_data",
          "data": {
            "text/plain": [
              "product_id                                                  31970\n",
              "product_name     Nikon D300 Digital SLR Digital Camera - D300BODY\n",
              "description     Nikon D300 Digital SLR Digital Camera - D300BO...\n",
              "price                                                        None\n",
              "Name: 370, dtype: object"
            ]
          },
          "metadata": {}
        },
        {
          "output_type": "display_data",
          "data": {
            "text/plain": [
              "product_id                                                  31992\n",
              "product_name    Transcend 4GB Secure Digital High-Capacity (SD...\n",
              "description     Transcend 4GB Secure Digital High-Capacity (SD...\n",
              "price                                                        None\n",
              "Name: 371, dtype: object"
            ]
          },
          "metadata": {}
        },
        {
          "output_type": "display_data",
          "data": {
            "text/plain": [
              "product_id                                                  32005\n",
              "product_name         Panasonic Outdoor Network Camera - BBHCM331A\n",
              "description     Panasonic Outdoor Network Camera - BBHCM331A/ ...\n",
              "price                                                        None\n",
              "Name: 372, dtype: object"
            ]
          },
          "metadata": {}
        },
        {
          "output_type": "display_data",
          "data": {
            "text/plain": [
              "product_id                                                  32017\n",
              "product_name            Microsoft Office Standard 2007 - 02107746\n",
              "description     Microsoft Office Standard 2007 - 02107746/ Cre...\n",
              "price                                                     $399.00\n",
              "Name: 373, dtype: object"
            ]
          },
          "metadata": {}
        },
        {
          "output_type": "display_data",
          "data": {
            "text/plain": [
              "product_id                                                  32022\n",
              "product_name    Sony Bluetooth Adaptor/Portable Transmitter - ...\n",
              "description     Sony Bluetooth Adaptor/Portable Transmitter - ...\n",
              "price                                                        None\n",
              "Name: 374, dtype: object"
            ]
          },
          "metadata": {}
        },
        {
          "output_type": "display_data",
          "data": {
            "text/plain": [
              "product_id                                                  32027\n",
              "product_name    Panasonic 27' Stainless Steel Microwave Trim K...\n",
              "description     Panasonic NNTK903S 27' Stainless Steel Microwa...\n",
              "price                                                        None\n",
              "Name: 375, dtype: object"
            ]
          },
          "metadata": {}
        },
        {
          "output_type": "display_data",
          "data": {
            "text/plain": [
              "product_id                                                  32033\n",
              "product_name               Jabra Black Bluetooth Headset - BT5010\n",
              "description     Jabra Black Bluetooth Headset - BT5010/ Up To ...\n",
              "price                                                      $79.00\n",
              "Name: 376, dtype: object"
            ]
          },
          "metadata": {}
        },
        {
          "output_type": "display_data",
          "data": {
            "text/plain": [
              "product_id                                                  32034\n",
              "product_name     Kensington Orbit Optical Trackball Mouse - 64327\n",
              "description     Kensington Orbit Optical Trackball Mouse - 643...\n",
              "price                                                      $38.00\n",
              "Name: 377, dtype: object"
            ]
          },
          "metadata": {}
        },
        {
          "output_type": "display_data",
          "data": {
            "text/plain": [
              "product_id                                                  32054\n",
              "product_name                       Haier 13' TV/DVD Combo - TCR13\n",
              "description     Haier 13' TV/DVD Combo - TCR13/ Integrated ATS...\n",
              "price                                                        None\n",
              "Name: 378, dtype: object"
            ]
          },
          "metadata": {}
        },
        {
          "output_type": "display_data",
          "data": {
            "text/plain": [
              "product_id                                                  32055\n",
              "product_name     Twenty20 VholdR Wearable Camcorder Bundle - 1102\n",
              "description     Twenty20 VholdR Wearable Camcorder Bundle - 11...\n",
              "price                                                        None\n",
              "Name: 379, dtype: object"
            ]
          },
          "metadata": {}
        },
        {
          "output_type": "display_data",
          "data": {
            "text/plain": [
              "product_id                                                  32059\n",
              "product_name    Unreal Tournament III Video Game For The Sony ...\n",
              "description     Unreal Tournament III Video Game For The Sony ...\n",
              "price                                                        None\n",
              "Name: 380, dtype: object"
            ]
          },
          "metadata": {}
        },
        {
          "output_type": "display_data",
          "data": {
            "text/plain": [
              "product_id                                                  32112\n",
              "product_name                 Sirius Stiletto 2 Vehicle Kit - SLV2\n",
              "description     Sirius Stiletto 2 Vehicle Kit - SLV2/ Designed...\n",
              "price                                                      $49.00\n",
              "Name: 381, dtype: object"
            ]
          },
          "metadata": {}
        },
        {
          "output_type": "display_data",
          "data": {
            "text/plain": [
              "product_id                                                  32150\n",
              "product_name    Denon Networked Audio System With Built-In iPo...\n",
              "description     Denon Networked Audio System With Built-In iPo...\n",
              "price                                                     $499.00\n",
              "Name: 382, dtype: object"
            ]
          },
          "metadata": {}
        },
        {
          "output_type": "display_data",
          "data": {
            "text/plain": [
              "product_id                                                  32187\n",
              "product_name    Motorola Portable Bluetooth Car Kit Speaker Ph...\n",
              "description     Motorola Portable Bluetooth Car Kit Speaker Ph...\n",
              "price                                                      $69.00\n",
              "Name: 383, dtype: object"
            ]
          },
          "metadata": {}
        },
        {
          "output_type": "display_data",
          "data": {
            "text/plain": [
              "product_id                                                  32193\n",
              "product_name    Sony HD-Handycam 3 Meters (10 Feet) HDMI Mini ...\n",
              "description     Sony HD-Handycam 3 Meters (10 Feet) HDMI Mini ...\n",
              "price                                                      $69.00\n",
              "Name: 384, dtype: object"
            ]
          },
          "metadata": {}
        },
        {
          "output_type": "display_data",
          "data": {
            "text/plain": [
              "product_id                                                  32226\n",
              "product_name    LG DLEX7177RM Cherry Red XL Capacity Electric ...\n",
              "description     LG DLEX7177RM Cherry Red XL Capacity Electric ...\n",
              "price                                                        None\n",
              "Name: 385, dtype: object"
            ]
          },
          "metadata": {}
        },
        {
          "output_type": "display_data",
          "data": {
            "text/plain": [
              "product_id                                                  32228\n",
              "product_name    LG DLEX8377NM Navy Blue XL Capacity Electric S...\n",
              "description     LG DLEX8377NM Navy Blue XL Capacity Electric S...\n",
              "price                                                        None\n",
              "Name: 386, dtype: object"
            ]
          },
          "metadata": {}
        },
        {
          "output_type": "display_data",
          "data": {
            "text/plain": [
              "product_id                                                  32279\n",
              "product_name    LG DLEX7177WM White XL Capacity Electric Steam...\n",
              "description     LG DLEX7177WM White XL Capacity Electric Steam...\n",
              "price                                                        None\n",
              "Name: 387, dtype: object"
            ]
          },
          "metadata": {}
        },
        {
          "output_type": "display_data",
          "data": {
            "text/plain": [
              "product_id                                                  32280\n",
              "product_name    LG DLEX8377WM White XL Capacity Electric Steam...\n",
              "description     LG DLEX8377WM White XL Capacity Electric Steam...\n",
              "price                                                        None\n",
              "Name: 388, dtype: object"
            ]
          },
          "metadata": {}
        },
        {
          "output_type": "display_data",
          "data": {
            "text/plain": [
              "product_id                                                  32314\n",
              "product_name    Altec Lansing Orbit-MP3 Portable Audio System ...\n",
              "description     Altec Lansing Orbit-MP3 Portable Audio System ...\n",
              "price                                                        None\n",
              "Name: 389, dtype: object"
            ]
          },
          "metadata": {}
        },
        {
          "output_type": "display_data",
          "data": {
            "text/plain": [
              "product_id                                                  32315\n",
              "product_name    Uniden Dect 6.0 Accessory Handset  And Chargin...\n",
              "description     Uniden Dect 6.0 Accessory Handset And Charging...\n",
              "price                                                        None\n",
              "Name: 390, dtype: object"
            ]
          },
          "metadata": {}
        },
        {
          "output_type": "display_data",
          "data": {
            "text/plain": [
              "product_id                                                  32322\n",
              "product_name       Fellowes Personal Powershred Shredder - SB97CS\n",
              "description     Fellowes Personal Powershred Shredder - SB97CS...\n",
              "price                                                        None\n",
              "Name: 391, dtype: object"
            ]
          },
          "metadata": {}
        },
        {
          "output_type": "display_data",
          "data": {
            "text/plain": [
              "product_id                                                  32323\n",
              "product_name                     Canon Easy Photo Pack - 1335B001\n",
              "description     Canon Easy Photo Pack - 1335B001/ Combines Ink...\n",
              "price                                                        None\n",
              "Name: 392, dtype: object"
            ]
          },
          "metadata": {}
        },
        {
          "output_type": "display_data",
          "data": {
            "text/plain": [
              "product_id                                                  32340\n",
              "product_name     Klipsch Black Wireless iPod Speaker - ROOMGROOVE\n",
              "description     Klipsch Black Wireless iPod Speaker - ROOMGROO...\n",
              "price                                                     $299.00\n",
              "Name: 393, dtype: object"
            ]
          },
          "metadata": {}
        },
        {
          "output_type": "display_data",
          "data": {
            "text/plain": [
              "product_id                                                  32358\n",
              "product_name       Alpine CD-R/-RW/MP3/AAC/WMA Receiver - CDA9886\n",
              "description     Alpine CD-R/-RW/MP3/AAC/WMA Receiver - CDA9886...\n",
              "price                                                        None\n",
              "Name: 394, dtype: object"
            ]
          },
          "metadata": {}
        },
        {
          "output_type": "display_data",
          "data": {
            "text/plain": [
              "product_id                                                  32384\n",
              "product_name           Logitech QuickCam Communicate STX - 961464\n",
              "description     Logitech QuickCam Communicate STX - 961464/ 64...\n",
              "price                                                      $49.00\n",
              "Name: 395, dtype: object"
            ]
          },
          "metadata": {}
        },
        {
          "output_type": "display_data",
          "data": {
            "text/plain": [
              "product_id                                                  32395\n",
              "product_name    LG WM3988HWA 4.2 Cu Ft White Full Size SteamWa...\n",
              "description     LG WM3988HWA 4.2 Cu Ft White Full Size SteamWa...\n",
              "price                                                        None\n",
              "Name: 396, dtype: object"
            ]
          },
          "metadata": {}
        },
        {
          "output_type": "display_data",
          "data": {
            "text/plain": [
              "product_id                                                  32405\n",
              "product_name    Transcend JetFlash V10 8GB USB Flash Drive - T...\n",
              "description     Transcend JetFlash V10 8GB USB Flash Drive - T...\n",
              "price                                                        None\n",
              "Name: 397, dtype: object"
            ]
          },
          "metadata": {}
        },
        {
          "output_type": "display_data",
          "data": {
            "text/plain": [
              "product_id                                                  32416\n",
              "product_name               GE Amplified Quantum Antenna - TV24775\n",
              "description     GE Amplified Quantum Antenna - TV24775/ Receiv...\n",
              "price                                                        None\n",
              "Name: 398, dtype: object"
            ]
          },
          "metadata": {}
        },
        {
          "output_type": "display_data",
          "data": {
            "text/plain": [
              "product_id                                                  32431\n",
              "product_name    Peerless 42' - 71'  Articulating Flat Panel TV...\n",
              "description     Peerless 42' - 71'  Articulating Flat Panel TV...\n",
              "price                                                        None\n",
              "Name: 399, dtype: object"
            ]
          },
          "metadata": {}
        },
        {
          "output_type": "display_data",
          "data": {
            "text/plain": [
              "product_id                                                  32488\n",
              "product_name    Panasonic Black Expandable Digital Cordless De...\n",
              "description     Panasonic Black Expandable Digital Cordless De...\n",
              "price                                                        None\n",
              "Name: 400, dtype: object"
            ]
          },
          "metadata": {}
        },
        {
          "output_type": "display_data",
          "data": {
            "text/plain": [
              "product_id                                                  32493\n",
              "product_name      Sirius Plug And Play Universal Home Kit - SUPH1\n",
              "description     Sirius Plug And Play Universal Home Kit - SUPH...\n",
              "price                                                      $49.00\n",
              "Name: 401, dtype: object"
            ]
          },
          "metadata": {}
        },
        {
          "output_type": "display_data",
          "data": {
            "text/plain": [
              "product_id                                                  32512\n",
              "product_name    Logitech Blue V470 Cordless Laser Mouse For No...\n",
              "description     Logitech Blue V470 Cordless Laser Mouse For No...\n",
              "price                                                        None\n",
              "Name: 402, dtype: object"
            ]
          },
          "metadata": {}
        },
        {
          "output_type": "display_data",
          "data": {
            "text/plain": [
              "product_id                                                  32546\n",
              "product_name      Belkin Hi-Speed USB 2.0 7-Port Hub - F5U237APLS\n",
              "description     Belkin Hi-Speed USB 2.0 7-Port Hub - F5U237APL...\n",
              "price                                                      $49.00\n",
              "Name: 403, dtype: object"
            ]
          },
          "metadata": {}
        },
        {
          "output_type": "display_data",
          "data": {
            "text/plain": [
              "product_id                                                  32560\n",
              "product_name    Sony Mylo White Personal Communicator - COM2WHITE\n",
              "description     Sony Mylo White Personal Communicator - COM2WH...\n",
              "price                                                        None\n",
              "Name: 404, dtype: object"
            ]
          },
          "metadata": {}
        },
        {
          "output_type": "display_data",
          "data": {
            "text/plain": [
              "product_id                                                  32561\n",
              "product_name    Sony Mylo Black Personal Communicator - COM2BLACK\n",
              "description     Sony Mylo Black Personal Communicator - COM2BL...\n",
              "price                                                        None\n",
              "Name: 405, dtype: object"
            ]
          },
          "metadata": {}
        },
        {
          "output_type": "display_data",
          "data": {
            "text/plain": [
              "product_id                                                  32563\n",
              "product_name    LaCie 500GB USB 2.0 External Hard Drive - 301302U\n",
              "description     LaCie 500GB USB 2.0 External Hard Drive - 3013...\n",
              "price                                                        None\n",
              "Name: 406, dtype: object"
            ]
          },
          "metadata": {}
        },
        {
          "output_type": "display_data",
          "data": {
            "text/plain": [
              "product_id                                                  32579\n",
              "product_name                Netgear Wireless Access Point - WG102\n",
              "description     Netgear Wireless Access Point - WG102/ High-Sp...\n",
              "price                                                     $186.00\n",
              "Name: 407, dtype: object"
            ]
          },
          "metadata": {}
        },
        {
          "output_type": "display_data",
          "data": {
            "text/plain": [
              "product_id                                                  32584\n",
              "product_name    Panasonic PT-AX200U White Home Theater Project...\n",
              "description     Panasonic PT-AX200U White Home Theater Project...\n",
              "price                                                        None\n",
              "Name: 408, dtype: object"
            ]
          },
          "metadata": {}
        },
        {
          "output_type": "display_data",
          "data": {
            "text/plain": [
              "product_id                                                  32625\n",
              "product_name    Logitech diNovo Media Desktop Laser Keyboard A...\n",
              "description     Logitech diNovo Media Desktop Laser Keyboard A...\n",
              "price                                                     $199.00\n",
              "Name: 409, dtype: object"
            ]
          },
          "metadata": {}
        },
        {
          "output_type": "display_data",
          "data": {
            "text/plain": [
              "product_id                                                  32628\n",
              "product_name    Apple 500GB Time Capsule Wireless Hard Drive -...\n",
              "description     Apple 500GB Time Capsule Wireless Hard Drive -...\n",
              "price                                                     $299.00\n",
              "Name: 410, dtype: object"
            ]
          },
          "metadata": {}
        },
        {
          "output_type": "display_data",
          "data": {
            "text/plain": [
              "product_id                                                  32630\n",
              "product_name    Apple 1TB Time Capsule Wireless Hard Drive  - ...\n",
              "description     Apple 1TB Time Capsule Wireless Hard Drive - M...\n",
              "price                                                     $499.00\n",
              "Name: 411, dtype: object"
            ]
          },
          "metadata": {}
        },
        {
          "output_type": "display_data",
          "data": {
            "text/plain": [
              "product_id                                                  32653\n",
              "product_name    Microsoft Office 2008 For Mac Home And Student...\n",
              "description     Microsoft Office 2008 For Mac Home And Student...\n",
              "price                                                        None\n",
              "Name: 412, dtype: object"
            ]
          },
          "metadata": {}
        },
        {
          "output_type": "display_data",
          "data": {
            "text/plain": [
              "product_id                                                  32664\n",
              "product_name    iHome Black Clock Radio Audio System For iPod ...\n",
              "description     iHome Black Clock Radio Audio System For iPod ...\n",
              "price                                                        None\n",
              "Name: 413, dtype: object"
            ]
          },
          "metadata": {}
        },
        {
          "output_type": "display_data",
          "data": {
            "text/plain": [
              "product_id                                                  32688\n",
              "product_name          Pioneer Single Din CD Receiver - DEHP3000IB\n",
              "description     Pioneer Single Din CD Receiver - DEHP3000IB/ 7...\n",
              "price                                                        None\n",
              "Name: 414, dtype: object"
            ]
          },
          "metadata": {}
        },
        {
          "output_type": "display_data",
          "data": {
            "text/plain": [
              "product_id                                                  32744\n",
              "product_name    Sirius Satellite Radio Universal Car Tuner - SCC1\n",
              "description     Sirius Satellite Radio Universal Car Tuner - S...\n",
              "price                                                        None\n",
              "Name: 415, dtype: object"
            ]
          },
          "metadata": {}
        },
        {
          "output_type": "display_data",
          "data": {
            "text/plain": [
              "product_id                                                  32874\n",
              "product_name    Garmin 010-10723-00 AC Adapter Cable With Inte...\n",
              "description     Garmin 010-10723-00 AC Adapter Cable With Inte...\n",
              "price                                                        None\n",
              "Name: 416, dtype: object"
            ]
          },
          "metadata": {}
        },
        {
          "output_type": "display_data",
          "data": {
            "text/plain": [
              "product_id                                                  32875\n",
              "product_name       Garmin 010-10723-02 Carrying Case - 0101072302\n",
              "description     Garmin 010-10723-02 Carrying Case - 0101072302...\n",
              "price                                                        None\n",
              "Name: 417, dtype: object"
            ]
          },
          "metadata": {}
        },
        {
          "output_type": "display_data",
          "data": {
            "text/plain": [
              "product_id                                                  32876\n",
              "product_name       Garmin 010-10823-01 Carrying Case - 0101082301\n",
              "description     Garmin 010-10823-01 Carrying Case - 0101082301...\n",
              "price                                                        None\n",
              "Name: 418, dtype: object"
            ]
          },
          "metadata": {}
        },
        {
          "output_type": "display_data",
          "data": {
            "text/plain": [
              "product_id                                                  32877\n",
              "product_name     Garmin Nuvi Portable Friction Mount - 0101090800\n",
              "description     Garmin Nuvi Portable Friction Mount - 01010908...\n",
              "price                                                      $39.00\n",
              "Name: 419, dtype: object"
            ]
          },
          "metadata": {}
        },
        {
          "output_type": "display_data",
          "data": {
            "text/plain": [
              "product_id                                                  32878\n",
              "product_name        Garmin Vehicle Suction Cup Mount - 0101093600\n",
              "description     Garmin Vehicle Suction Cup Mount - 0101093600/...\n",
              "price                                                      $25.00\n",
              "Name: 420, dtype: object"
            ]
          },
          "metadata": {}
        },
        {
          "output_type": "display_data",
          "data": {
            "text/plain": [
              "product_id                                                  32880\n",
              "product_name    Garmin Suction Cup Mount And 12-Volt Adapter K...\n",
              "description     Garmin Suction Cup Mount And 12-Volt Adapter K...\n",
              "price                                                      $30.00\n",
              "Name: 421, dtype: object"
            ]
          },
          "metadata": {}
        },
        {
          "output_type": "display_data",
          "data": {
            "text/plain": [
              "product_id                                                  32882\n",
              "product_name    Pioneer Remote Control With DVD/Audio Controls...\n",
              "description     Pioneer Remote Control With DVD/Audio Controls...\n",
              "price                                                      $19.00\n",
              "Name: 422, dtype: object"
            ]
          },
          "metadata": {}
        },
        {
          "output_type": "display_data",
          "data": {
            "text/plain": [
              "product_id                                                  32889\n",
              "product_name                Pioneer Sirius Bus Interface - CDSB10\n",
              "description     Pioneer Sirius Bus Interface - CDSB10/ Sirius ...\n",
              "price                                                      $68.00\n",
              "Name: 423, dtype: object"
            ]
          },
          "metadata": {}
        },
        {
          "output_type": "display_data",
          "data": {
            "text/plain": [
              "product_id                                                  32893\n",
              "product_name                    Pioneer HD Radio Tuner - GEXP10HD\n",
              "description     Pioneer HD Radio Tuner - GEXP10HD/ Compatible ...\n",
              "price                                                     $100.00\n",
              "Name: 424, dtype: object"
            ]
          },
          "metadata": {}
        },
        {
          "output_type": "display_data",
          "data": {
            "text/plain": [
              "product_id                                                  32906\n",
              "product_name    Sirius Dock And Play Universal Vehicle Kit - S...\n",
              "description     Sirius Dock And Play Universal Vehicle Kit - S...\n",
              "price                                                      $49.00\n",
              "Name: 425, dtype: object"
            ]
          },
          "metadata": {}
        },
        {
          "output_type": "display_data",
          "data": {
            "text/plain": [
              "product_id                                                  32984\n",
              "product_name    Peerless Flat Panel Display Mount Black Finish...\n",
              "description     Peerless Flat Panel Display Mount Black Finish...\n",
              "price                                                        None\n",
              "Name: 426, dtype: object"
            ]
          },
          "metadata": {}
        },
        {
          "output_type": "display_data",
          "data": {
            "text/plain": [
              "product_id                                                  32986\n",
              "product_name    Panasonic KX-TGA820B Black DECT 6.0 Cordless H...\n",
              "description     Panasonic KX-TGA820B Black DECT 6.0 Cordless H...\n",
              "price                                                        None\n",
              "Name: 427, dtype: object"
            ]
          },
          "metadata": {}
        },
        {
          "output_type": "display_data",
          "data": {
            "text/plain": [
              "product_id                                                  32990\n",
              "product_name    Toshiba Black Progressive Scan DVD Player - SD...\n",
              "description     Toshiba Black Progressive Scan DVD Player - SD...\n",
              "price                                                        None\n",
              "Name: 428, dtype: object"
            ]
          },
          "metadata": {}
        },
        {
          "output_type": "display_data",
          "data": {
            "text/plain": [
              "product_id                                                  33021\n",
              "product_name    Electrolux Harmony Series Canister Vacuum - EL...\n",
              "description     Electrolux Harmony Series Canister Vacuum - EL...\n",
              "price                                                     $299.99\n",
              "Name: 429, dtype: object"
            ]
          },
          "metadata": {}
        },
        {
          "output_type": "display_data",
          "data": {
            "text/plain": [
              "product_id                                                  33024\n",
              "product_name    Sennheiser Rechargeable Nickel-Metal Hydride B...\n",
              "description     Sennheiser Rechargeable Nickel-Metal Hydride B...\n",
              "price                                                      $20.00\n",
              "Name: 430, dtype: object"
            ]
          },
          "metadata": {}
        },
        {
          "output_type": "display_data",
          "data": {
            "text/plain": [
              "product_id                                                  33026\n",
              "product_name    Sanus 15' - 37' VisionMount Full-Motion Flat P...\n",
              "description     Sanus 15' - 37' VisionMount Full-Motion Flat P...\n",
              "price                                                        None\n",
              "Name: 431, dtype: object"
            ]
          },
          "metadata": {}
        },
        {
          "output_type": "display_data",
          "data": {
            "text/plain": [
              "product_id                                                  33044\n",
              "product_name              Canon Green Photo Ink Cartridge - CLI8G\n",
              "description     Canon Green Photo Ink Cartridge - CLI8G/ FINE ...\n",
              "price                                                      $16.00\n",
              "Name: 432, dtype: object"
            ]
          },
          "metadata": {}
        },
        {
          "output_type": "display_data",
          "data": {
            "text/plain": [
              "product_id                                                  33045\n",
              "product_name                Canon Red Photo Ink Cartridge - CLI8R\n",
              "description     Canon Red Photo Ink Cartridge - CLI8R/ FINE Te...\n",
              "price                                                      $16.00\n",
              "Name: 433, dtype: object"
            ]
          },
          "metadata": {}
        },
        {
          "output_type": "display_data",
          "data": {
            "text/plain": [
              "product_id                                                  33047\n",
              "product_name              Canon Black Photo Ink Cartridge - CLI8B\n",
              "description     Canon Black Photo Ink Cartridge - CLI8B/ FINE ...\n",
              "price                                                      $16.00\n",
              "Name: 434, dtype: object"
            ]
          },
          "metadata": {}
        },
        {
          "output_type": "display_data",
          "data": {
            "text/plain": [
              "product_id                                                  33053\n",
              "product_name    Netgear ProSafe 5 Port 10/100 Desktop Switch -...\n",
              "description     Netgear ProSafe 5 Port 10/100 Desktop Switch -...\n",
              "price                                                      $40.00\n",
              "Name: 435, dtype: object"
            ]
          },
          "metadata": {}
        },
        {
          "output_type": "display_data",
          "data": {
            "text/plain": [
              "product_id                                                  33057\n",
              "product_name    Pioneer Premier In-Dash CD/WMA/MP3/AAC Receive...\n",
              "description     Pioneer Premier In-Dash CD/WMA/MP3/AAC Receive...\n",
              "price                                                     $183.00\n",
              "Name: 436, dtype: object"
            ]
          },
          "metadata": {}
        },
        {
          "output_type": "display_data",
          "data": {
            "text/plain": [
              "product_id                                                  33081\n",
              "product_name    Pioneer DEH-2000MP CD/MP3/WMA In-Dash Receiver...\n",
              "description     Pioneer DEH-2000MP CD/MP3/WMA In-Dash Receiver...\n",
              "price                                                      $98.00\n",
              "Name: 437, dtype: object"
            ]
          },
          "metadata": {}
        },
        {
          "output_type": "display_data",
          "data": {
            "text/plain": [
              "product_id                                                  33150\n",
              "product_name    Pioneer Premier In-Dash CD/WMA/MP3/AAC Receive...\n",
              "description     Pioneer Premier In-Dash CD/WMA/MP3/AAC Receive...\n",
              "price                                                     $208.00\n",
              "Name: 438, dtype: object"
            ]
          },
          "metadata": {}
        },
        {
          "output_type": "display_data",
          "data": {
            "text/plain": [
              "product_id                                                  33157\n",
              "product_name    Sony 40GB High Definition Hard Disk Drive Hand...\n",
              "description     Sony 40GB High Definition Hard Disk Drive Hand...\n",
              "price                                                        None\n",
              "Name: 439, dtype: object"
            ]
          },
          "metadata": {}
        },
        {
          "output_type": "display_data",
          "data": {
            "text/plain": [
              "product_id                                                  33158\n",
              "product_name    Sony 60GB High Definition Hard Disk Drive Hand...\n",
              "description     Sony 60GB High Definition Hard Disk Drive Hand...\n",
              "price                                                        None\n",
              "Name: 440, dtype: object"
            ]
          },
          "metadata": {}
        },
        {
          "output_type": "display_data",
          "data": {
            "text/plain": [
              "product_id                                                  33159\n",
              "product_name    Cuisinart Stainless Steel 4-Quart Programmable...\n",
              "description     Cuisinart Stainless Steel 4-Quart Programmable...\n",
              "price                                                        None\n",
              "Name: 441, dtype: object"
            ]
          },
          "metadata": {}
        },
        {
          "output_type": "display_data",
          "data": {
            "text/plain": [
              "product_id                                                  33160\n",
              "product_name    Sony 120GB High Definition Hard Disk Drive Han...\n",
              "description     Sony 120GB High Definition Hard Disk Drive Han...\n",
              "price                                                        None\n",
              "Name: 442, dtype: object"
            ]
          },
          "metadata": {}
        },
        {
          "output_type": "display_data",
          "data": {
            "text/plain": [
              "product_id                                                  33161\n",
              "product_name    Sony High Definition HDV Handycam Camcorder - ...\n",
              "description     Sony High Definition HDV Handycam Camcorder - ...\n",
              "price                                                        None\n",
              "Name: 443, dtype: object"
            ]
          },
          "metadata": {}
        },
        {
          "output_type": "display_data",
          "data": {
            "text/plain": [
              "product_id                                                  33175\n",
              "product_name    Sony Silver Cyber-Shot 7.2 Megapixel Digital C...\n",
              "description     Sony Silver Cyber-Shot 7.2 Megapixel Digital C...\n",
              "price                                                        None\n",
              "Name: 444, dtype: object"
            ]
          },
          "metadata": {}
        },
        {
          "output_type": "display_data",
          "data": {
            "text/plain": [
              "product_id                                                  33177\n",
              "product_name    Sony Pink Cyber-Shot 7.2 Megapixel Digital Cam...\n",
              "description     Sony Pink Cyber-Shot 7.2 Megapixel Digital Cam...\n",
              "price                                                        None\n",
              "Name: 445, dtype: object"
            ]
          },
          "metadata": {}
        },
        {
          "output_type": "display_data",
          "data": {
            "text/plain": [
              "product_id                                                  33209\n",
              "product_name        Sony 7' Digital Photo Frame In Black - DPFD70\n",
              "description     Sony 7' Digital Photo Frame - DPFD70/ 7' LCD W...\n",
              "price                                                     $139.00\n",
              "Name: 446, dtype: object"
            ]
          },
          "metadata": {}
        },
        {
          "output_type": "display_data",
          "data": {
            "text/plain": [
              "product_id                                                  33219\n",
              "product_name    Peerless 32' - 50' Articulating Flat Panel TV ...\n",
              "description     Peerless 32' - 50' Articulating Flat Panel TV ...\n",
              "price                                                        None\n",
              "Name: 447, dtype: object"
            ]
          },
          "metadata": {}
        },
        {
          "output_type": "display_data",
          "data": {
            "text/plain": [
              "product_id                                                  33220\n",
              "product_name       Sony 9' Digital Photo Frame In Black - DPFV900\n",
              "description     Sony 9' Digital Photo Frame - DPFV900/ 9' LCD ...\n",
              "price                                                        None\n",
              "Name: 448, dtype: object"
            ]
          },
          "metadata": {}
        },
        {
          "output_type": "display_data",
          "data": {
            "text/plain": [
              "product_id                                                  33263\n",
              "product_name    Alpine V-Power Series 4/3/2 Channel Power Ampl...\n",
              "description     Alpine V-Power Series 4/3/2 Channel Power Ampl...\n",
              "price                                                        None\n",
              "Name: 449, dtype: object"
            ]
          },
          "metadata": {}
        },
        {
          "output_type": "display_data",
          "data": {
            "text/plain": [
              "product_id                                                  33271\n",
              "product_name        Canon Vixia High Definition Camcorder - HF100\n",
              "description     Canon Vixia High Definition Camcorder - HF100/...\n",
              "price                                                        None\n",
              "Name: 450, dtype: object"
            ]
          },
          "metadata": {}
        },
        {
          "output_type": "display_data",
          "data": {
            "text/plain": [
              "product_id                                                  33272\n",
              "product_name                          Canon DVD Camcorder - DC310\n",
              "description     Canon 2694B001 DVD Camcorder - DC310/ Image St...\n",
              "price                                                        None\n",
              "Name: 451, dtype: object"
            ]
          },
          "metadata": {}
        },
        {
          "output_type": "display_data",
          "data": {
            "text/plain": [
              "product_id                                                  33273\n",
              "product_name                          Canon DVD Camcorder - DC320\n",
              "description     Canon DVD Camcorder - DC320/ Image Stabilizati...\n",
              "price                                                        None\n",
              "Name: 452, dtype: object"
            ]
          },
          "metadata": {}
        },
        {
          "output_type": "display_data",
          "data": {
            "text/plain": [
              "product_id                                                  33275\n",
              "product_name         Canon Vixia High Definition Camcorder - HV30\n",
              "description     Canon Vixia High Definition Camcorder - HV30/ ...\n",
              "price                                                        None\n",
              "Name: 453, dtype: object"
            ]
          },
          "metadata": {}
        },
        {
          "output_type": "display_data",
          "data": {
            "text/plain": [
              "product_id                                                  33276\n",
              "product_name    Transcend 133X High-Speed 4GB Compact Flash Ca...\n",
              "description     Transcend 133X High-Speed 4GB Compact Flash Ca...\n",
              "price                                                        None\n",
              "Name: 454, dtype: object"
            ]
          },
          "metadata": {}
        },
        {
          "output_type": "display_data",
          "data": {
            "text/plain": [
              "product_id                                                  33277\n",
              "product_name         Canon Silver Flash Memory Camcorder - FS100S\n",
              "description     Canon Silver Flash Memory Camcorder - FS100S/ ...\n",
              "price                                                        None\n",
              "Name: 455, dtype: object"
            ]
          },
          "metadata": {}
        },
        {
          "output_type": "display_data",
          "data": {
            "text/plain": [
              "product_id                                                  33278\n",
              "product_name      Canon Silver Dual Flash Memory Camcorder - FS11\n",
              "description     Canon Silver Dual Flash Memory Camcorder - FS1...\n",
              "price                                                        None\n",
              "Name: 456, dtype: object"
            ]
          },
          "metadata": {}
        },
        {
          "output_type": "display_data",
          "data": {
            "text/plain": [
              "product_id                                                  33279\n",
              "product_name      Canon Silver Dual Flash Memory Camcorder - FS10\n",
              "description     Canon Silver Dual Flash Memory Camcorder - FS1...\n",
              "price                                                        None\n",
              "Name: 457, dtype: object"
            ]
          },
          "metadata": {}
        },
        {
          "output_type": "display_data",
          "data": {
            "text/plain": [
              "product_id                                                  33280\n",
              "product_name         Canon Vixia High Definition Camcorder - HF10\n",
              "description     Canon Vixia High Definition Camcorder - HF10/ ...\n",
              "price                                                        None\n",
              "Name: 458, dtype: object"
            ]
          },
          "metadata": {}
        },
        {
          "output_type": "display_data",
          "data": {
            "text/plain": [
              "product_id                                                  33298\n",
              "product_name    SIRIUS SiriusConnect Vehicle Kit In Black - SC...\n",
              "description     SIRIUS SiriusConnect Vehicle Kit In Black - SC...\n",
              "price                                                      $59.00\n",
              "Name: 459, dtype: object"
            ]
          },
          "metadata": {}
        },
        {
          "output_type": "display_data",
          "data": {
            "text/plain": [
              "product_id                                                  33326\n",
              "product_name    Sharp AQUOS 52' Special Edition LCD Black Flat...\n",
              "description     Sharp AQUOS 52' Special Edition LCD Black Flat...\n",
              "price                                                        None\n",
              "Name: 460, dtype: object"
            ]
          },
          "metadata": {}
        },
        {
          "output_type": "display_data",
          "data": {
            "text/plain": [
              "product_id                                                  33327\n",
              "product_name    Weber Spirit SP-320 Stainless Steel Liquid Pro...\n",
              "description     Weber Spirit SP-320 Stainless Steel Liquid Pro...\n",
              "price                                                        None\n",
              "Name: 461, dtype: object"
            ]
          },
          "metadata": {}
        },
        {
          "output_type": "display_data",
          "data": {
            "text/plain": [
              "product_id                                                  33377\n",
              "product_name          Linksys Wireless-G Ethernet Bridge - WET54G\n",
              "description     Linksys Wireless-G Ethernet Bridge - WET54G/ C...\n",
              "price                                                      $89.00\n",
              "Name: 462, dtype: object"
            ]
          },
          "metadata": {}
        },
        {
          "output_type": "display_data",
          "data": {
            "text/plain": [
              "product_id                                                  33382\n",
              "product_name    Yamaha RX-V363BL 5.1 Channel Digital Home Thea...\n",
              "description     Yamaha RX-V363BL 5.1 Channel Digital Home Thea...\n",
              "price                                                     $199.00\n",
              "Name: 463, dtype: object"
            ]
          },
          "metadata": {}
        },
        {
          "output_type": "display_data",
          "data": {
            "text/plain": [
              "product_id                                                  33431\n",
              "product_name      Sony Silver MiniDV Handycam Camcorder - DCRHC52\n",
              "description     Sony Silver MiniDV Handycam Camcorder - DCRHC5...\n",
              "price                                                        None\n",
              "Name: 464, dtype: object"
            ]
          },
          "metadata": {}
        },
        {
          "output_type": "display_data",
          "data": {
            "text/plain": [
              "product_id                                                  33437\n",
              "product_name    Yamaha  All-Weather Pair Speaker System - NSAW...\n",
              "description     Yamaha NS-AW390WH All-Weather Speaker System -...\n",
              "price                                                     $149.00\n",
              "Name: 465, dtype: object"
            ]
          },
          "metadata": {}
        },
        {
          "output_type": "display_data",
          "data": {
            "text/plain": [
              "product_id                                                  33438\n",
              "product_name    Sony 30GB Handycam Hard Disk Drive Camcorder -...\n",
              "description     Sony 30GB Handycam Hard Disk Drive Camcorder -...\n",
              "price                                                        None\n",
              "Name: 466, dtype: object"
            ]
          },
          "metadata": {}
        },
        {
          "output_type": "display_data",
          "data": {
            "text/plain": [
              "product_id                                                  33439\n",
              "product_name    Yamaha NS-AW390BL All-Weather Pair Speaker Sys...\n",
              "description     Yamaha NS-AW390BL All-Weather Speaker System -...\n",
              "price                                                     $149.00\n",
              "Name: 467, dtype: object"
            ]
          },
          "metadata": {}
        },
        {
          "output_type": "display_data",
          "data": {
            "text/plain": [
              "product_id                                                  33440\n",
              "product_name    Yamaha NS-AW190BL All-Weather Pair Speaker Sys...\n",
              "description     Yamaha NS-AW190BL All-Weather Speaker System -...\n",
              "price                                                      $99.00\n",
              "Name: 468, dtype: object"
            ]
          },
          "metadata": {}
        },
        {
          "output_type": "display_data",
          "data": {
            "text/plain": [
              "product_id                                                  33443\n",
              "product_name    Sony 60GB Handycam Hard Disk Drive Camcorder -...\n",
              "description     Sony 60GB Handycam Hard Disk Drive Camcorder -...\n",
              "price                                                        None\n",
              "Name: 469, dtype: object"
            ]
          },
          "metadata": {}
        },
        {
          "output_type": "display_data",
          "data": {
            "text/plain": [
              "product_id                                                  33444\n",
              "product_name    Sony High Definition DVD Handycam Camcorder - ...\n",
              "description     Sony High Definition DVD Handycam Camcorder - ...\n",
              "price                                                        None\n",
              "Name: 470, dtype: object"
            ]
          },
          "metadata": {}
        },
        {
          "output_type": "display_data",
          "data": {
            "text/plain": [
              "product_id                                                  33452\n",
              "product_name    Yamaha 7.2 Channel Black Digital Home Theater ...\n",
              "description     Yamaha 7.2 Channel Black Digital Home Theater ...\n",
              "price                                                     $499.00\n",
              "Name: 471, dtype: object"
            ]
          },
          "metadata": {}
        },
        {
          "output_type": "display_data",
          "data": {
            "text/plain": [
              "product_id                                                  33453\n",
              "product_name    Yamaha 7.2 Channel Black Digital Home Theater ...\n",
              "description     Yamaha 7.2 Channel Black Digital Home Theater ...\n",
              "price                                                     $899.00\n",
              "Name: 472, dtype: object"
            ]
          },
          "metadata": {}
        },
        {
          "output_type": "display_data",
          "data": {
            "text/plain": [
              "product_id                                                  33455\n",
              "product_name    Yamaha 5.1 Channel Home Theater In A Box Syste...\n",
              "description     Yamaha 5.1 Channel Home Theater In A Box Syste...\n",
              "price                                                     $399.00\n",
              "Name: 473, dtype: object"
            ]
          },
          "metadata": {}
        },
        {
          "output_type": "display_data",
          "data": {
            "text/plain": [
              "product_id                                                  33458\n",
              "product_name               Apple MacBook Air SuperDrive - MB397GA\n",
              "description     Apple MacBook Air SuperDrive - MB397GA/ Compac...\n",
              "price                                                      $99.00\n",
              "Name: 474, dtype: object"
            ]
          },
          "metadata": {}
        },
        {
          "output_type": "display_data",
          "data": {
            "text/plain": [
              "product_id                                                  33464\n",
              "product_name    KitchenAid ProLine Series 16 Cup Food Processo...\n",
              "description     KitchenAid ProLine Series 16 Cup Food Processo...\n",
              "price                                                        None\n",
              "Name: 475, dtype: object"
            ]
          },
          "metadata": {}
        },
        {
          "output_type": "display_data",
          "data": {
            "text/plain": [
              "product_id                                                  33467\n",
              "product_name      Sony Silver Cyber-Shot Digital Camera - DSCS750\n",
              "description     Sony Silver Cyber-Shot Digital Camera - DSCS75...\n",
              "price                                                        None\n",
              "Name: 476, dtype: object"
            ]
          },
          "metadata": {}
        },
        {
          "output_type": "display_data",
          "data": {
            "text/plain": [
              "product_id                                                  33471\n",
              "product_name      Sony Silver Cyber-Shot Digital Camera - DSCW150\n",
              "description     Sony Silver Cyber-Shot Digital Camera - DSCW15...\n",
              "price                                                        None\n",
              "Name: 477, dtype: object"
            ]
          },
          "metadata": {}
        },
        {
          "output_type": "display_data",
          "data": {
            "text/plain": [
              "product_id                                                  33472\n",
              "product_name    Transcend 2GB 133x Ultra Speed Compact Flash C...\n",
              "description     Transcend 2GB 133x Ultra Speed Compact Flash C...\n",
              "price                                                        None\n",
              "Name: 478, dtype: object"
            ]
          },
          "metadata": {}
        },
        {
          "output_type": "display_data",
          "data": {
            "text/plain": [
              "product_id                                                  33476\n",
              "product_name      Sony Black Cyber-Shot Digital Camera - DSCW150B\n",
              "description     Sony DSCW150 Black Cyber-Shot Digital Camera -...\n",
              "price                                                        None\n",
              "Name: 479, dtype: object"
            ]
          },
          "metadata": {}
        },
        {
          "output_type": "display_data",
          "data": {
            "text/plain": [
              "product_id                                                  33477\n",
              "product_name        Sony Red Cyber-Shot Digital Camera - DSCW150R\n",
              "description     Sony DSCW150 Red Cyber-Shot Digital Camera - D...\n",
              "price                                                        None\n",
              "Name: 480, dtype: object"
            ]
          },
          "metadata": {}
        },
        {
          "output_type": "display_data",
          "data": {
            "text/plain": [
              "product_id                                                  33478\n",
              "product_name       Sony Gold Cyber-Shot Digital Camera - DSCW150N\n",
              "description     Sony DSCW150 Gold Cyber-Shot Digital Camera - ...\n",
              "price                                                        None\n",
              "Name: 481, dtype: object"
            ]
          },
          "metadata": {}
        },
        {
          "output_type": "display_data",
          "data": {
            "text/plain": [
              "product_id                                                  33485\n",
              "product_name      Sony Silver Cyber-Shot Digital Camera - DSCW170\n",
              "description     Sony Silver Cyber-Shot Digital Camera - DSCW17...\n",
              "price                                                        None\n",
              "Name: 482, dtype: object"
            ]
          },
          "metadata": {}
        },
        {
          "output_type": "display_data",
          "data": {
            "text/plain": [
              "product_id                                                  33488\n",
              "product_name        Sony Red Cyber-Shot Digital Camera - DSCW170R\n",
              "description     Sony DSCW170 Red Cyber-Shot Digital Camera - D...\n",
              "price                                                        None\n",
              "Name: 483, dtype: object"
            ]
          },
          "metadata": {}
        },
        {
          "output_type": "display_data",
          "data": {
            "text/plain": [
              "product_id                                                  33490\n",
              "product_name    Nikon D60 Digital Camera With 18-55MM Lens - D...\n",
              "description     Nikon D60 Digital Camera With 18-55MM Lens - D...\n",
              "price                                                        None\n",
              "Name: 484, dtype: object"
            ]
          },
          "metadata": {}
        },
        {
          "output_type": "display_data",
          "data": {
            "text/plain": [
              "product_id                                                  33493\n",
              "product_name     Canon PIXMA MX850 Multifunction Printer - MX850C\n",
              "description     Canon PIXMA MX850 Multifunction Printer - MX85...\n",
              "price                                                        None\n",
              "Name: 485, dtype: object"
            ]
          },
          "metadata": {}
        },
        {
          "output_type": "display_data",
          "data": {
            "text/plain": [
              "product_id                                                  33496\n",
              "product_name    Canon Silver 8.0 Megapixel PowerShot Digital C...\n",
              "description     Canon Silver 8.0 Megapixel PowerShot Digital C...\n",
              "price                                                        None\n",
              "Name: 486, dtype: object"
            ]
          },
          "metadata": {}
        },
        {
          "output_type": "display_data",
          "data": {
            "text/plain": [
              "product_id                                                  33498\n",
              "product_name    Canon Blue 8.0 Megapixel PowerShot Digital Cam...\n",
              "description     Canon Blue 8.0 Megapixel PowerShot Digital Cam...\n",
              "price                                                        None\n",
              "Name: 487, dtype: object"
            ]
          },
          "metadata": {}
        },
        {
          "output_type": "display_data",
          "data": {
            "text/plain": [
              "product_id                                                  33499\n",
              "product_name    Cuisinart Stainless Steel Convection Toaster O...\n",
              "description     Cuisinart Stainless Steel Convection Toaster O...\n",
              "price                                                        None\n",
              "Name: 488, dtype: object"
            ]
          },
          "metadata": {}
        },
        {
          "output_type": "display_data",
          "data": {
            "text/plain": [
              "product_id                                                  33508\n",
              "product_name    Canon Black 8.0 Megapixel PowerShot Digital Ca...\n",
              "description     Canon Black 8.0 Megapixel PowerShot Digital Ca...\n",
              "price                                                        None\n",
              "Name: 489, dtype: object"
            ]
          },
          "metadata": {}
        },
        {
          "output_type": "display_data",
          "data": {
            "text/plain": [
              "product_id                                                  33510\n",
              "product_name    Monster Mini-To-Mini iCable For Car - AICMINIIP3S\n",
              "description     Monster Mini-To-Mini iCable For Car - AICMINII...\n",
              "price                                                      $15.00\n",
              "Name: 490, dtype: object"
            ]
          },
          "metadata": {}
        },
        {
          "output_type": "display_data",
          "data": {
            "text/plain": [
              "product_id                                                  33522\n",
              "product_name    Canon Black EOS Rebel XSi Digital SLR Camera -...\n",
              "description     Canon Black EOS Rebel XSi Digital SLR Camera -...\n",
              "price                                                        None\n",
              "Name: 491, dtype: object"
            ]
          },
          "metadata": {}
        },
        {
          "output_type": "display_data",
          "data": {
            "text/plain": [
              "product_id                                                  33532\n",
              "product_name       TomTom GPS Mount And USB Car Charger - 9N00101\n",
              "description     TomTom GPS Mount And USB Car Charger - 9N00101...\n",
              "price                                                      $39.00\n",
              "Name: 492, dtype: object"
            ]
          },
          "metadata": {}
        },
        {
          "output_type": "display_data",
          "data": {
            "text/plain": [
              "product_id                                                  33536\n",
              "product_name    Elgato TV Receiver And Video Converter For Ana...\n",
              "description     Elgato TV Receiver And Video Converter For Ana...\n",
              "price                                                        None\n",
              "Name: 493, dtype: object"
            ]
          },
          "metadata": {}
        },
        {
          "output_type": "display_data",
          "data": {
            "text/plain": [
              "product_id                                                  33537\n",
              "product_name                   Elgato Mac EyeTV Hybrid - 10020630\n",
              "description     Elgato Mac EyeTV Hybrid - 10020630/ Built-In P...\n",
              "price                                                        None\n",
              "Name: 494, dtype: object"
            ]
          },
          "metadata": {}
        },
        {
          "output_type": "display_data",
          "data": {
            "text/plain": [
              "product_id                                                  33562\n",
              "product_name       Sony Cyber-Shot Black Digital Camera - DSCH10B\n",
              "description     Sony DSCH10 Cyber-Shot Black Digital Camera - ...\n",
              "price                                                        None\n",
              "Name: 495, dtype: object"
            ]
          },
          "metadata": {}
        },
        {
          "output_type": "display_data",
          "data": {
            "text/plain": [
              "product_id                                                  33563\n",
              "product_name    Panasonic VIERA 42' Plasma Flat Panel HDTV In ...\n",
              "description     Panasonic VIERA 42' Plasma Flat Panel HDTV In ...\n",
              "price                                                        None\n",
              "Name: 496, dtype: object"
            ]
          },
          "metadata": {}
        },
        {
          "output_type": "display_data",
          "data": {
            "text/plain": [
              "product_id                                                  33564\n",
              "product_name       Denon Blu-ray Disc DVD/CD Player - DVD3800BDCI\n",
              "description     Denon Blu-ray Disc DVD/CD Player - DVD3800BDCI...\n",
              "price                                                   $1,999.00\n",
              "Name: 497, dtype: object"
            ]
          },
          "metadata": {}
        },
        {
          "output_type": "display_data",
          "data": {
            "text/plain": [
              "product_id                                                  33566\n",
              "product_name    Panasonic VIERA 50' Plasma Flat Panel HDTV In ...\n",
              "description     Panasonic VIERA 50' Plasma Flat Panel HDTV In ...\n",
              "price                                                        None\n",
              "Name: 498, dtype: object"
            ]
          },
          "metadata": {}
        },
        {
          "output_type": "display_data",
          "data": {
            "text/plain": [
              "product_id                                                  33569\n",
              "product_name    Panasonic VIERA 42' Plasma Flat Panel 1080p HD...\n",
              "description     Panasonic VIERA 42' Plasma Flat Panel 1080p HD...\n",
              "price                                                        None\n",
              "Name: 499, dtype: object"
            ]
          },
          "metadata": {}
        },
        {
          "output_type": "display_data",
          "data": {
            "text/plain": [
              "product_id                                                  33581\n",
              "product_name    Panasonic VIERA 46' Plasma Flat Panel 1080p HD...\n",
              "description     Panasonic VIERA 46' Plasma Flat Panel 1080p HD...\n",
              "price                                                        None\n",
              "Name: 500, dtype: object"
            ]
          },
          "metadata": {}
        },
        {
          "output_type": "display_data",
          "data": {
            "text/plain": [
              "product_id                                                  33582\n",
              "product_name    Panasonic VIERA 50' Plasma Flat Panel 1080p HD...\n",
              "description     Panasonic VIERA 50' Plasma Flat Panel 1080p HD...\n",
              "price                                                        None\n",
              "Name: 501, dtype: object"
            ]
          },
          "metadata": {}
        },
        {
          "output_type": "display_data",
          "data": {
            "text/plain": [
              "product_id                                                  33586\n",
              "product_name            Sharp Aquos 32' Black LCD HDTV - LC32D64U\n",
              "description     Sharp Aquos 32' Black LCD HDTV - LC32D64U/ 192...\n",
              "price                                                        None\n",
              "Name: 502, dtype: object"
            ]
          },
          "metadata": {}
        },
        {
          "output_type": "display_data",
          "data": {
            "text/plain": [
              "product_id                                                  33591\n",
              "product_name    Panasonic VIERA 42' Plasma Flat Panel 1080p HD...\n",
              "description     Panasonic VIERA 42' Plasma Flat Panel 1080p HD...\n",
              "price                                                        None\n",
              "Name: 503, dtype: object"
            ]
          },
          "metadata": {}
        },
        {
          "output_type": "display_data",
          "data": {
            "text/plain": [
              "product_id                                                  33595\n",
              "product_name    Panasonic VIERA 46' Plasma Flat Panel 1080p HD...\n",
              "description     Panasonic VIERA 46' Plasma Flat Panel 1080p HD...\n",
              "price                                                        None\n",
              "Name: 504, dtype: object"
            ]
          },
          "metadata": {}
        },
        {
          "output_type": "display_data",
          "data": {
            "text/plain": [
              "product_id                                                  33600\n",
              "product_name    Panasonic VIERA 50' Plasma Flat Panel 1080p HD...\n",
              "description     Panasonic VIERA 50' Plasma Flat Panel 1080p HD...\n",
              "price                                                        None\n",
              "Name: 505, dtype: object"
            ]
          },
          "metadata": {}
        },
        {
          "output_type": "display_data",
          "data": {
            "text/plain": [
              "product_id                                                  33601\n",
              "product_name       TomTom GPS Mount And USB Car Charger - 9S00006\n",
              "description     TomTom GPS Mount And USB Car Charger - 9S00006...\n",
              "price                                                      $28.00\n",
              "Name: 506, dtype: object"
            ]
          },
          "metadata": {}
        },
        {
          "output_type": "display_data",
          "data": {
            "text/plain": [
              "product_id                                                  33612\n",
              "product_name           Panasonic 26' LCD HDTV In Black - TC26LX85\n",
              "description     Panasonic VIERA 26' LCD HDTV In Black - TC26LX...\n",
              "price                                                        None\n",
              "Name: 507, dtype: object"
            ]
          },
          "metadata": {}
        },
        {
          "output_type": "display_data",
          "data": {
            "text/plain": [
              "product_id                                                  33625\n",
              "product_name    Panasonic VIERA 37' 1080p LCD HDTV In Black - ...\n",
              "description     Panasonic VIERA 37' 1080p LCD HDTV In Black - ...\n",
              "price                                                        None\n",
              "Name: 508, dtype: object"
            ]
          },
          "metadata": {}
        },
        {
          "output_type": "display_data",
          "data": {
            "text/plain": [
              "product_id                                                  33630\n",
              "product_name    Toshiba Black 9-Inch LCD Widescreen Portable D...\n",
              "description     Toshiba Black Portable DVD Player - SDP91S/ 9'...\n",
              "price                                                        None\n",
              "Name: 509, dtype: object"
            ]
          },
          "metadata": {}
        },
        {
          "output_type": "display_data",
          "data": {
            "text/plain": [
              "product_id                                                  33637\n",
              "product_name    Toshiba 19' Black LCD HDTV With Built In DVD P...\n",
              "description     Toshiba 19' LCD HDTV With Built In DVD Player ...\n",
              "price                                                        None\n",
              "Name: 510, dtype: object"
            ]
          },
          "metadata": {}
        },
        {
          "output_type": "display_data",
          "data": {
            "text/plain": [
              "product_id                                                  33638\n",
              "product_name           Toshiba Black Portable DVD Player - SDP71S\n",
              "description     Toshiba Black Portable DVD Player - SDP71S/ 7'...\n",
              "price                                                        None\n",
              "Name: 511, dtype: object"
            ]
          },
          "metadata": {}
        },
        {
          "output_type": "display_data",
          "data": {
            "text/plain": [
              "product_id                                                  33639\n",
              "product_name    Toshiba Black 1080p Upconversion DVD Player - ...\n",
              "description     Toshiba Black 1080p Upconversion DVD Player - ...\n",
              "price                                                        None\n",
              "Name: 512, dtype: object"
            ]
          },
          "metadata": {}
        },
        {
          "output_type": "display_data",
          "data": {
            "text/plain": [
              "product_id                                                  33640\n",
              "product_name    Toshiba Black DVD Recorder With Built-In Digit...\n",
              "description     Toshiba Black DVD Recorder With Built-In Digit...\n",
              "price                                                        None\n",
              "Name: 513, dtype: object"
            ]
          },
          "metadata": {}
        },
        {
          "output_type": "display_data",
          "data": {
            "text/plain": [
              "product_id                                                  33643\n",
              "product_name    Toshiba Black 1080p Upconversion DVD Recorder/...\n",
              "description     Toshiba Black 1080p Upconversion DVD Recorder/...\n",
              "price                                                        None\n",
              "Name: 514, dtype: object"
            ]
          },
          "metadata": {}
        },
        {
          "output_type": "display_data",
          "data": {
            "text/plain": [
              "product_id                                                  33645\n",
              "product_name    Toshiba Black DVD Recorder/VCR Combinaton With...\n",
              "description     Toshiba Black DVD Recorder/VCR Combinaton With...\n",
              "price                                                        None\n",
              "Name: 515, dtype: object"
            ]
          },
          "metadata": {}
        },
        {
          "output_type": "display_data",
          "data": {
            "text/plain": [
              "product_id                                                  33653\n",
              "product_name       Toshiba White 19' LCD HDTV DVD Combo - 19LV506\n",
              "description     Toshiba White 19' LCD HDTV DVD Combination - 1...\n",
              "price                                                        None\n",
              "Name: 516, dtype: object"
            ]
          },
          "metadata": {}
        },
        {
          "output_type": "display_data",
          "data": {
            "text/plain": [
              "product_id                                                  33662\n",
              "product_name    Bracketron Nav-Mat Portable GPS Dash Mount - U...\n",
              "description     Bracketron Nav-Mat Portable GPS Dash Mount - U...\n",
              "price                                                        None\n",
              "Name: 517, dtype: object"
            ]
          },
          "metadata": {}
        },
        {
          "output_type": "display_data",
          "data": {
            "text/plain": [
              "product_id                                                  33664\n",
              "product_name               Bracketron iPod Docking Kit - IPM202BL\n",
              "description     Bracketron iPod Docking Kit - IPM202BL/ Compat...\n",
              "price                                                      $14.95\n",
              "Name: 518, dtype: object"
            ]
          },
          "metadata": {}
        },
        {
          "output_type": "display_data",
          "data": {
            "text/plain": [
              "product_id                                                  33668\n",
              "product_name    Nikon CoolPix S550  Blue 10.0 Megapixels Compa...\n",
              "description     Nikon CoolPix S550 Blue 10.0 Megapixels Compac...\n",
              "price                                                        None\n",
              "Name: 519, dtype: object"
            ]
          },
          "metadata": {}
        },
        {
          "output_type": "display_data",
          "data": {
            "text/plain": [
              "product_id                                                  33669\n",
              "product_name    Nikon CoolPix S550 10 Megapixel Black Digital ...\n",
              "description     Nikon CoolPix S550 10 Megapixel Black Digital ...\n",
              "price                                                        None\n",
              "Name: 520, dtype: object"
            ]
          },
          "metadata": {}
        },
        {
          "output_type": "display_data",
          "data": {
            "text/plain": [
              "product_id                                                  33670\n",
              "product_name    Nikon CoolPix S550 10 Megapixel Compact Plum D...\n",
              "description     Nikon CoolPix S550 10 Megapixel Compact Plum D...\n",
              "price                                                        None\n",
              "Name: 521, dtype: object"
            ]
          },
          "metadata": {}
        },
        {
          "output_type": "display_data",
          "data": {
            "text/plain": [
              "product_id                                                  33671\n",
              "product_name    Nikon Coolpix S210 Plum 8.1 Megapixels Digital...\n",
              "description     Nikon Coolpix S210 Plum 8.1 Megapixels Compact...\n",
              "price                                                        None\n",
              "Name: 522, dtype: object"
            ]
          },
          "metadata": {}
        },
        {
          "output_type": "display_data",
          "data": {
            "text/plain": [
              "product_id                                                  33690\n",
              "product_name                Toshiba 19' Black LCD HDTV - 19AV500U\n",
              "description     Toshiba 19' Black LCD HDTV - 19AV500U/ 720p HD...\n",
              "price                                                        None\n",
              "Name: 523, dtype: object"
            ]
          },
          "metadata": {}
        },
        {
          "output_type": "display_data",
          "data": {
            "text/plain": [
              "product_id                                                  33713\n",
              "product_name         Sharp Aquos 37' LCD HDTV In Black - LC37D44U\n",
              "description     Sharp Aquos 37' LCD HDTV In Black - LC37D44U/ ...\n",
              "price                                                        None\n",
              "Name: 524, dtype: object"
            ]
          },
          "metadata": {}
        },
        {
          "output_type": "display_data",
          "data": {
            "text/plain": [
              "product_id                                                  33717\n",
              "product_name    Toshiba Black DVD Recorder With 1080p Upconver...\n",
              "description     Toshiba Black DVD Recorder With 1080p Upconver...\n",
              "price                                                        None\n",
              "Name: 525, dtype: object"
            ]
          },
          "metadata": {}
        },
        {
          "output_type": "display_data",
          "data": {
            "text/plain": [
              "product_id                                                  33723\n",
              "product_name    Polk Audio Sirius Satellite Radio Home Tuner -...\n",
              "description     Polk Audio Sirius Satellite Radio Home Tuner -...\n",
              "price                                                        None\n",
              "Name: 526, dtype: object"
            ]
          },
          "metadata": {}
        },
        {
          "output_type": "display_data",
          "data": {
            "text/plain": [
              "product_id                                                  33726\n",
              "product_name    Boston Acoustics Solo AM/FM Large Display Cloc...\n",
              "description     Boston Acoustics Solo AM/FM Large Display Cloc...\n",
              "price                                                      $99.00\n",
              "Name: 527, dtype: object"
            ]
          },
          "metadata": {}
        },
        {
          "output_type": "display_data",
          "data": {
            "text/plain": [
              "product_id                                                  33758\n",
              "product_name    Sony DVP-FX820 Black 8' Portable DVD Player - ...\n",
              "description     Sony DVP-FX820 Black 8' Portable DVD Player - ...\n",
              "price                                                        None\n",
              "Name: 528, dtype: object"
            ]
          },
          "metadata": {}
        },
        {
          "output_type": "display_data",
          "data": {
            "text/plain": [
              "product_id                                                  33763\n",
              "product_name    Sony DVP-FX820 Blue 8' Portable DVD Player - D...\n",
              "description     Sony DVP-FX820 Blue 8' Portable DVD Player - D...\n",
              "price                                                        None\n",
              "Name: 529, dtype: object"
            ]
          },
          "metadata": {}
        },
        {
          "output_type": "display_data",
          "data": {
            "text/plain": [
              "product_id                                                  33765\n",
              "product_name    Sony DVP-FX820 Pink 8' Portable DVD Player - D...\n",
              "description     Sony DVP-FX820 Pink 8' Portable DVD Player - D...\n",
              "price                                                        None\n",
              "Name: 530, dtype: object"
            ]
          },
          "metadata": {}
        },
        {
          "output_type": "display_data",
          "data": {
            "text/plain": [
              "product_id                                                  33767\n",
              "product_name    Sony DVP-FX820 Red 8' Portable DVD Player - DV...\n",
              "description     Sony DVP-FX820 Red 8' Portable DVD Player - DV...\n",
              "price                                                        None\n",
              "Name: 531, dtype: object"
            ]
          },
          "metadata": {}
        },
        {
          "output_type": "display_data",
          "data": {
            "text/plain": [
              "product_id                                                  33769\n",
              "product_name        Sony White 8' Portable DVD Player - DVPFX820W\n",
              "description     Sony DVP-FX820 White 8' Portable DVD Player - ...\n",
              "price                                                        None\n",
              "Name: 532, dtype: object"
            ]
          },
          "metadata": {}
        },
        {
          "output_type": "display_data",
          "data": {
            "text/plain": [
              "product_id                                                  33784\n",
              "product_name    Panasonic 5.8 GHz Black Expandable Digital Cor...\n",
              "description     Panasonic 5.8 GHz Black Expandable Digital Cor...\n",
              "price                                                        None\n",
              "Name: 533, dtype: object"
            ]
          },
          "metadata": {}
        },
        {
          "output_type": "display_data",
          "data": {
            "text/plain": [
              "product_id                                                  33786\n",
              "product_name    Panasonic 5.8 GHz Black Expandable Digital Cor...\n",
              "description     Panasonic 5.8 GHz Black Expandable Digital Cor...\n",
              "price                                                      $79.00\n",
              "Name: 534, dtype: object"
            ]
          },
          "metadata": {}
        },
        {
          "output_type": "display_data",
          "data": {
            "text/plain": [
              "product_id                                                  33788\n",
              "product_name    Panasonic Black Dect 6.0 Cordless Telephone - ...\n",
              "description     Panasonic Black Dect 6.0 Cordless Telephone - ...\n",
              "price                                                        None\n",
              "Name: 535, dtype: object"
            ]
          },
          "metadata": {}
        },
        {
          "output_type": "display_data",
          "data": {
            "text/plain": [
              "product_id                                                  33790\n",
              "product_name         Sony Silver Digital Voice Recorder - ICDB600\n",
              "description     Sony Silver Digital Voice Recorder - ICDB600/ ...\n",
              "price                                                      $39.00\n",
              "Name: 536, dtype: object"
            ]
          },
          "metadata": {}
        },
        {
          "output_type": "display_data",
          "data": {
            "text/plain": [
              "product_id                                                  33801\n",
              "product_name    Kenwood 6.1' All-In-One Double-Din In-Dash Nav...\n",
              "description     Kenwood 6.1' All-In-One Double-Din In-Dash Nav...\n",
              "price                                                        None\n",
              "Name: 537, dtype: object"
            ]
          },
          "metadata": {}
        },
        {
          "output_type": "display_data",
          "data": {
            "text/plain": [
              "product_id                                                  33804\n",
              "product_name    Motorola MotoRokr Portable Bluetooth Car Kit S...\n",
              "description     Motorola MotoRokr Portable Bluetooth Car Kit S...\n",
              "price                                                     $129.00\n",
              "Name: 538, dtype: object"
            ]
          },
          "metadata": {}
        },
        {
          "output_type": "display_data",
          "data": {
            "text/plain": [
              "product_id                                                  33831\n",
              "product_name    Olympus Evolt-420 10 Megapixel Digital SLR Cam...\n",
              "description     Olympus Evolt-420 10 Megapixel Digital SLR Cam...\n",
              "price                                                        None\n",
              "Name: 539, dtype: object"
            ]
          },
          "metadata": {}
        },
        {
          "output_type": "display_data",
          "data": {
            "text/plain": [
              "product_id                                                  33863\n",
              "product_name    Toshiba 22' LCD HDTV With Built In DVD Player ...\n",
              "description     Toshiba 22' LCD HDTV With Built In DVD Player ...\n",
              "price                                                        None\n",
              "Name: 540, dtype: object"
            ]
          },
          "metadata": {}
        },
        {
          "output_type": "display_data",
          "data": {
            "text/plain": [
              "product_id                                                  33864\n",
              "product_name    Samsung Hi Definition Conversion DVD Player - ...\n",
              "description     Samsung Hi Definition Conversion DVD Player - ...\n",
              "price                                                      $79.90\n",
              "Name: 541, dtype: object"
            ]
          },
          "metadata": {}
        },
        {
          "output_type": "display_data",
          "data": {
            "text/plain": [
              "product_id                                                  33883\n",
              "product_name    Boston Acoustics Duo-I AM/FM Clock Radio With ...\n",
              "description     Boston Acoustics Duo-I AM/FM Clock Radio With ...\n",
              "price                                                     $199.00\n",
              "Name: 542, dtype: object"
            ]
          },
          "metadata": {}
        },
        {
          "output_type": "display_data",
          "data": {
            "text/plain": [
              "product_id                                                  33908\n",
              "product_name    Panasonic Black Blu-ray Disc Theater Sound Sys...\n",
              "description     Panasonic Black Blu-ray Disc Theater Sound Sys...\n",
              "price                                                        None\n",
              "Name: 543, dtype: object"
            ]
          },
          "metadata": {}
        },
        {
          "output_type": "display_data",
          "data": {
            "text/plain": [
              "product_id                                                  33921\n",
              "product_name    Panasonic Black DVD Home Theater Sound System ...\n",
              "description     Panasonic Black DVD Home Theater Sound System ...\n",
              "price                                                     $289.00\n",
              "Name: 544, dtype: object"
            ]
          },
          "metadata": {}
        },
        {
          "output_type": "display_data",
          "data": {
            "text/plain": [
              "product_id                                                  33922\n",
              "product_name    Panasonic Black DVD Home Theater Sound System ...\n",
              "description     Panasonic Black DVD Home Theater Sound System ...\n",
              "price                                                        None\n",
              "Name: 545, dtype: object"
            ]
          },
          "metadata": {}
        },
        {
          "output_type": "display_data",
          "data": {
            "text/plain": [
              "product_id                                                  33924\n",
              "product_name    Panasonic Black DVD Home Theater Sound System ...\n",
              "description     Panasonic Black DVD Home Theater Sound System ...\n",
              "price                                                        None\n",
              "Name: 546, dtype: object"
            ]
          },
          "metadata": {}
        },
        {
          "output_type": "display_data",
          "data": {
            "text/plain": [
              "product_id                                                  33931\n",
              "product_name    Toshiba 10.2' Portable DVD Player In Black - S...\n",
              "description     Toshiba 10.2' Portable DVD Player In Black - S...\n",
              "price                                                        None\n",
              "Name: 547, dtype: object"
            ]
          },
          "metadata": {}
        },
        {
          "output_type": "display_data",
          "data": {
            "text/plain": [
              "product_id                                                  33936\n",
              "product_name    Panasonic Black 8.5' Portable DVD Player - DVD...\n",
              "description     Panasonic Black 8.5' Portable DVD Player - DVD...\n",
              "price                                                        None\n",
              "Name: 548, dtype: object"
            ]
          },
          "metadata": {}
        },
        {
          "output_type": "display_data",
          "data": {
            "text/plain": [
              "product_id                                                  33938\n",
              "product_name    Weber Summit E-620 Copper Liquid Propane Gas O...\n",
              "description     Weber Summit E-620 Copper Liquid Propane Gas O...\n",
              "price                                                   $1,899.00\n",
              "Name: 549, dtype: object"
            ]
          },
          "metadata": {}
        },
        {
          "output_type": "display_data",
          "data": {
            "text/plain": [
              "product_id                                                  33948\n",
              "product_name    Panasonic Black 8.5' Portable DVD Player - DVD...\n",
              "description     Panasonic Black 8.5' Portable DVD Player - DVD...\n",
              "price                                                        None\n",
              "Name: 550, dtype: object"
            ]
          },
          "metadata": {}
        },
        {
          "output_type": "display_data",
          "data": {
            "text/plain": [
              "product_id                                                  33950\n",
              "product_name    Whirlpool Cabrio White Top Loading Washer - WT...\n",
              "description     Whirlpool Cabrio WTW6700TW White Top Loading W...\n",
              "price                                                        None\n",
              "Name: 551, dtype: object"
            ]
          },
          "metadata": {}
        },
        {
          "output_type": "display_data",
          "data": {
            "text/plain": [
              "product_id                                                  33955\n",
              "product_name    Panasonic Black 1080p Up-Conversion DVD Record...\n",
              "description     Panasonic Black 1080p Up-Conversion DVD Record...\n",
              "price                                                        None\n",
              "Name: 552, dtype: object"
            ]
          },
          "metadata": {}
        },
        {
          "output_type": "display_data",
          "data": {
            "text/plain": [
              "product_id                                                  33962\n",
              "product_name    Panasonic Black 1080p Up-Conversion DVD Record...\n",
              "description     Panasonic Black 1080p Up-Conversion DVD Record...\n",
              "price                                                        None\n",
              "Name: 553, dtype: object"
            ]
          },
          "metadata": {}
        },
        {
          "output_type": "display_data",
          "data": {
            "text/plain": [
              "product_id                                                  33965\n",
              "product_name    Logitech Harmony One Advanced Universal Remote...\n",
              "description     Logitech Harmony One Advanced Universal Remote...\n",
              "price                                                     $249.00\n",
              "Name: 554, dtype: object"
            ]
          },
          "metadata": {}
        },
        {
          "output_type": "display_data",
          "data": {
            "text/plain": [
              "product_id                                                  33966\n",
              "product_name    Peerless 32' - 45' Articulating Flat Panel TV ...\n",
              "description     Peerless 32' - 45' Articulating Flat Panel TV ...\n",
              "price                                                        None\n",
              "Name: 555, dtype: object"
            ]
          },
          "metadata": {}
        },
        {
          "output_type": "display_data",
          "data": {
            "text/plain": [
              "product_id                                                  33967\n",
              "product_name    Panasonic Black 1080p Up-Conversion DVD Record...\n",
              "description     Panasonic Black 1080p Up-Conversion DVD Record...\n",
              "price                                                        None\n",
              "Name: 556, dtype: object"
            ]
          },
          "metadata": {}
        },
        {
          "output_type": "display_data",
          "data": {
            "text/plain": [
              "product_id                                                  33971\n",
              "product_name    Panasonic Black 1080p Up-Conversion DVD Record...\n",
              "description     Panasonic Black 1080p Up-Conversion DVD Record...\n",
              "price                                                        None\n",
              "Name: 557, dtype: object"
            ]
          },
          "metadata": {}
        },
        {
          "output_type": "display_data",
          "data": {
            "text/plain": [
              "product_id                                                  33972\n",
              "product_name               D-Link Wireless N USB Adapter - DWA130\n",
              "description     D-Link Wireless N USB Adapter - DWA130/ Compli...\n",
              "price                                                        None\n",
              "Name: 558, dtype: object"
            ]
          },
          "metadata": {}
        },
        {
          "output_type": "display_data",
          "data": {
            "text/plain": [
              "product_id                                                  33985\n",
              "product_name    Panasonic VIERA 50' 1080p Plasma HDTV In Black...\n",
              "description     Panasonic VIERA 50' 1080p Plasma HDTV In Black...\n",
              "price                                                        None\n",
              "Name: 559, dtype: object"
            ]
          },
          "metadata": {}
        },
        {
          "output_type": "display_data",
          "data": {
            "text/plain": [
              "product_id                                                  33997\n",
              "product_name            Sharp AQUOS 37' Black LCD HDTV - LC37D64U\n",
              "description     Sharp AQUOS 37' Black LCD HDTV - LC37D64U/ 192...\n",
              "price                                                        None\n",
              "Name: 560, dtype: object"
            ]
          },
          "metadata": {}
        },
        {
          "output_type": "display_data",
          "data": {
            "text/plain": [
              "product_id                                                  33998\n",
              "product_name          Sony BRAVIA Home Theater System - DAVHDX275\n",
              "description     Sony BRAVIA Home Theater System - DAVHDX275/ 5...\n",
              "price                                                        None\n",
              "Name: 561, dtype: object"
            ]
          },
          "metadata": {}
        },
        {
          "output_type": "display_data",
          "data": {
            "text/plain": [
              "product_id                                                  33999\n",
              "product_name    Sony Silver 1080p Upscaling DVD Player - DVPNS...\n",
              "description     Sony Silver 1080p Upscaling DVD Player - DVPNS...\n",
              "price                                                        None\n",
              "Name: 562, dtype: object"
            ]
          },
          "metadata": {}
        },
        {
          "output_type": "display_data",
          "data": {
            "text/plain": [
              "product_id                                                  34000\n",
              "product_name    Sony Black 1080p Upscaling DVD Player - DVPNS7...\n",
              "description     Sony Black 1080p Upscaling DVD Player - DVPNS7...\n",
              "price                                                        None\n",
              "Name: 563, dtype: object"
            ]
          },
          "metadata": {}
        },
        {
          "output_type": "display_data",
          "data": {
            "text/plain": [
              "product_id                                                  34001\n",
              "product_name    Sony Silver 1080p Upscaling 5-Disc DVD Player ...\n",
              "description     Sony Silver 1080p Upscaling 5-Disc DVD Changer...\n",
              "price                                                        None\n",
              "Name: 564, dtype: object"
            ]
          },
          "metadata": {}
        },
        {
          "output_type": "display_data",
          "data": {
            "text/plain": [
              "product_id                                                  34002\n",
              "product_name    Sony Black 1080p Upscaling 5-Disc DVD Changer ...\n",
              "description     Sony Black 1080p Upscaling 5-Disc DVD Changer ...\n",
              "price                                                        None\n",
              "Name: 565, dtype: object"
            ]
          },
          "metadata": {}
        },
        {
          "output_type": "display_data",
          "data": {
            "text/plain": [
              "product_id                                                  34003\n",
              "product_name    Samsung 40' Series 5 LCD Black Flat Panel HDTV...\n",
              "description     Samsung 40' Series 5 LCD Black Flat Panel HDTV...\n",
              "price                                                        None\n",
              "Name: 566, dtype: object"
            ]
          },
          "metadata": {}
        },
        {
          "output_type": "display_data",
          "data": {
            "text/plain": [
              "product_id                                                  34004\n",
              "product_name    Samsung 52' Series 5 LCD Black Flat Panel HDTV...\n",
              "description     Samsung 52' Series 5 LCD Black Flat Panel HDTV...\n",
              "price                                                        None\n",
              "Name: 567, dtype: object"
            ]
          },
          "metadata": {}
        },
        {
          "output_type": "display_data",
          "data": {
            "text/plain": [
              "product_id                                                  34007\n",
              "product_name    Samsung 40' Series 6 LCD Black Flat Panel HDTV...\n",
              "description     Samsung 40' Series 6 LCD Black Flat Panel HDTV...\n",
              "price                                                        None\n",
              "Name: 568, dtype: object"
            ]
          },
          "metadata": {}
        },
        {
          "output_type": "display_data",
          "data": {
            "text/plain": [
              "product_id                                                  34009\n",
              "product_name    Samsung 46' Series 6 LCD Black Flat Panel HDTV...\n",
              "description     Samsung 46' Series 6 LCD Black Flat Panel HDTV...\n",
              "price                                                        None\n",
              "Name: 569, dtype: object"
            ]
          },
          "metadata": {}
        },
        {
          "output_type": "display_data",
          "data": {
            "text/plain": [
              "product_id                                                  34012\n",
              "product_name    Samsung 52' Series 6 LCD Black Flat Panel HDTV...\n",
              "description     Samsung 52' Series 6 LCD Black Flat Panel HDTV...\n",
              "price                                                        None\n",
              "Name: 570, dtype: object"
            ]
          },
          "metadata": {}
        },
        {
          "output_type": "display_data",
          "data": {
            "text/plain": [
              "product_id                                                  34016\n",
              "product_name            Z-Line Portland Black TV Stand - ZL2344MU\n",
              "description     Z-Line Portland Black TV Stand - ZL2344MU/ Acc...\n",
              "price                                                     $399.00\n",
              "Name: 571, dtype: object"
            ]
          },
          "metadata": {}
        },
        {
          "output_type": "display_data",
          "data": {
            "text/plain": [
              "product_id                                                  34021\n",
              "product_name    Samsung 46' Series 5 LCD Black Flat Panel HDTV...\n",
              "description     Samsung 46' Series 5 LCD Black Flat Panel HDTV...\n",
              "price                                                        None\n",
              "Name: 572, dtype: object"
            ]
          },
          "metadata": {}
        },
        {
          "output_type": "display_data",
          "data": {
            "text/plain": [
              "product_id                                                  34031\n",
              "product_name    Sony Black USB Stereo Turntable System - PSLX3...\n",
              "description     Sony Black USB Stereo Turntable System - PSLX3...\n",
              "price                                                     $149.00\n",
              "Name: 573, dtype: object"
            ]
          },
          "metadata": {}
        },
        {
          "output_type": "display_data",
          "data": {
            "text/plain": [
              "product_id                                                  34033\n",
              "product_name    Sony Digital SLR Camera With Lens Kit - DSLRA200W\n",
              "description     Sony Alpha Digital SLR Camera With Lens Kit - ...\n",
              "price                                                     $849.99\n",
              "Name: 574, dtype: object"
            ]
          },
          "metadata": {}
        },
        {
          "output_type": "display_data",
          "data": {
            "text/plain": [
              "product_id                                                  34036\n",
              "product_name    Sony Black Handycam Camcorder Soft Carrying Ca...\n",
              "description     Sony Black Handycam Camcorder Soft Carrying Ca...\n",
              "price                                                        None\n",
              "Name: 575, dtype: object"
            ]
          },
          "metadata": {}
        },
        {
          "output_type": "display_data",
          "data": {
            "text/plain": [
              "product_id                                                  34056\n",
              "product_name    Canon Silver 10 Megapixel PowerShot Digital Ca...\n",
              "description     Canon Silver 10 Megapixel PowerShot Digital Ca...\n",
              "price                                                        None\n",
              "Name: 576, dtype: object"
            ]
          },
          "metadata": {}
        },
        {
          "output_type": "display_data",
          "data": {
            "text/plain": [
              "product_id                                                  34065\n",
              "product_name    Canon Silver 10 Megapixel PowerShot Digital Ca...\n",
              "description     Canon Silver 10 Megapixel PowerShot Digital Ca...\n",
              "price                                                        None\n",
              "Name: 577, dtype: object"
            ]
          },
          "metadata": {}
        },
        {
          "output_type": "display_data",
          "data": {
            "text/plain": [
              "product_id                                                  34076\n",
              "product_name    Onkyo 7.1-Channel Black Home Theater Receiver ...\n",
              "description     Onkyo TXSR506 7.1-Channel Black Home Theater R...\n",
              "price                                                        None\n",
              "Name: 578, dtype: object"
            ]
          },
          "metadata": {}
        },
        {
          "output_type": "display_data",
          "data": {
            "text/plain": [
              "product_id                                                  34089\n",
              "product_name    Samsung 19' Black Flat Panel Series 4 LCD HDTV...\n",
              "description     Samsung 19' Black Flat Panel Series 4 LCD HDTV...\n",
              "price                                                        None\n",
              "Name: 579, dtype: object"
            ]
          },
          "metadata": {}
        },
        {
          "output_type": "display_data",
          "data": {
            "text/plain": [
              "product_id                                                  34091\n",
              "product_name    Samsung 26' Black Flat Panel Series 4 LCD HDTV...\n",
              "description     Samsung 26' Black Flat Panel Series 4 LCD HDTV...\n",
              "price                                                        None\n",
              "Name: 580, dtype: object"
            ]
          },
          "metadata": {}
        },
        {
          "output_type": "display_data",
          "data": {
            "text/plain": [
              "product_id                                                  34092\n",
              "product_name    Samsung 32' Black Flat Panel Series 4 LCD HDTV...\n",
              "description     Samsung 32' Black Flat Panel Series 4 LCD HDTV...\n",
              "price                                                        None\n",
              "Name: 581, dtype: object"
            ]
          },
          "metadata": {}
        },
        {
          "output_type": "display_data",
          "data": {
            "text/plain": [
              "product_id                                                  34093\n",
              "product_name    Samsung 50' Black Flat Panel Series 5 Plasma H...\n",
              "description     Samsung 50' Black Flat Panel Series 5 Plasma H...\n",
              "price                                                        None\n",
              "Name: 582, dtype: object"
            ]
          },
          "metadata": {}
        },
        {
          "output_type": "display_data",
          "data": {
            "text/plain": [
              "product_id                                                  34095\n",
              "product_name    Samsung 58' Black Flat Panel Series 5 Plasma H...\n",
              "description     Samsung 58' Black Flat Panel Series 5 Plasma H...\n",
              "price                                                        None\n",
              "Name: 583, dtype: object"
            ]
          },
          "metadata": {}
        },
        {
          "output_type": "display_data",
          "data": {
            "text/plain": [
              "product_id                                                  34096\n",
              "product_name    Samsung 50' Black Flat Panel Series 4 Plasma H...\n",
              "description     Samsung 50' Black Flat Panel Series 4 Plasma H...\n",
              "price                                                        None\n",
              "Name: 584, dtype: object"
            ]
          },
          "metadata": {}
        },
        {
          "output_type": "display_data",
          "data": {
            "text/plain": [
              "product_id                                                  34102\n",
              "product_name    Nyko Charge Base 2 Charger For PlayStation 3 C...\n",
              "description     Nyko Charge Base 2 Charger For PlayStation 3 C...\n",
              "price                                                      $34.99\n",
              "Name: 585, dtype: object"
            ]
          },
          "metadata": {}
        },
        {
          "output_type": "display_data",
          "data": {
            "text/plain": [
              "product_id                                                  34119\n",
              "product_name                 Sony Remote Control Tripod - VCT60AV\n",
              "description     Sony Remote Control Tripod - VCT60AV/ A/V Remo...\n",
              "price                                                      $99.00\n",
              "Name: 586, dtype: object"
            ]
          },
          "metadata": {}
        },
        {
          "output_type": "display_data",
          "data": {
            "text/plain": [
              "product_id                                                  34125\n",
              "product_name      Belkin Cush Top For Computer Laptop - F8N044ORG\n",
              "description     Belkin Cush Top For Computer Laptop - F8N044OR...\n",
              "price                                                        None\n",
              "Name: 587, dtype: object"
            ]
          },
          "metadata": {}
        },
        {
          "output_type": "display_data",
          "data": {
            "text/plain": [
              "product_id                                                  34126\n",
              "product_name      Belkin Cush Top For Computer Laptop - F8N044SLV\n",
              "description     Belkin Cush Top For Computer Laptop - F8N044SL...\n",
              "price                                                        None\n",
              "Name: 588, dtype: object"
            ]
          },
          "metadata": {}
        },
        {
          "output_type": "display_data",
          "data": {
            "text/plain": [
              "product_id                                                  34127\n",
              "product_name      Belkin Cush Top For Computer Laptop - F8N044GRN\n",
              "description     Belkin Cush Top For Computer Laptop - F8N044GR...\n",
              "price                                                        None\n",
              "Name: 589, dtype: object"
            ]
          },
          "metadata": {}
        },
        {
          "output_type": "display_data",
          "data": {
            "text/plain": [
              "product_id                                                  34130\n",
              "product_name    Samsung 5 Disc Black Home Theater System - HTZ...\n",
              "description     Samsung 5 Disc Black Home Theater System - HTZ...\n",
              "price                                                        None\n",
              "Name: 590, dtype: object"
            ]
          },
          "metadata": {}
        },
        {
          "output_type": "display_data",
          "data": {
            "text/plain": [
              "product_id                                                  34135\n",
              "product_name    Samsung 56' Black Widescreen Series 6 DLP HDTV...\n",
              "description     Samsung 56' Black Widescreen Series 6 DLP HDTV...\n",
              "price                                                        None\n",
              "Name: 591, dtype: object"
            ]
          },
          "metadata": {}
        },
        {
          "output_type": "display_data",
          "data": {
            "text/plain": [
              "product_id                                                  34136\n",
              "product_name     Samsung 61' Black DLP Projection HDTV - HL61A650\n",
              "description     Samsung 61' Black Series 6 DLP HDTV - HL61A650...\n",
              "price                                                        None\n",
              "Name: 592, dtype: object"
            ]
          },
          "metadata": {}
        },
        {
          "output_type": "display_data",
          "data": {
            "text/plain": [
              "product_id                                                  34150\n",
              "product_name            Sony Soft Camera Carrying Case - LCSMX100\n",
              "description     Sony Soft Camera Carrying Case - LCSMX100/ Sta...\n",
              "price                                                        None\n",
              "Name: 593, dtype: object"
            ]
          },
          "metadata": {}
        },
        {
          "output_type": "display_data",
          "data": {
            "text/plain": [
              "product_id                                                  34151\n",
              "product_name    Panasonic 5.8 GHz Black Expandable Digital Cor...\n",
              "description     Panasonic 5.8 GHz Black Expandable Digital Cor...\n",
              "price                                                        None\n",
              "Name: 594, dtype: object"
            ]
          },
          "metadata": {}
        },
        {
          "output_type": "display_data",
          "data": {
            "text/plain": [
              "product_id                                                  34153\n",
              "product_name    Panasonic Silver Lumix Wide Angle Lens Digital...\n",
              "description     Panasonic Silver Lumix Wide Angle Lens Digital...\n",
              "price                                                        None\n",
              "Name: 595, dtype: object"
            ]
          },
          "metadata": {}
        },
        {
          "output_type": "display_data",
          "data": {
            "text/plain": [
              "product_id                                                  34154\n",
              "product_name    Panasonic Black Lumix Wide Angle Lens Digital ...\n",
              "description     Panasonic Black Lumix Wide Angle Lens Digital ...\n",
              "price                                                        None\n",
              "Name: 596, dtype: object"
            ]
          },
          "metadata": {}
        },
        {
          "output_type": "display_data",
          "data": {
            "text/plain": [
              "product_id                                                  34156\n",
              "product_name    Transcend 4GB Micro Secure Digital Memory Card...\n",
              "description     Transcend 4GB Micro Secure Digital Memory Card...\n",
              "price                                                        None\n",
              "Name: 597, dtype: object"
            ]
          },
          "metadata": {}
        },
        {
          "output_type": "display_data",
          "data": {
            "text/plain": [
              "product_id                                                  34158\n",
              "product_name         Panasonic 40GB Hard Drive Camcorder - SDRH40\n",
              "description     Panasonic 40GB Hard Drive Camcorder - SDRH40/ ...\n",
              "price                                                        None\n",
              "Name: 598, dtype: object"
            ]
          },
          "metadata": {}
        },
        {
          "output_type": "display_data",
          "data": {
            "text/plain": [
              "product_id                                                  34165\n",
              "product_name    Belkin Neoprene Sleeve For MacBook Air - F8N06...\n",
              "description     Belkin Neoprene Sleeve For MacBook Air - F8N06...\n",
              "price                                                        None\n",
              "Name: 599, dtype: object"
            ]
          },
          "metadata": {}
        },
        {
          "output_type": "display_data",
          "data": {
            "text/plain": [
              "product_id                                                  34174\n",
              "product_name    Klipsch Groove PM20 Computer Speakers - GROOVE...\n",
              "description     Klipsch Groove PM20 Computer Speakers - GROOVE...\n",
              "price                                                      $99.00\n",
              "Name: 600, dtype: object"
            ]
          },
          "metadata": {}
        },
        {
          "output_type": "display_data",
          "data": {
            "text/plain": [
              "product_id                                                  34218\n",
              "product_name            LG 37' Black LCD Flat Panel HDTV - 37LG50\n",
              "description     LG 37' Black LCD Flat Panel HDTV - 37LG50/ 192...\n",
              "price                                                        None\n",
              "Name: 601, dtype: object"
            ]
          },
          "metadata": {}
        },
        {
          "output_type": "display_data",
          "data": {
            "text/plain": [
              "product_id                                                  34220\n",
              "product_name         LG 42' Black Plasma Flat Panel HDTV - 42PG20\n",
              "description     LG 42' Black Plasma Flat Panel HDTV - 42PG20/ ...\n",
              "price                                                        None\n",
              "Name: 602, dtype: object"
            ]
          },
          "metadata": {}
        },
        {
          "output_type": "display_data",
          "data": {
            "text/plain": [
              "product_id                                                  34227\n",
              "product_name    Maytag JETCLEAN II Black Undercounter Dishwash...\n",
              "description     Maytag JETCLEAN II MDB7851AW Black Undercounte...\n",
              "price                                                        None\n",
              "Name: 603, dtype: object"
            ]
          },
          "metadata": {}
        },
        {
          "output_type": "display_data",
          "data": {
            "text/plain": [
              "product_id                                                  34253\n",
              "product_name                 Weber Gas Barbecue Rotisserie - 7519\n",
              "description     Weber Gas Barbecue Rotisserie - 7519/ Fits Gen...\n",
              "price                                                      $80.00\n",
              "Name: 604, dtype: object"
            ]
          },
          "metadata": {}
        },
        {
          "output_type": "display_data",
          "data": {
            "text/plain": [
              "product_id                                                  34256\n",
              "product_name                       Weber Cast Iron Griddle - 7531\n",
              "description     Weber Cast Iron Griddle - 7531/ Heavy-Duty Cas...\n",
              "price                                                      $44.99\n",
              "Name: 605, dtype: object"
            ]
          },
          "metadata": {}
        },
        {
          "output_type": "display_data",
          "data": {
            "text/plain": [
              "product_id                                                  34258\n",
              "product_name                       Weber Cast Iron Griddle - 7542\n",
              "description     Weber Cast Iron Griddle - 7542/ Heavy-Duty Cas...\n",
              "price                                                      $44.99\n",
              "Name: 606, dtype: object"
            ]
          },
          "metadata": {}
        },
        {
          "output_type": "display_data",
          "data": {
            "text/plain": [
              "product_id                                                  34260\n",
              "product_name    Denon Blu-ray Disc DVD/CD Digital Player/Trans...\n",
              "description     Denon Blu-ray Disc DVD/CD Digital Player/Trans...\n",
              "price                                                        None\n",
              "Name: 607, dtype: object"
            ]
          },
          "metadata": {}
        },
        {
          "output_type": "display_data",
          "data": {
            "text/plain": [
              "product_id                                                  34263\n",
              "product_name     Samsung 22' White Flat Panel LCD HDTV - LN22A451\n",
              "description     Samsung 22' White Flat Panel Series 4 LCD HDTV...\n",
              "price                                                        None\n",
              "Name: 608, dtype: object"
            ]
          },
          "metadata": {}
        },
        {
          "output_type": "display_data",
          "data": {
            "text/plain": [
              "product_id                                                  34266\n",
              "product_name    Samsung 42' Black Flat Panel Series 4 Plasma H...\n",
              "description     Samsung 42' Black Flat Panel Series 4 Plasma H...\n",
              "price                                                        None\n",
              "Name: 609, dtype: object"
            ]
          },
          "metadata": {}
        },
        {
          "output_type": "display_data",
          "data": {
            "text/plain": [
              "product_id                                                  34278\n",
              "product_name       Sony 5.1 Channel Black A/V Receiver - STRDG520\n",
              "description     Sony 5.1 Channel Black A/V Receiver - STRDG520...\n",
              "price                                                     $199.00\n",
              "Name: 610, dtype: object"
            ]
          },
          "metadata": {}
        },
        {
          "output_type": "display_data",
          "data": {
            "text/plain": [
              "product_id                                                  34280\n",
              "product_name     Samsung 22' Black Flat Panel LCD HDTV - LN22A450\n",
              "description     Samsung 22' Black Flat Panel Series 4 LCD HDTV...\n",
              "price                                                        None\n",
              "Name: 611, dtype: object"
            ]
          },
          "metadata": {}
        },
        {
          "output_type": "display_data",
          "data": {
            "text/plain": [
              "product_id                                                  34282\n",
              "product_name               Sony Black Soft Carrying Case - LCSX30\n",
              "description     Sony Black Soft Carrying Case - LCSX30/ Stain ...\n",
              "price                                                        None\n",
              "Name: 612, dtype: object"
            ]
          },
          "metadata": {}
        },
        {
          "output_type": "display_data",
          "data": {
            "text/plain": [
              "product_id                                                  34286\n",
              "product_name    Omnimount Moda Collection Series Dark Espresso...\n",
              "description     Omnimount Moda Collection Series Dark Espresso...\n",
              "price                                                        None\n",
              "Name: 613, dtype: object"
            ]
          },
          "metadata": {}
        },
        {
          "output_type": "display_data",
          "data": {
            "text/plain": [
              "product_id                                                  34298\n",
              "product_name    Panasonic DECT 6.0 Expandable Digital Cordless...\n",
              "description     Panasonic DECT 6.0 Expandable Digital Cordless...\n",
              "price                                                        None\n",
              "Name: 614, dtype: object"
            ]
          },
          "metadata": {}
        },
        {
          "output_type": "display_data",
          "data": {
            "text/plain": [
              "product_id                                                  34300\n",
              "product_name    Panasonic DECT 6.0 Expandable Digital Cordless...\n",
              "description     Panasonic DECT 6.0 Expandable Digital Cordless...\n",
              "price                                                        None\n",
              "Name: 615, dtype: object"
            ]
          },
          "metadata": {}
        },
        {
          "output_type": "display_data",
          "data": {
            "text/plain": [
              "product_id                                                  34301\n",
              "product_name      LaCie 1TB USB 2.0 External Hard Drive - 301304U\n",
              "description     LaCie 1TB USB 2.0 External Hard Drive - 301304...\n",
              "price                                                        None\n",
              "Name: 616, dtype: object"
            ]
          },
          "metadata": {}
        },
        {
          "output_type": "display_data",
          "data": {
            "text/plain": [
              "product_id                                                  34303\n",
              "product_name    Samsung 32' Series 5 LCD Black Flat Panel HDTV...\n",
              "description     Samsung 32' Series 5 LCD Black Flat Panel HDTV...\n",
              "price                                                        None\n",
              "Name: 617, dtype: object"
            ]
          },
          "metadata": {}
        },
        {
          "output_type": "display_data",
          "data": {
            "text/plain": [
              "product_id                                                  34304\n",
              "product_name    Samsung 32' Series 6 LCD Black Flat Panel HDTV...\n",
              "description     Samsung 32' Series 6 LCD Black Flat Panel HDTV...\n",
              "price                                                        None\n",
              "Name: 618, dtype: object"
            ]
          },
          "metadata": {}
        },
        {
          "output_type": "display_data",
          "data": {
            "text/plain": [
              "product_id                                                  34309\n",
              "product_name    Sony Bravia Wireless Home Theater System In Bl...\n",
              "description     Sony Bravia Wireless Home Theater System In Bl...\n",
              "price                                                        None\n",
              "Name: 619, dtype: object"
            ]
          },
          "metadata": {}
        },
        {
          "output_type": "display_data",
          "data": {
            "text/plain": [
              "product_id                                                  34349\n",
              "product_name    Samsung 37' Series 5 LCD Black Flat Panel HDTV...\n",
              "description     Samsung 37' Series 5 LCD Black Flat Panel HDTV...\n",
              "price                                                        None\n",
              "Name: 620, dtype: object"
            ]
          },
          "metadata": {}
        },
        {
          "output_type": "display_data",
          "data": {
            "text/plain": [
              "product_id                                                  34361\n",
              "product_name      Samsung Black DVD/VHS Combo Recorder - DVDVR375\n",
              "description     Samsung Black DVD/VHS Combo Recorder - DVDVR37...\n",
              "price                                                        None\n",
              "Name: 621, dtype: object"
            ]
          },
          "metadata": {}
        },
        {
          "output_type": "display_data",
          "data": {
            "text/plain": [
              "product_id                                                  34363\n",
              "product_name    Speck SeeThru Aqua Hard Shell Case For 20' iMa...\n",
              "description     Speck SeeThru Aqua Hard Shell Case For 20' iMa...\n",
              "price                                                        None\n",
              "Name: 622, dtype: object"
            ]
          },
          "metadata": {}
        },
        {
          "output_type": "display_data",
          "data": {
            "text/plain": [
              "product_id                                                  34370\n",
              "product_name    Sony Alpha DSLR Black Camera Body With 18-70mm...\n",
              "description     Sony Alpha DSLR Black Camera Body With 18-70mm...\n",
              "price                                                     $599.99\n",
              "Name: 623, dtype: object"
            ]
          },
          "metadata": {}
        },
        {
          "output_type": "display_data",
          "data": {
            "text/plain": [
              "product_id                                                  34378\n",
              "product_name                      Polk Audio I-Sonic ES2 - ISONIC\n",
              "description     Polk Audio I-Sonic ES2 Music System - ISONIC/ ...\n",
              "price                                                        None\n",
              "Name: 624, dtype: object"
            ]
          },
          "metadata": {}
        },
        {
          "output_type": "display_data",
          "data": {
            "text/plain": [
              "product_id                                                  34379\n",
              "product_name    Sony Black Bravia Home Theater System - DAVHDX...\n",
              "description     Sony Black Bravia Home Theater System - DAVHDX...\n",
              "price                                                        None\n",
              "Name: 625, dtype: object"
            ]
          },
          "metadata": {}
        },
        {
          "output_type": "display_data",
          "data": {
            "text/plain": [
              "product_id                                                  34392\n",
              "product_name    Polk Audio CSI A4 Black Center Channel Loudspe...\n",
              "description     Polk Audio CSI A4 Black Center Channel Loudspe...\n",
              "price                                                     $279.95\n",
              "Name: 626, dtype: object"
            ]
          },
          "metadata": {}
        },
        {
          "output_type": "display_data",
          "data": {
            "text/plain": [
              "product_id                                                  34393\n",
              "product_name    Polk Audio CSI A4 Cherry Center Channel Loudsp...\n",
              "description     Polk Audio CSI A4 Cherry Center Channel Loudsp...\n",
              "price                                                     $279.95\n",
              "Name: 627, dtype: object"
            ]
          },
          "metadata": {}
        },
        {
          "output_type": "display_data",
          "data": {
            "text/plain": [
              "product_id                                                  34395\n",
              "product_name    Polk Audio CSI A6 Black Center Channel Loudspe...\n",
              "description     Polk Audio CSI A6 Black Center Channel Loudspe...\n",
              "price                                                     $449.95\n",
              "Name: 628, dtype: object"
            ]
          },
          "metadata": {}
        },
        {
          "output_type": "display_data",
          "data": {
            "text/plain": [
              "product_id                                                  34401\n",
              "product_name    Whirlpool Cabrio Diamond Dust Top Loading Wash...\n",
              "description     Whirlpool Cabrio Diamond Dust Top Loading Wash...\n",
              "price                                                        None\n",
              "Name: 629, dtype: object"
            ]
          },
          "metadata": {}
        },
        {
          "output_type": "display_data",
          "data": {
            "text/plain": [
              "product_id                                                  34424\n",
              "product_name    Polk Audio 5.1 Channel Black Home Theater Spea...\n",
              "description     Polk Audio 5.1 Channel Black Home Theater Spea...\n",
              "price                                                     $499.95\n",
              "Name: 630, dtype: object"
            ]
          },
          "metadata": {}
        },
        {
          "output_type": "display_data",
          "data": {
            "text/plain": [
              "product_id                                                  34442\n",
              "product_name    Sony 3.1 Channel Home Theater Surround System ...\n",
              "description     Sony 3.1 Channel Home Theater Surround System ...\n",
              "price                                                     $299.00\n",
              "Name: 631, dtype: object"
            ]
          },
          "metadata": {}
        },
        {
          "output_type": "display_data",
          "data": {
            "text/plain": [
              "product_id                                                  34454\n",
              "product_name    Polk Audio Black 10' Powered Subwoofer - PSW110BK\n",
              "description     Polk Audio PSW110 Black 10' Powered Subwoofer ...\n",
              "price                                                     $299.95\n",
              "Name: 632, dtype: object"
            ]
          },
          "metadata": {}
        },
        {
          "output_type": "display_data",
          "data": {
            "text/plain": [
              "product_id                                                  34465\n",
              "product_name              Twenty20 VholdR Mount Adhesive - 2200MA\n",
              "description     Twenty20 VholdR Mount Adhesive - 2200MA/ Remov...\n",
              "price                                                       $6.00\n",
              "Name: 633, dtype: object"
            ]
          },
          "metadata": {}
        },
        {
          "output_type": "display_data",
          "data": {
            "text/plain": [
              "product_id                                                  34476\n",
              "product_name               Weber Premium Black Grill Cover - 7550\n",
              "description     Weber Premium Black Grill Cover - 7550/ Heavy-...\n",
              "price                                                      $40.00\n",
              "Name: 634, dtype: object"
            ]
          },
          "metadata": {}
        },
        {
          "output_type": "display_data",
          "data": {
            "text/plain": [
              "product_id                                                  34490\n",
              "product_name    Samsung 37' Series 4 LCD Black Flat Panel HDTV...\n",
              "description     Samsung 37' Series 4 LCD Black Flat Panel HDTV...\n",
              "price                                                        None\n",
              "Name: 635, dtype: object"
            ]
          },
          "metadata": {}
        },
        {
          "output_type": "display_data",
          "data": {
            "text/plain": [
              "product_id                                                  34496\n",
              "product_name       Samsung Sound Bar Home Theater System - HTX810\n",
              "description     Samsung HTX810T Sound Bar Home Theater System ...\n",
              "price                                                        None\n",
              "Name: 636, dtype: object"
            ]
          },
          "metadata": {}
        },
        {
          "output_type": "display_data",
          "data": {
            "text/plain": [
              "product_id                                                  34548\n",
              "product_name       Sony White Earbud Style Headphones - MDREX55WH\n",
              "description     Sony MDREX55WHI White Earbud Style Headphones ...\n",
              "price                                                        None\n",
              "Name: 637, dtype: object"
            ]
          },
          "metadata": {}
        },
        {
          "output_type": "display_data",
          "data": {
            "text/plain": [
              "product_id                                                  34552\n",
              "product_name    Sony 32' BRAVIA XBR Series Black LCD Flat Pane...\n",
              "description     Sony 32' BRAVIA XBR Series Black LCD Flat Pane...\n",
              "price                                                        None\n",
              "Name: 638, dtype: object"
            ]
          },
          "metadata": {}
        },
        {
          "output_type": "display_data",
          "data": {
            "text/plain": [
              "product_id                                                  34553\n",
              "product_name             Sony Stereo Bluetooth Speaker - SRSBTM30\n",
              "description     Sony Stereo Bluetooth Speaker - SRSBTM30/ Comp...\n",
              "price                                                        None\n",
              "Name: 639, dtype: object"
            ]
          },
          "metadata": {}
        },
        {
          "output_type": "display_data",
          "data": {
            "text/plain": [
              "product_id                                                  34557\n",
              "product_name       Sony Black Earbud Style Headphones - MDREX55BK\n",
              "description     Sony MDREX55BLK Black Earbud Style Headphones ...\n",
              "price                                                      $39.00\n",
              "Name: 640, dtype: object"
            ]
          },
          "metadata": {}
        },
        {
          "output_type": "display_data",
          "data": {
            "text/plain": [
              "product_id                                                  34559\n",
              "product_name         Sony Pink Earbud Style Headphones - MDREX55P\n",
              "description     Sony MDREX55PNK Pink Earbud Style Headphones -...\n",
              "price                                                        None\n",
              "Name: 641, dtype: object"
            ]
          },
          "metadata": {}
        },
        {
          "output_type": "display_data",
          "data": {
            "text/plain": [
              "product_id                                                  34595\n",
              "product_name        Hoover EmPower Bagless Upright Vacuum - U5269\n",
              "description     Hoover EmPower Bagless Upright Vacuum - U5269/...\n",
              "price                                                      $99.00\n",
              "Name: 642, dtype: object"
            ]
          },
          "metadata": {}
        },
        {
          "output_type": "display_data",
          "data": {
            "text/plain": [
              "product_id                                                  34609\n",
              "product_name    Panasonic DECT 6.0 Expandable Digital Cordless...\n",
              "description     Panasonic DECT 6.0 Expandable Digital Cordless...\n",
              "price                                                     $139.00\n",
              "Name: 643, dtype: object"
            ]
          },
          "metadata": {}
        },
        {
          "output_type": "display_data",
          "data": {
            "text/plain": [
              "product_id                                                  34610\n",
              "product_name    Panasonic DECT 6.0 Expandable Digital Cordless...\n",
              "description     Panasonic DECT 6.0 Expandable Digital Cordless...\n",
              "price                                                        None\n",
              "Name: 644, dtype: object"
            ]
          },
          "metadata": {}
        },
        {
          "output_type": "display_data",
          "data": {
            "text/plain": [
              "product_id                                                  34624\n",
              "product_name       Sony 7.1 Channel Black A/V Receiver - STRDG720\n",
              "description     Sony 7.1 Channel Black A/V Receiver - STRDG720...\n",
              "price                                                        None\n",
              "Name: 645, dtype: object"
            ]
          },
          "metadata": {}
        },
        {
          "output_type": "display_data",
          "data": {
            "text/plain": [
              "product_id                                                  34637\n",
              "product_name    Sony Black Speaker Dock And Clock Radio For iP...\n",
              "description     Sony ICFC1IPMK2 Black Speaker Dock And Clock R...\n",
              "price                                                        None\n",
              "Name: 646, dtype: object"
            ]
          },
          "metadata": {}
        },
        {
          "output_type": "display_data",
          "data": {
            "text/plain": [
              "product_id                                                  34638\n",
              "product_name    Sony White Speaker Dock And Clock Radio For iP...\n",
              "description     Sony ICFC1IPMK2 White Speaker Dock And Clock R...\n",
              "price                                                        None\n",
              "Name: 647, dtype: object"
            ]
          },
          "metadata": {}
        },
        {
          "output_type": "display_data",
          "data": {
            "text/plain": [
              "product_id                                                  34640\n",
              "product_name    Contour Design Showcase Premium Protection Cas...\n",
              "description     Contour Design Showcase Premium Protection Cas...\n",
              "price                                                        None\n",
              "Name: 648, dtype: object"
            ]
          },
          "metadata": {}
        },
        {
          "output_type": "display_data",
          "data": {
            "text/plain": [
              "product_id                                                  34648\n",
              "product_name    Samsung 46' Series 7 LCD Black Flat Panel HDTV...\n",
              "description     Samsung 46' Series 7 LCD Black Flat Panel HDTV...\n",
              "price                                                        None\n",
              "Name: 649, dtype: object"
            ]
          },
          "metadata": {}
        },
        {
          "output_type": "display_data",
          "data": {
            "text/plain": [
              "product_id                                                  34657\n",
              "product_name    Samsung 40' Series 7 LCD Black Flat Panel HDTV...\n",
              "description     Samsung 40' Series 7 LCD Black Flat Panel HDTV...\n",
              "price                                                        None\n",
              "Name: 650, dtype: object"
            ]
          },
          "metadata": {}
        },
        {
          "output_type": "display_data",
          "data": {
            "text/plain": [
              "product_id                                                  34659\n",
              "product_name    Mitsubishi 735 Series 60' 1080p DLP Rear Proje...\n",
              "description     Mitsubishi 735 Series 60' 1080p DLP Rear Proje...\n",
              "price                                                        None\n",
              "Name: 651, dtype: object"
            ]
          },
          "metadata": {}
        },
        {
          "output_type": "display_data",
          "data": {
            "text/plain": [
              "product_id                                                  34661\n",
              "product_name    Mitsubishi 735 Series 65' 1080p DLP Rear Proje...\n",
              "description     Mitsubishi 735 Series 65' 1080p DLP Rear Proje...\n",
              "price                                                        None\n",
              "Name: 652, dtype: object"
            ]
          },
          "metadata": {}
        },
        {
          "output_type": "display_data",
          "data": {
            "text/plain": [
              "product_id                                                  34662\n",
              "product_name    Mitsubishi 736 Series 65' 1080p DLP Rear Proje...\n",
              "description     Mitsubishi 736 Series 65' 1080p DLP Rear Proje...\n",
              "price                                                        None\n",
              "Name: 653, dtype: object"
            ]
          },
          "metadata": {}
        },
        {
          "output_type": "display_data",
          "data": {
            "text/plain": [
              "product_id                                                  34666\n",
              "product_name    Panasonic VIERA 50' Plasma Flat Panel Black HD...\n",
              "description     Panasonic VIERA 50' Plasma Flat Panel Black HD...\n",
              "price                                                        None\n",
              "Name: 654, dtype: object"
            ]
          },
          "metadata": {}
        },
        {
          "output_type": "display_data",
          "data": {
            "text/plain": [
              "product_id                                                  34697\n",
              "product_name    LaCie 500GB d2 Quadra External Hard Drive - 30...\n",
              "description     LaCie 500GB d2 Quadra External Hard Drive - 30...\n",
              "price                                                     $159.00\n",
              "Name: 655, dtype: object"
            ]
          },
          "metadata": {}
        },
        {
          "output_type": "display_data",
          "data": {
            "text/plain": [
              "product_id                                                  34708\n",
              "product_name               Onkyo Black CD Receiver System - CS325\n",
              "description     Onkyo Black CD Receiver System - CS325/ 14 Wat...\n",
              "price                                                        None\n",
              "Name: 656, dtype: object"
            ]
          },
          "metadata": {}
        },
        {
          "output_type": "display_data",
          "data": {
            "text/plain": [
              "product_id                                                  34719\n",
              "product_name    Panasonic DECT 6.0 Black Expandable Digital Co...\n",
              "description     Panasonic DECT 6.0 Black Expandable Digital Co...\n",
              "price                                                      $48.00\n",
              "Name: 657, dtype: object"
            ]
          },
          "metadata": {}
        },
        {
          "output_type": "display_data",
          "data": {
            "text/plain": [
              "product_id                                                  34723\n",
              "product_name    Sony 1GB Memory Stick PRO Duo Mark 2 Media Car...\n",
              "description     Sony 1GB Memory Stick PRO Duo Mark 2 Media Car...\n",
              "price                                                      $19.00\n",
              "Name: 658, dtype: object"
            ]
          },
          "metadata": {}
        },
        {
          "output_type": "display_data",
          "data": {
            "text/plain": [
              "product_id                                                  34724\n",
              "product_name    Sony 2GB Memory Stick PRO Duo Mark 2 Media Car...\n",
              "description     Sony 2GB Memory Stick PRO Duo Mark 2 Media Car...\n",
              "price                                                      $29.99\n",
              "Name: 659, dtype: object"
            ]
          },
          "metadata": {}
        },
        {
          "output_type": "display_data",
          "data": {
            "text/plain": [
              "product_id                                                  34725\n",
              "product_name    Sony 4GB Memory Stick PRO Duo Mark 2 Media Car...\n",
              "description     Sony 4GB Memory Stick PRO Duo Mark 2 Media Car...\n",
              "price                                                        None\n",
              "Name: 660, dtype: object"
            ]
          },
          "metadata": {}
        },
        {
          "output_type": "display_data",
          "data": {
            "text/plain": [
              "product_id                                                  34727\n",
              "product_name    Sony 8GB Memory Stick PRO Duo Mark 2 Media Car...\n",
              "description     Sony 8GB Memory Stick PRO Duo Mark 2 Media Car...\n",
              "price                                                        None\n",
              "Name: 661, dtype: object"
            ]
          },
          "metadata": {}
        },
        {
          "output_type": "display_data",
          "data": {
            "text/plain": [
              "product_id                                                  34728\n",
              "product_name    Sony 16GB Memory Stick PRO Duo Mark 2 Media Ca...\n",
              "description     Sony 16GB Memory Stick PRO Duo Mark 2 Media Ca...\n",
              "price                                                        None\n",
              "Name: 662, dtype: object"
            ]
          },
          "metadata": {}
        },
        {
          "output_type": "display_data",
          "data": {
            "text/plain": [
              "product_id                                                  34747\n",
              "product_name           Canon BCI-6 Multipack Ink Tanks - 4705A018\n",
              "description     Canon BCI-6 Multipack Ink Tanks - 4705A018/ In...\n",
              "price                                                        None\n",
              "Name: 663, dtype: object"
            ]
          },
          "metadata": {}
        },
        {
          "output_type": "display_data",
          "data": {
            "text/plain": [
              "product_id                                                  34751\n",
              "product_name    Panasonic DECT 6.0 Black Expandable Digital Co...\n",
              "description     Panasonic DECT 6.0 Black Expandable Digital Co...\n",
              "price                                                        None\n",
              "Name: 664, dtype: object"
            ]
          },
          "metadata": {}
        },
        {
          "output_type": "display_data",
          "data": {
            "text/plain": [
              "product_id                                                  34754\n",
              "product_name    Panasonic DECT 6.0 Black Metallic Expandable D...\n",
              "description     Panasonic DECT 6.0 Black Metallic Expandable D...\n",
              "price                                                        None\n",
              "Name: 665, dtype: object"
            ]
          },
          "metadata": {}
        },
        {
          "output_type": "display_data",
          "data": {
            "text/plain": [
              "product_id                                                  34770\n",
              "product_name    Samsung 52' Series 7 Black Flat Panel LCD HDTV...\n",
              "description     Samsung 52' Series 7 Black Flat Panel LCD HDTV...\n",
              "price                                                        None\n",
              "Name: 666, dtype: object"
            ]
          },
          "metadata": {}
        },
        {
          "output_type": "display_data",
          "data": {
            "text/plain": [
              "product_id                                                  34791\n",
              "product_name    Canon PG-40 Black Ink Cartridge Twin Pack - PG...\n",
              "description     Canon PG-40 Black Ink Cartridge Twin Pack - PG...\n",
              "price                                                        None\n",
              "Name: 667, dtype: object"
            ]
          },
          "metadata": {}
        },
        {
          "output_type": "display_data",
          "data": {
            "text/plain": [
              "product_id                                                  34815\n",
              "product_name    Pioneer Black Premier Single CD Receiver - DEH...\n",
              "description     Pioneer Black Premier Single CD Receiver - DEH...\n",
              "price                                                     $308.00\n",
              "Name: 668, dtype: object"
            ]
          },
          "metadata": {}
        },
        {
          "output_type": "display_data",
          "data": {
            "text/plain": [
              "product_id                                                  34824\n",
              "product_name    Sony DSLR-A350 Digital Camera And 18-70mm Zoom...\n",
              "description     Sony DSLR-A350 Digital Camera And 18-70mm Zoom...\n",
              "price                                                        None\n",
              "Name: 669, dtype: object"
            ]
          },
          "metadata": {}
        },
        {
          "output_type": "display_data",
          "data": {
            "text/plain": [
              "product_id                                                  34829\n",
              "product_name    Speck SeeThru Clear Hard Shell Case For MacBoo...\n",
              "description     Speck SeeThru Clear Hard Shell Case For MacBoo...\n",
              "price                                                        None\n",
              "Name: 670, dtype: object"
            ]
          },
          "metadata": {}
        },
        {
          "output_type": "display_data",
          "data": {
            "text/plain": [
              "product_id                                                  34831\n",
              "product_name    Speck SeeThru Pink Hard Shell Case For MacBook...\n",
              "description     Speck SeeThru Pink Hard Shell Case For MacBook...\n",
              "price                                                        None\n",
              "Name: 671, dtype: object"
            ]
          },
          "metadata": {}
        },
        {
          "output_type": "display_data",
          "data": {
            "text/plain": [
              "product_id                                                  34836\n",
              "product_name    Sony Picture Station Digital Photo Printer - D...\n",
              "description     Sony Picture Station Digital Photo Printer - D...\n",
              "price                                                        None\n",
              "Name: 672, dtype: object"
            ]
          },
          "metadata": {}
        },
        {
          "output_type": "display_data",
          "data": {
            "text/plain": [
              "product_id                                                  34848\n",
              "product_name    LG Stainless Steel Freestanding Electric Range...\n",
              "description     LG Stainless Steel Freestanding Electric Range...\n",
              "price                                                        None\n",
              "Name: 673, dtype: object"
            ]
          },
          "metadata": {}
        },
        {
          "output_type": "display_data",
          "data": {
            "text/plain": [
              "product_id                                                  34854\n",
              "product_name    Sony 19' BRAVIA M-Series Silver LCD Flat Panel...\n",
              "description     Sony 19' BRAVIA M-Series Silver LCD Flat Panel...\n",
              "price                                                        None\n",
              "Name: 674, dtype: object"
            ]
          },
          "metadata": {}
        },
        {
          "output_type": "display_data",
          "data": {
            "text/plain": [
              "product_id                                                  34858\n",
              "product_name    Sony 26' BRAVIA M-Series Black LCD Flat Panel ...\n",
              "description     Sony 26' BRAVIA M-Series Black LCD Flat Panel ...\n",
              "price                                                        None\n",
              "Name: 675, dtype: object"
            ]
          },
          "metadata": {}
        },
        {
          "output_type": "display_data",
          "data": {
            "text/plain": [
              "product_id                                                  34860\n",
              "product_name    LG LDC22720ST 22 Cu. Ft. Smooth White Bottom F...\n",
              "description     LG LDC22720ST 22 Cu. Ft. Stainless Steel Botto...\n",
              "price                                                        None\n",
              "Name: 676, dtype: object"
            ]
          },
          "metadata": {}
        },
        {
          "output_type": "display_data",
          "data": {
            "text/plain": [
              "product_id                                                  34864\n",
              "product_name    Sony 46' BRAVIA S-Series Black LCD Flat Panel ...\n",
              "description     Sony 46' BRAVIA S-Series Black LCD Flat Panel ...\n",
              "price                                                        None\n",
              "Name: 677, dtype: object"
            ]
          },
          "metadata": {}
        },
        {
          "output_type": "display_data",
          "data": {
            "text/plain": [
              "product_id                                                  34878\n",
              "product_name    TomTom ONE 130S Car GPS Navigation System - 1E...\n",
              "description     TomTom ONE 130S Car GPS Navigation System - 1E...\n",
              "price                                                     $246.95\n",
              "Name: 678, dtype: object"
            ]
          },
          "metadata": {}
        },
        {
          "output_type": "display_data",
          "data": {
            "text/plain": [
              "product_id                                                  34880\n",
              "product_name    TomTom ONE XL 330 Car GPS Navigation System - ...\n",
              "description     TomTom ONE XL 330 Car GPS Navigation System - ...\n",
              "price                                                     $246.95\n",
              "Name: 679, dtype: object"
            ]
          },
          "metadata": {}
        },
        {
          "output_type": "display_data",
          "data": {
            "text/plain": [
              "product_id                                                  34881\n",
              "product_name    Sony 32' BRAVIA L-Series Black LCD Flat Panel ...\n",
              "description     Sony 32' BRAVIA L-Series Black LCD Flat Panel ...\n",
              "price                                                        None\n",
              "Name: 680, dtype: object"
            ]
          },
          "metadata": {}
        },
        {
          "output_type": "display_data",
          "data": {
            "text/plain": [
              "product_id                                                  34883\n",
              "product_name    TomTom ONE XL 330S Car GPS Navigation System -...\n",
              "description     TomTom ONE XL 330S Car GPS Navigation System -...\n",
              "price                                                     $296.95\n",
              "Name: 681, dtype: object"
            ]
          },
          "metadata": {}
        },
        {
          "output_type": "display_data",
          "data": {
            "text/plain": [
              "product_id                                                  34894\n",
              "product_name    Sony 46' BRAVIA W-Series Black LCD Flat Panel ...\n",
              "description     Sony 46' BRAVIA W-Series Black LCD Flat Panel ...\n",
              "price                                                        None\n",
              "Name: 682, dtype: object"
            ]
          },
          "metadata": {}
        },
        {
          "output_type": "display_data",
          "data": {
            "text/plain": [
              "product_id                                                  34895\n",
              "product_name    Sony 52' BRAVIA V-Series Black LCD Flat Panel ...\n",
              "description     Sony 52' BRAVIA V-Series 1080p LCD Flat Panel ...\n",
              "price                                                        None\n",
              "Name: 683, dtype: object"
            ]
          },
          "metadata": {}
        },
        {
          "output_type": "display_data",
          "data": {
            "text/plain": [
              "product_id                                                  34897\n",
              "product_name    Sony 52' BRAVIA W-Series Black LCD Flat Panel ...\n",
              "description     Sony 52' BRAVIA W-Series Black LCD Flat Panel ...\n",
              "price                                                        None\n",
              "Name: 684, dtype: object"
            ]
          },
          "metadata": {}
        },
        {
          "output_type": "display_data",
          "data": {
            "text/plain": [
              "product_id                                                  34899\n",
              "product_name    Sony Black 9 Megapixel Cyber-Shot Digital Came...\n",
              "description     Sony Black 9 Megapixel Cyber-Shot Digital Came...\n",
              "price                                                        None\n",
              "Name: 685, dtype: object"
            ]
          },
          "metadata": {}
        },
        {
          "output_type": "display_data",
          "data": {
            "text/plain": [
              "product_id                                                  34901\n",
              "product_name    Onkyo 7.1-Channel Home Theater Black Receiver ...\n",
              "description     Onkyo 7.1-Channel Home Theater Black Receiver ...\n",
              "price                                                        None\n",
              "Name: 686, dtype: object"
            ]
          },
          "metadata": {}
        },
        {
          "output_type": "display_data",
          "data": {
            "text/plain": [
              "product_id                                                  34904\n",
              "product_name    Sony Black 13.6 Megapixel Cyber-Shot Digital C...\n",
              "description     Sony Black 13.6 Megapixel Cyber-Shot Digital C...\n",
              "price                                                        None\n",
              "Name: 687, dtype: object"
            ]
          },
          "metadata": {}
        },
        {
          "output_type": "display_data",
          "data": {
            "text/plain": [
              "product_id                                                  34905\n",
              "product_name                Sony Black Camcorder Tripod - VCT80AV\n",
              "description     Sony Black Camcorder Tripod - VCT80AV/ 3 Stage...\n",
              "price                                                     $180.00\n",
              "Name: 688, dtype: object"
            ]
          },
          "metadata": {}
        },
        {
          "output_type": "display_data",
          "data": {
            "text/plain": [
              "product_id                                                  34926\n",
              "product_name    LG Black Freestanding Electric Range - LRE30757BK\n",
              "description     LG Black Freestanding Electric Range - LRE3075...\n",
              "price                                                        None\n",
              "Name: 689, dtype: object"
            ]
          },
          "metadata": {}
        },
        {
          "output_type": "display_data",
          "data": {
            "text/plain": [
              "product_id                                                  34927\n",
              "product_name    LG Stainless Steel Freestanding Electric Range...\n",
              "description     LG Stainless Steel Freestanding Electric Range...\n",
              "price                                                        None\n",
              "Name: 690, dtype: object"
            ]
          },
          "metadata": {}
        },
        {
          "output_type": "display_data",
          "data": {
            "text/plain": [
              "product_id                                                  34928\n",
              "product_name    LG 5.6 Cu. Ft. White Freestanding Electric Ran...\n",
              "description     LG 5.6 Cu. Ft. White Freestanding Electric Ran...\n",
              "price                                                        None\n",
              "Name: 691, dtype: object"
            ]
          },
          "metadata": {}
        },
        {
          "output_type": "display_data",
          "data": {
            "text/plain": [
              "product_id                                                  34934\n",
              "product_name    LG 5.6 Cu. Ft. Black Freestanding Electric Ran...\n",
              "description     LG 5.6 Cu. Ft. Black Freestanding Electric Ran...\n",
              "price                                                        None\n",
              "Name: 692, dtype: object"
            ]
          },
          "metadata": {}
        },
        {
          "output_type": "display_data",
          "data": {
            "text/plain": [
              "product_id                                                  34937\n",
              "product_name    LG LFC23760ST 22.6 Cu. Ft. Stainless Steel Fre...\n",
              "description     LG LFC23760ST 22.6 Cu. Ft. Stainless Steel Fre...\n",
              "price                                                        None\n",
              "Name: 693, dtype: object"
            ]
          },
          "metadata": {}
        },
        {
          "output_type": "display_data",
          "data": {
            "text/plain": [
              "product_id                                                  34941\n",
              "product_name       Sony 7.1 Channel Black A/V Receiver - STRDG820\n",
              "description     Sony 7.1 Channel Black A/V Receiver - STRDG820...\n",
              "price                                                     $399.00\n",
              "Name: 694, dtype: object"
            ]
          },
          "metadata": {}
        },
        {
          "output_type": "display_data",
          "data": {
            "text/plain": [
              "product_id                                                  34944\n",
              "product_name    Samsung 67' Black Widescreen Series 7 LED DLP ...\n",
              "description     Samsung 67' Black Widescreen Series 7 LED DLP ...\n",
              "price                                                        None\n",
              "Name: 695, dtype: object"
            ]
          },
          "metadata": {}
        },
        {
          "output_type": "display_data",
          "data": {
            "text/plain": [
              "product_id                                                  34945\n",
              "product_name    LG LFC25770SW 25.0 Cu. Ft. Smooth White French...\n",
              "description     LG LFC25770SW 25.0 Cu. Ft. Smooth White French...\n",
              "price                                                        None\n",
              "Name: 696, dtype: object"
            ]
          },
          "metadata": {}
        },
        {
          "output_type": "display_data",
          "data": {
            "text/plain": [
              "product_id                                                  34946\n",
              "product_name    LG LFC25770SB 25.0 Cu. Ft. Smooth Black French...\n",
              "description     LG LFC25770SB 25.0 Cu. Ft. Smooth Black French...\n",
              "price                                                        None\n",
              "Name: 697, dtype: object"
            ]
          },
          "metadata": {}
        },
        {
          "output_type": "display_data",
          "data": {
            "text/plain": [
              "product_id                                                  34947\n",
              "product_name    LG LFC25770ST 25.0 Cu. Ft. Stainless Steel Fre...\n",
              "description     LG LFC25770ST 25.0 Cu. Ft. Stainless Steel Fre...\n",
              "price                                                        None\n",
              "Name: 698, dtype: object"
            ]
          },
          "metadata": {}
        },
        {
          "output_type": "display_data",
          "data": {
            "text/plain": [
              "product_id                                                  34948\n",
              "product_name    LG 25.0 Cu. Ft. Titanium French Door Bottom Fr...\n",
              "description     LG 25.0 Cu. Ft. Titanium French Door Bottom Fr...\n",
              "price                                                        None\n",
              "Name: 699, dtype: object"
            ]
          },
          "metadata": {}
        },
        {
          "output_type": "display_data",
          "data": {
            "text/plain": [
              "product_id                                                  34959\n",
              "product_name    Plantronics .Audio 920 Bluetooth Headset - AUD...\n",
              "description     Plantronics .Audio 920 Bluetooth Headset - AUD...\n",
              "price                                                        None\n",
              "Name: 700, dtype: object"
            ]
          },
          "metadata": {}
        },
        {
          "output_type": "display_data",
          "data": {
            "text/plain": [
              "product_id                                                  34960\n",
              "product_name        Sony Weather Shower CD Clock Radio - ICFCD73W\n",
              "description     Sony Weather Shower CD Clock Radio - ICFCD73W/...\n",
              "price                                                        None\n",
              "Name: 701, dtype: object"
            ]
          },
          "metadata": {}
        },
        {
          "output_type": "display_data",
          "data": {
            "text/plain": [
              "product_id                                                  34961\n",
              "product_name    LG LFX25971SW 24.7 Cu. Ft. Smooth White French...\n",
              "description     LG LFX25971SW 24.7 Cu. Ft. Smooth White French...\n",
              "price                                                        None\n",
              "Name: 702, dtype: object"
            ]
          },
          "metadata": {}
        },
        {
          "output_type": "display_data",
          "data": {
            "text/plain": [
              "product_id                                                  34962\n",
              "product_name    LG LFX25971SB 24.7 Cu. Ft. Smooth Black French...\n",
              "description     LG LFX25971SB 24.7 Cu. Ft. Smooth Black French...\n",
              "price                                                        None\n",
              "Name: 703, dtype: object"
            ]
          },
          "metadata": {}
        },
        {
          "output_type": "display_data",
          "data": {
            "text/plain": [
              "product_id                                                  34963\n",
              "product_name    LG LFX25971ST 24.7 Cu. Ft. Stainless Steel Fre...\n",
              "description     LG LFX25971ST 24.7 Cu. Ft. Stainless Steel Fre...\n",
              "price                                                        None\n",
              "Name: 704, dtype: object"
            ]
          },
          "metadata": {}
        },
        {
          "output_type": "display_data",
          "data": {
            "text/plain": [
              "product_id                                                  34966\n",
              "product_name           Samsung MiniDV Digital Camcorder - SCDC382\n",
              "description     Samsung MiniDV Digital Camcorder - SCDC382/ 68...\n",
              "price                                                        None\n",
              "Name: 705, dtype: object"
            ]
          },
          "metadata": {}
        },
        {
          "output_type": "display_data",
          "data": {
            "text/plain": [
              "product_id                                                  34968\n",
              "product_name         Sony Splash Resistant Shower Radio - ICFS79W\n",
              "description     Sony Multi Band Digital Tuner Shower Radio - I...\n",
              "price                                                      $49.00\n",
              "Name: 706, dtype: object"
            ]
          },
          "metadata": {}
        },
        {
          "output_type": "display_data",
          "data": {
            "text/plain": [
              "product_id                                                  34969\n",
              "product_name            LG 32' Black LCD Flat Panel HDTV - 32LG30\n",
              "description     LG 32' Black LCD Flat Panel HDTV - 32LG30/ 136...\n",
              "price                                                        None\n",
              "Name: 707, dtype: object"
            ]
          },
          "metadata": {}
        },
        {
          "output_type": "display_data",
          "data": {
            "text/plain": [
              "product_id                                                  34976\n",
              "product_name    Onkyo Black 7.1-Channel Home Theater System - ...\n",
              "description     Onkyo HTS5100 Black 7.1-Channel Home Theater S...\n",
              "price                                                        None\n",
              "Name: 708, dtype: object"
            ]
          },
          "metadata": {}
        },
        {
          "output_type": "display_data",
          "data": {
            "text/plain": [
              "product_id                                                  34981\n",
              "product_name    Sony 32' BRAVIA M-Series Gloss Black LCD Flat ...\n",
              "description     Sony 32' BRAVIA M-Series Gloss Black LCD Flat ...\n",
              "price                                                        None\n",
              "Name: 709, dtype: object"
            ]
          },
          "metadata": {}
        },
        {
          "output_type": "display_data",
          "data": {
            "text/plain": [
              "product_id                                                  34998\n",
              "product_name        Samsung 50' Widescreen Plasma HDTV - PN50A650\n",
              "description     Samsung 50' Widescreen Plasma HDTV - PN50A650/...\n",
              "price                                                        None\n",
              "Name: 710, dtype: object"
            ]
          },
          "metadata": {}
        },
        {
          "output_type": "display_data",
          "data": {
            "text/plain": [
              "product_id                                                  35010\n",
              "product_name     LG 30' White Freestanding Gas Range - LRG30357WH\n",
              "description     LG 30' White Freestanding Gas Range - LRG30357...\n",
              "price                                                        None\n",
              "Name: 711, dtype: object"
            ]
          },
          "metadata": {}
        },
        {
          "output_type": "display_data",
          "data": {
            "text/plain": [
              "product_id                                                  35011\n",
              "product_name     LG 30' Black Freestanding Gas Range - LRG30357BK\n",
              "description     LG 30' Black Freestanding Gas Range - LRG30357...\n",
              "price                                                        None\n",
              "Name: 712, dtype: object"
            ]
          },
          "metadata": {}
        },
        {
          "output_type": "display_data",
          "data": {
            "text/plain": [
              "product_id                                                  35012\n",
              "product_name    Samsung 5 Disc Home Theater Surround Sound Sys...\n",
              "description     Samsung 5 Disc Home Theater Surround Sound Sys...\n",
              "price                                                        None\n",
              "Name: 713, dtype: object"
            ]
          },
          "metadata": {}
        },
        {
          "output_type": "display_data",
          "data": {
            "text/plain": [
              "product_id                                                  35014\n",
              "product_name    LG 30' Stainless Steel Freestanding Gas Range ...\n",
              "description     LG 30' Stainless Steel Freestanding Gas Range ...\n",
              "price                                                        None\n",
              "Name: 714, dtype: object"
            ]
          },
          "metadata": {}
        },
        {
          "output_type": "display_data",
          "data": {
            "text/plain": [
              "product_id                                                  35018\n",
              "product_name    Samsung 5 Disc Home Theater Surround Sound Sys...\n",
              "description     Samsung 5 Disc Home Theater Surround Sound Sys...\n",
              "price                                                        None\n",
              "Name: 715, dtype: object"
            ]
          },
          "metadata": {}
        },
        {
          "output_type": "display_data",
          "data": {
            "text/plain": [
              "product_id                                                  35019\n",
              "product_name    LG Over-The-Range White Microwave Oven - LMV16...\n",
              "description     LG Over-The-Range White Microwave Oven - LMV16...\n",
              "price                                                        None\n",
              "Name: 716, dtype: object"
            ]
          },
          "metadata": {}
        },
        {
          "output_type": "display_data",
          "data": {
            "text/plain": [
              "product_id                                                  35022\n",
              "product_name    LG Over-The-Range Black Microwave Oven - LMV16...\n",
              "description     LG Over-The-Range Black Microwave Oven - LMV16...\n",
              "price                                                        None\n",
              "Name: 717, dtype: object"
            ]
          },
          "metadata": {}
        },
        {
          "output_type": "display_data",
          "data": {
            "text/plain": [
              "product_id                                                  35024\n",
              "product_name    LG Over-The-Range Stainless Steel Microwave Ov...\n",
              "description     LG Over-The-Range Stainless Steel Microwave Ov...\n",
              "price                                                        None\n",
              "Name: 718, dtype: object"
            ]
          },
          "metadata": {}
        },
        {
          "output_type": "display_data",
          "data": {
            "text/plain": [
              "product_id                                                  35031\n",
              "product_name    LG 2.0 Cu. Ft. Over-The-Range White Microwave ...\n",
              "description     LG 2.0 Cu. Ft. Over-The-Range White Microwave ...\n",
              "price                                                        None\n",
              "Name: 719, dtype: object"
            ]
          },
          "metadata": {}
        },
        {
          "output_type": "display_data",
          "data": {
            "text/plain": [
              "product_id                                                  35033\n",
              "product_name    LG 2.0 Cu. Ft. Over-The-Range Black Microwave ...\n",
              "description     LG 2.0 Cu. Ft. Over-The-Range Black Microwave ...\n",
              "price                                                        None\n",
              "Name: 720, dtype: object"
            ]
          },
          "metadata": {}
        },
        {
          "output_type": "display_data",
          "data": {
            "text/plain": [
              "product_id                                                  35034\n",
              "product_name            LG 52' Black LCD Flat Panel HDTV - 52LG50\n",
              "description     LG 52' Black LCD Flat Panel HDTV - 52LG50/ Ful...\n",
              "price                                                        None\n",
              "Name: 721, dtype: object"
            ]
          },
          "metadata": {}
        },
        {
          "output_type": "display_data",
          "data": {
            "text/plain": [
              "product_id                                                  35035\n",
              "product_name    LG 2.0 Cu. Ft. Over-The-Range Stainless Steel ...\n",
              "description     LG 2.0 Cu. Ft. Over-The-Range Stainless Steel ...\n",
              "price                                                        None\n",
              "Name: 722, dtype: object"
            ]
          },
          "metadata": {}
        },
        {
          "output_type": "display_data",
          "data": {
            "text/plain": [
              "product_id                                                  35044\n",
              "product_name            LG 47' Black LCD Flat Panel HDTV - 47LG50\n",
              "description     LG 47' Black LCD Flat Panel HDTV - 47LG50/ Ful...\n",
              "price                                                        None\n",
              "Name: 723, dtype: object"
            ]
          },
          "metadata": {}
        },
        {
          "output_type": "display_data",
          "data": {
            "text/plain": [
              "product_id                                                  35045\n",
              "product_name        Samsung Black Combo DVD/VHS Player - DVDV9800\n",
              "description     Samsung Black Combo DVD/VHS Player - DVDV9800/...\n",
              "price                                                      $98.00\n",
              "Name: 724, dtype: object"
            ]
          },
          "metadata": {}
        },
        {
          "output_type": "display_data",
          "data": {
            "text/plain": [
              "product_id                                                  35052\n",
              "product_name    Sharp 26' Black LCD HDTV With Built In DVD Pla...\n",
              "description     Sharp 26' Black LCD HDTV With Built In DVD Pla...\n",
              "price                                                        None\n",
              "Name: 725, dtype: object"
            ]
          },
          "metadata": {}
        },
        {
          "output_type": "display_data",
          "data": {
            "text/plain": [
              "product_id                                                  35054\n",
              "product_name    Pioneer 4'x6' 2-Way Component Plate Speaker - ...\n",
              "description     Pioneer 4'x6' 2-Way Component Plate Speaker - ...\n",
              "price                                                        None\n",
              "Name: 726, dtype: object"
            ]
          },
          "metadata": {}
        },
        {
          "output_type": "display_data",
          "data": {
            "text/plain": [
              "product_id                                                  35060\n",
              "product_name      Omnimount Stellar Series Audio Tower - G303DARK\n",
              "description     Omnimount Stellar Series Audio Tower - G303DAR...\n",
              "price                                                     $299.00\n",
              "Name: 727, dtype: object"
            ]
          },
          "metadata": {}
        },
        {
          "output_type": "display_data",
          "data": {
            "text/plain": [
              "product_id                                                  35111\n",
              "product_name    Peerless 37' - 60' Flat Panel TV Black Wall Mo...\n",
              "description     Peerless 37' - 60' Flat Panel TV Black Wall Mo...\n",
              "price                                                        None\n",
              "Name: 728, dtype: object"
            ]
          },
          "metadata": {}
        },
        {
          "output_type": "display_data",
          "data": {
            "text/plain": [
              "product_id                                                  35153\n",
              "product_name    Weber Q 320 Liquid Propane Table And Outdoor G...\n",
              "description     Weber Q 320 Liquid Propane Table And Outdoor G...\n",
              "price                                                     $379.00\n",
              "Name: 729, dtype: object"
            ]
          },
          "metadata": {}
        },
        {
          "output_type": "display_data",
          "data": {
            "text/plain": [
              "product_id                                                  35165\n",
              "product_name    LG 24' LDS4821WW Semi Integrated Built In Whit...\n",
              "description     LG 24' LDS4821WW Semi Integrated Built In Whit...\n",
              "price                                                        None\n",
              "Name: 730, dtype: object"
            ]
          },
          "metadata": {}
        },
        {
          "output_type": "display_data",
          "data": {
            "text/plain": [
              "product_id                                                  35175\n",
              "product_name    LG 24' LDS4821BB Semi Integrated Built In Blac...\n",
              "description     LG 24' LDS4821BB Semi Integrated Built In Blac...\n",
              "price                                                        None\n",
              "Name: 731, dtype: object"
            ]
          },
          "metadata": {}
        },
        {
          "output_type": "display_data",
          "data": {
            "text/plain": [
              "product_id                                                  35183\n",
              "product_name    LG 24' LDF6920WW Fully Integrated Built In Whi...\n",
              "description     LG 24' LDF6920WW Fully Integrated Built In Whi...\n",
              "price                                                        None\n",
              "Name: 732, dtype: object"
            ]
          },
          "metadata": {}
        },
        {
          "output_type": "display_data",
          "data": {
            "text/plain": [
              "product_id                                                  35185\n",
              "product_name    Sony Black Component Home Theater System - HT7...\n",
              "description     Sony Black Component Home Theater System - HT7...\n",
              "price                                                     $499.00\n",
              "Name: 733, dtype: object"
            ]
          },
          "metadata": {}
        },
        {
          "output_type": "display_data",
          "data": {
            "text/plain": [
              "product_id                                                  35186\n",
              "product_name    LG 24' LDF6920ST Fully Integrated Built In Sta...\n",
              "description     LG 24' LDF6920ST Fully Integrated Built In Sta...\n",
              "price                                                        None\n",
              "Name: 734, dtype: object"
            ]
          },
          "metadata": {}
        },
        {
          "output_type": "display_data",
          "data": {
            "text/plain": [
              "product_id                                                  35190\n",
              "product_name    LG 24' LDF6920BB Fully Integrated Built In Bla...\n",
              "description     LG 24' LDF6920BB Fully Integrated Built In Bla...\n",
              "price                                                        None\n",
              "Name: 735, dtype: object"
            ]
          },
          "metadata": {}
        },
        {
          "output_type": "display_data",
          "data": {
            "text/plain": [
              "product_id                                                  35194\n",
              "product_name    Sony 37' BRAVIA XBR Series Black LCD Flat Pane...\n",
              "description     Sony 37' BRAVIA XBR Series Black LCD Flat Pane...\n",
              "price                                                        None\n",
              "Name: 736, dtype: object"
            ]
          },
          "metadata": {}
        },
        {
          "output_type": "display_data",
          "data": {
            "text/plain": [
              "product_id                                                  35201\n",
              "product_name    Sony 40' BRAVIA Z Series Black LCD Flat Panel ...\n",
              "description     Sony 40' BRAVIA Z Series Black LCD Flat Panel ...\n",
              "price                                                        None\n",
              "Name: 737, dtype: object"
            ]
          },
          "metadata": {}
        },
        {
          "output_type": "display_data",
          "data": {
            "text/plain": [
              "product_id                                                  35216\n",
              "product_name               Samsung Black Blu-ray Player - BDP1500\n",
              "description     Samsung Black Blu-ray Player - BDP1500/ 1080p ...\n",
              "price                                                        None\n",
              "Name: 738, dtype: object"
            ]
          },
          "metadata": {}
        },
        {
          "output_type": "display_data",
          "data": {
            "text/plain": [
              "product_id                                                  35218\n",
              "product_name    Garmin Nuvi 255W GPS Navigation System - 01000...\n",
              "description     Garmin Nuvi 255W GPS Navigation System - 01000...\n",
              "price                                                        None\n",
              "Name: 739, dtype: object"
            ]
          },
          "metadata": {}
        },
        {
          "output_type": "display_data",
          "data": {
            "text/plain": [
              "product_id                                                  35219\n",
              "product_name    Sony 46' BRAVIA Z Series Black LCD Flat Panel ...\n",
              "description     Sony 46' BRAVIA Z Series Black LCD Flat Panel ...\n",
              "price                                                        None\n",
              "Name: 740, dtype: object"
            ]
          },
          "metadata": {}
        },
        {
          "output_type": "display_data",
          "data": {
            "text/plain": [
              "product_id                                                  35226\n",
              "product_name    Sony 42' BRAVIA V Series Black LCD Flat Panel ...\n",
              "description     Sony 42' BRAVIA V Series Black LCD Flat Panel ...\n",
              "price                                                        None\n",
              "Name: 741, dtype: object"
            ]
          },
          "metadata": {}
        },
        {
          "output_type": "display_data",
          "data": {
            "text/plain": [
              "product_id                                                  35231\n",
              "product_name    LG LMX25981ST 24.7 Cu. Ft. Capacity Stainless ...\n",
              "description     LG LMX25981ST 24.7 Cu. Ft. Capacity Stainless ...\n",
              "price                                                        None\n",
              "Name: 742, dtype: object"
            ]
          },
          "metadata": {}
        },
        {
          "output_type": "display_data",
          "data": {
            "text/plain": [
              "product_id                                                  35237\n",
              "product_name                  TomTom Black Carry Case - 9UEA01700\n",
              "description     TomTom Black Carry Case - 9UEA01700/ Specifica...\n",
              "price                                                      $19.00\n",
              "Name: 743, dtype: object"
            ]
          },
          "metadata": {}
        },
        {
          "output_type": "display_data",
          "data": {
            "text/plain": [
              "product_id                                                  35247\n",
              "product_name            LG 52' Black LCD Flat Panel HDTV - 52LG70\n",
              "description     LG 52' Black LCD Flat Panel HDTV - 52LG70/ 192...\n",
              "price                                                        None\n",
              "Name: 744, dtype: object"
            ]
          },
          "metadata": {}
        },
        {
          "output_type": "display_data",
          "data": {
            "text/plain": [
              "product_id                                                  35276\n",
              "product_name       Pioneer KURO 50' Black Plasma HDTV - PDP5020FD\n",
              "description     Pioneer KURO 50' Black Plasma HDTV - PDP5020FD...\n",
              "price                                                        None\n",
              "Name: 745, dtype: object"
            ]
          },
          "metadata": {}
        },
        {
          "output_type": "display_data",
          "data": {
            "text/plain": [
              "product_id                                                  35277\n",
              "product_name       Pioneer KURO 60' Black Plasma HDTV - PDP6020FD\n",
              "description     Pioneer KURO 60' Black Plasma HDTV - PDP6020FD...\n",
              "price                                                        None\n",
              "Name: 746, dtype: object"
            ]
          },
          "metadata": {}
        },
        {
          "output_type": "display_data",
          "data": {
            "text/plain": [
              "product_id                                                  35282\n",
              "product_name    Nikon COOLPIX P80 Digital Camera In Black - CO...\n",
              "description     Nikon COOLPIX P80 Digital Camera In Black - CO...\n",
              "price                                                        None\n",
              "Name: 747, dtype: object"
            ]
          },
          "metadata": {}
        },
        {
          "output_type": "display_data",
          "data": {
            "text/plain": [
              "product_id                                                  35305\n",
              "product_name         Panasonic 60GB Hard Drive Camcorder - SDRH60\n",
              "description     Panasonic 60GB Hard Drive Camcorder - SDRH60/ ...\n",
              "price                                                        None\n",
              "Name: 748, dtype: object"
            ]
          },
          "metadata": {}
        },
        {
          "output_type": "display_data",
          "data": {
            "text/plain": [
              "product_id                                                  35306\n",
              "product_name    Panasonic DECT 6.0 Silver Expandable Digital C...\n",
              "description     Panasonic DECT 6.0 Silver Expandable Digital C...\n",
              "price                                                        None\n",
              "Name: 749, dtype: object"
            ]
          },
          "metadata": {}
        },
        {
          "output_type": "display_data",
          "data": {
            "text/plain": [
              "product_id                                                  35308\n",
              "product_name    Bracketron Black GPS Low-Pro Windshield Mount ...\n",
              "description     Bracketron GPS Low-Pro Windshield Mount - SWM4...\n",
              "price                                                        None\n",
              "Name: 750, dtype: object"
            ]
          },
          "metadata": {}
        },
        {
          "output_type": "display_data",
          "data": {
            "text/plain": [
              "product_id                                                  35309\n",
              "product_name    LG 32' Black LCD Flat Panel HDTV With Built In...\n",
              "description     LG 32' Black LCD Flat Panel HDTV With Built In...\n",
              "price                                                        None\n",
              "Name: 751, dtype: object"
            ]
          },
          "metadata": {}
        },
        {
          "output_type": "display_data",
          "data": {
            "text/plain": [
              "product_id                                                  35332\n",
              "product_name    Mitsubishi 835 Diamond Series 65' 1080p DLP Re...\n",
              "description     Mitsubishi 835 Diamond Series 65' 1080p DLP Re...\n",
              "price                                                        None\n",
              "Name: 752, dtype: object"
            ]
          },
          "metadata": {}
        },
        {
          "output_type": "display_data",
          "data": {
            "text/plain": [
              "product_id                                                  35334\n",
              "product_name    Mitsubishi 835 Diamond Series 73' 1080p DLP Re...\n",
              "description     Mitsubishi 835 Diamond Series 73' 1080p DLP Re...\n",
              "price                                                   $3,499.00\n",
              "Name: 753, dtype: object"
            ]
          },
          "metadata": {}
        },
        {
          "output_type": "display_data",
          "data": {
            "text/plain": [
              "product_id                                                  35384\n",
              "product_name    Sony Black DVD Recorder And VHS Combo Player -...\n",
              "description     Sony Black DVD Recorder And VHS Combo Player -...\n",
              "price                                                     $219.00\n",
              "Name: 754, dtype: object"
            ]
          },
          "metadata": {}
        },
        {
          "output_type": "display_data",
          "data": {
            "text/plain": [
              "product_id                                                  35388\n",
              "product_name    Panasonic VIERA 46' Black Plasma Flat Panel 10...\n",
              "description     Panasonic VIERA 46' Black Plasma Flat Panel 10...\n",
              "price                                                        None\n",
              "Name: 755, dtype: object"
            ]
          },
          "metadata": {}
        },
        {
          "output_type": "display_data",
          "data": {
            "text/plain": [
              "product_id                                                  35415\n",
              "product_name    Uniden DECT 6.0 Digital Accessory Handset  - D...\n",
              "description     Uniden DECT 6.0 Digital Accessory Handset - DC...\n",
              "price                                                      $34.00\n",
              "Name: 756, dtype: object"
            ]
          },
          "metadata": {}
        },
        {
          "output_type": "display_data",
          "data": {
            "text/plain": [
              "product_id                                                  35431\n",
              "product_name    Panasonic VIERA 32' Class Widescreen LCD HDTV ...\n",
              "description     Panasonic VIERA 32' Class Widescreen LCD HDTV ...\n",
              "price                                                        None\n",
              "Name: 757, dtype: object"
            ]
          },
          "metadata": {}
        },
        {
          "output_type": "display_data",
          "data": {
            "text/plain": [
              "product_id                                                  35467\n",
              "product_name    Peerless 23' - 46' Universal Flat Panel TV Bla...\n",
              "description     Peerless 23' - 46' Universal Flat Panel TV Bla...\n",
              "price                                                        None\n",
              "Name: 758, dtype: object"
            ]
          },
          "metadata": {}
        },
        {
          "output_type": "display_data",
          "data": {
            "text/plain": [
              "product_id                                                  35475\n",
              "product_name                Sony DVD Recorder In Black - RDRGX360\n",
              "description     Sony DVD Recorder In Black - RDRGX360/ 1080p/1...\n",
              "price                                                     $179.00\n",
              "Name: 759, dtype: object"
            ]
          },
          "metadata": {}
        },
        {
          "output_type": "display_data",
          "data": {
            "text/plain": [
              "product_id                                                  35477\n",
              "product_name            Griffin iTrip FM Transmitter - 4052TRPSEB\n",
              "description     Griffin iTrip FM Transmitter - 4052TRPSEB/ One...\n",
              "price                                                        None\n",
              "Name: 760, dtype: object"
            ]
          },
          "metadata": {}
        },
        {
          "output_type": "display_data",
          "data": {
            "text/plain": [
              "product_id                                                  35485\n",
              "product_name    Haier 15' Black Flat Panel LCD HDTV DVD Combo ...\n",
              "description     Haier 15' Black Flat Panel LCD HDTV DVD Combo ...\n",
              "price                                                        None\n",
              "Name: 761, dtype: object"
            ]
          },
          "metadata": {}
        },
        {
          "output_type": "display_data",
          "data": {
            "text/plain": [
              "product_id                                                  35498\n",
              "product_name         Sennheisser Hi-Fi Wireless Headphone - RS130\n",
              "description     Sennheisser Hi-Fi Wireless Headphone - RS130/ ...\n",
              "price                                                     $159.95\n",
              "Name: 762, dtype: object"
            ]
          },
          "metadata": {}
        },
        {
          "output_type": "display_data",
          "data": {
            "text/plain": [
              "product_id                                                  35519\n",
              "product_name                BlueAnt Black Bluetooth Headset - Z9I\n",
              "description     BlueAnt Black Bluetooth Headset - Z9I/ Pairs W...\n",
              "price                                                      $99.00\n",
              "Name: 763, dtype: object"
            ]
          },
          "metadata": {}
        },
        {
          "output_type": "display_data",
          "data": {
            "text/plain": [
              "product_id                                                  35525\n",
              "product_name    Panasonic Black Expandable Digital Cordless De...\n",
              "description     Panasonic Black Expandable Digital Cordless De...\n",
              "price                                                        None\n",
              "Name: 764, dtype: object"
            ]
          },
          "metadata": {}
        },
        {
          "output_type": "display_data",
          "data": {
            "text/plain": [
              "product_id                                                  35530\n",
              "product_name       Escort Passport 9500CI Radar Detector - 9500CI\n",
              "description     Escort Passport 9500CI Radar Detector - 9500CI...\n",
              "price                                                   $1,995.00\n",
              "Name: 765, dtype: object"
            ]
          },
          "metadata": {}
        },
        {
          "output_type": "display_data",
          "data": {
            "text/plain": [
              "product_id                                                  35552\n",
              "product_name    Garmin Vehicle Adjustable Suction Cup Mount - ...\n",
              "description     Garmin Vehicle Adjustable Suction Cup Mount - ...\n",
              "price                                                        None\n",
              "Name: 766, dtype: object"
            ]
          },
          "metadata": {}
        },
        {
          "output_type": "display_data",
          "data": {
            "text/plain": [
              "product_id                                                  35591\n",
              "product_name    Samsung 72' Series 6 Black Widescreen DLP HDTV...\n",
              "description     Samsung 72' Series 6 Black Widescreen DLP HDTV...\n",
              "price                                                        None\n",
              "Name: 767, dtype: object"
            ]
          },
          "metadata": {}
        },
        {
          "output_type": "display_data",
          "data": {
            "text/plain": [
              "product_id                                                  35623\n",
              "product_name    Peerless 10' - 22' Flat Panel TV Black Pivot W...\n",
              "description     Peerless 10' - 22' Flat Panel TV Black Pivot W...\n",
              "price                                                        None\n",
              "Name: 768, dtype: object"
            ]
          },
          "metadata": {}
        },
        {
          "output_type": "display_data",
          "data": {
            "text/plain": [
              "product_id                                                  35662\n",
              "product_name    Garmin Nuvi 205 GPS Navigation System - 010007...\n",
              "description     Garmin Nuvi 205 GPS Navigation System - 010007...\n",
              "price                                                        None\n",
              "Name: 769, dtype: object"
            ]
          },
          "metadata": {}
        },
        {
          "output_type": "display_data",
          "data": {
            "text/plain": [
              "product_id                                                  35663\n",
              "product_name    Garmin Nuvi 205W GPS Navigation System - 01000...\n",
              "description     Garmin Nuvi 205W GPS Navigation System - 01000...\n",
              "price                                                        None\n",
              "Name: 770, dtype: object"
            ]
          },
          "metadata": {}
        },
        {
          "output_type": "display_data",
          "data": {
            "text/plain": [
              "product_id                                                  35666\n",
              "product_name    Sony Black 5.1 Channel Home Theater System - H...\n",
              "description     Sony Black 5.1 Channel Home Theater System - H...\n",
              "price                                                     $199.00\n",
              "Name: 771, dtype: object"
            ]
          },
          "metadata": {}
        },
        {
          "output_type": "display_data",
          "data": {
            "text/plain": [
              "product_id                                                  35680\n",
              "product_name    Denon Multi-Channel Digital Surround Sound Spe...\n",
              "description     Denon Multi-Channel Digital Surround Sound Spe...\n",
              "price                                                     $499.00\n",
              "Name: 772, dtype: object"
            ]
          },
          "metadata": {}
        },
        {
          "output_type": "display_data",
          "data": {
            "text/plain": [
              "product_id                                                  35693\n",
              "product_name       Samsung S2 Green 1GB Flash MP3 Player - YPS2ZG\n",
              "description     Samsung S2 Green 1GB Flash MP3 Player - YPS2ZG...\n",
              "price                                                        None\n",
              "Name: 773, dtype: object"
            ]
          },
          "metadata": {}
        },
        {
          "output_type": "display_data",
          "data": {
            "text/plain": [
              "product_id                                                  35694\n",
              "product_name       Samsung S2 White 1GB Flash MP3 Player - YPS2ZW\n",
              "description     Samsung S2 White 1GB Flash MP3 Player - YPS2ZW...\n",
              "price                                                        None\n",
              "Name: 774, dtype: object"
            ]
          },
          "metadata": {}
        },
        {
          "output_type": "display_data",
          "data": {
            "text/plain": [
              "product_id                                                  35738\n",
              "product_name    Samsung 7.1-Channel Blu-ray Home Theater Syste...\n",
              "description     Samsung HT-BD2T 7.1-Channel Blu-ray Home Theat...\n",
              "price                                                        None\n",
              "Name: 775, dtype: object"
            ]
          },
          "metadata": {}
        },
        {
          "output_type": "display_data",
          "data": {
            "text/plain": [
              "product_id                                                  35748\n",
              "product_name         Danby White Countertop Dishwasher - DDW497WH\n",
              "description     Danby White Countertop Dishwasher - DDW497WH/ ...\n",
              "price                                                     $222.00\n",
              "Name: 776, dtype: object"
            ]
          },
          "metadata": {}
        },
        {
          "output_type": "display_data",
          "data": {
            "text/plain": [
              "product_id                                                  35800\n",
              "product_name    Panasonic Expandable Bluetooth-Enabled DECT 6....\n",
              "description     Panasonic Expandable Bluetooth-Enabled DECT 6....\n",
              "price                                                        None\n",
              "Name: 777, dtype: object"
            ]
          },
          "metadata": {}
        },
        {
          "output_type": "display_data",
          "data": {
            "text/plain": [
              "product_id                                                  35810\n",
              "product_name       Canon KP-36IP Color Ink & Paper Set - 7737A001\n",
              "description     Canon KP-36IP Color Ink & Paper Set - 7737A001...\n",
              "price                                                      $12.00\n",
              "Name: 778, dtype: object"
            ]
          },
          "metadata": {}
        },
        {
          "output_type": "display_data",
          "data": {
            "text/plain": [
              "product_id                                                  35843\n",
              "product_name    Canon EF-S 55-250mm f/4-5.6 IS Telephoto Zoom ...\n",
              "description     Canon EF-S 55-250mm f/4-5.6 IS Telephoto Zoom ...\n",
              "price                                                        None\n",
              "Name: 779, dtype: object"
            ]
          },
          "metadata": {}
        },
        {
          "output_type": "display_data",
          "data": {
            "text/plain": [
              "product_id                                                  35851\n",
              "product_name    Linksys Ultra RangePlus Wireless-N Broadband R...\n",
              "description     Linksys Ultra RangePlus Wireless-N Broadband R...\n",
              "price                                                      $79.00\n",
              "Name: 780, dtype: object"
            ]
          },
          "metadata": {}
        },
        {
          "output_type": "display_data",
          "data": {
            "text/plain": [
              "product_id                                                  35853\n",
              "product_name          Pioneer USB iPod Interface Cable - CDIU230V\n",
              "description     Pioneer USB iPod Interface Cable - CDIU230V/ C...\n",
              "price                                                      $48.00\n",
              "Name: 781, dtype: object"
            ]
          },
          "metadata": {}
        },
        {
          "output_type": "display_data",
          "data": {
            "text/plain": [
              "product_id                                                  35872\n",
              "product_name           Sharp Plasmacluster Air Purifier - KCC100U\n",
              "description     Sharp Plasmacluster Air Purifier - KCC100U/ Hu...\n",
              "price                                                        None\n",
              "Name: 782, dtype: object"
            ]
          },
          "metadata": {}
        },
        {
          "output_type": "display_data",
          "data": {
            "text/plain": [
              "product_id                                                  35877\n",
              "product_name                    Sharp HEPA Air Purifier - FPP35CX\n",
              "description     Sharp White Air Purifier - FPP35CX/ Washable P...\n",
              "price                                                        None\n",
              "Name: 783, dtype: object"
            ]
          },
          "metadata": {}
        },
        {
          "output_type": "display_data",
          "data": {
            "text/plain": [
              "product_id                                                  35900\n",
              "product_name    Canon White Selphy CP760 Compact Photo Printer...\n",
              "description     Canon White Selphy CP760 Compact Photo Printer...\n",
              "price                                                      $95.00\n",
              "Name: 784, dtype: object"
            ]
          },
          "metadata": {}
        },
        {
          "output_type": "display_data",
          "data": {
            "text/plain": [
              "product_id                                                  35903\n",
              "product_name           Sony 2GB Memory Stick Micro (M2) - MSA2GU2\n",
              "description     Sony MSA2GD 2GB Memory Stick Micro (M2) - MSA2...\n",
              "price                                                      $29.99\n",
              "Name: 785, dtype: object"
            ]
          },
          "metadata": {}
        },
        {
          "output_type": "display_data",
          "data": {
            "text/plain": [
              "product_id                                                  35905\n",
              "product_name    BlueAnt Supertooth Light Bluetooth Handsfree I...\n",
              "description     BlueAnt Supertooth Light Bluetooth Handsfree I...\n",
              "price                                                        None\n",
              "Name: 786, dtype: object"
            ]
          },
          "metadata": {}
        },
        {
          "output_type": "display_data",
          "data": {
            "text/plain": [
              "product_id                                                  35925\n",
              "product_name                Directed 50ft Extension Cable - 14230\n",
              "description     Directed 50ft Extension Cable - 14230/ Built-I...\n",
              "price                                                        None\n",
              "Name: 787, dtype: object"
            ]
          },
          "metadata": {}
        },
        {
          "output_type": "display_data",
          "data": {
            "text/plain": [
              "product_id                                                  35981\n",
              "product_name    Samsung L200 Black 10.2 Megapixel Digital Came...\n",
              "description     Samsung L200 Black 10.2 Megapixel Digital Came...\n",
              "price                                                        None\n",
              "Name: 788, dtype: object"
            ]
          },
          "metadata": {}
        },
        {
          "output_type": "display_data",
          "data": {
            "text/plain": [
              "product_id                                                  35983\n",
              "product_name    Panasonic DECT 6.0 Silver Digital Cordless Han...\n",
              "description     Panasonic DECT 6.0 Silver Digital Cordless Han...\n",
              "price                                                      $29.99\n",
              "Name: 789, dtype: object"
            ]
          },
          "metadata": {}
        },
        {
          "output_type": "display_data",
          "data": {
            "text/plain": [
              "product_id                                                  35987\n",
              "product_name    Samsung Black 8.1 Megapixel Digital Camera - E...\n",
              "description     Samsung NV30 Black 8.1 Megapixel Digital Camer...\n",
              "price                                                        None\n",
              "Name: 790, dtype: object"
            ]
          },
          "metadata": {}
        },
        {
          "output_type": "display_data",
          "data": {
            "text/plain": [
              "product_id                                                  35990\n",
              "product_name    Polk Audio White Round Two-Way In-Wall Loudspe...\n",
              "description     Polk Audio White Round Two-Way In-Wall Loudspe...\n",
              "price                                                     $299.95\n",
              "Name: 791, dtype: object"
            ]
          },
          "metadata": {}
        },
        {
          "output_type": "display_data",
          "data": {
            "text/plain": [
              "product_id                                                  36001\n",
              "product_name        Sony 7.1 Channel Black AV Receiver - STRDG920\n",
              "description     Sony 7.1 Channel Black AV Home Theater Receive...\n",
              "price                                                        None\n",
              "Name: 792, dtype: object"
            ]
          },
          "metadata": {}
        },
        {
          "output_type": "display_data",
          "data": {
            "text/plain": [
              "product_id                                                  36020\n",
              "product_name       Canon Deluxe Soft Black Camera Case - 0716B001\n",
              "description     Canon Deluxe Soft Black Camera Case - 0716B001...\n",
              "price                                                        None\n",
              "Name: 793, dtype: object"
            ]
          },
          "metadata": {}
        },
        {
          "output_type": "display_data",
          "data": {
            "text/plain": [
              "product_id                                                  36021\n",
              "product_name    Speck Clear 13' MacBook See Thru Hard Shell Ca...\n",
              "description     Speck Clear 13' MacBook See Thru Hard Shell Ca...\n",
              "price                                                        None\n",
              "Name: 794, dtype: object"
            ]
          },
          "metadata": {}
        },
        {
          "output_type": "display_data",
          "data": {
            "text/plain": [
              "product_id                                                  36022\n",
              "product_name    Speck Green 13' MacBook See Thru Hard Shell Ca...\n",
              "description     Speck Green 13' MacBook See Thru Hard Shell Ca...\n",
              "price                                                        None\n",
              "Name: 795, dtype: object"
            ]
          },
          "metadata": {}
        },
        {
          "output_type": "display_data",
          "data": {
            "text/plain": [
              "product_id                                                  36023\n",
              "product_name                     Canon Battery Charger - 0763B001\n",
              "description     Canon Battery Charger - 0763B001/ Compatible W...\n",
              "price                                                        None\n",
              "Name: 796, dtype: object"
            ]
          },
          "metadata": {}
        },
        {
          "output_type": "display_data",
          "data": {
            "text/plain": [
              "product_id                                                  36027\n",
              "product_name                     Canon Battery Charger - 1133B001\n",
              "description     Canon Battery Charger - 1133B001/ Compatible W...\n",
              "price                                                        None\n",
              "Name: 797, dtype: object"
            ]
          },
          "metadata": {}
        },
        {
          "output_type": "display_data",
          "data": {
            "text/plain": [
              "product_id                                                  36029\n",
              "product_name               Canon NB-5L Lithium Battery - 1135B001\n",
              "description     Canon NB-5L Lithium Battery - 1135B001/ Compat...\n",
              "price                                                        None\n",
              "Name: 798, dtype: object"
            ]
          },
          "metadata": {}
        },
        {
          "output_type": "display_data",
          "data": {
            "text/plain": [
              "product_id                                                  36033\n",
              "product_name           Canon Black Leather Camera Case - 1588B001\n",
              "description     Canon Black Leather Camera Case - 1588B001/ Co...\n",
              "price                                                        None\n",
              "Name: 799, dtype: object"
            ]
          },
          "metadata": {}
        },
        {
          "output_type": "display_data",
          "data": {
            "text/plain": [
              "product_id                                                  36052\n",
              "product_name    Canon 9517A002 EF-S 17mm - 85mm f/4.0-5.6 USM ...\n",
              "description     Canon 275483 EF-S 17mm - 85mm f/4.0-5.6 USM IS...\n",
              "price                                                        None\n",
              "Name: 800, dtype: object"
            ]
          },
          "metadata": {}
        },
        {
          "output_type": "display_data",
          "data": {
            "text/plain": [
              "product_id                                                  36053\n",
              "product_name              Canon CB-2LV Battery Charger - 9764A001\n",
              "description     Canon CB-2LV Battery Charger - 9764A001/ Compa...\n",
              "price                                                        None\n",
              "Name: 801, dtype: object"
            ]
          },
          "metadata": {}
        },
        {
          "output_type": "display_data",
          "data": {
            "text/plain": [
              "product_id                                                  36061\n",
              "product_name     Toshiba Black DVD/VCR Combinaton Player - SDV296\n",
              "description     Toshiba Black DVD/VCR Combinaton Player - SDV2...\n",
              "price                                                      $89.00\n",
              "Name: 802, dtype: object"
            ]
          },
          "metadata": {}
        },
        {
          "output_type": "display_data",
          "data": {
            "text/plain": [
              "product_id                                                  36077\n",
              "product_name    Samsung 19' Black Flat Panel Series 6 LCD HDTV...\n",
              "description     Samsung 19' Black Flat Panel Series 6 LCD HDTV...\n",
              "price                                                     $499.00\n",
              "Name: 803, dtype: object"
            ]
          },
          "metadata": {}
        },
        {
          "output_type": "display_data",
          "data": {
            "text/plain": [
              "product_id                                                  36080\n",
              "product_name    Samsung 22' Black Flat Panel Series 6 LCD HDTV...\n",
              "description     Samsung 22' Black Flat Panel Series 6 LCD HDTV...\n",
              "price                                                     $599.00\n",
              "Name: 804, dtype: object"
            ]
          },
          "metadata": {}
        },
        {
          "output_type": "display_data",
          "data": {
            "text/plain": [
              "product_id                                                  36083\n",
              "product_name            Canon Deluxe Grey Leather Case - 2349B001\n",
              "description     Canon Deluxe Grey Leather Case - 2349B001/ Gen...\n",
              "price                                                        None\n",
              "Name: 805, dtype: object"
            ]
          },
          "metadata": {}
        },
        {
          "output_type": "display_data",
          "data": {
            "text/plain": [
              "product_id                                                  36084\n",
              "product_name        Canon Deluxe Burgundy Leather Case - 2350B001\n",
              "description     Canon Deluxe Burgundy Leather Case - 2350B001/...\n",
              "price                                                      $18.00\n",
              "Name: 806, dtype: object"
            ]
          },
          "metadata": {}
        },
        {
          "output_type": "display_data",
          "data": {
            "text/plain": [
              "product_id                                                  36097\n",
              "product_name    Canon Deluxe Black Digital Camera Case - 2595B002\n",
              "description     Canon Deluxe Black Digital Camera Case - 2595B...\n",
              "price                                                      $13.99\n",
              "Name: 807, dtype: object"
            ]
          },
          "metadata": {}
        },
        {
          "output_type": "display_data",
          "data": {
            "text/plain": [
              "product_id                                                  36102\n",
              "product_name          Canon Black Rechargeable Battery - 9612A001\n",
              "description     Canon Black Rechargeable Battery - 9612A001/ L...\n",
              "price                                                        None\n",
              "Name: 808, dtype: object"
            ]
          },
          "metadata": {}
        },
        {
          "output_type": "display_data",
          "data": {
            "text/plain": [
              "product_id                                                  36117\n",
              "product_name    Griffin iPod RoadTrip With SmartScan - 4040RDTRPB\n",
              "description     Griffin iPod RoadTrip With SmartScan - 4040RDT...\n",
              "price                                                      $89.00\n",
              "Name: 809, dtype: object"
            ]
          },
          "metadata": {}
        },
        {
          "output_type": "display_data",
          "data": {
            "text/plain": [
              "product_id                                                  36118\n",
              "product_name    Griffin iPod DirectDeck Universal Cassette Ada...\n",
              "description     Griffin iPod DirectDeck Universal Cassette Ada...\n",
              "price                                                        None\n",
              "Name: 810, dtype: object"
            ]
          },
          "metadata": {}
        },
        {
          "output_type": "display_data",
          "data": {
            "text/plain": [
              "product_id                                                  36123\n",
              "product_name    Denon Black Home Theater Surround Sound Receiv...\n",
              "description     Denon Black AVR-1709 Home Theater Surround Sou...\n",
              "price                                                     $449.99\n",
              "Name: 811, dtype: object"
            ]
          },
          "metadata": {}
        },
        {
          "output_type": "display_data",
          "data": {
            "text/plain": [
              "product_id                                                  36124\n",
              "product_name    Denon Black AVR-1609 Home Theater Surround Sou...\n",
              "description     Denon Black AVR-1609 Home Theater Surround Sou...\n",
              "price                                                     $349.99\n",
              "Name: 812, dtype: object"
            ]
          },
          "metadata": {}
        },
        {
          "output_type": "display_data",
          "data": {
            "text/plain": [
              "product_id                                                  36127\n",
              "product_name    Samsung Stereo Bluetooth Headset In Black - SB...\n",
              "description     Samsung Stereo Bluetooth Headset - SBH500/ Int...\n",
              "price                                                        None\n",
              "Name: 813, dtype: object"
            ]
          },
          "metadata": {}
        },
        {
          "output_type": "display_data",
          "data": {
            "text/plain": [
              "product_id                                                  36142\n",
              "product_name    Sony Bud Style Headphones In Silver - MDRED12L...\n",
              "description     Sony Bud Style Headphones In Silver - MDRED12L...\n",
              "price                                                      $14.00\n",
              "Name: 814, dtype: object"
            ]
          },
          "metadata": {}
        },
        {
          "output_type": "display_data",
          "data": {
            "text/plain": [
              "product_id                                                  36143\n",
              "product_name      Sony Bud Style Headphones In Red - MDRED12LPRED\n",
              "description     Sony Bud Style Headphones In Red - MDRED12LPRE...\n",
              "price                                                      $14.00\n",
              "Name: 815, dtype: object"
            ]
          },
          "metadata": {}
        },
        {
          "output_type": "display_data",
          "data": {
            "text/plain": [
              "product_id                                                  36149\n",
              "product_name    Sony EX Ear Bud Headphones In Black - MDREX32L...\n",
              "description     Sony EX Ear Bud Headphones In Black - MDREX32L...\n",
              "price                                                      $24.00\n",
              "Name: 816, dtype: object"
            ]
          },
          "metadata": {}
        },
        {
          "output_type": "display_data",
          "data": {
            "text/plain": [
              "product_id                                                  36151\n",
              "product_name    Sony EX Ear Bud Headphones In White - MDREX32L...\n",
              "description     Sony EX Ear Bud Headphones In White - MDREX32L...\n",
              "price                                                      $24.00\n",
              "Name: 817, dtype: object"
            ]
          },
          "metadata": {}
        },
        {
          "output_type": "display_data",
          "data": {
            "text/plain": [
              "product_id                                                  36161\n",
              "product_name    Flip Video F360 White Mino Series Camcorder - ...\n",
              "description     Flip Video F360 White Mino Series Camcorder - ...\n",
              "price                                                        None\n",
              "Name: 818, dtype: object"
            ]
          },
          "metadata": {}
        },
        {
          "output_type": "display_data",
          "data": {
            "text/plain": [
              "product_id                                                  36168\n",
              "product_name    Flip Video F360 Black Mino Series Camcorder - ...\n",
              "description     Flip Video F360 Black Mino Series Camcorder - ...\n",
              "price                                                        None\n",
              "Name: 819, dtype: object"
            ]
          },
          "metadata": {}
        },
        {
          "output_type": "display_data",
          "data": {
            "text/plain": [
              "product_id                                                  36169\n",
              "product_name    Sony Bud Style Headphones In Black - MDREX85LPBLK\n",
              "description     Sony Bud Style Headphones In Black - MDREX85LP...\n",
              "price                                                        None\n",
              "Name: 820, dtype: object"
            ]
          },
          "metadata": {}
        },
        {
          "output_type": "display_data",
          "data": {
            "text/plain": [
              "product_id                                                  36172\n",
              "product_name     Sony Active Style Headphones In Black - MDRAS50G\n",
              "description     Sony Active Style Headphones In Black - MDRAS5...\n",
              "price                                                        None\n",
              "Name: 821, dtype: object"
            ]
          },
          "metadata": {}
        },
        {
          "output_type": "display_data",
          "data": {
            "text/plain": [
              "product_id                                                  36197\n",
              "product_name               Griffin iPhone SmartTalk - 3016SMRTLKB\n",
              "description     Griffin iPhone SmartTalk - 3016SMRTLKB/ Adds A...\n",
              "price                                                      $19.00\n",
              "Name: 822, dtype: object"
            ]
          },
          "metadata": {}
        },
        {
          "output_type": "display_data",
          "data": {
            "text/plain": [
              "product_id                                                  36207\n",
              "product_name    Logitech Driving Force Pro Steering Wheel With...\n",
              "description     Logitech Driving Force Pro Steering Wheel With...\n",
              "price                                                     $129.00\n",
              "Name: 823, dtype: object"
            ]
          },
          "metadata": {}
        },
        {
          "output_type": "display_data",
          "data": {
            "text/plain": [
              "product_id                                                  36243\n",
              "product_name    Monster iCarPlay Wireless 250 FM Transmitter W...\n",
              "description     Monster iCarPlay Wireless 250 FM Transmitter W...\n",
              "price                                                     $100.00\n",
              "Name: 824, dtype: object"
            ]
          },
          "metadata": {}
        },
        {
          "output_type": "display_data",
          "data": {
            "text/plain": [
              "product_id                                                  36249\n",
              "product_name     Nikon D700 Digital SLR Digital Camera - D700BODY\n",
              "description     Nikon D700 Digital SLR Digital Camera - D700BO...\n",
              "price                                                        None\n",
              "Name: 825, dtype: object"
            ]
          },
          "metadata": {}
        },
        {
          "output_type": "display_data",
          "data": {
            "text/plain": [
              "product_id                                                  36258\n",
              "product_name                D-Link Broadband Cable Modem - DCM202\n",
              "description     D-Link Broadband Cable Modem - DCM202/ DOCSIS ...\n",
              "price                                                      $79.00\n",
              "Name: 826, dtype: object"
            ]
          },
          "metadata": {}
        },
        {
          "output_type": "display_data",
          "data": {
            "text/plain": [
              "product_id                                                  36260\n",
              "product_name             LaCie USB 2.0 Floppy Disk Drive - 706018\n",
              "description     LaCie USB 2.0 Floppy Disk Drive - 706018/ Ultr...\n",
              "price                                                      $49.00\n",
              "Name: 827, dtype: object"
            ]
          },
          "metadata": {}
        },
        {
          "output_type": "display_data",
          "data": {
            "text/plain": [
              "product_id                                                  36264\n",
              "product_name    iHome Silver Computer Speakers With iPod Dock ...\n",
              "description     iHome iH70SRC Silver Computer Speakers With iP...\n",
              "price                                                        None\n",
              "Name: 828, dtype: object"
            ]
          },
          "metadata": {}
        },
        {
          "output_type": "display_data",
          "data": {
            "text/plain": [
              "product_id                                                  36270\n",
              "product_name    Samsung 63' Black Flat Panel Series 6 Plasma H...\n",
              "description     Samsung 63' Black Flat Panel Series 6 Plasma H...\n",
              "price                                                        None\n",
              "Name: 829, dtype: object"
            ]
          },
          "metadata": {}
        },
        {
          "output_type": "display_data",
          "data": {
            "text/plain": [
              "product_id                                                  36274\n",
              "product_name    Transcend 16GB SDHC Card And Compact Card Read...\n",
              "description     Transcend 16GB SDHC Card And Compact Card Read...\n",
              "price                                                        None\n",
              "Name: 830, dtype: object"
            ]
          },
          "metadata": {}
        },
        {
          "output_type": "display_data",
          "data": {
            "text/plain": [
              "product_id                                                  36286\n",
              "product_name    Toshiba XDE Black 1080p Upconversion Extended ...\n",
              "description     Toshiba XDE Black 1080p Upconversion Extended ...\n",
              "price                                                      $99.00\n",
              "Name: 831, dtype: object"
            ]
          },
          "metadata": {}
        },
        {
          "output_type": "display_data",
          "data": {
            "text/plain": [
              "product_id                                                  36295\n",
              "product_name    Sony 8cm MiniDVD-R Camcorder Media 3 Pack - 3D...\n",
              "description     Sony 8cm MiniDVD-R Camcorder Media 3 Pack - 3D...\n",
              "price                                                        None\n",
              "Name: 832, dtype: object"
            ]
          },
          "metadata": {}
        },
        {
          "output_type": "display_data",
          "data": {
            "text/plain": [
              "product_id                                                  36299\n",
              "product_name       Griffin Black iPhone 3G Wave Case - 8227IP2WVB\n",
              "description     Griffin Black iPhone 3G Wave Case - 8227IP2WVB...\n",
              "price                                                      $24.00\n",
              "Name: 833, dtype: object"
            ]
          },
          "metadata": {}
        },
        {
          "output_type": "display_data",
          "data": {
            "text/plain": [
              "product_id                                                  36305\n",
              "product_name       Linksys Wireless-N Security Router - WRVS4400N\n",
              "description     Linksys Wireless-N Security Router - WRVS4400N...\n",
              "price                                                        None\n",
              "Name: 834, dtype: object"
            ]
          },
          "metadata": {}
        },
        {
          "output_type": "display_data",
          "data": {
            "text/plain": [
              "product_id                                                  36308\n",
              "product_name    iHome iPod & iPhone Bluetooth Alarm Clock Radi...\n",
              "description     iHome iPod & iPhone Bluetooth Alarm Clock Radi...\n",
              "price                                                        None\n",
              "Name: 835, dtype: object"
            ]
          },
          "metadata": {}
        },
        {
          "output_type": "display_data",
          "data": {
            "text/plain": [
              "product_id                                                  36309\n",
              "product_name    iHome iPod & iPhone Clock Radio & Audio System...\n",
              "description     iHome iP99 iPod & iPhone Clock Radio & Audio S...\n",
              "price                                                     $149.00\n",
              "Name: 836, dtype: object"
            ]
          },
          "metadata": {}
        },
        {
          "output_type": "display_data",
          "data": {
            "text/plain": [
              "product_id                                                  36345\n",
              "product_name    Transcend 8GB SDHC Card And Compact Card Reade...\n",
              "description     Transcend 8GB SDHC Card And Compact Card Reade...\n",
              "price                                                      $26.30\n",
              "Name: 837, dtype: object"
            ]
          },
          "metadata": {}
        },
        {
          "output_type": "display_data",
          "data": {
            "text/plain": [
              "product_id                                                  36361\n",
              "product_name    Speck SeeThru Black Hard Shell Case For 13' Ma...\n",
              "description     Speck SeeThru Black Hard Shell Case For 13' Ma...\n",
              "price                                                        None\n",
              "Name: 838, dtype: object"
            ]
          },
          "metadata": {}
        },
        {
          "output_type": "display_data",
          "data": {
            "text/plain": [
              "product_id                                                  36364\n",
              "product_name    Speck SeeThru Aqua Hard Shell Case For 13' Mac...\n",
              "description     Speck SeeThru Aqua Hard Shell Case For 13' Mac...\n",
              "price                                                        None\n",
              "Name: 839, dtype: object"
            ]
          },
          "metadata": {}
        },
        {
          "output_type": "display_data",
          "data": {
            "text/plain": [
              "product_id                                                  36365\n",
              "product_name    Speck SeeThru Pink Hard Shell Case For 13' Mac...\n",
              "description     Speck SeeThru Pink Hard Shell Case For 13' Mac...\n",
              "price                                                        None\n",
              "Name: 840, dtype: object"
            ]
          },
          "metadata": {}
        },
        {
          "output_type": "display_data",
          "data": {
            "text/plain": [
              "product_id                                                  36367\n",
              "product_name    Canon EOS Rebel XS Black Digital SLR Camera - ...\n",
              "description     Canon EOS Rebel XS Black Digital SLR Camera - ...\n",
              "price                                                        None\n",
              "Name: 841, dtype: object"
            ]
          },
          "metadata": {}
        },
        {
          "output_type": "display_data",
          "data": {
            "text/plain": [
              "product_id                                                  36381\n",
              "product_name    Speck SeeThru Blue Hard Shell Case For 13' Mac...\n",
              "description     Speck SeeThru Blue Hard Shell Case For 13' Mac...\n",
              "price                                                        None\n",
              "Name: 842, dtype: object"
            ]
          },
          "metadata": {}
        },
        {
          "output_type": "display_data",
          "data": {
            "text/plain": [
              "product_id                                                  36383\n",
              "product_name    Speck SeeThru Orange Hard Shell Case For 13' M...\n",
              "description     Speck SeeThru Orange Hard Shell Case For 13' M...\n",
              "price                                                        None\n",
              "Name: 843, dtype: object"
            ]
          },
          "metadata": {}
        },
        {
          "output_type": "display_data",
          "data": {
            "text/plain": [
              "product_id                                                  36388\n",
              "product_name    Speck SeeThru Red Hard Shell Case For 13' MacB...\n",
              "description     Speck SeeThru Red Hard Shell Case For 13' MacB...\n",
              "price                                                        None\n",
              "Name: 844, dtype: object"
            ]
          },
          "metadata": {}
        },
        {
          "output_type": "display_data",
          "data": {
            "text/plain": [
              "product_id                                                  36430\n",
              "product_name    Speck SeeThru Clear Hard Shell Case For 15' Ma...\n",
              "description     Speck SeeThru Clear Hard Shell Case For 15' Ma...\n",
              "price                                                        None\n",
              "Name: 845, dtype: object"
            ]
          },
          "metadata": {}
        },
        {
          "output_type": "display_data",
          "data": {
            "text/plain": [
              "product_id                                                  36446\n",
              "product_name    Speck SeeThru Blue Hard Shell Case For 15' Mac...\n",
              "description     Speck SeeThru Blue Hard Shell Case For 15' Mac...\n",
              "price                                                        None\n",
              "Name: 846, dtype: object"
            ]
          },
          "metadata": {}
        },
        {
          "output_type": "display_data",
          "data": {
            "text/plain": [
              "product_id                                                  36450\n",
              "product_name    Samsung 46' Series 8 LCD Black Flat Panel HDTV...\n",
              "description     Samsung 46' Series 8 LCD Black Flat Panel HDTV...\n",
              "price                                                        None\n",
              "Name: 847, dtype: object"
            ]
          },
          "metadata": {}
        },
        {
          "output_type": "display_data",
          "data": {
            "text/plain": [
              "product_id                                                  36451\n",
              "product_name    Speck SeeThru Green Hard Shell Case For 15' Ma...\n",
              "description     Speck SeeThru Green Hard Shell Case For 15' Ma...\n",
              "price                                                        None\n",
              "Name: 848, dtype: object"
            ]
          },
          "metadata": {}
        },
        {
          "output_type": "display_data",
          "data": {
            "text/plain": [
              "product_id                                                  36452\n",
              "product_name    Samsung 52' Series 8 LCD Black Flat Panel HDTV...\n",
              "description     Samsung 52' Series 8 LCD Black Flat Panel HDTV...\n",
              "price                                                        None\n",
              "Name: 849, dtype: object"
            ]
          },
          "metadata": {}
        },
        {
          "output_type": "display_data",
          "data": {
            "text/plain": [
              "product_id                                                  36454\n",
              "product_name    Speck SeeThru Orange Hard Shell Case For 15' M...\n",
              "description     Speck SeeThru Orange Hard Shell Case For 15' M...\n",
              "price                                                        None\n",
              "Name: 850, dtype: object"
            ]
          },
          "metadata": {}
        },
        {
          "output_type": "display_data",
          "data": {
            "text/plain": [
              "product_id                                                  36456\n",
              "product_name    Speck SeeThru Pink Hard Shell Case For 15' Mac...\n",
              "description     Speck SeeThru Pink Hard Shell Case For 15' Mac...\n",
              "price                                                        None\n",
              "Name: 851, dtype: object"
            ]
          },
          "metadata": {}
        },
        {
          "output_type": "display_data",
          "data": {
            "text/plain": [
              "product_id                                                  36458\n",
              "product_name    Speck SeeThru Purple Hard Shell Case For 15' M...\n",
              "description     Speck SeeThru Purple Hard Shell Case For 15' M...\n",
              "price                                                        None\n",
              "Name: 852, dtype: object"
            ]
          },
          "metadata": {}
        },
        {
          "output_type": "display_data",
          "data": {
            "text/plain": [
              "product_id                                                  36471\n",
              "product_name    Samsung 55' Series 9 LCD Black Flat Panel HDTV...\n",
              "description     Samsung 55' Series 9 LCD Black Flat Panel HDTV...\n",
              "price                                                        None\n",
              "Name: 853, dtype: object"
            ]
          },
          "metadata": {}
        },
        {
          "output_type": "display_data",
          "data": {
            "text/plain": [
              "product_id                                                  36494\n",
              "product_name    LaCie 2TB Ethernet Big Disk External Hard Driv...\n",
              "description     LaCie 2TB Ethernet Big Disk External Hard Driv...\n",
              "price                                                        None\n",
              "Name: 854, dtype: object"
            ]
          },
          "metadata": {}
        },
        {
          "output_type": "display_data",
          "data": {
            "text/plain": [
              "product_id                                                  36502\n",
              "product_name    Onkyo THX Select2 Plus Certified 7.1 Channel H...\n",
              "description     Onkyo THX Select2 Plus Certified 7.1 Channel H...\n",
              "price                                                        None\n",
              "Name: 855, dtype: object"
            ]
          },
          "metadata": {}
        },
        {
          "output_type": "display_data",
          "data": {
            "text/plain": [
              "product_id                                                  36507\n",
              "product_name    Onkyo THX Ultra 2 Plus Certified 7.1 Channel H...\n",
              "description     Onkyo TXSR806 THX Ultra 2 Plus Certified 7.1 C...\n",
              "price                                                        None\n",
              "Name: 856, dtype: object"
            ]
          },
          "metadata": {}
        },
        {
          "output_type": "display_data",
          "data": {
            "text/plain": [
              "product_id                                                  36515\n",
              "product_name    Panasonic Black Lumix 10.1 Megapixel Digital C...\n",
              "description     Panasonic Black Lumix 10.1 Megapixel Digital C...\n",
              "price                                                        None\n",
              "Name: 857, dtype: object"
            ]
          },
          "metadata": {}
        },
        {
          "output_type": "display_data",
          "data": {
            "text/plain": [
              "product_id                                                  36556\n",
              "product_name    Panasonic VIERA 58' 1080p Plasma HDTV In Black...\n",
              "description     Panasonic VIERA 58' 1080p Plasma HDTV In Black...\n",
              "price                                                        None\n",
              "Name: 858, dtype: object"
            ]
          },
          "metadata": {}
        },
        {
          "output_type": "display_data",
          "data": {
            "text/plain": [
              "product_id                                                  36607\n",
              "product_name    Denon 7.1 Channel AV Receiver With Network Cli...\n",
              "description     Denon 7.1 Channel AV Home Theater Surround Rec...\n",
              "price                                                   $1,199.99\n",
              "Name: 859, dtype: object"
            ]
          },
          "metadata": {}
        },
        {
          "output_type": "display_data",
          "data": {
            "text/plain": [
              "product_id                                                  36617\n",
              "product_name    Sony Black VAIO Z Series 13.1' Notebook Comput...\n",
              "description     Sony Black VAIO Z Series 13.1' Notebook Comput...\n",
              "price                                                        None\n",
              "Name: 860, dtype: object"
            ]
          },
          "metadata": {}
        },
        {
          "output_type": "display_data",
          "data": {
            "text/plain": [
              "product_id                                                  36620\n",
              "product_name    Sony Black VAIO Z Series 13.1' Notebook Comput...\n",
              "description     Sony Black VAIO Z Series 13.1' Notebook Comput...\n",
              "price                                                        None\n",
              "Name: 861, dtype: object"
            ]
          },
          "metadata": {}
        },
        {
          "output_type": "display_data",
          "data": {
            "text/plain": [
              "product_id                                                  36635\n",
              "product_name     Yamaha Black Digital Sound Projector - YSP3050BK\n",
              "description     Yamaha Black Digital Sound Projector - YSP3050...\n",
              "price                                                        None\n",
              "Name: 862, dtype: object"
            ]
          },
          "metadata": {}
        },
        {
          "output_type": "display_data",
          "data": {
            "text/plain": [
              "product_id                                                  36636\n",
              "product_name    LaCie Little Disk 320GB Black Portable Hard Dr...\n",
              "description     LaCie Little Disk 320GB Black Portable Hard Dr...\n",
              "price                                                     $119.00\n",
              "Name: 863, dtype: object"
            ]
          },
          "metadata": {}
        },
        {
          "output_type": "display_data",
          "data": {
            "text/plain": [
              "product_id                                                  36637\n",
              "product_name    LaCie Little Disk 250GB Black Portable Hard Dr...\n",
              "description     LaCie Little Disk 250GB Black Portable Hard Dr...\n",
              "price                                                      $99.00\n",
              "Name: 864, dtype: object"
            ]
          },
          "metadata": {}
        },
        {
          "output_type": "display_data",
          "data": {
            "text/plain": [
              "product_id                                                  36705\n",
              "product_name    Nikon Black 13.5 Megapixel COOLPIX Digital Cam...\n",
              "description     Nikon Black 13.5 Megapixel COOLPIX Digital Cam...\n",
              "price                                                        None\n",
              "Name: 865, dtype: object"
            ]
          },
          "metadata": {}
        },
        {
          "output_type": "display_data",
          "data": {
            "text/plain": [
              "product_id                                                  36718\n",
              "product_name    Nikon Graphite Black 14.5 Megapixel COOLPIX Di...\n",
              "description     Nikon Graphite Black 14.5 Megapixel COOLPIX Di...\n",
              "price                                                        None\n",
              "Name: 866, dtype: object"
            ]
          },
          "metadata": {}
        },
        {
          "output_type": "display_data",
          "data": {
            "text/plain": [
              "product_id                                                  36722\n",
              "product_name    AppleCare Protection Plan For iPod Touch Or iP...\n",
              "description     AppleCare Protection Plan For iPod Touch Or iP...\n",
              "price                                                      $59.00\n",
              "Name: 867, dtype: object"
            ]
          },
          "metadata": {}
        },
        {
          "output_type": "display_data",
          "data": {
            "text/plain": [
              "product_id                                                  36746\n",
              "product_name    Nikon CoolPix S610 10 Megapixel Black  Digital...\n",
              "description     Nikon CoolPix S610 10 Megapixel Black  Digital...\n",
              "price                                                     $249.00\n",
              "Name: 868, dtype: object"
            ]
          },
          "metadata": {}
        },
        {
          "output_type": "display_data",
          "data": {
            "text/plain": [
              "product_id                                                  36761\n",
              "product_name    Sony VAIO Z Series Black Notebook Computer - V...\n",
              "description     Sony VAIO Z Series Black Notebook Computer - V...\n",
              "price                                                        None\n",
              "Name: 869, dtype: object"
            ]
          },
          "metadata": {}
        },
        {
          "output_type": "display_data",
          "data": {
            "text/plain": [
              "product_id                                                  36789\n",
              "product_name    Brenthaven Sling I Titanium Laptop Carrying Ba...\n",
              "description     Brenthaven Sling I Titanium Laptop Carrying Ba...\n",
              "price                                                        None\n",
              "Name: 870, dtype: object"
            ]
          },
          "metadata": {}
        },
        {
          "output_type": "display_data",
          "data": {
            "text/plain": [
              "product_id                                                  36796\n",
              "product_name    Brenthaven Sling II Titanium Laptop Carrying B...\n",
              "description     Brenthaven Sling II Titanium Laptop Carrying B...\n",
              "price                                                        None\n",
              "Name: 871, dtype: object"
            ]
          },
          "metadata": {}
        },
        {
          "output_type": "display_data",
          "data": {
            "text/plain": [
              "product_id                                                  36803\n",
              "product_name        Sony VAIO Black USB Docking Station - VGPUPR1\n",
              "description     Sony VAIO Black USB Docking Station - VGPUPR1/...\n",
              "price                                                     $199.99\n",
              "Name: 872, dtype: object"
            ]
          },
          "metadata": {}
        },
        {
          "output_type": "display_data",
          "data": {
            "text/plain": [
              "product_id                                                  36808\n",
              "product_name    Onkyo 7.1 Channel Home Theater Black Receiver ...\n",
              "description     Onkyo 7.1 Channel Home Theater Black Receiver ...\n",
              "price                                                        None\n",
              "Name: 873, dtype: object"
            ]
          },
          "metadata": {}
        },
        {
          "output_type": "display_data",
          "data": {
            "text/plain": [
              "product_id                                                  36811\n",
              "product_name    Nikon Pink 10 Megapixel COOLPIX Digital Camera...\n",
              "description     Nikon Pink 10 Megapixel COOLPIX Digital Camera...\n",
              "price                                                        None\n",
              "Name: 874, dtype: object"
            ]
          },
          "metadata": {}
        },
        {
          "output_type": "display_data",
          "data": {
            "text/plain": [
              "product_id                                                  36812\n",
              "product_name    Onkyo THX Ultra2 Certified 7.1 Channel Home Th...\n",
              "description     Onkyo THX Ultra2 Certified 7.1 Channel Home Th...\n",
              "price                                                        None\n",
              "Name: 875, dtype: object"
            ]
          },
          "metadata": {}
        },
        {
          "output_type": "display_data",
          "data": {
            "text/plain": [
              "product_id                                                  36816\n",
              "product_name          Nikon SB-900 AF Speedlight In Black - SB900\n",
              "description     Nikon AF Speedlight In Black - SB900/ Wireless...\n",
              "price                                                     $499.00\n",
              "Name: 876, dtype: object"
            ]
          },
          "metadata": {}
        },
        {
          "output_type": "display_data",
          "data": {
            "text/plain": [
              "product_id                                                  36824\n",
              "product_name    Samsung 46' Series 9 LCD Black Flat Panel HDTV...\n",
              "description     Samsung 46' Series 9 LCD Black Flat Panel HDTV...\n",
              "price                                                        None\n",
              "Name: 877, dtype: object"
            ]
          },
          "metadata": {}
        },
        {
          "output_type": "display_data",
          "data": {
            "text/plain": [
              "product_id                                                  36859\n",
              "product_name    Denon D-M37 Black CD/AM/FM Micro System - DM37SBK\n",
              "description     Denon D-M37 Black CD/AM/FM Micro System - DM37...\n",
              "price                                                     $399.00\n",
              "Name: 878, dtype: object"
            ]
          },
          "metadata": {}
        },
        {
          "output_type": "display_data",
          "data": {
            "text/plain": [
              "product_id                                                  36861\n",
              "product_name    Sony 46' BRAVIA XBR Series Black LCD Flat Pane...\n",
              "description     Sony 46' BRAVIA XBR Series Black LCD Flat Pane...\n",
              "price                                                        None\n",
              "Name: 879, dtype: object"
            ]
          },
          "metadata": {}
        },
        {
          "output_type": "display_data",
          "data": {
            "text/plain": [
              "product_id                                                  36862\n",
              "product_name    Griffin iPhone 3G Black Elan Form Hard-Shell L...\n",
              "description     Griffin iPhone 3G Black Elan Form Hard-Shell L...\n",
              "price                                                      $24.00\n",
              "Name: 880, dtype: object"
            ]
          },
          "metadata": {}
        },
        {
          "output_type": "display_data",
          "data": {
            "text/plain": [
              "product_id                                                  36864\n",
              "product_name    Sony 52' BRAVIA XBR Series Black LCD Flat Pane...\n",
              "description     Sony 52' BRAVIA XBR Series Black LCD Flat Pane...\n",
              "price                                                        None\n",
              "Name: 881, dtype: object"
            ]
          },
          "metadata": {}
        },
        {
          "output_type": "display_data",
          "data": {
            "text/plain": [
              "product_id                                                  36906\n",
              "product_name    Olympus Pink 8 Megapixel Digital Camera - FE36...\n",
              "description     Olympus Pink 8 Megapixel Digital Camera - FE36...\n",
              "price                                                        None\n",
              "Name: 882, dtype: object"
            ]
          },
          "metadata": {}
        },
        {
          "output_type": "display_data",
          "data": {
            "text/plain": [
              "product_id                                                  36909\n",
              "product_name    Olympus Silver 8 Megapixel Digital Camera - FE...\n",
              "description     Olympus Silver 8 Megapixel Digital Camera - FE...\n",
              "price                                                        None\n",
              "Name: 883, dtype: object"
            ]
          },
          "metadata": {}
        },
        {
          "output_type": "display_data",
          "data": {
            "text/plain": [
              "product_id                                                  36931\n",
              "product_name    Speck Black ToughSkin Case For iPhone 3G - IPH...\n",
              "description     Speck Black ToughSkin Case For iPhone 3G - IPH...\n",
              "price                                                      $34.00\n",
              "Name: 884, dtype: object"
            ]
          },
          "metadata": {}
        },
        {
          "output_type": "display_data",
          "data": {
            "text/plain": [
              "product_id                                                  36957\n",
              "product_name    Sony Alpha Digital SLR Black Camera Body - DSL...\n",
              "description     Sony Alpha Digital SLR Black Camera Body - DSL...\n",
              "price                                                        None\n",
              "Name: 885, dtype: object"
            ]
          },
          "metadata": {}
        },
        {
          "output_type": "display_data",
          "data": {
            "text/plain": [
              "product_id                                                  36962\n",
              "product_name    Sanus Black Single-Column AV Component System ...\n",
              "description     Sanus Black Single-Column AV Component System ...\n",
              "price                                                        None\n",
              "Name: 886, dtype: object"
            ]
          },
          "metadata": {}
        },
        {
          "output_type": "display_data",
          "data": {
            "text/plain": [
              "product_id                                                  36969\n",
              "product_name    Oregon Scientific AT18 Wearable Waterproof Act...\n",
              "description     Oregon Scientific AT18 Wearable Waterproof Act...\n",
              "price                                                        None\n",
              "Name: 887, dtype: object"
            ]
          },
          "metadata": {}
        },
        {
          "output_type": "display_data",
          "data": {
            "text/plain": [
              "product_id                                                  36988\n",
              "product_name    Canon VIXIA 120GB High Definition Hard Disc Dr...\n",
              "description     Canon VIXIA 120GB High Definition Hard Disc Dr...\n",
              "price                                                        None\n",
              "Name: 888, dtype: object"
            ]
          },
          "metadata": {}
        },
        {
          "output_type": "display_data",
          "data": {
            "text/plain": [
              "product_id                                                  36990\n",
              "product_name    Canon VIXIA 60GB High Definition Hard Disc Dri...\n",
              "description     Canon VIXIA 60GB High Definition Hard Disc Dri...\n",
              "price                                                        None\n",
              "Name: 889, dtype: object"
            ]
          },
          "metadata": {}
        },
        {
          "output_type": "display_data",
          "data": {
            "text/plain": [
              "product_id                                                  36993\n",
              "product_name            Canon PIXMA iP2600 Photo Printer - IP2600\n",
              "description     Canon PIXMA Photo Printer - IP2600/ 4800 x 120...\n",
              "price                                                      $49.00\n",
              "Name: 890, dtype: object"
            ]
          },
          "metadata": {}
        },
        {
          "output_type": "display_data",
          "data": {
            "text/plain": [
              "product_id                                                  36999\n",
              "product_name    Griffin 4046-TRPAUTOC iTrip AutoPilot - 4046TR...\n",
              "description     Griffin iTrip AutoPilot - 4046TRPAUTOC/ Charge...\n",
              "price                                                        None\n",
              "Name: 891, dtype: object"
            ]
          },
          "metadata": {}
        },
        {
          "output_type": "display_data",
          "data": {
            "text/plain": [
              "product_id                                                  37010\n",
              "product_name                 Onkyo Black Stereo Receiver - TX8255\n",
              "description     Onkyo Black Stereo Receiver - TX8255/ 50W Per ...\n",
              "price                                                        None\n",
              "Name: 892, dtype: object"
            ]
          },
          "metadata": {}
        },
        {
          "output_type": "display_data",
          "data": {
            "text/plain": [
              "product_id                                                  37039\n",
              "product_name    Klipsch 5.25' THX Ultra2 In-Ceiling White Loud...\n",
              "description     Klipsch 5.25' THX Ultra2 In-Ceiling White Loud...\n",
              "price                                                   $1,000.00\n",
              "Name: 893, dtype: object"
            ]
          },
          "metadata": {}
        },
        {
          "output_type": "display_data",
          "data": {
            "text/plain": [
              "product_id                                                  37045\n",
              "product_name    Toshiba 22' LCD HDTV With Built In DVD Player ...\n",
              "description     Toshiba 22' LCD HDTV With Built In DVD Player ...\n",
              "price                                                        None\n",
              "Name: 894, dtype: object"
            ]
          },
          "metadata": {}
        },
        {
          "output_type": "display_data",
          "data": {
            "text/plain": [
              "product_id                                                  37052\n",
              "product_name    Garmin Nuvi 265T GPS Navigation System - 01000...\n",
              "description     Garmin Nuvi 265T GPS Navigation System - 01000...\n",
              "price                                                        None\n",
              "Name: 895, dtype: object"
            ]
          },
          "metadata": {}
        },
        {
          "output_type": "display_data",
          "data": {
            "text/plain": [
              "product_id                                                  37054\n",
              "product_name    Garmin Nuvi 275T GPS Navigation System - 01000...\n",
              "description     Garmin Nuvi 275T GPS Navigation System - 01000...\n",
              "price                                                        None\n",
              "Name: 896, dtype: object"
            ]
          },
          "metadata": {}
        },
        {
          "output_type": "display_data",
          "data": {
            "text/plain": [
              "product_id                                                  37055\n",
              "product_name    Garmin Nuvi 265WT GPS Navigation System - 0100...\n",
              "description     Garmin Nuvi 265WT GPS Navigation System - 0100...\n",
              "price                                                        None\n",
              "Name: 897, dtype: object"
            ]
          },
          "metadata": {}
        },
        {
          "output_type": "display_data",
          "data": {
            "text/plain": [
              "product_id                                                  37078\n",
              "product_name    LG 42' Glossy Piano Black LCD Flat Panel HDTV ...\n",
              "description     LG 42' Glossy Piano Black LCD Flat Panel HDTV-...\n",
              "price                                                        None\n",
              "Name: 898, dtype: object"
            ]
          },
          "metadata": {}
        },
        {
          "output_type": "display_data",
          "data": {
            "text/plain": [
              "product_id                                                  37087\n",
              "product_name    Garmin Nuvi 755T GPS Navigation System - 01000...\n",
              "description     Garmin Nuvi 755T GPS Navigation System - 01000...\n",
              "price                                                        None\n",
              "Name: 899, dtype: object"
            ]
          },
          "metadata": {}
        },
        {
          "output_type": "display_data",
          "data": {
            "text/plain": [
              "product_id                                                  37091\n",
              "product_name      Sony Cyber-Shot Black Digital Camera - DSCT500B\n",
              "description     Sony Cyber-Shot Black Digital Camera - DSCT500...\n",
              "price                                                        None\n",
              "Name: 900, dtype: object"
            ]
          },
          "metadata": {}
        },
        {
          "output_type": "display_data",
          "data": {
            "text/plain": [
              "product_id                                                  37110\n",
              "product_name      Canon PowerShot Silver Digital Camera - SX110IS\n",
              "description     Canon PowerShot SX110 IS Silver Digital Camera...\n",
              "price                                                        None\n",
              "Name: 901, dtype: object"
            ]
          },
          "metadata": {}
        },
        {
          "output_type": "display_data",
          "data": {
            "text/plain": [
              "product_id                                                  37120\n",
              "product_name      Canon PowerShot Black Digital Camera - SX110ISB\n",
              "description     Canon PowerShot SX110 IS Black Digital Camera ...\n",
              "price                                                        None\n",
              "Name: 902, dtype: object"
            ]
          },
          "metadata": {}
        },
        {
          "output_type": "display_data",
          "data": {
            "text/plain": [
              "product_id                                                  37123\n",
              "product_name    Canon PowerShot A1000 IS Gray Digital Camera -...\n",
              "description     Canon PowerShot A1000 IS Gray Digital Camera -...\n",
              "price                                                        None\n",
              "Name: 903, dtype: object"
            ]
          },
          "metadata": {}
        },
        {
          "output_type": "display_data",
          "data": {
            "text/plain": [
              "product_id                                                  37139\n",
              "product_name    Olympus Stylus 1050 SW Black Digital Camera - ...\n",
              "description     Olympus Stylus 1050 SW Black Digital Camera - ...\n",
              "price                                                        None\n",
              "Name: 904, dtype: object"
            ]
          },
          "metadata": {}
        },
        {
          "output_type": "display_data",
          "data": {
            "text/plain": [
              "product_id                                                  37141\n",
              "product_name    Nikon D90 Black Digital SLR Camera With Nikkor...\n",
              "description     Nikon D90 Black Digital SLR Camera With Nikkor...\n",
              "price                                                        None\n",
              "Name: 905, dtype: object"
            ]
          },
          "metadata": {}
        },
        {
          "output_type": "display_data",
          "data": {
            "text/plain": [
              "product_id                                                  37142\n",
              "product_name         Nikon D90 Black Digital SLR Camera - D90BODY\n",
              "description     Nikon D90 Black Digital SLR Camera - D90BODY/ ...\n",
              "price                                                        None\n",
              "Name: 906, dtype: object"
            ]
          },
          "metadata": {}
        },
        {
          "output_type": "display_data",
          "data": {
            "text/plain": [
              "product_id                                                  37145\n",
              "product_name    Garmin Nuvi 765T GPS Navigation System - 01000...\n",
              "description     Garmin Nuvi 765T GPS Navigation System - 01000...\n",
              "price                                                        None\n",
              "Name: 907, dtype: object"
            ]
          },
          "metadata": {}
        },
        {
          "output_type": "display_data",
          "data": {
            "text/plain": [
              "product_id                                                  37150\n",
              "product_name    Toshiba Black 15' LCD Flat Panel HDTV/DVD Comb...\n",
              "description     Toshiba Black 15' LCD Flat Panel HDTV/DVD Comb...\n",
              "price                                                        None\n",
              "Name: 908, dtype: object"
            ]
          },
          "metadata": {}
        },
        {
          "output_type": "display_data",
          "data": {
            "text/plain": [
              "product_id                                                  37162\n",
              "product_name         Canon PIXMA Photo All-In-One Printer - MP620\n",
              "description     Canon PIXMA Photo All-In-One Printer - MP620/ ...\n",
              "price                                                     $149.00\n",
              "Name: 909, dtype: object"
            ]
          },
          "metadata": {}
        },
        {
          "output_type": "display_data",
          "data": {
            "text/plain": [
              "product_id                                                  37174\n",
              "product_name    TiVo HD XL Black Digital Video Recorder - TCD6...\n",
              "description     TiVo HD XL Black Digital Video Recorder - TCD6...\n",
              "price                                                     $599.00\n",
              "Name: 910, dtype: object"
            ]
          },
          "metadata": {}
        },
        {
          "output_type": "display_data",
          "data": {
            "text/plain": [
              "product_id                                                  37181\n",
              "product_name    Apple 8GB Black 2nd Generation iPod Touch - MB...\n",
              "description     Apple 8GB Black 2nd Generation iPod Touch - MB...\n",
              "price                                                     $229.00\n",
              "Name: 911, dtype: object"
            ]
          },
          "metadata": {}
        },
        {
          "output_type": "display_data",
          "data": {
            "text/plain": [
              "product_id                                                  37182\n",
              "product_name    Apple 16GB Black 2nd Generation iPod Touch - M...\n",
              "description     Apple 16GB Black 2nd Generation iPod Touch - M...\n",
              "price                                                     $299.00\n",
              "Name: 912, dtype: object"
            ]
          },
          "metadata": {}
        },
        {
          "output_type": "display_data",
          "data": {
            "text/plain": [
              "product_id                                                  37183\n",
              "product_name    Apple 32GB Black 2nd Generation iPod Touch - M...\n",
              "description     Apple 32GB Black 2nd Generation iPod Touch - M...\n",
              "price                                                     $399.00\n",
              "Name: 913, dtype: object"
            ]
          },
          "metadata": {}
        },
        {
          "output_type": "display_data",
          "data": {
            "text/plain": [
              "product_id                                                  37187\n",
              "product_name    Apple 8GB Silver 4th Generation iPod Nano - MB...\n",
              "description     Apple 8GB Silver 4th Generation iPod Nano - MB...\n",
              "price                                                     $144.00\n",
              "Name: 914, dtype: object"
            ]
          },
          "metadata": {}
        },
        {
          "output_type": "display_data",
          "data": {
            "text/plain": [
              "product_id                                                  37192\n",
              "product_name    Apple 8GB Blue 4th Generation iPod Nano - MB73...\n",
              "description     Apple 8GB Blue 4th Generation iPod Nano - MB73...\n",
              "price                                                     $149.00\n",
              "Name: 915, dtype: object"
            ]
          },
          "metadata": {}
        },
        {
          "output_type": "display_data",
          "data": {
            "text/plain": [
              "product_id                                                  37196\n",
              "product_name    Apple 8GB Pink 4th Generation iPod Nano - MB73...\n",
              "description     Apple 8GB Pink 4th Generation iPod Nano - MB73...\n",
              "price                                                     $144.00\n",
              "Name: 916, dtype: object"
            ]
          },
          "metadata": {}
        },
        {
          "output_type": "display_data",
          "data": {
            "text/plain": [
              "product_id                                                  37198\n",
              "product_name    Apple 8GB Purple 4th Generation iPod Nano - MB...\n",
              "description     Apple 8GB Purple 4th Generation iPod Nano - MB...\n",
              "price                                                     $149.00\n",
              "Name: 917, dtype: object"
            ]
          },
          "metadata": {}
        },
        {
          "output_type": "display_data",
          "data": {
            "text/plain": [
              "product_id                                                  37201\n",
              "product_name    Apple 16GB Green 4th Generation iPod Nano - MB...\n",
              "description     Apple 16GB Green 4th Generation iPod Nano - MB...\n",
              "price                                                        None\n",
              "Name: 918, dtype: object"
            ]
          },
          "metadata": {}
        },
        {
          "output_type": "display_data",
          "data": {
            "text/plain": [
              "product_id                                                  37202\n",
              "product_name    Apple 8GB Green 4th Generation iPod Nano - MB7...\n",
              "description     Apple 8GB Green 4th Generation iPod Nano - MB7...\n",
              "price                                                     $149.00\n",
              "Name: 919, dtype: object"
            ]
          },
          "metadata": {}
        },
        {
          "output_type": "display_data",
          "data": {
            "text/plain": [
              "product_id                                                  37207\n",
              "product_name    Apple 8GB Black 4th Generation iPod Nano - MB7...\n",
              "description     Apple 8GB Black 4th Generation iPod Nano - MB7...\n",
              "price                                                     $144.00\n",
              "Name: 920, dtype: object"
            ]
          },
          "metadata": {}
        },
        {
          "output_type": "display_data",
          "data": {
            "text/plain": [
              "product_id                                                  37208\n",
              "product_name    Apple 120GB Silver 7th Generation iPod Classic...\n",
              "description     Apple 120GB Silver 7th Generation iPod Classic...\n",
              "price                                                        None\n",
              "Name: 921, dtype: object"
            ]
          },
          "metadata": {}
        },
        {
          "output_type": "display_data",
          "data": {
            "text/plain": [
              "product_id                                                  37210\n",
              "product_name    Apple 120GB Black 7th Generation iPod Classic ...\n",
              "description     Apple 120GB Black 7th Generation iPod Classic ...\n",
              "price                                                        None\n",
              "Name: 922, dtype: object"
            ]
          },
          "metadata": {}
        },
        {
          "output_type": "display_data",
          "data": {
            "text/plain": [
              "product_id                                                  37211\n",
              "product_name    Apple 1GB Pink 2nd Generation iPod Shuffle - M...\n",
              "description     Apple 1GB Pink 2nd Generation iPod Shuffle - M...\n",
              "price                                                      $49.00\n",
              "Name: 923, dtype: object"
            ]
          },
          "metadata": {}
        },
        {
          "output_type": "display_data",
          "data": {
            "text/plain": [
              "product_id                                                  37231\n",
              "product_name    Yamaha YAS-71 Black Front Surround System - YA...\n",
              "description     Yamaha YAS-71 Black Front Surround System - YA...\n",
              "price                                                        None\n",
              "Name: 924, dtype: object"
            ]
          },
          "metadata": {}
        },
        {
          "output_type": "display_data",
          "data": {
            "text/plain": [
              "product_id                                                  37235\n",
              "product_name    Sony BRAVIA Black SXRD 1080p Home Theater Fron...\n",
              "description     Sony BRAVIA Black SXRD 1080p Home Theater Fron...\n",
              "price                                                   $3,499.00\n",
              "Name: 925, dtype: object"
            ]
          },
          "metadata": {}
        },
        {
          "output_type": "display_data",
          "data": {
            "text/plain": [
              "product_id                                                  37254\n",
              "product_name             Canon PIXMA Black Photo Printer - IP4600\n",
              "description     Canon PIXMA Black Photo Printer - IP4600/ Prem...\n",
              "price                                                      $99.00\n",
              "Name: 926, dtype: object"
            ]
          },
          "metadata": {}
        },
        {
          "output_type": "display_data",
          "data": {
            "text/plain": [
              "product_id                                                  37257\n",
              "product_name         Canon PIXMA Photo All-In-One Printer - MP980\n",
              "description     Canon PIXMA Photo All-In-One Printer - MP980/ ...\n",
              "price                                                     $299.00\n",
              "Name: 927, dtype: object"
            ]
          },
          "metadata": {}
        },
        {
          "output_type": "display_data",
          "data": {
            "text/plain": [
              "product_id                                                  37287\n",
              "product_name     Toshiba 32' Black LCD Flat Panel HDTV - 32AV502U\n",
              "description     Toshiba 32' Black LCD Flat Panel HDTV - 32AV50...\n",
              "price                                                        None\n",
              "Name: 928, dtype: object"
            ]
          },
          "metadata": {}
        },
        {
          "output_type": "display_data",
          "data": {
            "text/plain": [
              "product_id                                                  37293\n",
              "product_name    Sony VAIO AW Series Titanium Grey Notebook Com...\n",
              "description     Sony VAIO AW Series Titanium Grey Notebook Com...\n",
              "price                                                        None\n",
              "Name: 929, dtype: object"
            ]
          },
          "metadata": {}
        },
        {
          "output_type": "display_data",
          "data": {
            "text/plain": [
              "product_id                                                  37301\n",
              "product_name    Sony VAIO CS Series Red Notebook Computer - VG...\n",
              "description     Sony VAIO CS Series Red Notebook Computer - VG...\n",
              "price                                                        None\n",
              "Name: 930, dtype: object"
            ]
          },
          "metadata": {}
        },
        {
          "output_type": "display_data",
          "data": {
            "text/plain": [
              "product_id                                                  37308\n",
              "product_name    Sony VAIO CS Series Pink Notebook Computer - V...\n",
              "description     Sony VAIO CS Series Pink Notebook Computer - V...\n",
              "price                                                        None\n",
              "Name: 931, dtype: object"
            ]
          },
          "metadata": {}
        },
        {
          "output_type": "display_data",
          "data": {
            "text/plain": [
              "product_id                                                  37309\n",
              "product_name    Sony VAIO CS Series Black Notebook Computer - ...\n",
              "description     Sony VAIO CS Series Black Notebook Computer - ...\n",
              "price                                                        None\n",
              "Name: 932, dtype: object"
            ]
          },
          "metadata": {}
        },
        {
          "output_type": "display_data",
          "data": {
            "text/plain": [
              "product_id                                                  37310\n",
              "product_name    Sony VAIO CS Series Red Notebook Computer - VG...\n",
              "description     Sony VAIO CS Series Red Notebook Computer - VG...\n",
              "price                                                        None\n",
              "Name: 933, dtype: object"
            ]
          },
          "metadata": {}
        },
        {
          "output_type": "display_data",
          "data": {
            "text/plain": [
              "product_id                                                  37311\n",
              "product_name    Sony VAIO CS Series White Notebook Computer - ...\n",
              "description     Sony VAIO CS Series White Notebook Computer - ...\n",
              "price                                                        None\n",
              "Name: 934, dtype: object"
            ]
          },
          "metadata": {}
        },
        {
          "output_type": "display_data",
          "data": {
            "text/plain": [
              "product_id                                                  37322\n",
              "product_name    Sony VAIO NS Series Silver Notebook Computer -...\n",
              "description     Sony VAIO NS Series Silver Notebook Computer -...\n",
              "price                                                        None\n",
              "Name: 935, dtype: object"
            ]
          },
          "metadata": {}
        },
        {
          "output_type": "display_data",
          "data": {
            "text/plain": [
              "product_id                                                  37331\n",
              "product_name      Coby 10.2' Black LCD Flat Panel HDTV - TFTV1022\n",
              "description     Coby 10.2' Black LCD Flat Panel HDTV - TFTV102...\n",
              "price                                                        None\n",
              "Name: 936, dtype: object"
            ]
          },
          "metadata": {}
        },
        {
          "output_type": "display_data",
          "data": {
            "text/plain": [
              "product_id                                                  37340\n",
              "product_name    Panasonic Black High Defintion 60GB Hard Disk ...\n",
              "description     Panasonic Black High Defintion 60GB Hard Disk ...\n",
              "price                                                        None\n",
              "Name: 937, dtype: object"
            ]
          },
          "metadata": {}
        },
        {
          "output_type": "display_data",
          "data": {
            "text/plain": [
              "product_id                                                  37354\n",
              "product_name    Panasonic Rechargeable Lithium-Ion 1320 mAh Ba...\n",
              "description     Panasonic Rechargeable Lithium-Ion 1320 mAh Ba...\n",
              "price                                                        None\n",
              "Name: 938, dtype: object"
            ]
          },
          "metadata": {}
        },
        {
          "output_type": "display_data",
          "data": {
            "text/plain": [
              "product_id                                                  37360\n",
              "product_name    Pioneer 6.5' 2-Way Marine White Speakers - TSM...\n",
              "description     Pioneer 6.5' 2-Way Marine Speakers - TSMR1640F...\n",
              "price                                                        None\n",
              "Name: 939, dtype: object"
            ]
          },
          "metadata": {}
        },
        {
          "output_type": "display_data",
          "data": {
            "text/plain": [
              "product_id                                                  37403\n",
              "product_name    Canon Black EOS 50D Digital SLR Camera Body - ...\n",
              "description     Canon Black EOS 50D Digital SLR Camera Body - ...\n",
              "price                                                        None\n",
              "Name: 940, dtype: object"
            ]
          },
          "metadata": {}
        },
        {
          "output_type": "display_data",
          "data": {
            "text/plain": [
              "product_id                                                  37404\n",
              "product_name    Canon Black EOS 50D Digital SLR Camera With 28...\n",
              "description     Canon Black EOS 50D Digital SLR Camera With 28...\n",
              "price                                                        None\n",
              "Name: 941, dtype: object"
            ]
          },
          "metadata": {}
        },
        {
          "output_type": "display_data",
          "data": {
            "text/plain": [
              "product_id                                                  37405\n",
              "product_name    Sony BRAVIA Theater Black Micro System - DAVIS50B\n",
              "description     Sony BRAVIA Theater Black Micro System - DAVIS...\n",
              "price                                                        None\n",
              "Name: 942, dtype: object"
            ]
          },
          "metadata": {}
        },
        {
          "output_type": "display_data",
          "data": {
            "text/plain": [
              "product_id                                                  37421\n",
              "product_name    AT&T Aliph Jawbone II Silver Bluetooth Headset...\n",
              "description     AT&T Aliph Jawbone II Silver Bluetooth Headset...\n",
              "price                                                        None\n",
              "Name: 943, dtype: object"
            ]
          },
          "metadata": {}
        },
        {
          "output_type": "display_data",
          "data": {
            "text/plain": [
              "product_id                                                  37457\n",
              "product_name    Toshiba 42' Regza TheaterWide Black Flat Panel...\n",
              "description     Toshiba 42' Regza TheaterWide Black Flat Panel...\n",
              "price                                                        None\n",
              "Name: 944, dtype: object"
            ]
          },
          "metadata": {}
        },
        {
          "output_type": "display_data",
          "data": {
            "text/plain": [
              "product_id                                                  37462\n",
              "product_name    Toshiba 52' Regza Black Flat Panel LCD HDTV - ...\n",
              "description     Toshiba 52' Regza Black Flat Panel LCD HDTV - ...\n",
              "price                                                        None\n",
              "Name: 945, dtype: object"
            ]
          },
          "metadata": {}
        },
        {
          "output_type": "display_data",
          "data": {
            "text/plain": [
              "product_id                                                  37468\n",
              "product_name    Canon PowerShot Black 10 Megapixel Digital Cam...\n",
              "description     Canon PowerShot Black 10 Megapixel Digital Cam...\n",
              "price                                                        None\n",
              "Name: 946, dtype: object"
            ]
          },
          "metadata": {}
        },
        {
          "output_type": "display_data",
          "data": {
            "text/plain": [
              "product_id                                                  37469\n",
              "product_name    Canon PowerShot Black 14.7 Megapixel Digital C...\n",
              "description     Canon PowerShot Black 14.7 Megapixel Digital C...\n",
              "price                                                        None\n",
              "Name: 947, dtype: object"
            ]
          },
          "metadata": {}
        },
        {
          "output_type": "display_data",
          "data": {
            "text/plain": [
              "product_id                                                  37474\n",
              "product_name    Canon PowerShot Black 14.7 Megapixel Digital C...\n",
              "description     Canon PowerShot Black 14.7 Megapixel Digital C...\n",
              "price                                                        None\n",
              "Name: 948, dtype: object"
            ]
          },
          "metadata": {}
        },
        {
          "output_type": "display_data",
          "data": {
            "text/plain": [
              "product_id                                                  37477\n",
              "product_name    Canon PowerShot Silver 14.7 Megapixel Digital ...\n",
              "description     Canon PowerShot Silver 14.7 Megapixel Digital ...\n",
              "price                                                        None\n",
              "Name: 949, dtype: object"
            ]
          },
          "metadata": {}
        },
        {
          "output_type": "display_data",
          "data": {
            "text/plain": [
              "product_id                                                  37495\n",
              "product_name    Nintendo DS Lite Cobalt/Black Portable Gaming ...\n",
              "description     Nintendo DS Lite Cobalt/Black Portable Gaming ...\n",
              "price                                                     $139.00\n",
              "Name: 950, dtype: object"
            ]
          },
          "metadata": {}
        },
        {
          "output_type": "display_data",
          "data": {
            "text/plain": [
              "product_id                                                  37496\n",
              "product_name    Nintendo DS Lite Onyx Black Portable Gaming Sy...\n",
              "description     Nintendo DS Lite Onyx Black Portable Gaming Sy...\n",
              "price                                                     $139.00\n",
              "Name: 951, dtype: object"
            ]
          },
          "metadata": {}
        },
        {
          "output_type": "display_data",
          "data": {
            "text/plain": [
              "product_id                                                  37497\n",
              "product_name    Nintendo DS Lite Metallic Silver Portable Gami...\n",
              "description     Nintendo DS Lite Metallic Silver Portable Gami...\n",
              "price                                                     $139.00\n",
              "Name: 952, dtype: object"
            ]
          },
          "metadata": {}
        },
        {
          "output_type": "display_data",
          "data": {
            "text/plain": [
              "product_id                                                  37499\n",
              "product_name    Nintendo DS Lite Metallic Rose Portable Gaming...\n",
              "description     Nintendo DS Lite Metallic Rose Portable Gaming...\n",
              "price                                                     $139.00\n",
              "Name: 953, dtype: object"
            ]
          },
          "metadata": {}
        },
        {
          "output_type": "display_data",
          "data": {
            "text/plain": [
              "product_id                                                  37531\n",
              "product_name    Case Logic Vertical Universal Leather BlackBer...\n",
              "description     Case Logic Vertical Universal Leather BlackBer...\n",
              "price                                                      $15.00\n",
              "Name: 954, dtype: object"
            ]
          },
          "metadata": {}
        },
        {
          "output_type": "display_data",
          "data": {
            "text/plain": [
              "product_id                                                  37539\n",
              "product_name                   Sony Blu-Ray Disc Player - BDPS550\n",
              "description     Sony Blu-Ray Disc Player - BDPS550/ Decode Dol...\n",
              "price                                                        None\n",
              "Name: 955, dtype: object"
            ]
          },
          "metadata": {}
        },
        {
          "output_type": "display_data",
          "data": {
            "text/plain": [
              "product_id                                                  37558\n",
              "product_name    Nintendo DS Lite Crimson/Black Portable Gaming...\n",
              "description     Nintendo DS Lite Crimson/Black Portable Gaming...\n",
              "price                                                     $139.00\n",
              "Name: 956, dtype: object"
            ]
          },
          "metadata": {}
        },
        {
          "output_type": "display_data",
          "data": {
            "text/plain": [
              "product_id                                                  37589\n",
              "product_name         BlueAnt Bluetooth Voice Control Headset - V1\n",
              "description     BlueAnt Bluetooth Voice Control Headset - V1/ ...\n",
              "price                                                     $119.00\n",
              "Name: 957, dtype: object"
            ]
          },
          "metadata": {}
        },
        {
          "output_type": "display_data",
          "data": {
            "text/plain": [
              "product_id                                                  37606\n",
              "product_name    Netgear Prosafe 5 Port Gigabit Ethernet Deskto...\n",
              "description     Netgear Prosafe 5 Port Gigabit Ethernet Deskto...\n",
              "price                                                      $55.00\n",
              "Name: 958, dtype: object"
            ]
          },
          "metadata": {}
        },
        {
          "output_type": "display_data",
          "data": {
            "text/plain": [
              "product_id                                                  37623\n",
              "product_name                     Jabra Bluetooth Headset - BT2070\n",
              "description     Jabra Bluetooth Headset - BT2070/ Up To 5.5 Ho...\n",
              "price                                                      $49.00\n",
              "Name: 959, dtype: object"
            ]
          },
          "metadata": {}
        },
        {
          "output_type": "display_data",
          "data": {
            "text/plain": [
              "product_id                                                  37646\n",
              "product_name        Canon Printer Black Ink Cartridge - CLI221BLK\n",
              "description     Canon Printer Black Ink Cartridge - CLI221BLK/...\n",
              "price                                                        None\n",
              "Name: 960, dtype: object"
            ]
          },
          "metadata": {}
        },
        {
          "output_type": "display_data",
          "data": {
            "text/plain": [
              "product_id                                                  37648\n",
              "product_name         Canon Printer Gray Ink Cartridge - CLI221GRY\n",
              "description     Canon Printer Gray Ink Cartridge - CLI221GRY/ ...\n",
              "price                                                        None\n",
              "Name: 961, dtype: object"
            ]
          },
          "metadata": {}
        },
        {
          "output_type": "display_data",
          "data": {
            "text/plain": [
              "product_id                                                  37650\n",
              "product_name       Canon Printer Yellow Ink Cartridge - CLI221YEL\n",
              "description     Canon Printer Yellow Ink Cartridge - CLI221YEL...\n",
              "price                                                        None\n",
              "Name: 962, dtype: object"
            ]
          },
          "metadata": {}
        },
        {
          "output_type": "display_data",
          "data": {
            "text/plain": [
              "product_id                                                  37652\n",
              "product_name    Canon Printer Ink Cartridge 4 Colors Pack - 29...\n",
              "description     Canon Printer Ink Cartridge 4 Colors Pack - 29...\n",
              "price                                                      $47.00\n",
              "Name: 963, dtype: object"
            ]
          },
          "metadata": {}
        },
        {
          "output_type": "display_data",
          "data": {
            "text/plain": [
              "product_id                                                  37686\n",
              "product_name         Canon PIXMA Photo All-In-One Printer - MP480\n",
              "description     Canon PIXMA Photo All-In-One Printer - MP480/ ...\n",
              "price                                                      $99.00\n",
              "Name: 964, dtype: object"
            ]
          },
          "metadata": {}
        },
        {
          "output_type": "display_data",
          "data": {
            "text/plain": [
              "product_id                                                  37716\n",
              "product_name    Sanus 30' - 58' VisionMount Flat Panel TV Blac...\n",
              "description     Sanus 30' - 58' VisionMount Flat Panel TV Blac...\n",
              "price                                                     $199.00\n",
              "Name: 965, dtype: object"
            ]
          },
          "metadata": {}
        },
        {
          "output_type": "display_data",
          "data": {
            "text/plain": [
              "product_id                                                  37722\n",
              "product_name               Apple iPod Nano Gray Armband - MB769GA\n",
              "description     Apple iPod Nano Gray Armband - MB769GA/ Compat...\n",
              "price                                                      $29.00\n",
              "Name: 966, dtype: object"
            ]
          },
          "metadata": {}
        },
        {
          "output_type": "display_data",
          "data": {
            "text/plain": [
              "product_id                                                  37749\n",
              "product_name          Samsung Black Blu-ray Disc Player - BDP2500\n",
              "description     Samsung Black Blu-ray Disc Player - BDP2500/ F...\n",
              "price                                                        None\n",
              "Name: 967, dtype: object"
            ]
          },
          "metadata": {}
        },
        {
          "output_type": "display_data",
          "data": {
            "text/plain": [
              "product_id                                                  37767\n",
              "product_name    Kensington Combosaver Ultra Combination Notebo...\n",
              "description     Kensington Combosaver Ultra Combination Notebo...\n",
              "price                                                      $39.00\n",
              "Name: 968, dtype: object"
            ]
          },
          "metadata": {}
        },
        {
          "output_type": "display_data",
          "data": {
            "text/plain": [
              "product_id                                                  37796\n",
              "product_name       Escort Passport 9500IX Radar Detector - 9500IX\n",
              "description     Escort Passport 9500IX Radar Detector - 9500IX...\n",
              "price                                                     $503.95\n",
              "Name: 969, dtype: object"
            ]
          },
          "metadata": {}
        },
        {
          "output_type": "display_data",
          "data": {
            "text/plain": [
              "product_id                                                  37803\n",
              "product_name    Logitech White V470 Cordless Laser Mouse For A...\n",
              "description     Logitech White V470 Cordless Laser Mouse For A...\n",
              "price                                                      $49.00\n",
              "Name: 970, dtype: object"
            ]
          },
          "metadata": {}
        },
        {
          "output_type": "display_data",
          "data": {
            "text/plain": [
              "product_id                                                  37805\n",
              "product_name         Samsung S3 Black Multimedia Player - YPS3JAB\n",
              "description     Samsung S3 Black Multimedia Player - YPS3JAB/ ...\n",
              "price                                                        None\n",
              "Name: 971, dtype: object"
            ]
          },
          "metadata": {}
        },
        {
          "output_type": "display_data",
          "data": {
            "text/plain": [
              "product_id                                                  37807\n",
              "product_name    Logitech Black V450 Nano Cordless Laser Mouse ...\n",
              "description     Logitech Black V450 Nano Cordless Laser Mouse ...\n",
              "price                                                      $49.00\n",
              "Name: 972, dtype: object"
            ]
          },
          "metadata": {}
        },
        {
          "output_type": "display_data",
          "data": {
            "text/plain": [
              "product_id                                                  37808\n",
              "product_name    Logitech Black V220 Cordless Optical Mouse For...\n",
              "description     Logitech Black V220 Cordless Optical Mouse For...\n",
              "price                                                      $29.00\n",
              "Name: 973, dtype: object"
            ]
          },
          "metadata": {}
        },
        {
          "output_type": "display_data",
          "data": {
            "text/plain": [
              "product_id                                                  37810\n",
              "product_name    Sony VAIO LV Series Silver All-In-One Desktop ...\n",
              "description     Sony VAIO LV Series Silver All-In-One Desktop ...\n",
              "price                                                        None\n",
              "Name: 974, dtype: object"
            ]
          },
          "metadata": {}
        },
        {
          "output_type": "display_data",
          "data": {
            "text/plain": [
              "product_id                                                  37811\n",
              "product_name    Sony VAIO LV Series Silver All-In-One Desktop ...\n",
              "description     Sony VAIO LV Series Silver All-In-One Desktop ...\n",
              "price                                                   $1,899.00\n",
              "Name: 975, dtype: object"
            ]
          },
          "metadata": {}
        },
        {
          "output_type": "display_data",
          "data": {
            "text/plain": [
              "product_id                                                  37812\n",
              "product_name    Sony VAIO RT Series Black All-In-One Desktop C...\n",
              "description     Sony VAIO RT Series Black All-In-One Desktop C...\n",
              "price                                                   $3,999.00\n",
              "Name: 976, dtype: object"
            ]
          },
          "metadata": {}
        },
        {
          "output_type": "display_data",
          "data": {
            "text/plain": [
              "product_id                                                  37825\n",
              "product_name    Logitech MX Air Rechargeable Cordless Air Mous...\n",
              "description     Logitech MX Air Rechargeable Cordless Air Mous...\n",
              "price                                                     $149.00\n",
              "Name: 977, dtype: object"
            ]
          },
          "metadata": {}
        },
        {
          "output_type": "display_data",
          "data": {
            "text/plain": [
              "product_id                                                  37856\n",
              "product_name                  Canon Black Leather Case - 3528B001\n",
              "description     Canon PSC-4000 Black Leather Case - 3528B001/ ...\n",
              "price                                                        None\n",
              "Name: 978, dtype: object"
            ]
          },
          "metadata": {}
        },
        {
          "output_type": "display_data",
          "data": {
            "text/plain": [
              "product_id                                                  37859\n",
              "product_name    Denon Black Blu-ray Disc DVD-CD Player - DVD18...\n",
              "description     Denon Black Blu-ray Disc DVD-CD Player - DVD18...\n",
              "price                                                        None\n",
              "Name: 979, dtype: object"
            ]
          },
          "metadata": {}
        },
        {
          "output_type": "display_data",
          "data": {
            "text/plain": [
              "product_id                                                  37872\n",
              "product_name    Apple MacBook 2.4GHz Intel Core 2 Duo Silver N...\n",
              "description     Apple MacBook 2.4GHz Intel Core 2 Duo Silver N...\n",
              "price                                                   $1,599.00\n",
              "Name: 980, dtype: object"
            ]
          },
          "metadata": {}
        },
        {
          "output_type": "display_data",
          "data": {
            "text/plain": [
              "product_id                                                  37877\n",
              "product_name    Apple MacBook Pro 2.4GHz Intel Core 2 Duo Silv...\n",
              "description     Apple MacBook Pro 2.4GHz Intel Core 2 Duo Silv...\n",
              "price                                                   $1,999.00\n",
              "Name: 981, dtype: object"
            ]
          },
          "metadata": {}
        },
        {
          "output_type": "display_data",
          "data": {
            "text/plain": [
              "product_id                                                  37878\n",
              "product_name    Apple MacBook Pro 2.53GHz Intel Core 2 Duo Sil...\n",
              "description     Apple MacBook Pro 2.53GHz Intel Core 2 Duo Sil...\n",
              "price                                                   $2,499.00\n",
              "Name: 982, dtype: object"
            ]
          },
          "metadata": {}
        },
        {
          "output_type": "display_data",
          "data": {
            "text/plain": [
              "product_id                                                  37893\n",
              "product_name                Toshiba 26' Black LCD HDTV - 26AV502U\n",
              "description     Toshiba 26' Black LCD HDTV - 26AV502U/ 720p HD...\n",
              "price                                                        None\n",
              "Name: 983, dtype: object"
            ]
          },
          "metadata": {}
        },
        {
          "output_type": "display_data",
          "data": {
            "text/plain": [
              "product_id                                                  37907\n",
              "product_name    Sharp AQUOS Blu Ray Disc Player In Black And S...\n",
              "description     Sharp AQUOS Blu Ray Disc Player In Black And S...\n",
              "price                                                     $299.00\n",
              "Name: 984, dtype: object"
            ]
          },
          "metadata": {}
        },
        {
          "output_type": "display_data",
          "data": {
            "text/plain": [
              "product_id                                                  37915\n",
              "product_name    Panasonic Silver 8.1 Megapixel Digital Camera ...\n",
              "description     Panasonic Silver 8.1 Megapixel Digital Camera ...\n",
              "price                                                        None\n",
              "Name: 985, dtype: object"
            ]
          },
          "metadata": {}
        },
        {
          "output_type": "display_data",
          "data": {
            "text/plain": [
              "product_id                                                  37934\n",
              "product_name    Samsung 52' Series 8 LCD Black Flat Panel HDTV...\n",
              "description     Samsung 52' Series 8 LCD Black Flat Panel HDTV...\n",
              "price                                                        None\n",
              "Name: 986, dtype: object"
            ]
          },
          "metadata": {}
        },
        {
          "output_type": "display_data",
          "data": {
            "text/plain": [
              "product_id                                                  37964\n",
              "product_name      Canon Silver PowerShot Digital Camera - SD880IS\n",
              "description     Canon Silver PowerShot Digital Camera - SD880I...\n",
              "price                                                        None\n",
              "Name: 987, dtype: object"
            ]
          },
          "metadata": {}
        },
        {
          "output_type": "display_data",
          "data": {
            "text/plain": [
              "product_id                                                  38001\n",
              "product_name       Sony 8' Black LCD Digital Photo Frame - DPFD80\n",
              "description     Sony 8' Black LCD Digital Photo Frame - DPFD80...\n",
              "price                                                     $179.99\n",
              "Name: 988, dtype: object"
            ]
          },
          "metadata": {}
        },
        {
          "output_type": "display_data",
          "data": {
            "text/plain": [
              "product_id                                                  38003\n",
              "product_name     Sony 10' Black LCD Digital Photo Frame - DPFD100\n",
              "description     Sony 10' Black LCD Digital Photo Frame - DPFD1...\n",
              "price                                                     $279.99\n",
              "Name: 989, dtype: object"
            ]
          },
          "metadata": {}
        },
        {
          "output_type": "display_data",
          "data": {
            "text/plain": [
              "product_id                                                  38008\n",
              "product_name    Sharp AQUOS 52' D85U Series Black LCD Flat Pan...\n",
              "description     Sharp AQUOS 52' D85U Series Black LCD Flat Pan...\n",
              "price                                                        None\n",
              "Name: 990, dtype: object"
            ]
          },
          "metadata": {}
        },
        {
          "output_type": "display_data",
          "data": {
            "text/plain": [
              "product_id                                                  38096\n",
              "product_name                Toshiba 22' Black LCD HDTV - 22AV500U\n",
              "description     Toshiba 22' Black LCD HDTV - 22AV500U/ 720p HD...\n",
              "price                                                        None\n",
              "Name: 991, dtype: object"
            ]
          },
          "metadata": {}
        },
        {
          "output_type": "display_data",
          "data": {
            "text/plain": [
              "product_id                                                  38098\n",
              "product_name     Toshiba 40' Black Flat Panel LCD HDTV - 40RV525U\n",
              "description     Toshiba 40' Black Flat Panel LCD HDTV - 40RV52...\n",
              "price                                                        None\n",
              "Name: 992, dtype: object"
            ]
          },
          "metadata": {}
        },
        {
          "output_type": "display_data",
          "data": {
            "text/plain": [
              "product_id                                                  38106\n",
              "product_name    Canon Black EF 70-300mm F/4-5.6 IS USM Telepho...\n",
              "description     Canon Black EF 70-300mm F/4-5.6 IS USM Telepho...\n",
              "price                                                        None\n",
              "Name: 993, dtype: object"
            ]
          },
          "metadata": {}
        },
        {
          "output_type": "display_data",
          "data": {
            "text/plain": [
              "product_id                                                  38108\n",
              "product_name    Olympus Black 10 Megapixels Digital Camera - S...\n",
              "description     Olympus Black 10 Megapixels Digital Camera - S...\n",
              "price                                                        None\n",
              "Name: 994, dtype: object"
            ]
          },
          "metadata": {}
        },
        {
          "output_type": "display_data",
          "data": {
            "text/plain": [
              "product_id                                                  38127\n",
              "product_name    Coby Black 15' Widescreen Flat Panel LCD HDTV ...\n",
              "description     Coby Black 15' Widescreen Flat Panel LCD HDTV ...\n",
              "price                                                        None\n",
              "Name: 995, dtype: object"
            ]
          },
          "metadata": {}
        },
        {
          "output_type": "display_data",
          "data": {
            "text/plain": [
              "product_id                                                  38129\n",
              "product_name      Sharp AQUOS Black Blu-ray Disc Player - BDHP50U\n",
              "description     Sharp AQUOS Black Blu-ray Disc Player - BDHP50...\n",
              "price                                                     $399.00\n",
              "Name: 996, dtype: object"
            ]
          },
          "metadata": {}
        },
        {
          "output_type": "display_data",
          "data": {
            "text/plain": [
              "product_id                                                  38142\n",
              "product_name    Canon Pink 8.0 Megapixel PowerShot Digital Cam...\n",
              "description     Canon Pink 8.0 Megapixel PowerShot Digital Cam...\n",
              "price                                                     $178.00\n",
              "Name: 997, dtype: object"
            ]
          },
          "metadata": {}
        },
        {
          "output_type": "display_data",
          "data": {
            "text/plain": [
              "product_id                                                  38164\n",
              "product_name                   Apple USB Power Adapter - MB352LLB\n",
              "description     Apple USB Power Adapter - MB352LLB/ Compact/ C...\n",
              "price                                                      $29.00\n",
              "Name: 998, dtype: object"
            ]
          },
          "metadata": {}
        },
        {
          "output_type": "display_data",
          "data": {
            "text/plain": [
              "product_id                                                  38173\n",
              "product_name    Panasonic DECT 6.0 2-Line Digital Expandable C...\n",
              "description     Panasonic DECT 6.0 2-Line Digital Expandable C...\n",
              "price                                                     $179.00\n",
              "Name: 999, dtype: object"
            ]
          },
          "metadata": {}
        },
        {
          "output_type": "display_data",
          "data": {
            "text/plain": [
              "product_id                                                  38208\n",
              "product_name    Panasonic Blue 8.1 Megapixel Digital Camera - ...\n",
              "description     Panasonic Blue 8.1 Megapixel Digital Camera - ...\n",
              "price                                                        None\n",
              "Name: 1000, dtype: object"
            ]
          },
          "metadata": {}
        },
        {
          "output_type": "display_data",
          "data": {
            "text/plain": [
              "product_id                                                  38214\n",
              "product_name    Canon Black 21.1 Megapixel EOS Digital SLR Cam...\n",
              "description     Canon Black 21.1 Megapixel EOS Digital SLR Cam...\n",
              "price                                                   $2,699.00\n",
              "Name: 1001, dtype: object"
            ]
          },
          "metadata": {}
        },
        {
          "output_type": "display_data",
          "data": {
            "text/plain": [
              "product_id                                                  38221\n",
              "product_name    Canon EF 75-300mm F/4-5.6 III Telephoto Zoom L...\n",
              "description     Canon EF 75-300mm F/4-5.6 III Telephoto Zoom L...\n",
              "price                                                     $246.00\n",
              "Name: 1002, dtype: object"
            ]
          },
          "metadata": {}
        },
        {
          "output_type": "display_data",
          "data": {
            "text/plain": [
              "product_id                                                  38231\n",
              "product_name    Netgear ProSafe 24-Port Gigabit Rackmount Swit...\n",
              "description     Netgear ProSafe 24-Port Gigabit Rackmount Swit...\n",
              "price                                                        None\n",
              "Name: 1003, dtype: object"
            ]
          },
          "metadata": {}
        },
        {
          "output_type": "display_data",
          "data": {
            "text/plain": [
              "product_id                                                  38278\n",
              "product_name    Sony Memory Stick PRO DUO Adapter For CompactF...\n",
              "description     Sony Memory Stick PRO DUO Adapter For CompactF...\n",
              "price                                                        None\n",
              "Name: 1004, dtype: object"
            ]
          },
          "metadata": {}
        },
        {
          "output_type": "display_data",
          "data": {
            "text/plain": [
              "product_id                                                  38295\n",
              "product_name    Altec Lansing inMotion MAX iPod/iPhone Portabl...\n",
              "description     Altec Lansing inMotion MAX iPod/iPhone Portabl...\n",
              "price                                                        None\n",
              "Name: 1005, dtype: object"
            ]
          },
          "metadata": {}
        },
        {
          "output_type": "display_data",
          "data": {
            "text/plain": [
              "product_id                                                  38296\n",
              "product_name    Case-Mate Carbon Fiber Black Leather Case For ...\n",
              "description     Case-Mate Carbon Fiber Black Leather Case For ...\n",
              "price                                                        None\n",
              "Name: 1006, dtype: object"
            ]
          },
          "metadata": {}
        },
        {
          "output_type": "display_data",
          "data": {
            "text/plain": [
              "product_id                                                  38323\n",
              "product_name    LG White XL Load Capacity Electric Dryer - DLE...\n",
              "description     LG White XL Load Capacity Electric Dryer - DLE...\n",
              "price                                                        None\n",
              "Name: 1007, dtype: object"
            ]
          },
          "metadata": {}
        },
        {
          "output_type": "display_data",
          "data": {
            "text/plain": [
              "product_id                                                  38324\n",
              "product_name    Griffin Black iPhone 3G Clarifi Protective Cas...\n",
              "description     Griffin Black iPhone 3G Clarifi Protective Cas...\n",
              "price                                                      $34.00\n",
              "Name: 1008, dtype: object"
            ]
          },
          "metadata": {}
        },
        {
          "output_type": "display_data",
          "data": {
            "text/plain": [
              "product_id                                                  38327\n",
              "product_name    Canon Black BP-808 Camcorder Battery Pack - 27...\n",
              "description     Canon Black BP-808 Camcorder Battery Pack - 27...\n",
              "price                                                        None\n",
              "Name: 1009, dtype: object"
            ]
          },
          "metadata": {}
        },
        {
          "output_type": "display_data",
          "data": {
            "text/plain": [
              "product_id                                                  38329\n",
              "product_name    Panasonic Black Hi-Definition Camcorder Starte...\n",
              "description     Panasonic Black Hi-Definition Camcorder Starte...\n",
              "price                                                        None\n",
              "Name: 1010, dtype: object"
            ]
          },
          "metadata": {}
        },
        {
          "output_type": "display_data",
          "data": {
            "text/plain": [
              "product_id                                                  38343\n",
              "product_name    Panasonic DECT 6.0 Pearl Silver Expandable Dig...\n",
              "description     Panasonic DECT 6.0 Pearl Silver Expandable Dig...\n",
              "price                                                      $69.00\n",
              "Name: 1011, dtype: object"
            ]
          },
          "metadata": {}
        },
        {
          "output_type": "display_data",
          "data": {
            "text/plain": [
              "product_id                                                  38345\n",
              "product_name    Logitech diNovo Edge Keyboard Mac Edition - 92...\n",
              "description     Logitech diNovo Edge Keyboard Mac Edition - 92...\n",
              "price                                                     $159.00\n",
              "Name: 1012, dtype: object"
            ]
          },
          "metadata": {}
        },
        {
          "output_type": "display_data",
          "data": {
            "text/plain": [
              "product_id                                                  38346\n",
              "product_name     Logitech QuickCam Vision Pro For Mac - 960000254\n",
              "description     Logitech QuickCam Vision Pro For Mac - 9600002...\n",
              "price                                                     $129.00\n",
              "Name: 1013, dtype: object"
            ]
          },
          "metadata": {}
        },
        {
          "output_type": "display_data",
          "data": {
            "text/plain": [
              "product_id                                                  38388\n",
              "product_name    Canon Digital EOS Rebel XS Starter Kit - 9320A010\n",
              "description     Canon Digital EOS Rebel XS Starter Kit - 9320A...\n",
              "price                                                        None\n",
              "Name: 1014, dtype: object"
            ]
          },
          "metadata": {}
        },
        {
          "output_type": "display_data",
          "data": {
            "text/plain": [
              "product_id                                                  38399\n",
              "product_name          Canon 2GB SD Secure Digital Card - 3505B001\n",
              "description     Canon 2GB SD Secure Digital Card - 3505B001/ C...\n",
              "price                                                        None\n",
              "Name: 1015, dtype: object"
            ]
          },
          "metadata": {}
        },
        {
          "output_type": "display_data",
          "data": {
            "text/plain": [
              "product_id                                                  38400\n",
              "product_name    Sony VAIO JS Series Black All-In-One Desktop C...\n",
              "description     Sony VAIO JS Series Black All-In-One Desktop C...\n",
              "price                                                   $1,099.00\n",
              "Name: 1016, dtype: object"
            ]
          },
          "metadata": {}
        },
        {
          "output_type": "display_data",
          "data": {
            "text/plain": [
              "product_id                                                  38434\n",
              "product_name            Sharp AQUOS 42' Black LCD HDTV - LC42D85U\n",
              "description     Sharp AQUOS 42' Black LCD HDTV - LC42D85U/ Ful...\n",
              "price                                                        None\n",
              "Name: 1017, dtype: object"
            ]
          },
          "metadata": {}
        },
        {
          "output_type": "display_data",
          "data": {
            "text/plain": [
              "product_id                                                  38449\n",
              "product_name    Linksys Dual-Band Wireless-N Gaming Adapter - ...\n",
              "description     Linksys Dual-Band Wireless-N Gaming Adapter - ...\n",
              "price                                                      $89.00\n",
              "Name: 1018, dtype: object"
            ]
          },
          "metadata": {}
        },
        {
          "output_type": "display_data",
          "data": {
            "text/plain": [
              "product_id                                                  38451\n",
              "product_name    Linksys Dual-Band Wireless-N Notebook Adapter ...\n",
              "description     Linksys Dual-Band Wireless-N Notebook Adapter ...\n",
              "price                                                      $69.00\n",
              "Name: 1019, dtype: object"
            ]
          },
          "metadata": {}
        },
        {
          "output_type": "display_data",
          "data": {
            "text/plain": [
              "product_id                                                  38452\n",
              "product_name    Linksys Simultaneous Dual-N Band Wireless Rout...\n",
              "description     Linksys Simultaneous Dual-N Band Wireless Rout...\n",
              "price                                                     $179.00\n",
              "Name: 1020, dtype: object"
            ]
          },
          "metadata": {}
        },
        {
          "output_type": "display_data",
          "data": {
            "text/plain": [
              "product_id                                                  38455\n",
              "product_name    Linksys Compact Wireless-G USB Adapter - WUSB54GC\n",
              "description     Linksys Compact Wireless-G USB Adapter - WUSB5...\n",
              "price                                                      $39.00\n",
              "Name: 1021, dtype: object"
            ]
          },
          "metadata": {}
        },
        {
          "output_type": "display_data",
          "data": {
            "text/plain": [
              "product_id                                                  38457\n",
              "product_name    Linksys Dual-Band Wireless-N USB Network Adapt...\n",
              "description     Linksys Dual-Band Wireless-N USB Network Adapt...\n",
              "price                                                      $69.00\n",
              "Name: 1022, dtype: object"
            ]
          },
          "metadata": {}
        },
        {
          "output_type": "display_data",
          "data": {
            "text/plain": [
              "product_id                                                  38466\n",
              "product_name    Linksys Wireless-G Internet Home Monitoring Ca...\n",
              "description     Linksys Wireless-G Internet Home Monitoring Ca...\n",
              "price                                                      $99.00\n",
              "Name: 1023, dtype: object"
            ]
          },
          "metadata": {}
        },
        {
          "output_type": "display_data",
          "data": {
            "text/plain": [
              "product_id                                                  38468\n",
              "product_name    Danby Silhouette 60 Cans Beverage Center - DBC...\n",
              "description     Danby Silhouette 60 Cans Beverage Center - DBC...\n",
              "price                                                   $1,000.00\n",
              "Name: 1024, dtype: object"
            ]
          },
          "metadata": {}
        },
        {
          "output_type": "display_data",
          "data": {
            "text/plain": [
              "product_id                                                  38473\n",
              "product_name    Linksys EtherFast4116 16-Port 10/100 Ethernet ...\n",
              "description     Linksys EtherFast4116 16-Port 10/100 Ethernet ...\n",
              "price                                                      $79.00\n",
              "Name: 1025, dtype: object"
            ]
          },
          "metadata": {}
        },
        {
          "output_type": "display_data",
          "data": {
            "text/plain": [
              "product_id                                                  38474\n",
              "product_name     Linksys Gigabit 5-Port Workgroup Switch - EG005W\n",
              "description     Linksys Gigabit 5-Port Workgroup Switch - EG00...\n",
              "price                                                      $64.00\n",
              "Name: 1026, dtype: object"
            ]
          },
          "metadata": {}
        },
        {
          "output_type": "display_data",
          "data": {
            "text/plain": [
              "product_id                                                  38475\n",
              "product_name    Linksys EtherFast10/100 5-Port Auto-Sensing Sw...\n",
              "description     Linksys EtherFast10/100 5-Port Auto-Sensing Sw...\n",
              "price                                                      $29.00\n",
              "Name: 1027, dtype: object"
            ]
          },
          "metadata": {}
        },
        {
          "output_type": "display_data",
          "data": {
            "text/plain": [
              "product_id                                                  38477\n",
              "product_name     Linksys EtherFast 8-Port 10/100 Switch - EZXS88W\n",
              "description     Linksys EtherFast 8-Port 10/100 Switch - EZXS8...\n",
              "price                                                      $44.00\n",
              "Name: 1028, dtype: object"
            ]
          },
          "metadata": {}
        },
        {
          "output_type": "display_data",
          "data": {
            "text/plain": [
              "product_id                                                  38480\n",
              "product_name                  iRobot Robotic Floor Washer - 74249\n",
              "description     iRobot Robotic Floor Washer - 74249/ Autonomou...\n",
              "price                                                     $299.00\n",
              "Name: 1029, dtype: object"
            ]
          },
          "metadata": {}
        },
        {
          "output_type": "display_data",
          "data": {
            "text/plain": [
              "product_id                                                  38483\n",
              "product_name    Transcend 8GB Micro Secure Digital Memory Card...\n",
              "description     Transcend 8GB Micro Secure Digital Memory Card...\n",
              "price                                                      $39.00\n",
              "Name: 1030, dtype: object"
            ]
          },
          "metadata": {}
        },
        {
          "output_type": "display_data",
          "data": {
            "text/plain": [
              "product_id                                                  38486\n",
              "product_name    Transcend 133X High-Speed 8GB Compact Flash Ca...\n",
              "description     Transcend 133X High-Speed 8GB Compact Flash Ca...\n",
              "price                                                      $38.00\n",
              "Name: 1031, dtype: object"
            ]
          },
          "metadata": {}
        },
        {
          "output_type": "display_data",
          "data": {
            "text/plain": [
              "product_id                                                  38492\n",
              "product_name            Sony Telephoto Converter Lens - VCLDH1774\n",
              "description     Sony Telephoto Converter Lens - VCLDH1774/ 1.7...\n",
              "price                                                     $169.99\n",
              "Name: 1032, dtype: object"
            ]
          },
          "metadata": {}
        },
        {
          "output_type": "display_data",
          "data": {
            "text/plain": [
              "product_id                                                  38500\n",
              "product_name     DLO Black HybridShell For iPhone 3G - DLA4010717\n",
              "description     DLO Black HybridShell For iPhone 3G - DLA40107...\n",
              "price                                                      $24.99\n",
              "Name: 1033, dtype: object"
            ]
          },
          "metadata": {}
        },
        {
          "output_type": "display_data",
          "data": {
            "text/plain": [
              "product_id                                                  38507\n",
              "product_name        Linksys Black Media Center Extender - DMA2100\n",
              "description     Linksys Black Media Center Extender - DMA2100/...\n",
              "price                                                     $119.00\n",
              "Name: 1034, dtype: object"
            ]
          },
          "metadata": {}
        },
        {
          "output_type": "display_data",
          "data": {
            "text/plain": [
              "product_id                                                  38511\n",
              "product_name    Audiovox 7'  Acrylic Digital Photo Frame - DPF701\n",
              "description     Audiovox 7' Acrylic Digital Photo Frame - DPF7...\n",
              "price                                                        None\n",
              "Name: 1035, dtype: object"
            ]
          },
          "metadata": {}
        },
        {
          "output_type": "display_data",
          "data": {
            "text/plain": [
              "product_id                                                  38522\n",
              "product_name      Flip Video F460 Black Mino HD Camcorder - F460B\n",
              "description     Flip Video F460 Black Mino HD Camcorder - F460...\n",
              "price                                                        None\n",
              "Name: 1036, dtype: object"
            ]
          },
          "metadata": {}
        },
        {
          "output_type": "display_data",
          "data": {
            "text/plain": [
              "product_id                                                  38550\n",
              "product_name    Samsung 2.1 Channel Bluetooth Home Theater Sys...\n",
              "description     Samsung 2.1 Channel Bluetooth Home Theater Sys...\n",
              "price                                                        None\n",
              "Name: 1037, dtype: object"
            ]
          },
          "metadata": {}
        },
        {
          "output_type": "display_data",
          "data": {
            "text/plain": [
              "product_id                                                  38574\n",
              "product_name          Sony BD/DVD Home Theater System - BDVIS1000\n",
              "description     Sony BD/DVD Home Theater System - BDVIS1000/ S...\n",
              "price                                                     $999.00\n",
              "Name: 1038, dtype: object"
            ]
          },
          "metadata": {}
        },
        {
          "output_type": "display_data",
          "data": {
            "text/plain": [
              "product_id                                                  38587\n",
              "product_name            Canon Printer Color Ink Cartridge - CL211\n",
              "description     Canon Printer Color Ink Cartridge - CL211/ FIN...\n",
              "price                                                      $20.99\n",
              "Name: 1039, dtype: object"
            ]
          },
          "metadata": {}
        },
        {
          "output_type": "display_data",
          "data": {
            "text/plain": [
              "product_id                                                  38619\n",
              "product_name           LG Washer Dryer White Stacking Kit - WSTK1\n",
              "description     LG Washer Dryer White Stacking Kit - WSTK1/ St...\n",
              "price                                                        None\n",
              "Name: 1040, dtype: object"
            ]
          },
          "metadata": {}
        },
        {
          "output_type": "display_data",
          "data": {
            "text/plain": [
              "product_id                                                  38640\n",
              "product_name    Transcend 2.5' SATA Solid State Disk - TS128GS...\n",
              "description     Transcend 2.5' SATA Solid State Disk - TS128GS...\n",
              "price                                                        None\n",
              "Name: 1041, dtype: object"
            ]
          },
          "metadata": {}
        },
        {
          "output_type": "display_data",
          "data": {
            "text/plain": [
              "product_id                                                  38644\n",
              "product_name    Skullcandy CHOPS Headphones In Black Chrome - ...\n",
              "description     Skullcandy CHOPS Headphones In Black Chrome - ...\n",
              "price                                                      $24.95\n",
              "Name: 1042, dtype: object"
            ]
          },
          "metadata": {}
        },
        {
          "output_type": "display_data",
          "data": {
            "text/plain": [
              "product_id                                                  38653\n",
              "product_name    Sennheiser Orange And Silver In Ear Headphones...\n",
              "description     Sennheiser Orange And Silver In Ear Headphones...\n",
              "price                                                      $79.95\n",
              "Name: 1043, dtype: object"
            ]
          },
          "metadata": {}
        },
        {
          "output_type": "display_data",
          "data": {
            "text/plain": [
              "product_id                                                  38693\n",
              "product_name    Samsung 46' Series 8 LCD Black Flat Panel HDTV...\n",
              "description     Samsung 46' Series 8 LCD Black Flat Panel HDTV...\n",
              "price                                                        None\n",
              "Name: 1044, dtype: object"
            ]
          },
          "metadata": {}
        },
        {
          "output_type": "display_data",
          "data": {
            "text/plain": [
              "product_id                                                  38697\n",
              "product_name    Logitech Cordless Desktop MX 5500 Revolution K...\n",
              "description     Logitech Cordless Desktop MX 5500 Revolution K...\n",
              "price                                                     $169.00\n",
              "Name: 1045, dtype: object"
            ]
          },
          "metadata": {}
        },
        {
          "output_type": "display_data",
          "data": {
            "text/plain": [
              "product_id                                                  38704\n",
              "product_name                  VMware Fusion 2 For Mac - VMFM20BX2\n",
              "description     VMware Fusion 2 For Mac - VMFM20BX2/ Run Windo...\n",
              "price                                                      $79.00\n",
              "Name: 1046, dtype: object"
            ]
          },
          "metadata": {}
        },
        {
          "output_type": "display_data",
          "data": {
            "text/plain": [
              "product_id                                                  38726\n",
              "product_name    Sanus SC1A Black VisionMount Series Ceiling Mo...\n",
              "description     Sanus SC1A Black VisionMount Series Ceiling Mo...\n",
              "price                                                      $99.99\n",
              "Name: 1047, dtype: object"
            ]
          },
          "metadata": {}
        },
        {
          "output_type": "display_data",
          "data": {
            "text/plain": [
              "product_id                                                  38733\n",
              "product_name    Kensington Mini Battery Pack And Charger For i...\n",
              "description     Kensington Mini Battery Pack And Charger For i...\n",
              "price                                                        None\n",
              "Name: 1048, dtype: object"
            ]
          },
          "metadata": {}
        },
        {
          "output_type": "display_data",
          "data": {
            "text/plain": [
              "product_id                                                  38735\n",
              "product_name    Logitech diNovo Edge Keyboard Windows Edition ...\n",
              "description     Logitech diNovo Edge Keyboard Windows Edition ...\n",
              "price                                                     $179.00\n",
              "Name: 1049, dtype: object"
            ]
          },
          "metadata": {}
        },
        {
          "output_type": "display_data",
          "data": {
            "text/plain": [
              "product_id                                                  38751\n",
              "product_name    Panasonic Yellow 4GB SDHC Memory Card - RPSDV0...\n",
              "description     Panasonic Yellow 4GB SDHC Memory Card - RPSDV0...\n",
              "price                                                        None\n",
              "Name: 1050, dtype: object"
            ]
          },
          "metadata": {}
        },
        {
          "output_type": "display_data",
          "data": {
            "text/plain": [
              "product_id                                                  38767\n",
              "product_name    Coby 7' Black Widescreen TFT Portable DVD CD M...\n",
              "description     Coby 7' Black Widescreen TFT Portable DVD CD M...\n",
              "price                                                      $97.00\n",
              "Name: 1051, dtype: object"
            ]
          },
          "metadata": {}
        },
        {
          "output_type": "display_data",
          "data": {
            "text/plain": [
              "product_id                                                  38773\n",
              "product_name    Sony Black HD Radio With Dock For iPod And iPh...\n",
              "description     Sony Black HD Radio With Dock For iPod And iPh...\n",
              "price                                                        None\n",
              "Name: 1052, dtype: object"
            ]
          },
          "metadata": {}
        },
        {
          "output_type": "display_data",
          "data": {
            "text/plain": [
              "product_id                                                  38777\n",
              "product_name    Nikon Black COOLPIX S210 Li-Ion Rechargeable B...\n",
              "description     Nikon Black COOLPIX S210 Li-Ion Rechargeable B...\n",
              "price                                                        None\n",
              "Name: 1053, dtype: object"
            ]
          },
          "metadata": {}
        },
        {
          "output_type": "display_data",
          "data": {
            "text/plain": [
              "product_id                                                  38781\n",
              "product_name    Griffin Black TuneBuds Mobile For iPod And iPh...\n",
              "description     Griffin Black TuneBuds Mobile For iPod And iPh...\n",
              "price                                                        None\n",
              "Name: 1054, dtype: object"
            ]
          },
          "metadata": {}
        },
        {
          "output_type": "display_data",
          "data": {
            "text/plain": [
              "product_id                                                  38782\n",
              "product_name    Sony VAIO FW Series Black Notebook Computer - ...\n",
              "description     Sony VAIO FW Series Black Notebook Computer - ...\n",
              "price                                                        None\n",
              "Name: 1055, dtype: object"
            ]
          },
          "metadata": {}
        },
        {
          "output_type": "display_data",
          "data": {
            "text/plain": [
              "product_id                                                  38784\n",
              "product_name    Sanus 30' - 50' Full-Motion Flat Panel TV Blac...\n",
              "description     Sanus 30' - 50' Full-Motion Flat Panel TV Blac...\n",
              "price                                                     $349.00\n",
              "Name: 1056, dtype: object"
            ]
          },
          "metadata": {}
        },
        {
          "output_type": "display_data",
          "data": {
            "text/plain": [
              "product_id                                                  38794\n",
              "product_name            Belkin White Switch-To-Mac Cable - F4U001\n",
              "description     Belkin White Switch-To-Mac Cable - F4U001/ All...\n",
              "price                                                        None\n",
              "Name: 1057, dtype: object"
            ]
          },
          "metadata": {}
        },
        {
          "output_type": "display_data",
          "data": {
            "text/plain": [
              "product_id                                                  38796\n",
              "product_name      Belkin Leather Folio For 2G iPod Touch - F8Z373\n",
              "description     Belkin Leather Folio For 2G iPod Touch - F8Z37...\n",
              "price                                                      $29.00\n",
              "Name: 1058, dtype: object"
            ]
          },
          "metadata": {}
        },
        {
          "output_type": "display_data",
          "data": {
            "text/plain": [
              "product_id                                                  38798\n",
              "product_name        Peerless Black Flat Panel TV Stand - SS550PBK\n",
              "description     Peerless Black Flat Panel TV Stand - SS550PBK/...\n",
              "price                                                        None\n",
              "Name: 1059, dtype: object"
            ]
          },
          "metadata": {}
        },
        {
          "output_type": "display_data",
          "data": {
            "text/plain": [
              "product_id                                                  38800\n",
              "product_name    Canon EOS Rebel XSi Silver Digital SLR Camera ...\n",
              "description     Canon EOS Rebel XSi Silver Digital SLR Camera ...\n",
              "price                                                     $799.00\n",
              "Name: 1060, dtype: object"
            ]
          },
          "metadata": {}
        },
        {
          "output_type": "display_data",
          "data": {
            "text/plain": [
              "product_id                                                  38806\n",
              "product_name    Canon XH A1S Black High Definition HDV Camcord...\n",
              "description     Canon XH A1S Black High Definition HDV Camcord...\n",
              "price                                                        None\n",
              "Name: 1061, dtype: object"
            ]
          },
          "metadata": {}
        },
        {
          "output_type": "display_data",
          "data": {
            "text/plain": [
              "product_id                                                  38813\n",
              "product_name    Speck ToughSkin Black Case For 4th Generation ...\n",
              "description     Speck ToughSkin Black Case For 4th Generation ...\n",
              "price                                                      $29.00\n",
              "Name: 1062, dtype: object"
            ]
          },
          "metadata": {}
        },
        {
          "output_type": "display_data",
          "data": {
            "text/plain": [
              "product_id                                                  38826\n",
              "product_name    Cuisinart Exact Heat Matte Black Toaster Oven ...\n",
              "description     Cuisinart Exact Heat Matte Black Toaster Oven ...\n",
              "price                                                     $139.00\n",
              "Name: 1063, dtype: object"
            ]
          },
          "metadata": {}
        },
        {
          "output_type": "display_data",
          "data": {
            "text/plain": [
              "product_id                                                  38831\n",
              "product_name    Tripp-Lite Black 25 Foot SVGA HD15M To HD15M C...\n",
              "description     Tripp-Lite Black 25 Foot SVGA HD15M To HD15M C...\n",
              "price                                                        None\n",
              "Name: 1064, dtype: object"
            ]
          },
          "metadata": {}
        },
        {
          "output_type": "display_data",
          "data": {
            "text/plain": [
              "product_id                                                  38834\n",
              "product_name         Nokia T-Mobile Unlocked Cellular Phone - N96\n",
              "description     Nokia T-Mobile Unlocked Cellular Phone - N96/ ...\n",
              "price                                                        None\n",
              "Name: 1065, dtype: object"
            ]
          },
          "metadata": {}
        },
        {
          "output_type": "display_data",
          "data": {
            "text/plain": [
              "product_id                                                  38873\n",
              "product_name    Denon Home Theater Receiver And Boston Acousti...\n",
              "description     Denon Home Theater Receiver And Boston Acousti...\n",
              "price                                                     $499.00\n",
              "Name: 1066, dtype: object"
            ]
          },
          "metadata": {}
        },
        {
          "output_type": "display_data",
          "data": {
            "text/plain": [
              "product_id                                                  38876\n",
              "product_name    Apple iWork 09 Software Individual Pack For Ma...\n",
              "description     Apple iWork 09 Software Individual Pack For Ma...\n",
              "price                                                      $79.00\n",
              "Name: 1067, dtype: object"
            ]
          },
          "metadata": {}
        },
        {
          "output_type": "display_data",
          "data": {
            "text/plain": [
              "product_id                                                  38880\n",
              "product_name    Apple iWork 09 Software Family Pack For Mac - ...\n",
              "description     Apple iWork 09 Software Family Pack For Mac - ...\n",
              "price                                                      $99.00\n",
              "Name: 1068, dtype: object"
            ]
          },
          "metadata": {}
        },
        {
          "output_type": "display_data",
          "data": {
            "text/plain": [
              "product_id                                                  38920\n",
              "product_name    Transcend JetFlash V10 16GB USB Flash Drive - ...\n",
              "description     Transcend JetFlash V10 16GB USB Flash Drive - ...\n",
              "price                                                      $38.00\n",
              "Name: 1069, dtype: object"
            ]
          },
          "metadata": {}
        },
        {
          "output_type": "display_data",
          "data": {
            "text/plain": [
              "product_id                                                  38939\n",
              "product_name    Logitech V-UBM46 QuickCam Pro 9000 Black Webca...\n",
              "description     Logitech V-UBM46 QuickCam Pro 9000 Black Webca...\n",
              "price                                                        None\n",
              "Name: 1070, dtype: object"
            ]
          },
          "metadata": {}
        },
        {
          "output_type": "display_data",
          "data": {
            "text/plain": [
              "product_id                                                  38944\n",
              "product_name    Panasonic LM-AF30U3 Three Pack Of Single-Sided...\n",
              "description     Panasonic LM-AF30U3 Three Pack Of Single-Sided...\n",
              "price                                                       $8.99\n",
              "Name: 1071, dtype: object"
            ]
          },
          "metadata": {}
        },
        {
          "output_type": "display_data",
          "data": {
            "text/plain": [
              "product_id                                                  38957\n",
              "product_name    Lasonic ATSC Digital To Analog TV Converter Bo...\n",
              "description     Lasonic ATSC Digital To Analog TV Converter Bo...\n",
              "price                                                        None\n",
              "Name: 1072, dtype: object"
            ]
          },
          "metadata": {}
        },
        {
          "output_type": "display_data",
          "data": {
            "text/plain": [
              "product_id                                                  39038\n",
              "product_name     Case Logic Black In-Car DVD Player Case - PDVK10\n",
              "description     Case Logic Black In-Car DVD Player Case - PDVK...\n",
              "price                                                      $29.00\n",
              "Name: 1073, dtype: object"
            ]
          },
          "metadata": {}
        },
        {
          "output_type": "display_data",
          "data": {
            "text/plain": [
              "product_id                                                  39039\n",
              "product_name    Garmin Nuvi 885T GPS Navigation System - 01000...\n",
              "description     Garmin Nuvi 885T GPS Navigation System - 01000...\n",
              "price                                                     $799.00\n",
              "Name: 1074, dtype: object"
            ]
          },
          "metadata": {}
        },
        {
          "output_type": "display_data",
          "data": {
            "text/plain": [
              "product_id                                                  39054\n",
              "product_name    OmniMount 37' - 63' Ultra Low Profile Series L...\n",
              "description     OmniMount 37' - 63' Ultra Low Profile Series L...\n",
              "price                                                        None\n",
              "Name: 1075, dtype: object"
            ]
          },
          "metadata": {}
        },
        {
          "output_type": "display_data",
          "data": {
            "text/plain": [
              "product_id                                                  39088\n",
              "product_name    Logitech Cordless Desktop Wave Keyboard And Mo...\n",
              "description     Logitech Cordless Desktop Wave Keyboard And Mo...\n",
              "price                                                      $79.00\n",
              "Name: 1076, dtype: object"
            ]
          },
          "metadata": {}
        },
        {
          "output_type": "display_data",
          "data": {
            "text/plain": [
              "product_id                                                  39090\n",
              "product_name               Mitsubishi DLP Black TV Stand - MBS73V\n",
              "description     Mitsubishi DLP Black TV Stand - MBS73V/ Matchi...\n",
              "price                                                     $549.00\n",
              "Name: 1077, dtype: object"
            ]
          },
          "metadata": {}
        },
        {
          "output_type": "display_data",
          "data": {
            "text/plain": [
              "product_id                                                  39175\n",
              "product_name    Logitech Digital Precision PC Gaming Headset -...\n",
              "description     Logitech Digital Precision PC Gaming Headset -...\n",
              "price                                                      $49.00\n",
              "Name: 1078, dtype: object"
            ]
          },
          "metadata": {}
        },
        {
          "output_type": "display_data",
          "data": {
            "text/plain": [
              "product_id                                                  39176\n",
              "product_name    Logitech 2.1 Multimedia Silver Speaker System ...\n",
              "description     Logitech 2.1 Multimedia Silver Speaker System ...\n",
              "price                                                        None\n",
              "Name: 1079, dtype: object"
            ]
          },
          "metadata": {}
        },
        {
          "output_type": "display_data",
          "data": {
            "text/plain": [
              "product_id                                                  39179\n",
              "product_name           Linksys Wireless-G Range Expander - WRE54G\n",
              "description     Linksys Wireless-G Range Expander - WRE54G/ Su...\n",
              "price                                                      $99.00\n",
              "Name: 1080, dtype: object"
            ]
          },
          "metadata": {}
        }
      ],
      "source": [
        "\n",
        "for id, row in products_list.iterrows():\n",
        "  # Create Embedding for each conversation row, save them to the database\n",
        "  text_chunk_length = 2500\n",
        "  text_chunks = [row.description[i:i + text_chunk_length] for i in range(0, len(row.description), text_chunk_length)]\n",
        "  for chunk_id, chunk in enumerate(text_chunks):\n",
        "    pricevalue = row.price if isinstance(row.price, str) else \"\"\n",
        "    full_chunk = f\"{chunk} price: {pricevalue}\"\n",
        "    embedding = model.encode(full_chunk).tolist()\n",
        "    query = SimpleStatement(\n",
        "                \"\"\"\n",
        "                INSERT INTO {}.products_table\n",
        "                (product_id, chunk_id, product_name, description, price, minilm_description_embedding)\n",
        "                VALUES (%s, %s, %s, %s, %s, %s)\n",
        "                \"\"\".format(cass_keyspace)\n",
        "            )\n",
        "    display(row)\n",
        "\n",
        "    session.execute(query, (row.product_id, chunk_id, row.product_name, row.description, pricevalue, embedding))"
      ]
    },
    {
      "cell_type": "markdown",
      "id": "2fc20311-5fde-46b1-b194-4611866f4264",
      "metadata": {
        "id": "2fc20311-5fde-46b1-b194-4611866f4264"
      },
      "source": [
        "\n",
        "\n",
        "---\n",
        "\n",
        "\n",
        "# Start using the index"
      ]
    },
    {
      "cell_type": "markdown",
      "id": "83f833ef-6555-452b-a903-9505c77b75b1",
      "metadata": {
        "id": "83f833ef-6555-452b-a903-9505c77b75b1"
      },
      "source": [
        "In the steps up to this point, we have been creating a schema and loading the table with data, including embeddings we generated through the Sentence Transformer Embedding.\n"
      ]
    },
    {
      "cell_type": "markdown",
      "id": "466ca4e3-7bb6-485b-ac3a-788c1fe3658d",
      "metadata": {
        "id": "466ca4e3-7bb6-485b-ac3a-788c1fe3658d"
      },
      "source": [
        "# Convert a query string into a text embedding to use as part of the query"
      ]
    },
    {
      "cell_type": "markdown",
      "id": "37217051-b389-49eb-8b5b-6efb14d9f8c4",
      "metadata": {
        "id": "37217051-b389-49eb-8b5b-6efb14d9f8c4"
      },
      "source": [
        "This is where the real fun starts.  Provide a question or request to be used as the query.  The source sample database is mostly consumer electronics and appliances, so imagine you're talking to a customer service rep at an electronics store.\n",
        "\n",
        "Here we use the same API that we used to calculate embeddings for each row in the database, but this time we are using your input question to calculate a vector to use in a query."
      ]
    },
    {
      "cell_type": "code",
      "execution_count": 21,
      "id": "e891b68c-5e31-4b6f-915f-f05f684529b4",
      "metadata": {
        "scrolled": true,
        "colab": {
          "base_uri": "https://localhost:8080/",
          "height": 1000
        },
        "id": "e891b68c-5e31-4b6f-915f-f05f684529b4",
        "outputId": "2b034f65-68ed-4ed6-ab64-f903a20cf5d5"
      },
      "outputs": [
        {
          "output_type": "display_data",
          "data": {
            "text/plain": [
              "[0.002266432624310255,\n",
              " 0.013617303222417831,\n",
              " 0.027773922309279442,\n",
              " -0.0174216590821743,\n",
              " -0.012639481574296951,\n",
              " -0.014180080965161324,\n",
              " -0.03305533528327942,\n",
              " 0.0796174556016922,\n",
              " -0.007120377849787474,\n",
              " 0.020291859284043312,\n",
              " -0.04019630700349808,\n",
              " -0.01538899540901184,\n",
              " 0.030922377482056618,\n",
              " 0.011547531001269817,\n",
              " -0.022810542955994606,\n",
              " 0.050305262207984924,\n",
              " 0.052210401743650436,\n",
              " -0.051781538873910904,\n",
              " 0.090920589864254,\n",
              " -0.05670025944709778,\n",
              " -0.014529856853187084,\n",
              " -0.043305572122335434,\n",
              " -0.0462927483022213,\n",
              " -0.03880772367119789,\n",
              " 0.04814833402633667,\n",
              " 0.02292833849787712,\n",
              " 0.10044553130865097,\n",
              " -0.008148678578436375,\n",
              " -0.016650674864649773,\n",
              " 0.03752529248595238,\n",
              " -0.054889827966690063,\n",
              " 0.0026361073832958937,\n",
              " 0.004633632954210043,\n",
              " -0.028779814019799232,\n",
              " -0.0026259757578372955,\n",
              " -0.0207726638764143,\n",
              " 0.11245278269052505,\n",
              " 0.01207745261490345,\n",
              " -0.054619476199150085,\n",
              " -0.08424900472164154,\n",
              " -0.00041691630030982196,\n",
              " 0.030957333743572235,\n",
              " -0.05956203490495682,\n",
              " 0.045170631259679794,\n",
              " 0.03815777227282524,\n",
              " 0.019883841276168823,\n",
              " -0.00768566457554698,\n",
              " 0.0021800361573696136,\n",
              " 0.08248269557952881,\n",
              " 0.05256107077002525,\n",
              " 0.001717310631647706,\n",
              " -0.07442807406187057,\n",
              " -0.006309364456683397,\n",
              " -0.0288162250071764,\n",
              " -0.06871853768825531,\n",
              " -0.041058070957660675,\n",
              " 0.057203471660614014,\n",
              " -0.02661547064781189,\n",
              " 0.032694630324840546,\n",
              " -0.05521542951464653,\n",
              " 0.039965663105249405,\n",
              " -0.05871446058154106,\n",
              " -0.04098142310976982,\n",
              " 0.009040901437401772,\n",
              " 0.06680269539356232,\n",
              " 0.014943967573344707,\n",
              " -0.00021551539248321205,\n",
              " 0.00861367117613554,\n",
              " 0.019574066624045372,\n",
              " 0.0320279523730278,\n",
              " -0.0902773067355156,\n",
              " -0.021240858361124992,\n",
              " 0.011734525673091412,\n",
              " 0.0441281720995903,\n",
              " -0.05774979293346405,\n",
              " -0.02461337298154831,\n",
              " 0.03924228250980377,\n",
              " -0.08463028073310852,\n",
              " 0.058709122240543365,\n",
              " 0.03526429831981659,\n",
              " -0.02476339042186737,\n",
              " 0.05552922561764717,\n",
              " -0.08573248237371445,\n",
              " 0.003981855697929859,\n",
              " 0.021345535293221474,\n",
              " -0.036235369741916656,\n",
              " -0.008214944042265415,\n",
              " -0.046108223497867584,\n",
              " 0.022407621145248413,\n",
              " -0.09059611707925797,\n",
              " 0.021147549152374268,\n",
              " -0.02834545448422432,\n",
              " 0.027848267927765846,\n",
              " -0.03281926363706589,\n",
              " 0.012924177572131157,\n",
              " -0.0032422691583633423,\n",
              " 0.042446523904800415,\n",
              " -0.020419299602508545,\n",
              " 0.006609255913645029,\n",
              " 0.029967021197080612,\n",
              " 0.039069343358278275,\n",
              " -0.06429621577262878,\n",
              " 0.12431178987026215,\n",
              " -0.0435662642121315,\n",
              " -0.07136408984661102,\n",
              " -0.005072654690593481,\n",
              " -0.004082836676388979,\n",
              " -0.00183401582762599,\n",
              " 0.004303139168769121,\n",
              " -0.024851225316524506,\n",
              " -0.08698003739118576,\n",
              " -0.04736551269888878,\n",
              " -0.11352473497390747,\n",
              " -0.028987962752580643,\n",
              " 0.00923854485154152,\n",
              " -0.04008439928293228,\n",
              " -0.018154054880142212,\n",
              " -0.0036401760298758745,\n",
              " 0.008372461423277855,\n",
              " 0.047588054090738297,\n",
              " 0.014191488735377789,\n",
              " -0.04818012937903404,\n",
              " 0.018908029422163963,\n",
              " 0.009628251194953918,\n",
              " 0.04033220186829567,\n",
              " -0.06503409892320633,\n",
              " -0.09049845486879349,\n",
              " 3.850410495056358e-34,\n",
              " -0.0047483243979513645,\n",
              " 0.11217525601387024,\n",
              " -0.08921778202056885,\n",
              " 0.020506829023361206,\n",
              " 0.056789860129356384,\n",
              " -0.006932253949344158,\n",
              " 0.060289155691862106,\n",
              " 0.05515846982598305,\n",
              " 0.010790776461362839,\n",
              " 0.07036449015140533,\n",
              " 0.00040826384793035686,\n",
              " 0.06807702779769897,\n",
              " -0.02227511815726757,\n",
              " 0.04765700921416283,\n",
              " 0.10740857571363449,\n",
              " -0.057591114193201065,\n",
              " 0.024395329877734184,\n",
              " 0.10793142020702362,\n",
              " 0.01402993779629469,\n",
              " -0.0061858044937253,\n",
              " -0.08780177682638168,\n",
              " -0.06443518400192261,\n",
              " 0.059426575899124146,\n",
              " -0.00864474382251501,\n",
              " 0.050184741616249084,\n",
              " -0.09215465933084488,\n",
              " 0.008106980472803116,\n",
              " -0.06700215488672256,\n",
              " 0.05578989535570145,\n",
              " -0.022991757839918137,\n",
              " 0.023857595399022102,\n",
              " -0.0397731252014637,\n",
              " 0.08971701562404633,\n",
              " -0.001074276166036725,\n",
              " 0.04756172373890877,\n",
              " 0.009068465791642666,\n",
              " -0.039700161665678024,\n",
              " -0.10312759876251221,\n",
              " 0.08290325850248337,\n",
              " 0.003586458507925272,\n",
              " -0.13073955476284027,\n",
              " 0.11169634759426117,\n",
              " 0.06942293792963028,\n",
              " -0.0720047801733017,\n",
              " 0.059468675404787064,\n",
              " -0.025378573685884476,\n",
              " -0.007496703881770372,\n",
              " 0.060064587742090225,\n",
              " -0.03385423496365547,\n",
              " 0.018428508192300797,\n",
              " -0.028322909027338028,\n",
              " 0.049227941781282425,\n",
              " 0.02018914744257927,\n",
              " 0.04047954082489014,\n",
              " -0.0640554279088974,\n",
              " -0.07093435525894165,\n",
              " 0.0809943675994873,\n",
              " -0.03513336181640625,\n",
              " 0.08041805028915405,\n",
              " 0.14483709633350372,\n",
              " -0.09993655234575272,\n",
              " 0.014617225155234337,\n",
              " -0.005413681268692017,\n",
              " -0.00837843306362629,\n",
              " -0.024958264082670212,\n",
              " 0.017897114157676697,\n",
              " 0.06417922675609589,\n",
              " 0.04489194601774216,\n",
              " -0.00030139266164042056,\n",
              " -0.015762299299240112,\n",
              " -0.012885063886642456,\n",
              " -0.07190777361392975,\n",
              " 0.06721971184015274,\n",
              " 0.006866205018013716,\n",
              " -0.023933930322527885,\n",
              " 0.07832472026348114,\n",
              " -0.07560350000858307,\n",
              " -0.10442376136779785,\n",
              " -0.11987698078155518,\n",
              " 0.03711874037981033,\n",
              " -0.07379885762929916,\n",
              " 0.03014313615858555,\n",
              " -0.041162099689245224,\n",
              " 0.06581956893205643,\n",
              " 0.03298662230372429,\n",
              " 0.06544125825166702,\n",
              " -0.002678572665899992,\n",
              " 0.07367445528507233,\n",
              " -0.07368024438619614,\n",
              " 0.011333391070365906,\n",
              " 0.031033359467983246,\n",
              " 0.051606692373752594,\n",
              " -0.03159601241350174,\n",
              " 0.03871509060263634,\n",
              " 0.04749415069818497,\n",
              " -3.3014160623139636e-34,\n",
              " -0.045789316296577454,\n",
              " -0.025622529909014702,\n",
              " 0.057459935545921326,\n",
              " 0.08249476552009583,\n",
              " 0.09958401322364807,\n",
              " 0.03003317303955555,\n",
              " 0.024630703032016754,\n",
              " -0.04523086175322533,\n",
              " 0.05712739750742912,\n",
              " 0.024433422833681107,\n",
              " -0.04806676134467125,\n",
              " -0.0030665865633636713,\n",
              " 0.050788212567567825,\n",
              " 0.06948424130678177,\n",
              " -0.04944602772593498,\n",
              " 0.026772981509566307,\n",
              " -0.03578004986047745,\n",
              " -0.0013295375974848866,\n",
              " 0.04147280752658844,\n",
              " -0.035497989505529404,\n",
              " -0.0017034253105521202,\n",
              " 0.11010077595710754,\n",
              " -0.03459161892533302,\n",
              " -0.07736910879611969,\n",
              " 0.02148912474513054,\n",
              " 0.029274286702275276,\n",
              " -0.10732224583625793,\n",
              " -0.016067661345005035,\n",
              " -0.03317372500896454,\n",
              " 0.034693971276283264,\n",
              " -0.07504182308912277,\n",
              " 0.019718142226338387,\n",
              " 0.014252899214625359,\n",
              " 0.06585542857646942,\n",
              " 0.08740339428186417,\n",
              " -0.0008802065276540816,\n",
              " 0.10089932382106781,\n",
              " 0.07451798766851425,\n",
              " -0.005837006028741598,\n",
              " 0.032674022018909454,\n",
              " 0.06980609148740768,\n",
              " 0.03484319522976875,\n",
              " 0.011333554051816463,\n",
              " 0.027552688494324684,\n",
              " -0.0033447695896029472,\n",
              " -0.03409866243600845,\n",
              " -0.09087175875902176,\n",
              " -0.01788521371781826,\n",
              " 0.016030406579375267,\n",
              " 0.006540797185152769,\n",
              " -0.025546874850988388,\n",
              " -0.049652036279439926,\n",
              " 0.05051567405462265,\n",
              " 0.01153353787958622,\n",
              " -0.06107432767748833,\n",
              " -0.05148700252175331,\n",
              " -0.016334721818566322,\n",
              " 0.07205268740653992,\n",
              " 0.029631083831191063,\n",
              " -0.0598754845559597,\n",
              " -0.04870451241731644,\n",
              " 0.0017253680853173137,\n",
              " 0.02204151079058647,\n",
              " 0.055167991667985916,\n",
              " -0.006757434457540512,\n",
              " 0.03306184709072113,\n",
              " 0.10177282989025116,\n",
              " 0.05561616271734238,\n",
              " -0.07677929103374481,\n",
              " -0.03481527045369148,\n",
              " -0.028206050395965576,\n",
              " 0.03257078304886818,\n",
              " 0.04795699194073677,\n",
              " -0.056959040462970734,\n",
              " -0.07783179730176926,\n",
              " 0.0743417963385582,\n",
              " 0.052284952253103256,\n",
              " -0.03238976374268532,\n",
              " 0.07265562564134598,\n",
              " 0.0432860367000103,\n",
              " -0.021040458232164383,\n",
              " -0.028900494799017906,\n",
              " -0.01954508386552334,\n",
              " -0.043159376829862595,\n",
              " -0.07159942388534546,\n",
              " -0.014454680494964123,\n",
              " -0.03578294813632965,\n",
              " -0.0952780619263649,\n",
              " -0.061229828745126724,\n",
              " -0.031612202525138855,\n",
              " -0.07889030873775482,\n",
              " -0.09055059403181076,\n",
              " 0.050341907888650894,\n",
              " -0.02217065542936325,\n",
              " -0.002729531144723296,\n",
              " -2.1281779893911335e-08,\n",
              " -0.005647020880132914,\n",
              " -0.012168491259217262,\n",
              " 0.004642088431864977,\n",
              " -0.011957548558712006,\n",
              " -0.029036520048975945,\n",
              " -0.06843115389347076,\n",
              " 0.008622259832918644,\n",
              " 0.01948670484125614,\n",
              " 0.03986276686191559,\n",
              " -0.00759974354878068,\n",
              " 0.09466483443975449,\n",
              " -0.13516272604465485,\n",
              " 0.033059801906347275,\n",
              " 0.016723942011594772,\n",
              " -0.02756068855524063,\n",
              " 0.02181326039135456,\n",
              " -0.020304827019572258,\n",
              " 0.07827737182378769,\n",
              " -0.08736228942871094,\n",
              " -0.02213592268526554,\n",
              " 0.002802466508001089,\n",
              " 0.050529588013887405,\n",
              " 0.0464588962495327,\n",
              " 0.01627681590616703,\n",
              " -0.0015032450901344419,\n",
              " -0.05707773566246033,\n",
              " 0.018663717433810234,\n",
              " 0.09960018843412399,\n",
              " -0.012778576463460922,\n",
              " 0.01923382095992565,\n",
              " -0.02993486449122429,\n",
              " -0.0024921726435422897,\n",
              " -0.006653743330389261,\n",
              " -0.033762503415346146,\n",
              " 0.01790275052189827,\n",
              " -0.07809115946292877,\n",
              " -0.09123685956001282,\n",
              " 0.05674620717763901,\n",
              " 0.0345967672765255,\n",
              " -0.01305144838988781,\n",
              " -0.006340108811855316,\n",
              " -0.004049363546073437,\n",
              " -0.05483904480934143,\n",
              " 0.013775233179330826,\n",
              " 0.0584220252931118,\n",
              " -0.08920864015817642,\n",
              " -0.12903839349746704,\n",
              " -0.051471415907144547,\n",
              " -0.005541658960282803,\n",
              " 0.024890204891562462,\n",
              " 0.003914286382496357,\n",
              " 0.02904771827161312,\n",
              " 0.005884654354304075,\n",
              " 0.012631858699023724,\n",
              " -0.0009202484507113695,\n",
              " 0.001983851892873645,\n",
              " -0.0010113670723512769,\n",
              " 0.034811943769454956,\n",
              " 0.011162670329213142,\n",
              " 0.09185004979372025,\n",
              " -0.03595951944589615,\n",
              " -0.03076826222240925,\n",
              " -0.027760514989495277,\n",
              " -0.017910528928041458]"
            ]
          },
          "metadata": {}
        }
      ],
      "source": [
        "customer_input = \"What equipement would you recommend for a computer workstation setup costing less than $2000?\"\n",
        "\n",
        "embedding = model.encode(customer_input).tolist()\n",
        "display(embedding)"
      ]
    },
    {
      "cell_type": "markdown",
      "id": "1036a24f-d527-410b-b73c-d2e191b792a5",
      "metadata": {
        "id": "1036a24f-d527-410b-b73c-d2e191b792a5"
      },
      "source": [
        "Let's take a look at what a query against a vector index could look like.  The query vector has the same dimensions (number of entries in the list) as the embeddings we generated a few steps ago for each row in the database."
      ]
    },
    {
      "cell_type": "code",
      "execution_count": 22,
      "id": "ed786879-c639-458c-84e4-b657b2fba9a1",
      "metadata": {
        "scrolled": true,
        "colab": {
          "base_uri": "https://localhost:8080/",
          "height": 937
        },
        "id": "ed786879-c639-458c-84e4-b657b2fba9a1",
        "outputId": "095d9d2c-68c3-4494-e0e9-1c519297bee0"
      },
      "outputs": [
        {
          "output_type": "display_data",
          "data": {
            "text/plain": [
              "<SimpleStatement query=\"\n",
              "    SELECT *\n",
              "    FROM vector_preview.products_table\n",
              "    ORDER BY minilm_description_embedding ANN OF [0.002266432624310255, 0.013617303222417831, 0.027773922309279442, -0.0174216590821743, -0.012639481574296951, -0.014180080965161324, -0.03305533528327942, 0.0796174556016922, -0.007120377849787474, 0.020291859284043312, -0.04019630700349808, -0.01538899540901184, 0.030922377482056618, 0.011547531001269817, -0.022810542955994606, 0.050305262207984924, 0.052210401743650436, -0.051781538873910904, 0.090920589864254, -0.05670025944709778, -0.014529856853187084, -0.043305572122335434, -0.0462927483022213, -0.03880772367119789, 0.04814833402633667, 0.02292833849787712, 0.10044553130865097, -0.008148678578436375, -0.016650674864649773, 0.03752529248595238, -0.054889827966690063, 0.0026361073832958937, 0.004633632954210043, -0.028779814019799232, -0.0026259757578372955, -0.0207726638764143, 0.11245278269052505, 0.01207745261490345, -0.054619476199150085, -0.08424900472164154, -0.00041691630030982196, 0.030957333743572235, -0.05956203490495682, 0.045170631259679794, 0.03815777227282524, 0.019883841276168823, -0.00768566457554698, 0.0021800361573696136, 0.08248269557952881, 0.05256107077002525, 0.001717310631647706, -0.07442807406187057, -0.006309364456683397, -0.0288162250071764, -0.06871853768825531, -0.041058070957660675, 0.057203471660614014, -0.02661547064781189, 0.032694630324840546, -0.05521542951464653, 0.039965663105249405, -0.05871446058154106, -0.04098142310976982, 0.009040901437401772, 0.06680269539356232, 0.014943967573344707, -0.00021551539248321205, 0.00861367117613554, 0.019574066624045372, 0.0320279523730278, -0.0902773067355156, -0.021240858361124992, 0.011734525673091412, 0.0441281720995903, -0.05774979293346405, -0.02461337298154831, 0.03924228250980377, -0.08463028073310852, 0.058709122240543365, 0.03526429831981659, -0.02476339042186737, 0.05552922561764717, -0.08573248237371445, 0.003981855697929859, 0.021345535293221474, -0.036235369741916656, -0.008214944042265415, -0.046108223497867584, 0.022407621145248413, -0.09059611707925797, 0.021147549152374268, -0.02834545448422432, 0.027848267927765846, -0.03281926363706589, 0.012924177572131157, -0.0032422691583633423, 0.042446523904800415, -0.020419299602508545, 0.006609255913645029, 0.029967021197080612, 0.039069343358278275, -0.06429621577262878, 0.12431178987026215, -0.0435662642121315, -0.07136408984661102, -0.005072654690593481, -0.004082836676388979, -0.00183401582762599, 0.004303139168769121, -0.024851225316524506, -0.08698003739118576, -0.04736551269888878, -0.11352473497390747, -0.028987962752580643, 0.00923854485154152, -0.04008439928293228, -0.018154054880142212, -0.0036401760298758745, 0.008372461423277855, 0.047588054090738297, 0.014191488735377789, -0.04818012937903404, 0.018908029422163963, 0.009628251194953918, 0.04033220186829567, -0.06503409892320633, -0.09049845486879349, 3.850410495056358e-34, -0.0047483243979513645, 0.11217525601387024, -0.08921778202056885, 0.020506829023361206, 0.056789860129356384, -0.006932253949344158, 0.060289155691862106, 0.05515846982598305, 0.010790776461362839, 0.07036449015140533, 0.00040826384793035686, 0.06807702779769897, -0.02227511815726757, 0.04765700921416283, 0.10740857571363449, -0.057591114193201065, 0.024395329877734184, 0.10793142020702362, 0.01402993779629469, -0.0061858044937253, -0.08780177682638168, -0.06443518400192261, 0.059426575899124146, -0.00864474382251501, 0.050184741616249084, -0.09215465933084488, 0.008106980472803116, -0.06700215488672256, 0.05578989535570145, -0.022991757839918137, 0.023857595399022102, -0.0397731252014637, 0.08971701562404633, -0.001074276166036725, 0.04756172373890877, 0.009068465791642666, -0.039700161665678024, -0.10312759876251221, 0.08290325850248337, 0.003586458507925272, -0.13073955476284027, 0.11169634759426117, 0.06942293792963028, -0.0720047801733017, 0.059468675404787064, -0.025378573685884476, -0.007496703881770372, 0.060064587742090225, -0.03385423496365547, 0.018428508192300797, -0.028322909027338028, 0.049227941781282425, 0.02018914744257927, 0.04047954082489014, -0.0640554279088974, -0.07093435525894165, 0.0809943675994873, -0.03513336181640625, 0.08041805028915405, 0.14483709633350372, -0.09993655234575272, 0.014617225155234337, -0.005413681268692017, -0.00837843306362629, -0.024958264082670212, 0.017897114157676697, 0.06417922675609589, 0.04489194601774216, -0.00030139266164042056, -0.015762299299240112, -0.012885063886642456, -0.07190777361392975, 0.06721971184015274, 0.006866205018013716, -0.023933930322527885, 0.07832472026348114, -0.07560350000858307, -0.10442376136779785, -0.11987698078155518, 0.03711874037981033, -0.07379885762929916, 0.03014313615858555, -0.041162099689245224, 0.06581956893205643, 0.03298662230372429, 0.06544125825166702, -0.002678572665899992, 0.07367445528507233, -0.07368024438619614, 0.011333391070365906, 0.031033359467983246, 0.051606692373752594, -0.03159601241350174, 0.03871509060263634, 0.04749415069818497, -3.3014160623139636e-34, -0.045789316296577454, -0.025622529909014702, 0.057459935545921326, 0.08249476552009583, 0.09958401322364807, 0.03003317303955555, 0.024630703032016754, -0.04523086175322533, 0.05712739750742912, 0.024433422833681107, -0.04806676134467125, -0.0030665865633636713, 0.050788212567567825, 0.06948424130678177, -0.04944602772593498, 0.026772981509566307, -0.03578004986047745, -0.0013295375974848866, 0.04147280752658844, -0.035497989505529404, -0.0017034253105521202, 0.11010077595710754, -0.03459161892533302, -0.07736910879611969, 0.02148912474513054, 0.029274286702275276, -0.10732224583625793, -0.016067661345005035, -0.03317372500896454, 0.034693971276283264, -0.07504182308912277, 0.019718142226338387, 0.014252899214625359, 0.06585542857646942, 0.08740339428186417, -0.0008802065276540816, 0.10089932382106781, 0.07451798766851425, -0.005837006028741598, 0.032674022018909454, 0.06980609148740768, 0.03484319522976875, 0.011333554051816463, 0.027552688494324684, -0.0033447695896029472, -0.03409866243600845, -0.09087175875902176, -0.01788521371781826, 0.016030406579375267, 0.006540797185152769, -0.025546874850988388, -0.049652036279439926, 0.05051567405462265, 0.01153353787958622, -0.06107432767748833, -0.05148700252175331, -0.016334721818566322, 0.07205268740653992, 0.029631083831191063, -0.0598754845559597, -0.04870451241731644, 0.0017253680853173137, 0.02204151079058647, 0.055167991667985916, -0.006757434457540512, 0.03306184709072113, 0.10177282989025116, 0.05561616271734238, -0.07677929103374481, -0.03481527045369148, -0.028206050395965576, 0.03257078304886818, 0.04795699194073677, -0.056959040462970734, -0.07783179730176926, 0.0743417963385582, 0.052284952253103256, -0.03238976374268532, 0.07265562564134598, 0.0432860367000103, -0.021040458232164383, -0.028900494799017906, -0.01954508386552334, -0.043159376829862595, -0.07159942388534546, -0.014454680494964123, -0.03578294813632965, -0.0952780619263649, -0.061229828745126724, -0.031612202525138855, -0.07889030873775482, -0.09055059403181076, 0.050341907888650894, -0.02217065542936325, -0.002729531144723296, -2.1281779893911335e-08, -0.005647020880132914, -0.012168491259217262, 0.004642088431864977, -0.011957548558712006, -0.029036520048975945, -0.06843115389347076, 0.008622259832918644, 0.01948670484125614, 0.03986276686191559, -0.00759974354878068, 0.09466483443975449, -0.13516272604465485, 0.033059801906347275, 0.016723942011594772, -0.02756068855524063, 0.02181326039135456, -0.020304827019572258, 0.07827737182378769, -0.08736228942871094, -0.02213592268526554, 0.002802466508001089, 0.050529588013887405, 0.0464588962495327, 0.01627681590616703, -0.0015032450901344419, -0.05707773566246033, 0.018663717433810234, 0.09960018843412399, -0.012778576463460922, 0.01923382095992565, -0.02993486449122429, -0.0024921726435422897, -0.006653743330389261, -0.033762503415346146, 0.01790275052189827, -0.07809115946292877, -0.09123685956001282, 0.05674620717763901, 0.0345967672765255, -0.01305144838988781, -0.006340108811855316, -0.004049363546073437, -0.05483904480934143, 0.013775233179330826, 0.0584220252931118, -0.08920864015817642, -0.12903839349746704, -0.051471415907144547, -0.005541658960282803, 0.024890204891562462, 0.003914286382496357, 0.02904771827161312, 0.005884654354304075, 0.012631858699023724, -0.0009202484507113695, 0.001983851892873645, -0.0010113670723512769, 0.034811943769454956, 0.011162670329213142, 0.09185004979372025, -0.03595951944589615, -0.03076826222240925, -0.027760514989495277, -0.017910528928041458] LIMIT 5;\n",
              "    \", consistency=Not Set>"
            ]
          },
          "metadata": {}
        }
      ],
      "source": [
        "query = SimpleStatement(\n",
        "    \"\"\"\n",
        "    SELECT *\n",
        "    FROM {}.products_table\n",
        "    ORDER BY minilm_description_embedding ANN OF {} LIMIT 5;\n",
        "    \"\"\".format(cass_keyspace,embedding)\n",
        "    )\n",
        "display(query)"
      ]
    },
    {
      "cell_type": "markdown",
      "id": "93edd66f-4ffc-4133-943e-b0266c704f49",
      "metadata": {
        "id": "93edd66f-4ffc-4133-943e-b0266c704f49"
      },
      "source": [
        "# Find the top 5 results using ANN Similarity"
      ]
    },
    {
      "cell_type": "code",
      "execution_count": 23,
      "id": "6be4acfe-bd54-462c-9f96-acae2228d633",
      "metadata": {
        "colab": {
          "base_uri": "https://localhost:8080/"
        },
        "id": "6be4acfe-bd54-462c-9f96-acae2228d633",
        "outputId": "f93777e5-7720-4432-bdd2-c25e281f810e"
      },
      "outputs": [
        {
          "output_type": "stream",
          "name": "stdout",
          "text": [
            "34697, LaCie 500GB d2 Quadra External Hard Drive - 301825U, LaCie 500GB d2 Quadra External Hard Drive - 301825U/ Quadruple Interface For Full PC And Mac Compatibility/ Interface Bandwidth Up To 3Gbits/s (eSATA)/ Advanced Aluminum Heat Sink Design Cooling System For Quiet Operation/ 7200 Rotational Speed (rpm)/ 16MB Cache/ Compatible With Time Machine, $159.00\n",
            "\n",
            "37811, Sony VAIO LV Series Silver All-In-One Desktop Computer - VGCLV150J, Sony VAIO LV Series Silver All-In-One Desktop Computer - VGCLV150J/ 2.53GHz Intel Core 2 Duo E7200 Processor/ 4GB Memory/ Built-In 1.3 MP MOTION EYE Camera And Microphone/ 500GB Serial ATA Hard Drive/ 24' XBRITE-Full HD LCD/ Integrated Stereo A2DP Bluetooth Technology/ Two Built-In 5.5 Watt Stereo Speakers/ Microsoft Windows Vista Home Premium 64-Bit/ Silver Finish, $1,899.00\n",
            "\n",
            "37293, Sony VAIO AW Series Titanium Grey Notebook Computer - VGNAW110JH, Sony VAIO AW Series Titanium Grey Notebook Computer - VGNAW110JH/ 2.26GHz Intel Core 2 Duo Processor P8400/ 18.4' (1680 x 945) XBRITE-ECO Widescreen Display/ 320GB Serial ATA 5400rpm Hard Drive/ Built-In 1.3 Megapixel MOTION EYE Camera And Microphone With Face-Tracking Technology/ 4GB PC2-6400 (2GBx2) Installed Memory/ Integrated Stereo A2DP Bluetooth/ Blu-ray Drive (Read Only)/ Titanium Grey Finish, \n",
            "\n",
            "37311, Sony VAIO CS Series White Notebook Computer - VGNCS180JW, Sony VAIO CS Series White Notebook Computer - VGNCS180JW/ 2.26GHz Intel Core 2 Duo Processor P8400/ 14.1' (1280 x 800) XBRITE-ECO Widescreen Display/ 320GB Serial ATA 5400rpm Hard Drive/ Built-In 1.3 Megapixel MOTION EYE Camera And Microphone/ 4GB PC2-6400 (2GBx2) Installed Memory/ Integrated Stereo A2DP Bluetooth/ 1066MHz Front Side Bus Speed/ 3MB L2 Cache/ Blu-ray Drive (Read Only)/ Genuine Microsoft Windows Vista Home Premium 64-Bit/ White Finish, \n",
            "\n",
            "37310, Sony VAIO CS Series Red Notebook Computer - VGNCS180JR, Sony VAIO CS Series Red Notebook Computer - VGNCS180JR/ 2.26GHz Intel Core 2 Duo Processor P8400/ 14.1' (1280 x 800) XBRITE-ECO Widescreen Display/ 320GB Serial ATA 5400rpm Hard Drive/ Built-In 1.3 Megapixel MOTION EYE Camera And Microphone/ 4GB PC2-6400 (2GBx2) Installed Memory/ Integrated Stereo A2DP Bluetooth/ 1066MHz Front Side Bus Speed/ 3MB L2 Cache/ Blu-ray Drive (Read Only)/ Genuine Microsoft Windows Vista Home Premium 64-Bit/ Red Finish, \n",
            "\n"
          ]
        }
      ],
      "source": [
        "results = session.execute(query)\n",
        "top_5_products = results._current_rows\n",
        "\n",
        "for row in top_5_products:\n",
        "  print(f\"\"\"{row.product_id}, {row.product_name}, {row.description}, {row.price}\\n\"\"\")"
      ]
    },
    {
      "cell_type": "code",
      "execution_count": null,
      "id": "ac53ce94-4c34-4523-8f86-55f3a62c8d1b",
      "metadata": {
        "id": "ac53ce94-4c34-4523-8f86-55f3a62c8d1b"
      },
      "outputs": [],
      "source": []
    }
  ],
  "metadata": {
    "kernelspec": {
      "display_name": "Python 3 (ipykernel)",
      "language": "python",
      "name": "python3"
    },
    "language_info": {
      "codemirror_mode": {
        "name": "ipython",
        "version": 3
      },
      "file_extension": ".py",
      "mimetype": "text/x-python",
      "name": "python",
      "nbconvert_exporter": "python",
      "pygments_lexer": "ipython3",
      "version": "3.10.6"
    },
    "colab": {
      "provenance": [],
      "include_colab_link": true
    },
    "widgets": {
      "application/vnd.jupyter.widget-state+json": {
        "d83991d9e9ce4046b3f69a2eb4436997": {
          "model_module": "@jupyter-widgets/controls",
          "model_name": "HBoxModel",
          "model_module_version": "1.5.0",
          "state": {
            "_dom_classes": [],
            "_model_module": "@jupyter-widgets/controls",
            "_model_module_version": "1.5.0",
            "_model_name": "HBoxModel",
            "_view_count": null,
            "_view_module": "@jupyter-widgets/controls",
            "_view_module_version": "1.5.0",
            "_view_name": "HBoxView",
            "box_style": "",
            "children": [
              "IPY_MODEL_398798d4895c4edb868df1bb9d2cd36c",
              "IPY_MODEL_48f73a1f70bc40c1b272c25b28571883",
              "IPY_MODEL_80425b6acdf94affbdd3ee1486113004"
            ],
            "layout": "IPY_MODEL_40c244b43aaa43389c59ab738cc7ea71"
          }
        },
        "398798d4895c4edb868df1bb9d2cd36c": {
          "model_module": "@jupyter-widgets/controls",
          "model_name": "HTMLModel",
          "model_module_version": "1.5.0",
          "state": {
            "_dom_classes": [],
            "_model_module": "@jupyter-widgets/controls",
            "_model_module_version": "1.5.0",
            "_model_name": "HTMLModel",
            "_view_count": null,
            "_view_module": "@jupyter-widgets/controls",
            "_view_module_version": "1.5.0",
            "_view_name": "HTMLView",
            "description": "",
            "description_tooltip": null,
            "layout": "IPY_MODEL_18b6a474ab95425c91c692435e5c7941",
            "placeholder": "​",
            "style": "IPY_MODEL_dfe0920747f949c083f89c6a3a4459dd",
            "value": "(…)f3d3c277d6e90027e55de9125/.gitattributes: 100%"
          }
        },
        "48f73a1f70bc40c1b272c25b28571883": {
          "model_module": "@jupyter-widgets/controls",
          "model_name": "FloatProgressModel",
          "model_module_version": "1.5.0",
          "state": {
            "_dom_classes": [],
            "_model_module": "@jupyter-widgets/controls",
            "_model_module_version": "1.5.0",
            "_model_name": "FloatProgressModel",
            "_view_count": null,
            "_view_module": "@jupyter-widgets/controls",
            "_view_module_version": "1.5.0",
            "_view_name": "ProgressView",
            "bar_style": "success",
            "description": "",
            "description_tooltip": null,
            "layout": "IPY_MODEL_bf4b784acccb439e965c6e0044968dfc",
            "max": 1175,
            "min": 0,
            "orientation": "horizontal",
            "style": "IPY_MODEL_5cc634f8adc64a43806f3ce92cc7dc83",
            "value": 1175
          }
        },
        "80425b6acdf94affbdd3ee1486113004": {
          "model_module": "@jupyter-widgets/controls",
          "model_name": "HTMLModel",
          "model_module_version": "1.5.0",
          "state": {
            "_dom_classes": [],
            "_model_module": "@jupyter-widgets/controls",
            "_model_module_version": "1.5.0",
            "_model_name": "HTMLModel",
            "_view_count": null,
            "_view_module": "@jupyter-widgets/controls",
            "_view_module_version": "1.5.0",
            "_view_name": "HTMLView",
            "description": "",
            "description_tooltip": null,
            "layout": "IPY_MODEL_9099f45c16e94452a2e9c40efb60b017",
            "placeholder": "​",
            "style": "IPY_MODEL_88e202ccc6f74f91a5612d0245362175",
            "value": " 1.18k/1.18k [00:00&lt;00:00, 33.8kB/s]"
          }
        },
        "40c244b43aaa43389c59ab738cc7ea71": {
          "model_module": "@jupyter-widgets/base",
          "model_name": "LayoutModel",
          "model_module_version": "1.2.0",
          "state": {
            "_model_module": "@jupyter-widgets/base",
            "_model_module_version": "1.2.0",
            "_model_name": "LayoutModel",
            "_view_count": null,
            "_view_module": "@jupyter-widgets/base",
            "_view_module_version": "1.2.0",
            "_view_name": "LayoutView",
            "align_content": null,
            "align_items": null,
            "align_self": null,
            "border": null,
            "bottom": null,
            "display": null,
            "flex": null,
            "flex_flow": null,
            "grid_area": null,
            "grid_auto_columns": null,
            "grid_auto_flow": null,
            "grid_auto_rows": null,
            "grid_column": null,
            "grid_gap": null,
            "grid_row": null,
            "grid_template_areas": null,
            "grid_template_columns": null,
            "grid_template_rows": null,
            "height": null,
            "justify_content": null,
            "justify_items": null,
            "left": null,
            "margin": null,
            "max_height": null,
            "max_width": null,
            "min_height": null,
            "min_width": null,
            "object_fit": null,
            "object_position": null,
            "order": null,
            "overflow": null,
            "overflow_x": null,
            "overflow_y": null,
            "padding": null,
            "right": null,
            "top": null,
            "visibility": null,
            "width": null
          }
        },
        "18b6a474ab95425c91c692435e5c7941": {
          "model_module": "@jupyter-widgets/base",
          "model_name": "LayoutModel",
          "model_module_version": "1.2.0",
          "state": {
            "_model_module": "@jupyter-widgets/base",
            "_model_module_version": "1.2.0",
            "_model_name": "LayoutModel",
            "_view_count": null,
            "_view_module": "@jupyter-widgets/base",
            "_view_module_version": "1.2.0",
            "_view_name": "LayoutView",
            "align_content": null,
            "align_items": null,
            "align_self": null,
            "border": null,
            "bottom": null,
            "display": null,
            "flex": null,
            "flex_flow": null,
            "grid_area": null,
            "grid_auto_columns": null,
            "grid_auto_flow": null,
            "grid_auto_rows": null,
            "grid_column": null,
            "grid_gap": null,
            "grid_row": null,
            "grid_template_areas": null,
            "grid_template_columns": null,
            "grid_template_rows": null,
            "height": null,
            "justify_content": null,
            "justify_items": null,
            "left": null,
            "margin": null,
            "max_height": null,
            "max_width": null,
            "min_height": null,
            "min_width": null,
            "object_fit": null,
            "object_position": null,
            "order": null,
            "overflow": null,
            "overflow_x": null,
            "overflow_y": null,
            "padding": null,
            "right": null,
            "top": null,
            "visibility": null,
            "width": null
          }
        },
        "dfe0920747f949c083f89c6a3a4459dd": {
          "model_module": "@jupyter-widgets/controls",
          "model_name": "DescriptionStyleModel",
          "model_module_version": "1.5.0",
          "state": {
            "_model_module": "@jupyter-widgets/controls",
            "_model_module_version": "1.5.0",
            "_model_name": "DescriptionStyleModel",
            "_view_count": null,
            "_view_module": "@jupyter-widgets/base",
            "_view_module_version": "1.2.0",
            "_view_name": "StyleView",
            "description_width": ""
          }
        },
        "bf4b784acccb439e965c6e0044968dfc": {
          "model_module": "@jupyter-widgets/base",
          "model_name": "LayoutModel",
          "model_module_version": "1.2.0",
          "state": {
            "_model_module": "@jupyter-widgets/base",
            "_model_module_version": "1.2.0",
            "_model_name": "LayoutModel",
            "_view_count": null,
            "_view_module": "@jupyter-widgets/base",
            "_view_module_version": "1.2.0",
            "_view_name": "LayoutView",
            "align_content": null,
            "align_items": null,
            "align_self": null,
            "border": null,
            "bottom": null,
            "display": null,
            "flex": null,
            "flex_flow": null,
            "grid_area": null,
            "grid_auto_columns": null,
            "grid_auto_flow": null,
            "grid_auto_rows": null,
            "grid_column": null,
            "grid_gap": null,
            "grid_row": null,
            "grid_template_areas": null,
            "grid_template_columns": null,
            "grid_template_rows": null,
            "height": null,
            "justify_content": null,
            "justify_items": null,
            "left": null,
            "margin": null,
            "max_height": null,
            "max_width": null,
            "min_height": null,
            "min_width": null,
            "object_fit": null,
            "object_position": null,
            "order": null,
            "overflow": null,
            "overflow_x": null,
            "overflow_y": null,
            "padding": null,
            "right": null,
            "top": null,
            "visibility": null,
            "width": null
          }
        },
        "5cc634f8adc64a43806f3ce92cc7dc83": {
          "model_module": "@jupyter-widgets/controls",
          "model_name": "ProgressStyleModel",
          "model_module_version": "1.5.0",
          "state": {
            "_model_module": "@jupyter-widgets/controls",
            "_model_module_version": "1.5.0",
            "_model_name": "ProgressStyleModel",
            "_view_count": null,
            "_view_module": "@jupyter-widgets/base",
            "_view_module_version": "1.2.0",
            "_view_name": "StyleView",
            "bar_color": null,
            "description_width": ""
          }
        },
        "9099f45c16e94452a2e9c40efb60b017": {
          "model_module": "@jupyter-widgets/base",
          "model_name": "LayoutModel",
          "model_module_version": "1.2.0",
          "state": {
            "_model_module": "@jupyter-widgets/base",
            "_model_module_version": "1.2.0",
            "_model_name": "LayoutModel",
            "_view_count": null,
            "_view_module": "@jupyter-widgets/base",
            "_view_module_version": "1.2.0",
            "_view_name": "LayoutView",
            "align_content": null,
            "align_items": null,
            "align_self": null,
            "border": null,
            "bottom": null,
            "display": null,
            "flex": null,
            "flex_flow": null,
            "grid_area": null,
            "grid_auto_columns": null,
            "grid_auto_flow": null,
            "grid_auto_rows": null,
            "grid_column": null,
            "grid_gap": null,
            "grid_row": null,
            "grid_template_areas": null,
            "grid_template_columns": null,
            "grid_template_rows": null,
            "height": null,
            "justify_content": null,
            "justify_items": null,
            "left": null,
            "margin": null,
            "max_height": null,
            "max_width": null,
            "min_height": null,
            "min_width": null,
            "object_fit": null,
            "object_position": null,
            "order": null,
            "overflow": null,
            "overflow_x": null,
            "overflow_y": null,
            "padding": null,
            "right": null,
            "top": null,
            "visibility": null,
            "width": null
          }
        },
        "88e202ccc6f74f91a5612d0245362175": {
          "model_module": "@jupyter-widgets/controls",
          "model_name": "DescriptionStyleModel",
          "model_module_version": "1.5.0",
          "state": {
            "_model_module": "@jupyter-widgets/controls",
            "_model_module_version": "1.5.0",
            "_model_name": "DescriptionStyleModel",
            "_view_count": null,
            "_view_module": "@jupyter-widgets/base",
            "_view_module_version": "1.2.0",
            "_view_name": "StyleView",
            "description_width": ""
          }
        },
        "04f482066eec458d83c85db37d9ea65b": {
          "model_module": "@jupyter-widgets/controls",
          "model_name": "HBoxModel",
          "model_module_version": "1.5.0",
          "state": {
            "_dom_classes": [],
            "_model_module": "@jupyter-widgets/controls",
            "_model_module_version": "1.5.0",
            "_model_name": "HBoxModel",
            "_view_count": null,
            "_view_module": "@jupyter-widgets/controls",
            "_view_module_version": "1.5.0",
            "_view_name": "HBoxView",
            "box_style": "",
            "children": [
              "IPY_MODEL_8dba8eb6dabd4e389c06ed85af1e71ac",
              "IPY_MODEL_02c2840399ee470fb4e52fe11806eb67",
              "IPY_MODEL_762d74423a0e4e2092ee835d0d66130a"
            ],
            "layout": "IPY_MODEL_d8033c06f11149619da0f17664a1a322"
          }
        },
        "8dba8eb6dabd4e389c06ed85af1e71ac": {
          "model_module": "@jupyter-widgets/controls",
          "model_name": "HTMLModel",
          "model_module_version": "1.5.0",
          "state": {
            "_dom_classes": [],
            "_model_module": "@jupyter-widgets/controls",
            "_model_module_version": "1.5.0",
            "_model_name": "HTMLModel",
            "_view_count": null,
            "_view_module": "@jupyter-widgets/controls",
            "_view_module_version": "1.5.0",
            "_view_name": "HTMLView",
            "description": "",
            "description_tooltip": null,
            "layout": "IPY_MODEL_8e4b2649887e426d91ca49fecf0dc2ba",
            "placeholder": "​",
            "style": "IPY_MODEL_4bfac0c51eb246dfae0e090ab5504306",
            "value": "(…)7d6e90027e55de9125/1_Pooling/config.json: 100%"
          }
        },
        "02c2840399ee470fb4e52fe11806eb67": {
          "model_module": "@jupyter-widgets/controls",
          "model_name": "FloatProgressModel",
          "model_module_version": "1.5.0",
          "state": {
            "_dom_classes": [],
            "_model_module": "@jupyter-widgets/controls",
            "_model_module_version": "1.5.0",
            "_model_name": "FloatProgressModel",
            "_view_count": null,
            "_view_module": "@jupyter-widgets/controls",
            "_view_module_version": "1.5.0",
            "_view_name": "ProgressView",
            "bar_style": "success",
            "description": "",
            "description_tooltip": null,
            "layout": "IPY_MODEL_1bcaa00b0a4d405e969940685148b081",
            "max": 190,
            "min": 0,
            "orientation": "horizontal",
            "style": "IPY_MODEL_c8cd26b586aa4c1f965480052cafaa87",
            "value": 190
          }
        },
        "762d74423a0e4e2092ee835d0d66130a": {
          "model_module": "@jupyter-widgets/controls",
          "model_name": "HTMLModel",
          "model_module_version": "1.5.0",
          "state": {
            "_dom_classes": [],
            "_model_module": "@jupyter-widgets/controls",
            "_model_module_version": "1.5.0",
            "_model_name": "HTMLModel",
            "_view_count": null,
            "_view_module": "@jupyter-widgets/controls",
            "_view_module_version": "1.5.0",
            "_view_name": "HTMLView",
            "description": "",
            "description_tooltip": null,
            "layout": "IPY_MODEL_5d40e4787f33401b81e833651de27e68",
            "placeholder": "​",
            "style": "IPY_MODEL_d0e913c0b15d4c3592ca6b0503c6664e",
            "value": " 190/190 [00:00&lt;00:00, 7.92kB/s]"
          }
        },
        "d8033c06f11149619da0f17664a1a322": {
          "model_module": "@jupyter-widgets/base",
          "model_name": "LayoutModel",
          "model_module_version": "1.2.0",
          "state": {
            "_model_module": "@jupyter-widgets/base",
            "_model_module_version": "1.2.0",
            "_model_name": "LayoutModel",
            "_view_count": null,
            "_view_module": "@jupyter-widgets/base",
            "_view_module_version": "1.2.0",
            "_view_name": "LayoutView",
            "align_content": null,
            "align_items": null,
            "align_self": null,
            "border": null,
            "bottom": null,
            "display": null,
            "flex": null,
            "flex_flow": null,
            "grid_area": null,
            "grid_auto_columns": null,
            "grid_auto_flow": null,
            "grid_auto_rows": null,
            "grid_column": null,
            "grid_gap": null,
            "grid_row": null,
            "grid_template_areas": null,
            "grid_template_columns": null,
            "grid_template_rows": null,
            "height": null,
            "justify_content": null,
            "justify_items": null,
            "left": null,
            "margin": null,
            "max_height": null,
            "max_width": null,
            "min_height": null,
            "min_width": null,
            "object_fit": null,
            "object_position": null,
            "order": null,
            "overflow": null,
            "overflow_x": null,
            "overflow_y": null,
            "padding": null,
            "right": null,
            "top": null,
            "visibility": null,
            "width": null
          }
        },
        "8e4b2649887e426d91ca49fecf0dc2ba": {
          "model_module": "@jupyter-widgets/base",
          "model_name": "LayoutModel",
          "model_module_version": "1.2.0",
          "state": {
            "_model_module": "@jupyter-widgets/base",
            "_model_module_version": "1.2.0",
            "_model_name": "LayoutModel",
            "_view_count": null,
            "_view_module": "@jupyter-widgets/base",
            "_view_module_version": "1.2.0",
            "_view_name": "LayoutView",
            "align_content": null,
            "align_items": null,
            "align_self": null,
            "border": null,
            "bottom": null,
            "display": null,
            "flex": null,
            "flex_flow": null,
            "grid_area": null,
            "grid_auto_columns": null,
            "grid_auto_flow": null,
            "grid_auto_rows": null,
            "grid_column": null,
            "grid_gap": null,
            "grid_row": null,
            "grid_template_areas": null,
            "grid_template_columns": null,
            "grid_template_rows": null,
            "height": null,
            "justify_content": null,
            "justify_items": null,
            "left": null,
            "margin": null,
            "max_height": null,
            "max_width": null,
            "min_height": null,
            "min_width": null,
            "object_fit": null,
            "object_position": null,
            "order": null,
            "overflow": null,
            "overflow_x": null,
            "overflow_y": null,
            "padding": null,
            "right": null,
            "top": null,
            "visibility": null,
            "width": null
          }
        },
        "4bfac0c51eb246dfae0e090ab5504306": {
          "model_module": "@jupyter-widgets/controls",
          "model_name": "DescriptionStyleModel",
          "model_module_version": "1.5.0",
          "state": {
            "_model_module": "@jupyter-widgets/controls",
            "_model_module_version": "1.5.0",
            "_model_name": "DescriptionStyleModel",
            "_view_count": null,
            "_view_module": "@jupyter-widgets/base",
            "_view_module_version": "1.2.0",
            "_view_name": "StyleView",
            "description_width": ""
          }
        },
        "1bcaa00b0a4d405e969940685148b081": {
          "model_module": "@jupyter-widgets/base",
          "model_name": "LayoutModel",
          "model_module_version": "1.2.0",
          "state": {
            "_model_module": "@jupyter-widgets/base",
            "_model_module_version": "1.2.0",
            "_model_name": "LayoutModel",
            "_view_count": null,
            "_view_module": "@jupyter-widgets/base",
            "_view_module_version": "1.2.0",
            "_view_name": "LayoutView",
            "align_content": null,
            "align_items": null,
            "align_self": null,
            "border": null,
            "bottom": null,
            "display": null,
            "flex": null,
            "flex_flow": null,
            "grid_area": null,
            "grid_auto_columns": null,
            "grid_auto_flow": null,
            "grid_auto_rows": null,
            "grid_column": null,
            "grid_gap": null,
            "grid_row": null,
            "grid_template_areas": null,
            "grid_template_columns": null,
            "grid_template_rows": null,
            "height": null,
            "justify_content": null,
            "justify_items": null,
            "left": null,
            "margin": null,
            "max_height": null,
            "max_width": null,
            "min_height": null,
            "min_width": null,
            "object_fit": null,
            "object_position": null,
            "order": null,
            "overflow": null,
            "overflow_x": null,
            "overflow_y": null,
            "padding": null,
            "right": null,
            "top": null,
            "visibility": null,
            "width": null
          }
        },
        "c8cd26b586aa4c1f965480052cafaa87": {
          "model_module": "@jupyter-widgets/controls",
          "model_name": "ProgressStyleModel",
          "model_module_version": "1.5.0",
          "state": {
            "_model_module": "@jupyter-widgets/controls",
            "_model_module_version": "1.5.0",
            "_model_name": "ProgressStyleModel",
            "_view_count": null,
            "_view_module": "@jupyter-widgets/base",
            "_view_module_version": "1.2.0",
            "_view_name": "StyleView",
            "bar_color": null,
            "description_width": ""
          }
        },
        "5d40e4787f33401b81e833651de27e68": {
          "model_module": "@jupyter-widgets/base",
          "model_name": "LayoutModel",
          "model_module_version": "1.2.0",
          "state": {
            "_model_module": "@jupyter-widgets/base",
            "_model_module_version": "1.2.0",
            "_model_name": "LayoutModel",
            "_view_count": null,
            "_view_module": "@jupyter-widgets/base",
            "_view_module_version": "1.2.0",
            "_view_name": "LayoutView",
            "align_content": null,
            "align_items": null,
            "align_self": null,
            "border": null,
            "bottom": null,
            "display": null,
            "flex": null,
            "flex_flow": null,
            "grid_area": null,
            "grid_auto_columns": null,
            "grid_auto_flow": null,
            "grid_auto_rows": null,
            "grid_column": null,
            "grid_gap": null,
            "grid_row": null,
            "grid_template_areas": null,
            "grid_template_columns": null,
            "grid_template_rows": null,
            "height": null,
            "justify_content": null,
            "justify_items": null,
            "left": null,
            "margin": null,
            "max_height": null,
            "max_width": null,
            "min_height": null,
            "min_width": null,
            "object_fit": null,
            "object_position": null,
            "order": null,
            "overflow": null,
            "overflow_x": null,
            "overflow_y": null,
            "padding": null,
            "right": null,
            "top": null,
            "visibility": null,
            "width": null
          }
        },
        "d0e913c0b15d4c3592ca6b0503c6664e": {
          "model_module": "@jupyter-widgets/controls",
          "model_name": "DescriptionStyleModel",
          "model_module_version": "1.5.0",
          "state": {
            "_model_module": "@jupyter-widgets/controls",
            "_model_module_version": "1.5.0",
            "_model_name": "DescriptionStyleModel",
            "_view_count": null,
            "_view_module": "@jupyter-widgets/base",
            "_view_module_version": "1.2.0",
            "_view_name": "StyleView",
            "description_width": ""
          }
        },
        "6cdb1214eed04038a61515e8ff4e3c92": {
          "model_module": "@jupyter-widgets/controls",
          "model_name": "HBoxModel",
          "model_module_version": "1.5.0",
          "state": {
            "_dom_classes": [],
            "_model_module": "@jupyter-widgets/controls",
            "_model_module_version": "1.5.0",
            "_model_name": "HBoxModel",
            "_view_count": null,
            "_view_module": "@jupyter-widgets/controls",
            "_view_module_version": "1.5.0",
            "_view_name": "HBoxView",
            "box_style": "",
            "children": [
              "IPY_MODEL_e5f0dc4d2cac41f7875d25f65d082e01",
              "IPY_MODEL_386b7dbd28e04228903d9be7a7c6d769",
              "IPY_MODEL_cb92cd20a7df49538824dea0cbadd841"
            ],
            "layout": "IPY_MODEL_379855733838463c81cd29317b9a5621"
          }
        },
        "e5f0dc4d2cac41f7875d25f65d082e01": {
          "model_module": "@jupyter-widgets/controls",
          "model_name": "HTMLModel",
          "model_module_version": "1.5.0",
          "state": {
            "_dom_classes": [],
            "_model_module": "@jupyter-widgets/controls",
            "_model_module_version": "1.5.0",
            "_model_name": "HTMLModel",
            "_view_count": null,
            "_view_module": "@jupyter-widgets/controls",
            "_view_module_version": "1.5.0",
            "_view_name": "HTMLView",
            "description": "",
            "description_tooltip": null,
            "layout": "IPY_MODEL_90b46b804913413f8b7fffc1dbc1f25d",
            "placeholder": "​",
            "style": "IPY_MODEL_2fe8696adab34f35ab765a67721fe324",
            "value": "(…)e2f80f3d3c277d6e90027e55de9125/README.md: 100%"
          }
        },
        "386b7dbd28e04228903d9be7a7c6d769": {
          "model_module": "@jupyter-widgets/controls",
          "model_name": "FloatProgressModel",
          "model_module_version": "1.5.0",
          "state": {
            "_dom_classes": [],
            "_model_module": "@jupyter-widgets/controls",
            "_model_module_version": "1.5.0",
            "_model_name": "FloatProgressModel",
            "_view_count": null,
            "_view_module": "@jupyter-widgets/controls",
            "_view_module_version": "1.5.0",
            "_view_name": "ProgressView",
            "bar_style": "success",
            "description": "",
            "description_tooltip": null,
            "layout": "IPY_MODEL_3b19b1dfedf4476ab214cfd09c4528ce",
            "max": 10610,
            "min": 0,
            "orientation": "horizontal",
            "style": "IPY_MODEL_89575e680d084ba89a4c07532ca885e0",
            "value": 10610
          }
        },
        "cb92cd20a7df49538824dea0cbadd841": {
          "model_module": "@jupyter-widgets/controls",
          "model_name": "HTMLModel",
          "model_module_version": "1.5.0",
          "state": {
            "_dom_classes": [],
            "_model_module": "@jupyter-widgets/controls",
            "_model_module_version": "1.5.0",
            "_model_name": "HTMLModel",
            "_view_count": null,
            "_view_module": "@jupyter-widgets/controls",
            "_view_module_version": "1.5.0",
            "_view_name": "HTMLView",
            "description": "",
            "description_tooltip": null,
            "layout": "IPY_MODEL_64e36d867ef2403cb83fcd98eefe8d56",
            "placeholder": "​",
            "style": "IPY_MODEL_6d196552f106427481e594dace1ecc6a",
            "value": " 10.6k/10.6k [00:00&lt;00:00, 445kB/s]"
          }
        },
        "379855733838463c81cd29317b9a5621": {
          "model_module": "@jupyter-widgets/base",
          "model_name": "LayoutModel",
          "model_module_version": "1.2.0",
          "state": {
            "_model_module": "@jupyter-widgets/base",
            "_model_module_version": "1.2.0",
            "_model_name": "LayoutModel",
            "_view_count": null,
            "_view_module": "@jupyter-widgets/base",
            "_view_module_version": "1.2.0",
            "_view_name": "LayoutView",
            "align_content": null,
            "align_items": null,
            "align_self": null,
            "border": null,
            "bottom": null,
            "display": null,
            "flex": null,
            "flex_flow": null,
            "grid_area": null,
            "grid_auto_columns": null,
            "grid_auto_flow": null,
            "grid_auto_rows": null,
            "grid_column": null,
            "grid_gap": null,
            "grid_row": null,
            "grid_template_areas": null,
            "grid_template_columns": null,
            "grid_template_rows": null,
            "height": null,
            "justify_content": null,
            "justify_items": null,
            "left": null,
            "margin": null,
            "max_height": null,
            "max_width": null,
            "min_height": null,
            "min_width": null,
            "object_fit": null,
            "object_position": null,
            "order": null,
            "overflow": null,
            "overflow_x": null,
            "overflow_y": null,
            "padding": null,
            "right": null,
            "top": null,
            "visibility": null,
            "width": null
          }
        },
        "90b46b804913413f8b7fffc1dbc1f25d": {
          "model_module": "@jupyter-widgets/base",
          "model_name": "LayoutModel",
          "model_module_version": "1.2.0",
          "state": {
            "_model_module": "@jupyter-widgets/base",
            "_model_module_version": "1.2.0",
            "_model_name": "LayoutModel",
            "_view_count": null,
            "_view_module": "@jupyter-widgets/base",
            "_view_module_version": "1.2.0",
            "_view_name": "LayoutView",
            "align_content": null,
            "align_items": null,
            "align_self": null,
            "border": null,
            "bottom": null,
            "display": null,
            "flex": null,
            "flex_flow": null,
            "grid_area": null,
            "grid_auto_columns": null,
            "grid_auto_flow": null,
            "grid_auto_rows": null,
            "grid_column": null,
            "grid_gap": null,
            "grid_row": null,
            "grid_template_areas": null,
            "grid_template_columns": null,
            "grid_template_rows": null,
            "height": null,
            "justify_content": null,
            "justify_items": null,
            "left": null,
            "margin": null,
            "max_height": null,
            "max_width": null,
            "min_height": null,
            "min_width": null,
            "object_fit": null,
            "object_position": null,
            "order": null,
            "overflow": null,
            "overflow_x": null,
            "overflow_y": null,
            "padding": null,
            "right": null,
            "top": null,
            "visibility": null,
            "width": null
          }
        },
        "2fe8696adab34f35ab765a67721fe324": {
          "model_module": "@jupyter-widgets/controls",
          "model_name": "DescriptionStyleModel",
          "model_module_version": "1.5.0",
          "state": {
            "_model_module": "@jupyter-widgets/controls",
            "_model_module_version": "1.5.0",
            "_model_name": "DescriptionStyleModel",
            "_view_count": null,
            "_view_module": "@jupyter-widgets/base",
            "_view_module_version": "1.2.0",
            "_view_name": "StyleView",
            "description_width": ""
          }
        },
        "3b19b1dfedf4476ab214cfd09c4528ce": {
          "model_module": "@jupyter-widgets/base",
          "model_name": "LayoutModel",
          "model_module_version": "1.2.0",
          "state": {
            "_model_module": "@jupyter-widgets/base",
            "_model_module_version": "1.2.0",
            "_model_name": "LayoutModel",
            "_view_count": null,
            "_view_module": "@jupyter-widgets/base",
            "_view_module_version": "1.2.0",
            "_view_name": "LayoutView",
            "align_content": null,
            "align_items": null,
            "align_self": null,
            "border": null,
            "bottom": null,
            "display": null,
            "flex": null,
            "flex_flow": null,
            "grid_area": null,
            "grid_auto_columns": null,
            "grid_auto_flow": null,
            "grid_auto_rows": null,
            "grid_column": null,
            "grid_gap": null,
            "grid_row": null,
            "grid_template_areas": null,
            "grid_template_columns": null,
            "grid_template_rows": null,
            "height": null,
            "justify_content": null,
            "justify_items": null,
            "left": null,
            "margin": null,
            "max_height": null,
            "max_width": null,
            "min_height": null,
            "min_width": null,
            "object_fit": null,
            "object_position": null,
            "order": null,
            "overflow": null,
            "overflow_x": null,
            "overflow_y": null,
            "padding": null,
            "right": null,
            "top": null,
            "visibility": null,
            "width": null
          }
        },
        "89575e680d084ba89a4c07532ca885e0": {
          "model_module": "@jupyter-widgets/controls",
          "model_name": "ProgressStyleModel",
          "model_module_version": "1.5.0",
          "state": {
            "_model_module": "@jupyter-widgets/controls",
            "_model_module_version": "1.5.0",
            "_model_name": "ProgressStyleModel",
            "_view_count": null,
            "_view_module": "@jupyter-widgets/base",
            "_view_module_version": "1.2.0",
            "_view_name": "StyleView",
            "bar_color": null,
            "description_width": ""
          }
        },
        "64e36d867ef2403cb83fcd98eefe8d56": {
          "model_module": "@jupyter-widgets/base",
          "model_name": "LayoutModel",
          "model_module_version": "1.2.0",
          "state": {
            "_model_module": "@jupyter-widgets/base",
            "_model_module_version": "1.2.0",
            "_model_name": "LayoutModel",
            "_view_count": null,
            "_view_module": "@jupyter-widgets/base",
            "_view_module_version": "1.2.0",
            "_view_name": "LayoutView",
            "align_content": null,
            "align_items": null,
            "align_self": null,
            "border": null,
            "bottom": null,
            "display": null,
            "flex": null,
            "flex_flow": null,
            "grid_area": null,
            "grid_auto_columns": null,
            "grid_auto_flow": null,
            "grid_auto_rows": null,
            "grid_column": null,
            "grid_gap": null,
            "grid_row": null,
            "grid_template_areas": null,
            "grid_template_columns": null,
            "grid_template_rows": null,
            "height": null,
            "justify_content": null,
            "justify_items": null,
            "left": null,
            "margin": null,
            "max_height": null,
            "max_width": null,
            "min_height": null,
            "min_width": null,
            "object_fit": null,
            "object_position": null,
            "order": null,
            "overflow": null,
            "overflow_x": null,
            "overflow_y": null,
            "padding": null,
            "right": null,
            "top": null,
            "visibility": null,
            "width": null
          }
        },
        "6d196552f106427481e594dace1ecc6a": {
          "model_module": "@jupyter-widgets/controls",
          "model_name": "DescriptionStyleModel",
          "model_module_version": "1.5.0",
          "state": {
            "_model_module": "@jupyter-widgets/controls",
            "_model_module_version": "1.5.0",
            "_model_name": "DescriptionStyleModel",
            "_view_count": null,
            "_view_module": "@jupyter-widgets/base",
            "_view_module_version": "1.2.0",
            "_view_name": "StyleView",
            "description_width": ""
          }
        },
        "0b914cb1dc66482fb742212a041039bc": {
          "model_module": "@jupyter-widgets/controls",
          "model_name": "HBoxModel",
          "model_module_version": "1.5.0",
          "state": {
            "_dom_classes": [],
            "_model_module": "@jupyter-widgets/controls",
            "_model_module_version": "1.5.0",
            "_model_name": "HBoxModel",
            "_view_count": null,
            "_view_module": "@jupyter-widgets/controls",
            "_view_module_version": "1.5.0",
            "_view_name": "HBoxView",
            "box_style": "",
            "children": [
              "IPY_MODEL_555d66e9e1ff456aab2836d1f58857cd",
              "IPY_MODEL_aed2ecadf79446989fcde813f3b3a57f",
              "IPY_MODEL_ba4103f391534f49a20f69b393e3ba70"
            ],
            "layout": "IPY_MODEL_e883bdc2ec7a4b46b9d7ef3186d2d14b"
          }
        },
        "555d66e9e1ff456aab2836d1f58857cd": {
          "model_module": "@jupyter-widgets/controls",
          "model_name": "HTMLModel",
          "model_module_version": "1.5.0",
          "state": {
            "_dom_classes": [],
            "_model_module": "@jupyter-widgets/controls",
            "_model_module_version": "1.5.0",
            "_model_name": "HTMLModel",
            "_view_count": null,
            "_view_module": "@jupyter-widgets/controls",
            "_view_module_version": "1.5.0",
            "_view_name": "HTMLView",
            "description": "",
            "description_tooltip": null,
            "layout": "IPY_MODEL_1ab652415dcb430cb751ceec45632d86",
            "placeholder": "​",
            "style": "IPY_MODEL_a0dbc32e15284734b6638977a24c5897",
            "value": "(…)f80f3d3c277d6e90027e55de9125/config.json: 100%"
          }
        },
        "aed2ecadf79446989fcde813f3b3a57f": {
          "model_module": "@jupyter-widgets/controls",
          "model_name": "FloatProgressModel",
          "model_module_version": "1.5.0",
          "state": {
            "_dom_classes": [],
            "_model_module": "@jupyter-widgets/controls",
            "_model_module_version": "1.5.0",
            "_model_name": "FloatProgressModel",
            "_view_count": null,
            "_view_module": "@jupyter-widgets/controls",
            "_view_module_version": "1.5.0",
            "_view_name": "ProgressView",
            "bar_style": "success",
            "description": "",
            "description_tooltip": null,
            "layout": "IPY_MODEL_1d711d6062f74879b9683c4fb8b00e6a",
            "max": 612,
            "min": 0,
            "orientation": "horizontal",
            "style": "IPY_MODEL_fbf317c54b044eff9453cc41e7878647",
            "value": 612
          }
        },
        "ba4103f391534f49a20f69b393e3ba70": {
          "model_module": "@jupyter-widgets/controls",
          "model_name": "HTMLModel",
          "model_module_version": "1.5.0",
          "state": {
            "_dom_classes": [],
            "_model_module": "@jupyter-widgets/controls",
            "_model_module_version": "1.5.0",
            "_model_name": "HTMLModel",
            "_view_count": null,
            "_view_module": "@jupyter-widgets/controls",
            "_view_module_version": "1.5.0",
            "_view_name": "HTMLView",
            "description": "",
            "description_tooltip": null,
            "layout": "IPY_MODEL_c2ab4fca4b7f4d6086e59a9a4ddff3b8",
            "placeholder": "​",
            "style": "IPY_MODEL_1b1ddd7cae4646b7b15f8620cdaa8c36",
            "value": " 612/612 [00:00&lt;00:00, 32.3kB/s]"
          }
        },
        "e883bdc2ec7a4b46b9d7ef3186d2d14b": {
          "model_module": "@jupyter-widgets/base",
          "model_name": "LayoutModel",
          "model_module_version": "1.2.0",
          "state": {
            "_model_module": "@jupyter-widgets/base",
            "_model_module_version": "1.2.0",
            "_model_name": "LayoutModel",
            "_view_count": null,
            "_view_module": "@jupyter-widgets/base",
            "_view_module_version": "1.2.0",
            "_view_name": "LayoutView",
            "align_content": null,
            "align_items": null,
            "align_self": null,
            "border": null,
            "bottom": null,
            "display": null,
            "flex": null,
            "flex_flow": null,
            "grid_area": null,
            "grid_auto_columns": null,
            "grid_auto_flow": null,
            "grid_auto_rows": null,
            "grid_column": null,
            "grid_gap": null,
            "grid_row": null,
            "grid_template_areas": null,
            "grid_template_columns": null,
            "grid_template_rows": null,
            "height": null,
            "justify_content": null,
            "justify_items": null,
            "left": null,
            "margin": null,
            "max_height": null,
            "max_width": null,
            "min_height": null,
            "min_width": null,
            "object_fit": null,
            "object_position": null,
            "order": null,
            "overflow": null,
            "overflow_x": null,
            "overflow_y": null,
            "padding": null,
            "right": null,
            "top": null,
            "visibility": null,
            "width": null
          }
        },
        "1ab652415dcb430cb751ceec45632d86": {
          "model_module": "@jupyter-widgets/base",
          "model_name": "LayoutModel",
          "model_module_version": "1.2.0",
          "state": {
            "_model_module": "@jupyter-widgets/base",
            "_model_module_version": "1.2.0",
            "_model_name": "LayoutModel",
            "_view_count": null,
            "_view_module": "@jupyter-widgets/base",
            "_view_module_version": "1.2.0",
            "_view_name": "LayoutView",
            "align_content": null,
            "align_items": null,
            "align_self": null,
            "border": null,
            "bottom": null,
            "display": null,
            "flex": null,
            "flex_flow": null,
            "grid_area": null,
            "grid_auto_columns": null,
            "grid_auto_flow": null,
            "grid_auto_rows": null,
            "grid_column": null,
            "grid_gap": null,
            "grid_row": null,
            "grid_template_areas": null,
            "grid_template_columns": null,
            "grid_template_rows": null,
            "height": null,
            "justify_content": null,
            "justify_items": null,
            "left": null,
            "margin": null,
            "max_height": null,
            "max_width": null,
            "min_height": null,
            "min_width": null,
            "object_fit": null,
            "object_position": null,
            "order": null,
            "overflow": null,
            "overflow_x": null,
            "overflow_y": null,
            "padding": null,
            "right": null,
            "top": null,
            "visibility": null,
            "width": null
          }
        },
        "a0dbc32e15284734b6638977a24c5897": {
          "model_module": "@jupyter-widgets/controls",
          "model_name": "DescriptionStyleModel",
          "model_module_version": "1.5.0",
          "state": {
            "_model_module": "@jupyter-widgets/controls",
            "_model_module_version": "1.5.0",
            "_model_name": "DescriptionStyleModel",
            "_view_count": null,
            "_view_module": "@jupyter-widgets/base",
            "_view_module_version": "1.2.0",
            "_view_name": "StyleView",
            "description_width": ""
          }
        },
        "1d711d6062f74879b9683c4fb8b00e6a": {
          "model_module": "@jupyter-widgets/base",
          "model_name": "LayoutModel",
          "model_module_version": "1.2.0",
          "state": {
            "_model_module": "@jupyter-widgets/base",
            "_model_module_version": "1.2.0",
            "_model_name": "LayoutModel",
            "_view_count": null,
            "_view_module": "@jupyter-widgets/base",
            "_view_module_version": "1.2.0",
            "_view_name": "LayoutView",
            "align_content": null,
            "align_items": null,
            "align_self": null,
            "border": null,
            "bottom": null,
            "display": null,
            "flex": null,
            "flex_flow": null,
            "grid_area": null,
            "grid_auto_columns": null,
            "grid_auto_flow": null,
            "grid_auto_rows": null,
            "grid_column": null,
            "grid_gap": null,
            "grid_row": null,
            "grid_template_areas": null,
            "grid_template_columns": null,
            "grid_template_rows": null,
            "height": null,
            "justify_content": null,
            "justify_items": null,
            "left": null,
            "margin": null,
            "max_height": null,
            "max_width": null,
            "min_height": null,
            "min_width": null,
            "object_fit": null,
            "object_position": null,
            "order": null,
            "overflow": null,
            "overflow_x": null,
            "overflow_y": null,
            "padding": null,
            "right": null,
            "top": null,
            "visibility": null,
            "width": null
          }
        },
        "fbf317c54b044eff9453cc41e7878647": {
          "model_module": "@jupyter-widgets/controls",
          "model_name": "ProgressStyleModel",
          "model_module_version": "1.5.0",
          "state": {
            "_model_module": "@jupyter-widgets/controls",
            "_model_module_version": "1.5.0",
            "_model_name": "ProgressStyleModel",
            "_view_count": null,
            "_view_module": "@jupyter-widgets/base",
            "_view_module_version": "1.2.0",
            "_view_name": "StyleView",
            "bar_color": null,
            "description_width": ""
          }
        },
        "c2ab4fca4b7f4d6086e59a9a4ddff3b8": {
          "model_module": "@jupyter-widgets/base",
          "model_name": "LayoutModel",
          "model_module_version": "1.2.0",
          "state": {
            "_model_module": "@jupyter-widgets/base",
            "_model_module_version": "1.2.0",
            "_model_name": "LayoutModel",
            "_view_count": null,
            "_view_module": "@jupyter-widgets/base",
            "_view_module_version": "1.2.0",
            "_view_name": "LayoutView",
            "align_content": null,
            "align_items": null,
            "align_self": null,
            "border": null,
            "bottom": null,
            "display": null,
            "flex": null,
            "flex_flow": null,
            "grid_area": null,
            "grid_auto_columns": null,
            "grid_auto_flow": null,
            "grid_auto_rows": null,
            "grid_column": null,
            "grid_gap": null,
            "grid_row": null,
            "grid_template_areas": null,
            "grid_template_columns": null,
            "grid_template_rows": null,
            "height": null,
            "justify_content": null,
            "justify_items": null,
            "left": null,
            "margin": null,
            "max_height": null,
            "max_width": null,
            "min_height": null,
            "min_width": null,
            "object_fit": null,
            "object_position": null,
            "order": null,
            "overflow": null,
            "overflow_x": null,
            "overflow_y": null,
            "padding": null,
            "right": null,
            "top": null,
            "visibility": null,
            "width": null
          }
        },
        "1b1ddd7cae4646b7b15f8620cdaa8c36": {
          "model_module": "@jupyter-widgets/controls",
          "model_name": "DescriptionStyleModel",
          "model_module_version": "1.5.0",
          "state": {
            "_model_module": "@jupyter-widgets/controls",
            "_model_module_version": "1.5.0",
            "_model_name": "DescriptionStyleModel",
            "_view_count": null,
            "_view_module": "@jupyter-widgets/base",
            "_view_module_version": "1.2.0",
            "_view_name": "StyleView",
            "description_width": ""
          }
        },
        "58a2b70210174eb18a884437f549a390": {
          "model_module": "@jupyter-widgets/controls",
          "model_name": "HBoxModel",
          "model_module_version": "1.5.0",
          "state": {
            "_dom_classes": [],
            "_model_module": "@jupyter-widgets/controls",
            "_model_module_version": "1.5.0",
            "_model_name": "HBoxModel",
            "_view_count": null,
            "_view_module": "@jupyter-widgets/controls",
            "_view_module_version": "1.5.0",
            "_view_name": "HBoxView",
            "box_style": "",
            "children": [
              "IPY_MODEL_69145dfefc474d3fa04addec277f5e48",
              "IPY_MODEL_5d738875989a44738fdd7d3f5f2d1dd3",
              "IPY_MODEL_f693eced4eda464198a12b5bababe8f8"
            ],
            "layout": "IPY_MODEL_19505a3f30764e008a93c1ffffe69b09"
          }
        },
        "69145dfefc474d3fa04addec277f5e48": {
          "model_module": "@jupyter-widgets/controls",
          "model_name": "HTMLModel",
          "model_module_version": "1.5.0",
          "state": {
            "_dom_classes": [],
            "_model_module": "@jupyter-widgets/controls",
            "_model_module_version": "1.5.0",
            "_model_name": "HTMLModel",
            "_view_count": null,
            "_view_module": "@jupyter-widgets/controls",
            "_view_module_version": "1.5.0",
            "_view_name": "HTMLView",
            "description": "",
            "description_tooltip": null,
            "layout": "IPY_MODEL_7d5d8a8412f3425ba68a0959246d872f",
            "placeholder": "​",
            "style": "IPY_MODEL_58ba243803f2406f91a560c5d98f549b",
            "value": "(…)de9125/config_sentence_transformers.json: 100%"
          }
        },
        "5d738875989a44738fdd7d3f5f2d1dd3": {
          "model_module": "@jupyter-widgets/controls",
          "model_name": "FloatProgressModel",
          "model_module_version": "1.5.0",
          "state": {
            "_dom_classes": [],
            "_model_module": "@jupyter-widgets/controls",
            "_model_module_version": "1.5.0",
            "_model_name": "FloatProgressModel",
            "_view_count": null,
            "_view_module": "@jupyter-widgets/controls",
            "_view_module_version": "1.5.0",
            "_view_name": "ProgressView",
            "bar_style": "success",
            "description": "",
            "description_tooltip": null,
            "layout": "IPY_MODEL_7ca33288dabf4972bae2a9bc8a13b42b",
            "max": 116,
            "min": 0,
            "orientation": "horizontal",
            "style": "IPY_MODEL_6364e322502c441baed3b41fb2073d15",
            "value": 116
          }
        },
        "f693eced4eda464198a12b5bababe8f8": {
          "model_module": "@jupyter-widgets/controls",
          "model_name": "HTMLModel",
          "model_module_version": "1.5.0",
          "state": {
            "_dom_classes": [],
            "_model_module": "@jupyter-widgets/controls",
            "_model_module_version": "1.5.0",
            "_model_name": "HTMLModel",
            "_view_count": null,
            "_view_module": "@jupyter-widgets/controls",
            "_view_module_version": "1.5.0",
            "_view_name": "HTMLView",
            "description": "",
            "description_tooltip": null,
            "layout": "IPY_MODEL_b2197770c50544ae99ee3ec4eaa4ae42",
            "placeholder": "​",
            "style": "IPY_MODEL_6a504e01cdca4566a6c6ad9b0a4242ad",
            "value": " 116/116 [00:00&lt;00:00, 6.44kB/s]"
          }
        },
        "19505a3f30764e008a93c1ffffe69b09": {
          "model_module": "@jupyter-widgets/base",
          "model_name": "LayoutModel",
          "model_module_version": "1.2.0",
          "state": {
            "_model_module": "@jupyter-widgets/base",
            "_model_module_version": "1.2.0",
            "_model_name": "LayoutModel",
            "_view_count": null,
            "_view_module": "@jupyter-widgets/base",
            "_view_module_version": "1.2.0",
            "_view_name": "LayoutView",
            "align_content": null,
            "align_items": null,
            "align_self": null,
            "border": null,
            "bottom": null,
            "display": null,
            "flex": null,
            "flex_flow": null,
            "grid_area": null,
            "grid_auto_columns": null,
            "grid_auto_flow": null,
            "grid_auto_rows": null,
            "grid_column": null,
            "grid_gap": null,
            "grid_row": null,
            "grid_template_areas": null,
            "grid_template_columns": null,
            "grid_template_rows": null,
            "height": null,
            "justify_content": null,
            "justify_items": null,
            "left": null,
            "margin": null,
            "max_height": null,
            "max_width": null,
            "min_height": null,
            "min_width": null,
            "object_fit": null,
            "object_position": null,
            "order": null,
            "overflow": null,
            "overflow_x": null,
            "overflow_y": null,
            "padding": null,
            "right": null,
            "top": null,
            "visibility": null,
            "width": null
          }
        },
        "7d5d8a8412f3425ba68a0959246d872f": {
          "model_module": "@jupyter-widgets/base",
          "model_name": "LayoutModel",
          "model_module_version": "1.2.0",
          "state": {
            "_model_module": "@jupyter-widgets/base",
            "_model_module_version": "1.2.0",
            "_model_name": "LayoutModel",
            "_view_count": null,
            "_view_module": "@jupyter-widgets/base",
            "_view_module_version": "1.2.0",
            "_view_name": "LayoutView",
            "align_content": null,
            "align_items": null,
            "align_self": null,
            "border": null,
            "bottom": null,
            "display": null,
            "flex": null,
            "flex_flow": null,
            "grid_area": null,
            "grid_auto_columns": null,
            "grid_auto_flow": null,
            "grid_auto_rows": null,
            "grid_column": null,
            "grid_gap": null,
            "grid_row": null,
            "grid_template_areas": null,
            "grid_template_columns": null,
            "grid_template_rows": null,
            "height": null,
            "justify_content": null,
            "justify_items": null,
            "left": null,
            "margin": null,
            "max_height": null,
            "max_width": null,
            "min_height": null,
            "min_width": null,
            "object_fit": null,
            "object_position": null,
            "order": null,
            "overflow": null,
            "overflow_x": null,
            "overflow_y": null,
            "padding": null,
            "right": null,
            "top": null,
            "visibility": null,
            "width": null
          }
        },
        "58ba243803f2406f91a560c5d98f549b": {
          "model_module": "@jupyter-widgets/controls",
          "model_name": "DescriptionStyleModel",
          "model_module_version": "1.5.0",
          "state": {
            "_model_module": "@jupyter-widgets/controls",
            "_model_module_version": "1.5.0",
            "_model_name": "DescriptionStyleModel",
            "_view_count": null,
            "_view_module": "@jupyter-widgets/base",
            "_view_module_version": "1.2.0",
            "_view_name": "StyleView",
            "description_width": ""
          }
        },
        "7ca33288dabf4972bae2a9bc8a13b42b": {
          "model_module": "@jupyter-widgets/base",
          "model_name": "LayoutModel",
          "model_module_version": "1.2.0",
          "state": {
            "_model_module": "@jupyter-widgets/base",
            "_model_module_version": "1.2.0",
            "_model_name": "LayoutModel",
            "_view_count": null,
            "_view_module": "@jupyter-widgets/base",
            "_view_module_version": "1.2.0",
            "_view_name": "LayoutView",
            "align_content": null,
            "align_items": null,
            "align_self": null,
            "border": null,
            "bottom": null,
            "display": null,
            "flex": null,
            "flex_flow": null,
            "grid_area": null,
            "grid_auto_columns": null,
            "grid_auto_flow": null,
            "grid_auto_rows": null,
            "grid_column": null,
            "grid_gap": null,
            "grid_row": null,
            "grid_template_areas": null,
            "grid_template_columns": null,
            "grid_template_rows": null,
            "height": null,
            "justify_content": null,
            "justify_items": null,
            "left": null,
            "margin": null,
            "max_height": null,
            "max_width": null,
            "min_height": null,
            "min_width": null,
            "object_fit": null,
            "object_position": null,
            "order": null,
            "overflow": null,
            "overflow_x": null,
            "overflow_y": null,
            "padding": null,
            "right": null,
            "top": null,
            "visibility": null,
            "width": null
          }
        },
        "6364e322502c441baed3b41fb2073d15": {
          "model_module": "@jupyter-widgets/controls",
          "model_name": "ProgressStyleModel",
          "model_module_version": "1.5.0",
          "state": {
            "_model_module": "@jupyter-widgets/controls",
            "_model_module_version": "1.5.0",
            "_model_name": "ProgressStyleModel",
            "_view_count": null,
            "_view_module": "@jupyter-widgets/base",
            "_view_module_version": "1.2.0",
            "_view_name": "StyleView",
            "bar_color": null,
            "description_width": ""
          }
        },
        "b2197770c50544ae99ee3ec4eaa4ae42": {
          "model_module": "@jupyter-widgets/base",
          "model_name": "LayoutModel",
          "model_module_version": "1.2.0",
          "state": {
            "_model_module": "@jupyter-widgets/base",
            "_model_module_version": "1.2.0",
            "_model_name": "LayoutModel",
            "_view_count": null,
            "_view_module": "@jupyter-widgets/base",
            "_view_module_version": "1.2.0",
            "_view_name": "LayoutView",
            "align_content": null,
            "align_items": null,
            "align_self": null,
            "border": null,
            "bottom": null,
            "display": null,
            "flex": null,
            "flex_flow": null,
            "grid_area": null,
            "grid_auto_columns": null,
            "grid_auto_flow": null,
            "grid_auto_rows": null,
            "grid_column": null,
            "grid_gap": null,
            "grid_row": null,
            "grid_template_areas": null,
            "grid_template_columns": null,
            "grid_template_rows": null,
            "height": null,
            "justify_content": null,
            "justify_items": null,
            "left": null,
            "margin": null,
            "max_height": null,
            "max_width": null,
            "min_height": null,
            "min_width": null,
            "object_fit": null,
            "object_position": null,
            "order": null,
            "overflow": null,
            "overflow_x": null,
            "overflow_y": null,
            "padding": null,
            "right": null,
            "top": null,
            "visibility": null,
            "width": null
          }
        },
        "6a504e01cdca4566a6c6ad9b0a4242ad": {
          "model_module": "@jupyter-widgets/controls",
          "model_name": "DescriptionStyleModel",
          "model_module_version": "1.5.0",
          "state": {
            "_model_module": "@jupyter-widgets/controls",
            "_model_module_version": "1.5.0",
            "_model_name": "DescriptionStyleModel",
            "_view_count": null,
            "_view_module": "@jupyter-widgets/base",
            "_view_module_version": "1.2.0",
            "_view_name": "StyleView",
            "description_width": ""
          }
        },
        "246eaee9cd7b490abae2b09e7f741ab9": {
          "model_module": "@jupyter-widgets/controls",
          "model_name": "HBoxModel",
          "model_module_version": "1.5.0",
          "state": {
            "_dom_classes": [],
            "_model_module": "@jupyter-widgets/controls",
            "_model_module_version": "1.5.0",
            "_model_name": "HBoxModel",
            "_view_count": null,
            "_view_module": "@jupyter-widgets/controls",
            "_view_module_version": "1.5.0",
            "_view_name": "HBoxView",
            "box_style": "",
            "children": [
              "IPY_MODEL_11333571ddbd4f64951f477b018b7c0a",
              "IPY_MODEL_7d211e9f46c84178ac2c3cc622b4b7c0",
              "IPY_MODEL_07a1ffdb7b964d2e9bb349b130c978d2"
            ],
            "layout": "IPY_MODEL_eb14b3970757447193d4666e9f619fda"
          }
        },
        "11333571ddbd4f64951f477b018b7c0a": {
          "model_module": "@jupyter-widgets/controls",
          "model_name": "HTMLModel",
          "model_module_version": "1.5.0",
          "state": {
            "_dom_classes": [],
            "_model_module": "@jupyter-widgets/controls",
            "_model_module_version": "1.5.0",
            "_model_name": "HTMLModel",
            "_view_count": null,
            "_view_module": "@jupyter-widgets/controls",
            "_view_module_version": "1.5.0",
            "_view_name": "HTMLView",
            "description": "",
            "description_tooltip": null,
            "layout": "IPY_MODEL_6893318d42b34283a4491b0998d9293b",
            "placeholder": "​",
            "style": "IPY_MODEL_ebd51fa336d349aab6f26bc93baf2dae",
            "value": "(…)d3c277d6e90027e55de9125/data_config.json: 100%"
          }
        },
        "7d211e9f46c84178ac2c3cc622b4b7c0": {
          "model_module": "@jupyter-widgets/controls",
          "model_name": "FloatProgressModel",
          "model_module_version": "1.5.0",
          "state": {
            "_dom_classes": [],
            "_model_module": "@jupyter-widgets/controls",
            "_model_module_version": "1.5.0",
            "_model_name": "FloatProgressModel",
            "_view_count": null,
            "_view_module": "@jupyter-widgets/controls",
            "_view_module_version": "1.5.0",
            "_view_name": "ProgressView",
            "bar_style": "success",
            "description": "",
            "description_tooltip": null,
            "layout": "IPY_MODEL_d9dc641089624f3bb0cd1dc7a772fde9",
            "max": 39265,
            "min": 0,
            "orientation": "horizontal",
            "style": "IPY_MODEL_41a2b4ebaeb841c2a0e493546a9848c7",
            "value": 39265
          }
        },
        "07a1ffdb7b964d2e9bb349b130c978d2": {
          "model_module": "@jupyter-widgets/controls",
          "model_name": "HTMLModel",
          "model_module_version": "1.5.0",
          "state": {
            "_dom_classes": [],
            "_model_module": "@jupyter-widgets/controls",
            "_model_module_version": "1.5.0",
            "_model_name": "HTMLModel",
            "_view_count": null,
            "_view_module": "@jupyter-widgets/controls",
            "_view_module_version": "1.5.0",
            "_view_name": "HTMLView",
            "description": "",
            "description_tooltip": null,
            "layout": "IPY_MODEL_2f93916d6eb14550a4f8785f01d0015e",
            "placeholder": "​",
            "style": "IPY_MODEL_a30a1d4e238d4928976c3e1fa4e476c5",
            "value": " 39.3k/39.3k [00:00&lt;00:00, 1.90MB/s]"
          }
        },
        "eb14b3970757447193d4666e9f619fda": {
          "model_module": "@jupyter-widgets/base",
          "model_name": "LayoutModel",
          "model_module_version": "1.2.0",
          "state": {
            "_model_module": "@jupyter-widgets/base",
            "_model_module_version": "1.2.0",
            "_model_name": "LayoutModel",
            "_view_count": null,
            "_view_module": "@jupyter-widgets/base",
            "_view_module_version": "1.2.0",
            "_view_name": "LayoutView",
            "align_content": null,
            "align_items": null,
            "align_self": null,
            "border": null,
            "bottom": null,
            "display": null,
            "flex": null,
            "flex_flow": null,
            "grid_area": null,
            "grid_auto_columns": null,
            "grid_auto_flow": null,
            "grid_auto_rows": null,
            "grid_column": null,
            "grid_gap": null,
            "grid_row": null,
            "grid_template_areas": null,
            "grid_template_columns": null,
            "grid_template_rows": null,
            "height": null,
            "justify_content": null,
            "justify_items": null,
            "left": null,
            "margin": null,
            "max_height": null,
            "max_width": null,
            "min_height": null,
            "min_width": null,
            "object_fit": null,
            "object_position": null,
            "order": null,
            "overflow": null,
            "overflow_x": null,
            "overflow_y": null,
            "padding": null,
            "right": null,
            "top": null,
            "visibility": null,
            "width": null
          }
        },
        "6893318d42b34283a4491b0998d9293b": {
          "model_module": "@jupyter-widgets/base",
          "model_name": "LayoutModel",
          "model_module_version": "1.2.0",
          "state": {
            "_model_module": "@jupyter-widgets/base",
            "_model_module_version": "1.2.0",
            "_model_name": "LayoutModel",
            "_view_count": null,
            "_view_module": "@jupyter-widgets/base",
            "_view_module_version": "1.2.0",
            "_view_name": "LayoutView",
            "align_content": null,
            "align_items": null,
            "align_self": null,
            "border": null,
            "bottom": null,
            "display": null,
            "flex": null,
            "flex_flow": null,
            "grid_area": null,
            "grid_auto_columns": null,
            "grid_auto_flow": null,
            "grid_auto_rows": null,
            "grid_column": null,
            "grid_gap": null,
            "grid_row": null,
            "grid_template_areas": null,
            "grid_template_columns": null,
            "grid_template_rows": null,
            "height": null,
            "justify_content": null,
            "justify_items": null,
            "left": null,
            "margin": null,
            "max_height": null,
            "max_width": null,
            "min_height": null,
            "min_width": null,
            "object_fit": null,
            "object_position": null,
            "order": null,
            "overflow": null,
            "overflow_x": null,
            "overflow_y": null,
            "padding": null,
            "right": null,
            "top": null,
            "visibility": null,
            "width": null
          }
        },
        "ebd51fa336d349aab6f26bc93baf2dae": {
          "model_module": "@jupyter-widgets/controls",
          "model_name": "DescriptionStyleModel",
          "model_module_version": "1.5.0",
          "state": {
            "_model_module": "@jupyter-widgets/controls",
            "_model_module_version": "1.5.0",
            "_model_name": "DescriptionStyleModel",
            "_view_count": null,
            "_view_module": "@jupyter-widgets/base",
            "_view_module_version": "1.2.0",
            "_view_name": "StyleView",
            "description_width": ""
          }
        },
        "d9dc641089624f3bb0cd1dc7a772fde9": {
          "model_module": "@jupyter-widgets/base",
          "model_name": "LayoutModel",
          "model_module_version": "1.2.0",
          "state": {
            "_model_module": "@jupyter-widgets/base",
            "_model_module_version": "1.2.0",
            "_model_name": "LayoutModel",
            "_view_count": null,
            "_view_module": "@jupyter-widgets/base",
            "_view_module_version": "1.2.0",
            "_view_name": "LayoutView",
            "align_content": null,
            "align_items": null,
            "align_self": null,
            "border": null,
            "bottom": null,
            "display": null,
            "flex": null,
            "flex_flow": null,
            "grid_area": null,
            "grid_auto_columns": null,
            "grid_auto_flow": null,
            "grid_auto_rows": null,
            "grid_column": null,
            "grid_gap": null,
            "grid_row": null,
            "grid_template_areas": null,
            "grid_template_columns": null,
            "grid_template_rows": null,
            "height": null,
            "justify_content": null,
            "justify_items": null,
            "left": null,
            "margin": null,
            "max_height": null,
            "max_width": null,
            "min_height": null,
            "min_width": null,
            "object_fit": null,
            "object_position": null,
            "order": null,
            "overflow": null,
            "overflow_x": null,
            "overflow_y": null,
            "padding": null,
            "right": null,
            "top": null,
            "visibility": null,
            "width": null
          }
        },
        "41a2b4ebaeb841c2a0e493546a9848c7": {
          "model_module": "@jupyter-widgets/controls",
          "model_name": "ProgressStyleModel",
          "model_module_version": "1.5.0",
          "state": {
            "_model_module": "@jupyter-widgets/controls",
            "_model_module_version": "1.5.0",
            "_model_name": "ProgressStyleModel",
            "_view_count": null,
            "_view_module": "@jupyter-widgets/base",
            "_view_module_version": "1.2.0",
            "_view_name": "StyleView",
            "bar_color": null,
            "description_width": ""
          }
        },
        "2f93916d6eb14550a4f8785f01d0015e": {
          "model_module": "@jupyter-widgets/base",
          "model_name": "LayoutModel",
          "model_module_version": "1.2.0",
          "state": {
            "_model_module": "@jupyter-widgets/base",
            "_model_module_version": "1.2.0",
            "_model_name": "LayoutModel",
            "_view_count": null,
            "_view_module": "@jupyter-widgets/base",
            "_view_module_version": "1.2.0",
            "_view_name": "LayoutView",
            "align_content": null,
            "align_items": null,
            "align_self": null,
            "border": null,
            "bottom": null,
            "display": null,
            "flex": null,
            "flex_flow": null,
            "grid_area": null,
            "grid_auto_columns": null,
            "grid_auto_flow": null,
            "grid_auto_rows": null,
            "grid_column": null,
            "grid_gap": null,
            "grid_row": null,
            "grid_template_areas": null,
            "grid_template_columns": null,
            "grid_template_rows": null,
            "height": null,
            "justify_content": null,
            "justify_items": null,
            "left": null,
            "margin": null,
            "max_height": null,
            "max_width": null,
            "min_height": null,
            "min_width": null,
            "object_fit": null,
            "object_position": null,
            "order": null,
            "overflow": null,
            "overflow_x": null,
            "overflow_y": null,
            "padding": null,
            "right": null,
            "top": null,
            "visibility": null,
            "width": null
          }
        },
        "a30a1d4e238d4928976c3e1fa4e476c5": {
          "model_module": "@jupyter-widgets/controls",
          "model_name": "DescriptionStyleModel",
          "model_module_version": "1.5.0",
          "state": {
            "_model_module": "@jupyter-widgets/controls",
            "_model_module_version": "1.5.0",
            "_model_name": "DescriptionStyleModel",
            "_view_count": null,
            "_view_module": "@jupyter-widgets/base",
            "_view_module_version": "1.2.0",
            "_view_name": "StyleView",
            "description_width": ""
          }
        },
        "7af943228b8848138dd7ecb3f28d1eb4": {
          "model_module": "@jupyter-widgets/controls",
          "model_name": "HBoxModel",
          "model_module_version": "1.5.0",
          "state": {
            "_dom_classes": [],
            "_model_module": "@jupyter-widgets/controls",
            "_model_module_version": "1.5.0",
            "_model_name": "HBoxModel",
            "_view_count": null,
            "_view_module": "@jupyter-widgets/controls",
            "_view_module_version": "1.5.0",
            "_view_name": "HBoxView",
            "box_style": "",
            "children": [
              "IPY_MODEL_792542c4044c452fbba46a30ac6fa713",
              "IPY_MODEL_4a4f37d2c4144d4bb2bbfbb637cca2cf",
              "IPY_MODEL_06df21dd886e4771ba35c0bf74cb1088"
            ],
            "layout": "IPY_MODEL_107d2e4692b84d8887bde2412397ccc0"
          }
        },
        "792542c4044c452fbba46a30ac6fa713": {
          "model_module": "@jupyter-widgets/controls",
          "model_name": "HTMLModel",
          "model_module_version": "1.5.0",
          "state": {
            "_dom_classes": [],
            "_model_module": "@jupyter-widgets/controls",
            "_model_module_version": "1.5.0",
            "_model_name": "HTMLModel",
            "_view_count": null,
            "_view_module": "@jupyter-widgets/controls",
            "_view_module_version": "1.5.0",
            "_view_name": "HTMLView",
            "description": "",
            "description_tooltip": null,
            "layout": "IPY_MODEL_0d84c2cdd557461da904399742f59daa",
            "placeholder": "​",
            "style": "IPY_MODEL_8ceeee6b81ed4e7da54dc94271a02efd",
            "value": "pytorch_model.bin: 100%"
          }
        },
        "4a4f37d2c4144d4bb2bbfbb637cca2cf": {
          "model_module": "@jupyter-widgets/controls",
          "model_name": "FloatProgressModel",
          "model_module_version": "1.5.0",
          "state": {
            "_dom_classes": [],
            "_model_module": "@jupyter-widgets/controls",
            "_model_module_version": "1.5.0",
            "_model_name": "FloatProgressModel",
            "_view_count": null,
            "_view_module": "@jupyter-widgets/controls",
            "_view_module_version": "1.5.0",
            "_view_name": "ProgressView",
            "bar_style": "success",
            "description": "",
            "description_tooltip": null,
            "layout": "IPY_MODEL_821578e442084d5bbab467f192f9dac7",
            "max": 90888945,
            "min": 0,
            "orientation": "horizontal",
            "style": "IPY_MODEL_ed3d4543036b47e3820f06c69fce1b18",
            "value": 90888945
          }
        },
        "06df21dd886e4771ba35c0bf74cb1088": {
          "model_module": "@jupyter-widgets/controls",
          "model_name": "HTMLModel",
          "model_module_version": "1.5.0",
          "state": {
            "_dom_classes": [],
            "_model_module": "@jupyter-widgets/controls",
            "_model_module_version": "1.5.0",
            "_model_name": "HTMLModel",
            "_view_count": null,
            "_view_module": "@jupyter-widgets/controls",
            "_view_module_version": "1.5.0",
            "_view_name": "HTMLView",
            "description": "",
            "description_tooltip": null,
            "layout": "IPY_MODEL_86af00cd388c45a5ae649adbf531fa99",
            "placeholder": "​",
            "style": "IPY_MODEL_1096fe72fcf9436f98ff6b39deee499b",
            "value": " 90.9M/90.9M [00:01&lt;00:00, 119MB/s]"
          }
        },
        "107d2e4692b84d8887bde2412397ccc0": {
          "model_module": "@jupyter-widgets/base",
          "model_name": "LayoutModel",
          "model_module_version": "1.2.0",
          "state": {
            "_model_module": "@jupyter-widgets/base",
            "_model_module_version": "1.2.0",
            "_model_name": "LayoutModel",
            "_view_count": null,
            "_view_module": "@jupyter-widgets/base",
            "_view_module_version": "1.2.0",
            "_view_name": "LayoutView",
            "align_content": null,
            "align_items": null,
            "align_self": null,
            "border": null,
            "bottom": null,
            "display": null,
            "flex": null,
            "flex_flow": null,
            "grid_area": null,
            "grid_auto_columns": null,
            "grid_auto_flow": null,
            "grid_auto_rows": null,
            "grid_column": null,
            "grid_gap": null,
            "grid_row": null,
            "grid_template_areas": null,
            "grid_template_columns": null,
            "grid_template_rows": null,
            "height": null,
            "justify_content": null,
            "justify_items": null,
            "left": null,
            "margin": null,
            "max_height": null,
            "max_width": null,
            "min_height": null,
            "min_width": null,
            "object_fit": null,
            "object_position": null,
            "order": null,
            "overflow": null,
            "overflow_x": null,
            "overflow_y": null,
            "padding": null,
            "right": null,
            "top": null,
            "visibility": null,
            "width": null
          }
        },
        "0d84c2cdd557461da904399742f59daa": {
          "model_module": "@jupyter-widgets/base",
          "model_name": "LayoutModel",
          "model_module_version": "1.2.0",
          "state": {
            "_model_module": "@jupyter-widgets/base",
            "_model_module_version": "1.2.0",
            "_model_name": "LayoutModel",
            "_view_count": null,
            "_view_module": "@jupyter-widgets/base",
            "_view_module_version": "1.2.0",
            "_view_name": "LayoutView",
            "align_content": null,
            "align_items": null,
            "align_self": null,
            "border": null,
            "bottom": null,
            "display": null,
            "flex": null,
            "flex_flow": null,
            "grid_area": null,
            "grid_auto_columns": null,
            "grid_auto_flow": null,
            "grid_auto_rows": null,
            "grid_column": null,
            "grid_gap": null,
            "grid_row": null,
            "grid_template_areas": null,
            "grid_template_columns": null,
            "grid_template_rows": null,
            "height": null,
            "justify_content": null,
            "justify_items": null,
            "left": null,
            "margin": null,
            "max_height": null,
            "max_width": null,
            "min_height": null,
            "min_width": null,
            "object_fit": null,
            "object_position": null,
            "order": null,
            "overflow": null,
            "overflow_x": null,
            "overflow_y": null,
            "padding": null,
            "right": null,
            "top": null,
            "visibility": null,
            "width": null
          }
        },
        "8ceeee6b81ed4e7da54dc94271a02efd": {
          "model_module": "@jupyter-widgets/controls",
          "model_name": "DescriptionStyleModel",
          "model_module_version": "1.5.0",
          "state": {
            "_model_module": "@jupyter-widgets/controls",
            "_model_module_version": "1.5.0",
            "_model_name": "DescriptionStyleModel",
            "_view_count": null,
            "_view_module": "@jupyter-widgets/base",
            "_view_module_version": "1.2.0",
            "_view_name": "StyleView",
            "description_width": ""
          }
        },
        "821578e442084d5bbab467f192f9dac7": {
          "model_module": "@jupyter-widgets/base",
          "model_name": "LayoutModel",
          "model_module_version": "1.2.0",
          "state": {
            "_model_module": "@jupyter-widgets/base",
            "_model_module_version": "1.2.0",
            "_model_name": "LayoutModel",
            "_view_count": null,
            "_view_module": "@jupyter-widgets/base",
            "_view_module_version": "1.2.0",
            "_view_name": "LayoutView",
            "align_content": null,
            "align_items": null,
            "align_self": null,
            "border": null,
            "bottom": null,
            "display": null,
            "flex": null,
            "flex_flow": null,
            "grid_area": null,
            "grid_auto_columns": null,
            "grid_auto_flow": null,
            "grid_auto_rows": null,
            "grid_column": null,
            "grid_gap": null,
            "grid_row": null,
            "grid_template_areas": null,
            "grid_template_columns": null,
            "grid_template_rows": null,
            "height": null,
            "justify_content": null,
            "justify_items": null,
            "left": null,
            "margin": null,
            "max_height": null,
            "max_width": null,
            "min_height": null,
            "min_width": null,
            "object_fit": null,
            "object_position": null,
            "order": null,
            "overflow": null,
            "overflow_x": null,
            "overflow_y": null,
            "padding": null,
            "right": null,
            "top": null,
            "visibility": null,
            "width": null
          }
        },
        "ed3d4543036b47e3820f06c69fce1b18": {
          "model_module": "@jupyter-widgets/controls",
          "model_name": "ProgressStyleModel",
          "model_module_version": "1.5.0",
          "state": {
            "_model_module": "@jupyter-widgets/controls",
            "_model_module_version": "1.5.0",
            "_model_name": "ProgressStyleModel",
            "_view_count": null,
            "_view_module": "@jupyter-widgets/base",
            "_view_module_version": "1.2.0",
            "_view_name": "StyleView",
            "bar_color": null,
            "description_width": ""
          }
        },
        "86af00cd388c45a5ae649adbf531fa99": {
          "model_module": "@jupyter-widgets/base",
          "model_name": "LayoutModel",
          "model_module_version": "1.2.0",
          "state": {
            "_model_module": "@jupyter-widgets/base",
            "_model_module_version": "1.2.0",
            "_model_name": "LayoutModel",
            "_view_count": null,
            "_view_module": "@jupyter-widgets/base",
            "_view_module_version": "1.2.0",
            "_view_name": "LayoutView",
            "align_content": null,
            "align_items": null,
            "align_self": null,
            "border": null,
            "bottom": null,
            "display": null,
            "flex": null,
            "flex_flow": null,
            "grid_area": null,
            "grid_auto_columns": null,
            "grid_auto_flow": null,
            "grid_auto_rows": null,
            "grid_column": null,
            "grid_gap": null,
            "grid_row": null,
            "grid_template_areas": null,
            "grid_template_columns": null,
            "grid_template_rows": null,
            "height": null,
            "justify_content": null,
            "justify_items": null,
            "left": null,
            "margin": null,
            "max_height": null,
            "max_width": null,
            "min_height": null,
            "min_width": null,
            "object_fit": null,
            "object_position": null,
            "order": null,
            "overflow": null,
            "overflow_x": null,
            "overflow_y": null,
            "padding": null,
            "right": null,
            "top": null,
            "visibility": null,
            "width": null
          }
        },
        "1096fe72fcf9436f98ff6b39deee499b": {
          "model_module": "@jupyter-widgets/controls",
          "model_name": "DescriptionStyleModel",
          "model_module_version": "1.5.0",
          "state": {
            "_model_module": "@jupyter-widgets/controls",
            "_model_module_version": "1.5.0",
            "_model_name": "DescriptionStyleModel",
            "_view_count": null,
            "_view_module": "@jupyter-widgets/base",
            "_view_module_version": "1.2.0",
            "_view_name": "StyleView",
            "description_width": ""
          }
        },
        "39638c44029a4e67b253aa6a2e0595e6": {
          "model_module": "@jupyter-widgets/controls",
          "model_name": "HBoxModel",
          "model_module_version": "1.5.0",
          "state": {
            "_dom_classes": [],
            "_model_module": "@jupyter-widgets/controls",
            "_model_module_version": "1.5.0",
            "_model_name": "HBoxModel",
            "_view_count": null,
            "_view_module": "@jupyter-widgets/controls",
            "_view_module_version": "1.5.0",
            "_view_name": "HBoxView",
            "box_style": "",
            "children": [
              "IPY_MODEL_a1909bada4654bbdb53c20c888ed4d0f",
              "IPY_MODEL_31c019c2d6f7495d86d5fc66534ca2ec",
              "IPY_MODEL_523c5e378a3241d7bd11ae07832e1c9e"
            ],
            "layout": "IPY_MODEL_3c9d70461e70423d961fbe08ebbc9fc2"
          }
        },
        "a1909bada4654bbdb53c20c888ed4d0f": {
          "model_module": "@jupyter-widgets/controls",
          "model_name": "HTMLModel",
          "model_module_version": "1.5.0",
          "state": {
            "_dom_classes": [],
            "_model_module": "@jupyter-widgets/controls",
            "_model_module_version": "1.5.0",
            "_model_name": "HTMLModel",
            "_view_count": null,
            "_view_module": "@jupyter-widgets/controls",
            "_view_module_version": "1.5.0",
            "_view_name": "HTMLView",
            "description": "",
            "description_tooltip": null,
            "layout": "IPY_MODEL_f25bc758e4e6441992a82ddbd6177124",
            "placeholder": "​",
            "style": "IPY_MODEL_9c7c6ef0083543febf724cfcad00075d",
            "value": "(…)90027e55de9125/sentence_bert_config.json: 100%"
          }
        },
        "31c019c2d6f7495d86d5fc66534ca2ec": {
          "model_module": "@jupyter-widgets/controls",
          "model_name": "FloatProgressModel",
          "model_module_version": "1.5.0",
          "state": {
            "_dom_classes": [],
            "_model_module": "@jupyter-widgets/controls",
            "_model_module_version": "1.5.0",
            "_model_name": "FloatProgressModel",
            "_view_count": null,
            "_view_module": "@jupyter-widgets/controls",
            "_view_module_version": "1.5.0",
            "_view_name": "ProgressView",
            "bar_style": "success",
            "description": "",
            "description_tooltip": null,
            "layout": "IPY_MODEL_6d8c8e2e17064f1a9a56b6ca24b52dff",
            "max": 53,
            "min": 0,
            "orientation": "horizontal",
            "style": "IPY_MODEL_993cd4a06eab4aab9e44c5d5f8ef77fd",
            "value": 53
          }
        },
        "523c5e378a3241d7bd11ae07832e1c9e": {
          "model_module": "@jupyter-widgets/controls",
          "model_name": "HTMLModel",
          "model_module_version": "1.5.0",
          "state": {
            "_dom_classes": [],
            "_model_module": "@jupyter-widgets/controls",
            "_model_module_version": "1.5.0",
            "_model_name": "HTMLModel",
            "_view_count": null,
            "_view_module": "@jupyter-widgets/controls",
            "_view_module_version": "1.5.0",
            "_view_name": "HTMLView",
            "description": "",
            "description_tooltip": null,
            "layout": "IPY_MODEL_0a2a4b70c17d427286e9738ab3ac8a65",
            "placeholder": "​",
            "style": "IPY_MODEL_ee33107654904375b6cc67e62b526bc7",
            "value": " 53.0/53.0 [00:00&lt;00:00, 2.86kB/s]"
          }
        },
        "3c9d70461e70423d961fbe08ebbc9fc2": {
          "model_module": "@jupyter-widgets/base",
          "model_name": "LayoutModel",
          "model_module_version": "1.2.0",
          "state": {
            "_model_module": "@jupyter-widgets/base",
            "_model_module_version": "1.2.0",
            "_model_name": "LayoutModel",
            "_view_count": null,
            "_view_module": "@jupyter-widgets/base",
            "_view_module_version": "1.2.0",
            "_view_name": "LayoutView",
            "align_content": null,
            "align_items": null,
            "align_self": null,
            "border": null,
            "bottom": null,
            "display": null,
            "flex": null,
            "flex_flow": null,
            "grid_area": null,
            "grid_auto_columns": null,
            "grid_auto_flow": null,
            "grid_auto_rows": null,
            "grid_column": null,
            "grid_gap": null,
            "grid_row": null,
            "grid_template_areas": null,
            "grid_template_columns": null,
            "grid_template_rows": null,
            "height": null,
            "justify_content": null,
            "justify_items": null,
            "left": null,
            "margin": null,
            "max_height": null,
            "max_width": null,
            "min_height": null,
            "min_width": null,
            "object_fit": null,
            "object_position": null,
            "order": null,
            "overflow": null,
            "overflow_x": null,
            "overflow_y": null,
            "padding": null,
            "right": null,
            "top": null,
            "visibility": null,
            "width": null
          }
        },
        "f25bc758e4e6441992a82ddbd6177124": {
          "model_module": "@jupyter-widgets/base",
          "model_name": "LayoutModel",
          "model_module_version": "1.2.0",
          "state": {
            "_model_module": "@jupyter-widgets/base",
            "_model_module_version": "1.2.0",
            "_model_name": "LayoutModel",
            "_view_count": null,
            "_view_module": "@jupyter-widgets/base",
            "_view_module_version": "1.2.0",
            "_view_name": "LayoutView",
            "align_content": null,
            "align_items": null,
            "align_self": null,
            "border": null,
            "bottom": null,
            "display": null,
            "flex": null,
            "flex_flow": null,
            "grid_area": null,
            "grid_auto_columns": null,
            "grid_auto_flow": null,
            "grid_auto_rows": null,
            "grid_column": null,
            "grid_gap": null,
            "grid_row": null,
            "grid_template_areas": null,
            "grid_template_columns": null,
            "grid_template_rows": null,
            "height": null,
            "justify_content": null,
            "justify_items": null,
            "left": null,
            "margin": null,
            "max_height": null,
            "max_width": null,
            "min_height": null,
            "min_width": null,
            "object_fit": null,
            "object_position": null,
            "order": null,
            "overflow": null,
            "overflow_x": null,
            "overflow_y": null,
            "padding": null,
            "right": null,
            "top": null,
            "visibility": null,
            "width": null
          }
        },
        "9c7c6ef0083543febf724cfcad00075d": {
          "model_module": "@jupyter-widgets/controls",
          "model_name": "DescriptionStyleModel",
          "model_module_version": "1.5.0",
          "state": {
            "_model_module": "@jupyter-widgets/controls",
            "_model_module_version": "1.5.0",
            "_model_name": "DescriptionStyleModel",
            "_view_count": null,
            "_view_module": "@jupyter-widgets/base",
            "_view_module_version": "1.2.0",
            "_view_name": "StyleView",
            "description_width": ""
          }
        },
        "6d8c8e2e17064f1a9a56b6ca24b52dff": {
          "model_module": "@jupyter-widgets/base",
          "model_name": "LayoutModel",
          "model_module_version": "1.2.0",
          "state": {
            "_model_module": "@jupyter-widgets/base",
            "_model_module_version": "1.2.0",
            "_model_name": "LayoutModel",
            "_view_count": null,
            "_view_module": "@jupyter-widgets/base",
            "_view_module_version": "1.2.0",
            "_view_name": "LayoutView",
            "align_content": null,
            "align_items": null,
            "align_self": null,
            "border": null,
            "bottom": null,
            "display": null,
            "flex": null,
            "flex_flow": null,
            "grid_area": null,
            "grid_auto_columns": null,
            "grid_auto_flow": null,
            "grid_auto_rows": null,
            "grid_column": null,
            "grid_gap": null,
            "grid_row": null,
            "grid_template_areas": null,
            "grid_template_columns": null,
            "grid_template_rows": null,
            "height": null,
            "justify_content": null,
            "justify_items": null,
            "left": null,
            "margin": null,
            "max_height": null,
            "max_width": null,
            "min_height": null,
            "min_width": null,
            "object_fit": null,
            "object_position": null,
            "order": null,
            "overflow": null,
            "overflow_x": null,
            "overflow_y": null,
            "padding": null,
            "right": null,
            "top": null,
            "visibility": null,
            "width": null
          }
        },
        "993cd4a06eab4aab9e44c5d5f8ef77fd": {
          "model_module": "@jupyter-widgets/controls",
          "model_name": "ProgressStyleModel",
          "model_module_version": "1.5.0",
          "state": {
            "_model_module": "@jupyter-widgets/controls",
            "_model_module_version": "1.5.0",
            "_model_name": "ProgressStyleModel",
            "_view_count": null,
            "_view_module": "@jupyter-widgets/base",
            "_view_module_version": "1.2.0",
            "_view_name": "StyleView",
            "bar_color": null,
            "description_width": ""
          }
        },
        "0a2a4b70c17d427286e9738ab3ac8a65": {
          "model_module": "@jupyter-widgets/base",
          "model_name": "LayoutModel",
          "model_module_version": "1.2.0",
          "state": {
            "_model_module": "@jupyter-widgets/base",
            "_model_module_version": "1.2.0",
            "_model_name": "LayoutModel",
            "_view_count": null,
            "_view_module": "@jupyter-widgets/base",
            "_view_module_version": "1.2.0",
            "_view_name": "LayoutView",
            "align_content": null,
            "align_items": null,
            "align_self": null,
            "border": null,
            "bottom": null,
            "display": null,
            "flex": null,
            "flex_flow": null,
            "grid_area": null,
            "grid_auto_columns": null,
            "grid_auto_flow": null,
            "grid_auto_rows": null,
            "grid_column": null,
            "grid_gap": null,
            "grid_row": null,
            "grid_template_areas": null,
            "grid_template_columns": null,
            "grid_template_rows": null,
            "height": null,
            "justify_content": null,
            "justify_items": null,
            "left": null,
            "margin": null,
            "max_height": null,
            "max_width": null,
            "min_height": null,
            "min_width": null,
            "object_fit": null,
            "object_position": null,
            "order": null,
            "overflow": null,
            "overflow_x": null,
            "overflow_y": null,
            "padding": null,
            "right": null,
            "top": null,
            "visibility": null,
            "width": null
          }
        },
        "ee33107654904375b6cc67e62b526bc7": {
          "model_module": "@jupyter-widgets/controls",
          "model_name": "DescriptionStyleModel",
          "model_module_version": "1.5.0",
          "state": {
            "_model_module": "@jupyter-widgets/controls",
            "_model_module_version": "1.5.0",
            "_model_name": "DescriptionStyleModel",
            "_view_count": null,
            "_view_module": "@jupyter-widgets/base",
            "_view_module_version": "1.2.0",
            "_view_name": "StyleView",
            "description_width": ""
          }
        },
        "d0187debc2c344f78ac0b64ee1fde880": {
          "model_module": "@jupyter-widgets/controls",
          "model_name": "HBoxModel",
          "model_module_version": "1.5.0",
          "state": {
            "_dom_classes": [],
            "_model_module": "@jupyter-widgets/controls",
            "_model_module_version": "1.5.0",
            "_model_name": "HBoxModel",
            "_view_count": null,
            "_view_module": "@jupyter-widgets/controls",
            "_view_module_version": "1.5.0",
            "_view_name": "HBoxView",
            "box_style": "",
            "children": [
              "IPY_MODEL_992caa5f53594c67908329c6570ee69a",
              "IPY_MODEL_245a66ee3a51485688b0396032aa91e0",
              "IPY_MODEL_a69e4c87d0524f62a34418a810c12463"
            ],
            "layout": "IPY_MODEL_0beda4cdc4cf48c49caed78836057ea2"
          }
        },
        "992caa5f53594c67908329c6570ee69a": {
          "model_module": "@jupyter-widgets/controls",
          "model_name": "HTMLModel",
          "model_module_version": "1.5.0",
          "state": {
            "_dom_classes": [],
            "_model_module": "@jupyter-widgets/controls",
            "_model_module_version": "1.5.0",
            "_model_name": "HTMLModel",
            "_view_count": null,
            "_view_module": "@jupyter-widgets/controls",
            "_view_module_version": "1.5.0",
            "_view_name": "HTMLView",
            "description": "",
            "description_tooltip": null,
            "layout": "IPY_MODEL_9fda0d520fb145e999f13acf45d326c6",
            "placeholder": "​",
            "style": "IPY_MODEL_c4d8800cb9a042949cbba40f5452e660",
            "value": "(…)6e90027e55de9125/special_tokens_map.json: 100%"
          }
        },
        "245a66ee3a51485688b0396032aa91e0": {
          "model_module": "@jupyter-widgets/controls",
          "model_name": "FloatProgressModel",
          "model_module_version": "1.5.0",
          "state": {
            "_dom_classes": [],
            "_model_module": "@jupyter-widgets/controls",
            "_model_module_version": "1.5.0",
            "_model_name": "FloatProgressModel",
            "_view_count": null,
            "_view_module": "@jupyter-widgets/controls",
            "_view_module_version": "1.5.0",
            "_view_name": "ProgressView",
            "bar_style": "success",
            "description": "",
            "description_tooltip": null,
            "layout": "IPY_MODEL_c660c8a8043d4f4ba2260afb85a9e50e",
            "max": 112,
            "min": 0,
            "orientation": "horizontal",
            "style": "IPY_MODEL_4c5148e396304524a01f611b6148f164",
            "value": 112
          }
        },
        "a69e4c87d0524f62a34418a810c12463": {
          "model_module": "@jupyter-widgets/controls",
          "model_name": "HTMLModel",
          "model_module_version": "1.5.0",
          "state": {
            "_dom_classes": [],
            "_model_module": "@jupyter-widgets/controls",
            "_model_module_version": "1.5.0",
            "_model_name": "HTMLModel",
            "_view_count": null,
            "_view_module": "@jupyter-widgets/controls",
            "_view_module_version": "1.5.0",
            "_view_name": "HTMLView",
            "description": "",
            "description_tooltip": null,
            "layout": "IPY_MODEL_31ea9755254c4211aedc785c8312dd20",
            "placeholder": "​",
            "style": "IPY_MODEL_153bf9b233e542c5b27d04142f644d81",
            "value": " 112/112 [00:00&lt;00:00, 4.25kB/s]"
          }
        },
        "0beda4cdc4cf48c49caed78836057ea2": {
          "model_module": "@jupyter-widgets/base",
          "model_name": "LayoutModel",
          "model_module_version": "1.2.0",
          "state": {
            "_model_module": "@jupyter-widgets/base",
            "_model_module_version": "1.2.0",
            "_model_name": "LayoutModel",
            "_view_count": null,
            "_view_module": "@jupyter-widgets/base",
            "_view_module_version": "1.2.0",
            "_view_name": "LayoutView",
            "align_content": null,
            "align_items": null,
            "align_self": null,
            "border": null,
            "bottom": null,
            "display": null,
            "flex": null,
            "flex_flow": null,
            "grid_area": null,
            "grid_auto_columns": null,
            "grid_auto_flow": null,
            "grid_auto_rows": null,
            "grid_column": null,
            "grid_gap": null,
            "grid_row": null,
            "grid_template_areas": null,
            "grid_template_columns": null,
            "grid_template_rows": null,
            "height": null,
            "justify_content": null,
            "justify_items": null,
            "left": null,
            "margin": null,
            "max_height": null,
            "max_width": null,
            "min_height": null,
            "min_width": null,
            "object_fit": null,
            "object_position": null,
            "order": null,
            "overflow": null,
            "overflow_x": null,
            "overflow_y": null,
            "padding": null,
            "right": null,
            "top": null,
            "visibility": null,
            "width": null
          }
        },
        "9fda0d520fb145e999f13acf45d326c6": {
          "model_module": "@jupyter-widgets/base",
          "model_name": "LayoutModel",
          "model_module_version": "1.2.0",
          "state": {
            "_model_module": "@jupyter-widgets/base",
            "_model_module_version": "1.2.0",
            "_model_name": "LayoutModel",
            "_view_count": null,
            "_view_module": "@jupyter-widgets/base",
            "_view_module_version": "1.2.0",
            "_view_name": "LayoutView",
            "align_content": null,
            "align_items": null,
            "align_self": null,
            "border": null,
            "bottom": null,
            "display": null,
            "flex": null,
            "flex_flow": null,
            "grid_area": null,
            "grid_auto_columns": null,
            "grid_auto_flow": null,
            "grid_auto_rows": null,
            "grid_column": null,
            "grid_gap": null,
            "grid_row": null,
            "grid_template_areas": null,
            "grid_template_columns": null,
            "grid_template_rows": null,
            "height": null,
            "justify_content": null,
            "justify_items": null,
            "left": null,
            "margin": null,
            "max_height": null,
            "max_width": null,
            "min_height": null,
            "min_width": null,
            "object_fit": null,
            "object_position": null,
            "order": null,
            "overflow": null,
            "overflow_x": null,
            "overflow_y": null,
            "padding": null,
            "right": null,
            "top": null,
            "visibility": null,
            "width": null
          }
        },
        "c4d8800cb9a042949cbba40f5452e660": {
          "model_module": "@jupyter-widgets/controls",
          "model_name": "DescriptionStyleModel",
          "model_module_version": "1.5.0",
          "state": {
            "_model_module": "@jupyter-widgets/controls",
            "_model_module_version": "1.5.0",
            "_model_name": "DescriptionStyleModel",
            "_view_count": null,
            "_view_module": "@jupyter-widgets/base",
            "_view_module_version": "1.2.0",
            "_view_name": "StyleView",
            "description_width": ""
          }
        },
        "c660c8a8043d4f4ba2260afb85a9e50e": {
          "model_module": "@jupyter-widgets/base",
          "model_name": "LayoutModel",
          "model_module_version": "1.2.0",
          "state": {
            "_model_module": "@jupyter-widgets/base",
            "_model_module_version": "1.2.0",
            "_model_name": "LayoutModel",
            "_view_count": null,
            "_view_module": "@jupyter-widgets/base",
            "_view_module_version": "1.2.0",
            "_view_name": "LayoutView",
            "align_content": null,
            "align_items": null,
            "align_self": null,
            "border": null,
            "bottom": null,
            "display": null,
            "flex": null,
            "flex_flow": null,
            "grid_area": null,
            "grid_auto_columns": null,
            "grid_auto_flow": null,
            "grid_auto_rows": null,
            "grid_column": null,
            "grid_gap": null,
            "grid_row": null,
            "grid_template_areas": null,
            "grid_template_columns": null,
            "grid_template_rows": null,
            "height": null,
            "justify_content": null,
            "justify_items": null,
            "left": null,
            "margin": null,
            "max_height": null,
            "max_width": null,
            "min_height": null,
            "min_width": null,
            "object_fit": null,
            "object_position": null,
            "order": null,
            "overflow": null,
            "overflow_x": null,
            "overflow_y": null,
            "padding": null,
            "right": null,
            "top": null,
            "visibility": null,
            "width": null
          }
        },
        "4c5148e396304524a01f611b6148f164": {
          "model_module": "@jupyter-widgets/controls",
          "model_name": "ProgressStyleModel",
          "model_module_version": "1.5.0",
          "state": {
            "_model_module": "@jupyter-widgets/controls",
            "_model_module_version": "1.5.0",
            "_model_name": "ProgressStyleModel",
            "_view_count": null,
            "_view_module": "@jupyter-widgets/base",
            "_view_module_version": "1.2.0",
            "_view_name": "StyleView",
            "bar_color": null,
            "description_width": ""
          }
        },
        "31ea9755254c4211aedc785c8312dd20": {
          "model_module": "@jupyter-widgets/base",
          "model_name": "LayoutModel",
          "model_module_version": "1.2.0",
          "state": {
            "_model_module": "@jupyter-widgets/base",
            "_model_module_version": "1.2.0",
            "_model_name": "LayoutModel",
            "_view_count": null,
            "_view_module": "@jupyter-widgets/base",
            "_view_module_version": "1.2.0",
            "_view_name": "LayoutView",
            "align_content": null,
            "align_items": null,
            "align_self": null,
            "border": null,
            "bottom": null,
            "display": null,
            "flex": null,
            "flex_flow": null,
            "grid_area": null,
            "grid_auto_columns": null,
            "grid_auto_flow": null,
            "grid_auto_rows": null,
            "grid_column": null,
            "grid_gap": null,
            "grid_row": null,
            "grid_template_areas": null,
            "grid_template_columns": null,
            "grid_template_rows": null,
            "height": null,
            "justify_content": null,
            "justify_items": null,
            "left": null,
            "margin": null,
            "max_height": null,
            "max_width": null,
            "min_height": null,
            "min_width": null,
            "object_fit": null,
            "object_position": null,
            "order": null,
            "overflow": null,
            "overflow_x": null,
            "overflow_y": null,
            "padding": null,
            "right": null,
            "top": null,
            "visibility": null,
            "width": null
          }
        },
        "153bf9b233e542c5b27d04142f644d81": {
          "model_module": "@jupyter-widgets/controls",
          "model_name": "DescriptionStyleModel",
          "model_module_version": "1.5.0",
          "state": {
            "_model_module": "@jupyter-widgets/controls",
            "_model_module_version": "1.5.0",
            "_model_name": "DescriptionStyleModel",
            "_view_count": null,
            "_view_module": "@jupyter-widgets/base",
            "_view_module_version": "1.2.0",
            "_view_name": "StyleView",
            "description_width": ""
          }
        },
        "e0953e048c9543ce986522f2edf18d8b": {
          "model_module": "@jupyter-widgets/controls",
          "model_name": "HBoxModel",
          "model_module_version": "1.5.0",
          "state": {
            "_dom_classes": [],
            "_model_module": "@jupyter-widgets/controls",
            "_model_module_version": "1.5.0",
            "_model_name": "HBoxModel",
            "_view_count": null,
            "_view_module": "@jupyter-widgets/controls",
            "_view_module_version": "1.5.0",
            "_view_name": "HBoxView",
            "box_style": "",
            "children": [
              "IPY_MODEL_6a46ab6e2b2d46c899c6a0b1a5cc74ca",
              "IPY_MODEL_dc622f2b507e477fb67da72baf3bbe16",
              "IPY_MODEL_f680fcc7f7fa47a499a5752b35077531"
            ],
            "layout": "IPY_MODEL_99c7780adab147ccb025e949fb19990c"
          }
        },
        "6a46ab6e2b2d46c899c6a0b1a5cc74ca": {
          "model_module": "@jupyter-widgets/controls",
          "model_name": "HTMLModel",
          "model_module_version": "1.5.0",
          "state": {
            "_dom_classes": [],
            "_model_module": "@jupyter-widgets/controls",
            "_model_module_version": "1.5.0",
            "_model_name": "HTMLModel",
            "_view_count": null,
            "_view_module": "@jupyter-widgets/controls",
            "_view_module_version": "1.5.0",
            "_view_name": "HTMLView",
            "description": "",
            "description_tooltip": null,
            "layout": "IPY_MODEL_9777b6bca9314c0da135e9a617c4218b",
            "placeholder": "​",
            "style": "IPY_MODEL_a8650c8f0f1b4f608e6494b8c5a265e5",
            "value": "(…)f3d3c277d6e90027e55de9125/tokenizer.json: 100%"
          }
        },
        "dc622f2b507e477fb67da72baf3bbe16": {
          "model_module": "@jupyter-widgets/controls",
          "model_name": "FloatProgressModel",
          "model_module_version": "1.5.0",
          "state": {
            "_dom_classes": [],
            "_model_module": "@jupyter-widgets/controls",
            "_model_module_version": "1.5.0",
            "_model_name": "FloatProgressModel",
            "_view_count": null,
            "_view_module": "@jupyter-widgets/controls",
            "_view_module_version": "1.5.0",
            "_view_name": "ProgressView",
            "bar_style": "success",
            "description": "",
            "description_tooltip": null,
            "layout": "IPY_MODEL_6dfffc26286d4bac8c175f8a20f16694",
            "max": 466247,
            "min": 0,
            "orientation": "horizontal",
            "style": "IPY_MODEL_2a7e695a4e6b43ab8f1dc651867906d0",
            "value": 466247
          }
        },
        "f680fcc7f7fa47a499a5752b35077531": {
          "model_module": "@jupyter-widgets/controls",
          "model_name": "HTMLModel",
          "model_module_version": "1.5.0",
          "state": {
            "_dom_classes": [],
            "_model_module": "@jupyter-widgets/controls",
            "_model_module_version": "1.5.0",
            "_model_name": "HTMLModel",
            "_view_count": null,
            "_view_module": "@jupyter-widgets/controls",
            "_view_module_version": "1.5.0",
            "_view_name": "HTMLView",
            "description": "",
            "description_tooltip": null,
            "layout": "IPY_MODEL_0ae11611009b434eb0bbd2f359d6db2d",
            "placeholder": "​",
            "style": "IPY_MODEL_8257d6cb5ceb4351803a6c7bf4f737bc",
            "value": " 466k/466k [00:00&lt;00:00, 11.7MB/s]"
          }
        },
        "99c7780adab147ccb025e949fb19990c": {
          "model_module": "@jupyter-widgets/base",
          "model_name": "LayoutModel",
          "model_module_version": "1.2.0",
          "state": {
            "_model_module": "@jupyter-widgets/base",
            "_model_module_version": "1.2.0",
            "_model_name": "LayoutModel",
            "_view_count": null,
            "_view_module": "@jupyter-widgets/base",
            "_view_module_version": "1.2.0",
            "_view_name": "LayoutView",
            "align_content": null,
            "align_items": null,
            "align_self": null,
            "border": null,
            "bottom": null,
            "display": null,
            "flex": null,
            "flex_flow": null,
            "grid_area": null,
            "grid_auto_columns": null,
            "grid_auto_flow": null,
            "grid_auto_rows": null,
            "grid_column": null,
            "grid_gap": null,
            "grid_row": null,
            "grid_template_areas": null,
            "grid_template_columns": null,
            "grid_template_rows": null,
            "height": null,
            "justify_content": null,
            "justify_items": null,
            "left": null,
            "margin": null,
            "max_height": null,
            "max_width": null,
            "min_height": null,
            "min_width": null,
            "object_fit": null,
            "object_position": null,
            "order": null,
            "overflow": null,
            "overflow_x": null,
            "overflow_y": null,
            "padding": null,
            "right": null,
            "top": null,
            "visibility": null,
            "width": null
          }
        },
        "9777b6bca9314c0da135e9a617c4218b": {
          "model_module": "@jupyter-widgets/base",
          "model_name": "LayoutModel",
          "model_module_version": "1.2.0",
          "state": {
            "_model_module": "@jupyter-widgets/base",
            "_model_module_version": "1.2.0",
            "_model_name": "LayoutModel",
            "_view_count": null,
            "_view_module": "@jupyter-widgets/base",
            "_view_module_version": "1.2.0",
            "_view_name": "LayoutView",
            "align_content": null,
            "align_items": null,
            "align_self": null,
            "border": null,
            "bottom": null,
            "display": null,
            "flex": null,
            "flex_flow": null,
            "grid_area": null,
            "grid_auto_columns": null,
            "grid_auto_flow": null,
            "grid_auto_rows": null,
            "grid_column": null,
            "grid_gap": null,
            "grid_row": null,
            "grid_template_areas": null,
            "grid_template_columns": null,
            "grid_template_rows": null,
            "height": null,
            "justify_content": null,
            "justify_items": null,
            "left": null,
            "margin": null,
            "max_height": null,
            "max_width": null,
            "min_height": null,
            "min_width": null,
            "object_fit": null,
            "object_position": null,
            "order": null,
            "overflow": null,
            "overflow_x": null,
            "overflow_y": null,
            "padding": null,
            "right": null,
            "top": null,
            "visibility": null,
            "width": null
          }
        },
        "a8650c8f0f1b4f608e6494b8c5a265e5": {
          "model_module": "@jupyter-widgets/controls",
          "model_name": "DescriptionStyleModel",
          "model_module_version": "1.5.0",
          "state": {
            "_model_module": "@jupyter-widgets/controls",
            "_model_module_version": "1.5.0",
            "_model_name": "DescriptionStyleModel",
            "_view_count": null,
            "_view_module": "@jupyter-widgets/base",
            "_view_module_version": "1.2.0",
            "_view_name": "StyleView",
            "description_width": ""
          }
        },
        "6dfffc26286d4bac8c175f8a20f16694": {
          "model_module": "@jupyter-widgets/base",
          "model_name": "LayoutModel",
          "model_module_version": "1.2.0",
          "state": {
            "_model_module": "@jupyter-widgets/base",
            "_model_module_version": "1.2.0",
            "_model_name": "LayoutModel",
            "_view_count": null,
            "_view_module": "@jupyter-widgets/base",
            "_view_module_version": "1.2.0",
            "_view_name": "LayoutView",
            "align_content": null,
            "align_items": null,
            "align_self": null,
            "border": null,
            "bottom": null,
            "display": null,
            "flex": null,
            "flex_flow": null,
            "grid_area": null,
            "grid_auto_columns": null,
            "grid_auto_flow": null,
            "grid_auto_rows": null,
            "grid_column": null,
            "grid_gap": null,
            "grid_row": null,
            "grid_template_areas": null,
            "grid_template_columns": null,
            "grid_template_rows": null,
            "height": null,
            "justify_content": null,
            "justify_items": null,
            "left": null,
            "margin": null,
            "max_height": null,
            "max_width": null,
            "min_height": null,
            "min_width": null,
            "object_fit": null,
            "object_position": null,
            "order": null,
            "overflow": null,
            "overflow_x": null,
            "overflow_y": null,
            "padding": null,
            "right": null,
            "top": null,
            "visibility": null,
            "width": null
          }
        },
        "2a7e695a4e6b43ab8f1dc651867906d0": {
          "model_module": "@jupyter-widgets/controls",
          "model_name": "ProgressStyleModel",
          "model_module_version": "1.5.0",
          "state": {
            "_model_module": "@jupyter-widgets/controls",
            "_model_module_version": "1.5.0",
            "_model_name": "ProgressStyleModel",
            "_view_count": null,
            "_view_module": "@jupyter-widgets/base",
            "_view_module_version": "1.2.0",
            "_view_name": "StyleView",
            "bar_color": null,
            "description_width": ""
          }
        },
        "0ae11611009b434eb0bbd2f359d6db2d": {
          "model_module": "@jupyter-widgets/base",
          "model_name": "LayoutModel",
          "model_module_version": "1.2.0",
          "state": {
            "_model_module": "@jupyter-widgets/base",
            "_model_module_version": "1.2.0",
            "_model_name": "LayoutModel",
            "_view_count": null,
            "_view_module": "@jupyter-widgets/base",
            "_view_module_version": "1.2.0",
            "_view_name": "LayoutView",
            "align_content": null,
            "align_items": null,
            "align_self": null,
            "border": null,
            "bottom": null,
            "display": null,
            "flex": null,
            "flex_flow": null,
            "grid_area": null,
            "grid_auto_columns": null,
            "grid_auto_flow": null,
            "grid_auto_rows": null,
            "grid_column": null,
            "grid_gap": null,
            "grid_row": null,
            "grid_template_areas": null,
            "grid_template_columns": null,
            "grid_template_rows": null,
            "height": null,
            "justify_content": null,
            "justify_items": null,
            "left": null,
            "margin": null,
            "max_height": null,
            "max_width": null,
            "min_height": null,
            "min_width": null,
            "object_fit": null,
            "object_position": null,
            "order": null,
            "overflow": null,
            "overflow_x": null,
            "overflow_y": null,
            "padding": null,
            "right": null,
            "top": null,
            "visibility": null,
            "width": null
          }
        },
        "8257d6cb5ceb4351803a6c7bf4f737bc": {
          "model_module": "@jupyter-widgets/controls",
          "model_name": "DescriptionStyleModel",
          "model_module_version": "1.5.0",
          "state": {
            "_model_module": "@jupyter-widgets/controls",
            "_model_module_version": "1.5.0",
            "_model_name": "DescriptionStyleModel",
            "_view_count": null,
            "_view_module": "@jupyter-widgets/base",
            "_view_module_version": "1.2.0",
            "_view_name": "StyleView",
            "description_width": ""
          }
        },
        "0ea18492c8e04417bd14860eef221376": {
          "model_module": "@jupyter-widgets/controls",
          "model_name": "HBoxModel",
          "model_module_version": "1.5.0",
          "state": {
            "_dom_classes": [],
            "_model_module": "@jupyter-widgets/controls",
            "_model_module_version": "1.5.0",
            "_model_name": "HBoxModel",
            "_view_count": null,
            "_view_module": "@jupyter-widgets/controls",
            "_view_module_version": "1.5.0",
            "_view_name": "HBoxView",
            "box_style": "",
            "children": [
              "IPY_MODEL_74f76610d5d84d0a9278565274cf4364",
              "IPY_MODEL_0fb85a7b259b4f26a66dc98d70718634",
              "IPY_MODEL_fcd3dcf6fef24b59b78b76946ce8215e"
            ],
            "layout": "IPY_MODEL_a3f2304454194514b5dd219b64ffb3fa"
          }
        },
        "74f76610d5d84d0a9278565274cf4364": {
          "model_module": "@jupyter-widgets/controls",
          "model_name": "HTMLModel",
          "model_module_version": "1.5.0",
          "state": {
            "_dom_classes": [],
            "_model_module": "@jupyter-widgets/controls",
            "_model_module_version": "1.5.0",
            "_model_name": "HTMLModel",
            "_view_count": null,
            "_view_module": "@jupyter-widgets/controls",
            "_view_module_version": "1.5.0",
            "_view_name": "HTMLView",
            "description": "",
            "description_tooltip": null,
            "layout": "IPY_MODEL_64fac30fb6134f05ae296c3fdd8dddb6",
            "placeholder": "​",
            "style": "IPY_MODEL_5ed64686ed884e8182d914ab28a9909e",
            "value": "(…)7d6e90027e55de9125/tokenizer_config.json: 100%"
          }
        },
        "0fb85a7b259b4f26a66dc98d70718634": {
          "model_module": "@jupyter-widgets/controls",
          "model_name": "FloatProgressModel",
          "model_module_version": "1.5.0",
          "state": {
            "_dom_classes": [],
            "_model_module": "@jupyter-widgets/controls",
            "_model_module_version": "1.5.0",
            "_model_name": "FloatProgressModel",
            "_view_count": null,
            "_view_module": "@jupyter-widgets/controls",
            "_view_module_version": "1.5.0",
            "_view_name": "ProgressView",
            "bar_style": "success",
            "description": "",
            "description_tooltip": null,
            "layout": "IPY_MODEL_2f6f9423fa7c4b0d800f5f2fb3aceef7",
            "max": 350,
            "min": 0,
            "orientation": "horizontal",
            "style": "IPY_MODEL_019aa719d87a480ba0fae00cbff9af69",
            "value": 350
          }
        },
        "fcd3dcf6fef24b59b78b76946ce8215e": {
          "model_module": "@jupyter-widgets/controls",
          "model_name": "HTMLModel",
          "model_module_version": "1.5.0",
          "state": {
            "_dom_classes": [],
            "_model_module": "@jupyter-widgets/controls",
            "_model_module_version": "1.5.0",
            "_model_name": "HTMLModel",
            "_view_count": null,
            "_view_module": "@jupyter-widgets/controls",
            "_view_module_version": "1.5.0",
            "_view_name": "HTMLView",
            "description": "",
            "description_tooltip": null,
            "layout": "IPY_MODEL_4764ca6692e04defb0443060472dc920",
            "placeholder": "​",
            "style": "IPY_MODEL_aa95c5311aa14761b9d7d8243f04f2bd",
            "value": " 350/350 [00:00&lt;00:00, 22.5kB/s]"
          }
        },
        "a3f2304454194514b5dd219b64ffb3fa": {
          "model_module": "@jupyter-widgets/base",
          "model_name": "LayoutModel",
          "model_module_version": "1.2.0",
          "state": {
            "_model_module": "@jupyter-widgets/base",
            "_model_module_version": "1.2.0",
            "_model_name": "LayoutModel",
            "_view_count": null,
            "_view_module": "@jupyter-widgets/base",
            "_view_module_version": "1.2.0",
            "_view_name": "LayoutView",
            "align_content": null,
            "align_items": null,
            "align_self": null,
            "border": null,
            "bottom": null,
            "display": null,
            "flex": null,
            "flex_flow": null,
            "grid_area": null,
            "grid_auto_columns": null,
            "grid_auto_flow": null,
            "grid_auto_rows": null,
            "grid_column": null,
            "grid_gap": null,
            "grid_row": null,
            "grid_template_areas": null,
            "grid_template_columns": null,
            "grid_template_rows": null,
            "height": null,
            "justify_content": null,
            "justify_items": null,
            "left": null,
            "margin": null,
            "max_height": null,
            "max_width": null,
            "min_height": null,
            "min_width": null,
            "object_fit": null,
            "object_position": null,
            "order": null,
            "overflow": null,
            "overflow_x": null,
            "overflow_y": null,
            "padding": null,
            "right": null,
            "top": null,
            "visibility": null,
            "width": null
          }
        },
        "64fac30fb6134f05ae296c3fdd8dddb6": {
          "model_module": "@jupyter-widgets/base",
          "model_name": "LayoutModel",
          "model_module_version": "1.2.0",
          "state": {
            "_model_module": "@jupyter-widgets/base",
            "_model_module_version": "1.2.0",
            "_model_name": "LayoutModel",
            "_view_count": null,
            "_view_module": "@jupyter-widgets/base",
            "_view_module_version": "1.2.0",
            "_view_name": "LayoutView",
            "align_content": null,
            "align_items": null,
            "align_self": null,
            "border": null,
            "bottom": null,
            "display": null,
            "flex": null,
            "flex_flow": null,
            "grid_area": null,
            "grid_auto_columns": null,
            "grid_auto_flow": null,
            "grid_auto_rows": null,
            "grid_column": null,
            "grid_gap": null,
            "grid_row": null,
            "grid_template_areas": null,
            "grid_template_columns": null,
            "grid_template_rows": null,
            "height": null,
            "justify_content": null,
            "justify_items": null,
            "left": null,
            "margin": null,
            "max_height": null,
            "max_width": null,
            "min_height": null,
            "min_width": null,
            "object_fit": null,
            "object_position": null,
            "order": null,
            "overflow": null,
            "overflow_x": null,
            "overflow_y": null,
            "padding": null,
            "right": null,
            "top": null,
            "visibility": null,
            "width": null
          }
        },
        "5ed64686ed884e8182d914ab28a9909e": {
          "model_module": "@jupyter-widgets/controls",
          "model_name": "DescriptionStyleModel",
          "model_module_version": "1.5.0",
          "state": {
            "_model_module": "@jupyter-widgets/controls",
            "_model_module_version": "1.5.0",
            "_model_name": "DescriptionStyleModel",
            "_view_count": null,
            "_view_module": "@jupyter-widgets/base",
            "_view_module_version": "1.2.0",
            "_view_name": "StyleView",
            "description_width": ""
          }
        },
        "2f6f9423fa7c4b0d800f5f2fb3aceef7": {
          "model_module": "@jupyter-widgets/base",
          "model_name": "LayoutModel",
          "model_module_version": "1.2.0",
          "state": {
            "_model_module": "@jupyter-widgets/base",
            "_model_module_version": "1.2.0",
            "_model_name": "LayoutModel",
            "_view_count": null,
            "_view_module": "@jupyter-widgets/base",
            "_view_module_version": "1.2.0",
            "_view_name": "LayoutView",
            "align_content": null,
            "align_items": null,
            "align_self": null,
            "border": null,
            "bottom": null,
            "display": null,
            "flex": null,
            "flex_flow": null,
            "grid_area": null,
            "grid_auto_columns": null,
            "grid_auto_flow": null,
            "grid_auto_rows": null,
            "grid_column": null,
            "grid_gap": null,
            "grid_row": null,
            "grid_template_areas": null,
            "grid_template_columns": null,
            "grid_template_rows": null,
            "height": null,
            "justify_content": null,
            "justify_items": null,
            "left": null,
            "margin": null,
            "max_height": null,
            "max_width": null,
            "min_height": null,
            "min_width": null,
            "object_fit": null,
            "object_position": null,
            "order": null,
            "overflow": null,
            "overflow_x": null,
            "overflow_y": null,
            "padding": null,
            "right": null,
            "top": null,
            "visibility": null,
            "width": null
          }
        },
        "019aa719d87a480ba0fae00cbff9af69": {
          "model_module": "@jupyter-widgets/controls",
          "model_name": "ProgressStyleModel",
          "model_module_version": "1.5.0",
          "state": {
            "_model_module": "@jupyter-widgets/controls",
            "_model_module_version": "1.5.0",
            "_model_name": "ProgressStyleModel",
            "_view_count": null,
            "_view_module": "@jupyter-widgets/base",
            "_view_module_version": "1.2.0",
            "_view_name": "StyleView",
            "bar_color": null,
            "description_width": ""
          }
        },
        "4764ca6692e04defb0443060472dc920": {
          "model_module": "@jupyter-widgets/base",
          "model_name": "LayoutModel",
          "model_module_version": "1.2.0",
          "state": {
            "_model_module": "@jupyter-widgets/base",
            "_model_module_version": "1.2.0",
            "_model_name": "LayoutModel",
            "_view_count": null,
            "_view_module": "@jupyter-widgets/base",
            "_view_module_version": "1.2.0",
            "_view_name": "LayoutView",
            "align_content": null,
            "align_items": null,
            "align_self": null,
            "border": null,
            "bottom": null,
            "display": null,
            "flex": null,
            "flex_flow": null,
            "grid_area": null,
            "grid_auto_columns": null,
            "grid_auto_flow": null,
            "grid_auto_rows": null,
            "grid_column": null,
            "grid_gap": null,
            "grid_row": null,
            "grid_template_areas": null,
            "grid_template_columns": null,
            "grid_template_rows": null,
            "height": null,
            "justify_content": null,
            "justify_items": null,
            "left": null,
            "margin": null,
            "max_height": null,
            "max_width": null,
            "min_height": null,
            "min_width": null,
            "object_fit": null,
            "object_position": null,
            "order": null,
            "overflow": null,
            "overflow_x": null,
            "overflow_y": null,
            "padding": null,
            "right": null,
            "top": null,
            "visibility": null,
            "width": null
          }
        },
        "aa95c5311aa14761b9d7d8243f04f2bd": {
          "model_module": "@jupyter-widgets/controls",
          "model_name": "DescriptionStyleModel",
          "model_module_version": "1.5.0",
          "state": {
            "_model_module": "@jupyter-widgets/controls",
            "_model_module_version": "1.5.0",
            "_model_name": "DescriptionStyleModel",
            "_view_count": null,
            "_view_module": "@jupyter-widgets/base",
            "_view_module_version": "1.2.0",
            "_view_name": "StyleView",
            "description_width": ""
          }
        },
        "cb2c34e7850143c7abb2a0b5bcecc895": {
          "model_module": "@jupyter-widgets/controls",
          "model_name": "HBoxModel",
          "model_module_version": "1.5.0",
          "state": {
            "_dom_classes": [],
            "_model_module": "@jupyter-widgets/controls",
            "_model_module_version": "1.5.0",
            "_model_name": "HBoxModel",
            "_view_count": null,
            "_view_module": "@jupyter-widgets/controls",
            "_view_module_version": "1.5.0",
            "_view_name": "HBoxView",
            "box_style": "",
            "children": [
              "IPY_MODEL_e199dfb265114835a98c6eec08011f22",
              "IPY_MODEL_afa649d7d6644afaa65953bfb46eaf1b",
              "IPY_MODEL_65b225ce4f8a4503bd627d9759bdb48e"
            ],
            "layout": "IPY_MODEL_29a9d4a7b7044449bb576424cda8fe6e"
          }
        },
        "e199dfb265114835a98c6eec08011f22": {
          "model_module": "@jupyter-widgets/controls",
          "model_name": "HTMLModel",
          "model_module_version": "1.5.0",
          "state": {
            "_dom_classes": [],
            "_model_module": "@jupyter-widgets/controls",
            "_model_module_version": "1.5.0",
            "_model_name": "HTMLModel",
            "_view_count": null,
            "_view_module": "@jupyter-widgets/controls",
            "_view_module_version": "1.5.0",
            "_view_name": "HTMLView",
            "description": "",
            "description_tooltip": null,
            "layout": "IPY_MODEL_7d30b00ce0e441038bd428d76b3fa00f",
            "placeholder": "​",
            "style": "IPY_MODEL_e68c3217c08f4f3b83143a5d0b2bc3bb",
            "value": "(…)3d3c277d6e90027e55de9125/train_script.py: 100%"
          }
        },
        "afa649d7d6644afaa65953bfb46eaf1b": {
          "model_module": "@jupyter-widgets/controls",
          "model_name": "FloatProgressModel",
          "model_module_version": "1.5.0",
          "state": {
            "_dom_classes": [],
            "_model_module": "@jupyter-widgets/controls",
            "_model_module_version": "1.5.0",
            "_model_name": "FloatProgressModel",
            "_view_count": null,
            "_view_module": "@jupyter-widgets/controls",
            "_view_module_version": "1.5.0",
            "_view_name": "ProgressView",
            "bar_style": "success",
            "description": "",
            "description_tooltip": null,
            "layout": "IPY_MODEL_c12ed6a3692c439989b33c6b72f4c538",
            "max": 13156,
            "min": 0,
            "orientation": "horizontal",
            "style": "IPY_MODEL_4eeed210e18f40ddb7d50199cc8d2ca8",
            "value": 13156
          }
        },
        "65b225ce4f8a4503bd627d9759bdb48e": {
          "model_module": "@jupyter-widgets/controls",
          "model_name": "HTMLModel",
          "model_module_version": "1.5.0",
          "state": {
            "_dom_classes": [],
            "_model_module": "@jupyter-widgets/controls",
            "_model_module_version": "1.5.0",
            "_model_name": "HTMLModel",
            "_view_count": null,
            "_view_module": "@jupyter-widgets/controls",
            "_view_module_version": "1.5.0",
            "_view_name": "HTMLView",
            "description": "",
            "description_tooltip": null,
            "layout": "IPY_MODEL_9c231951708e4b2ea140ebb45920ebee",
            "placeholder": "​",
            "style": "IPY_MODEL_d455efdc27864e4eb00e1ef1b914130c",
            "value": " 13.2k/13.2k [00:00&lt;00:00, 764kB/s]"
          }
        },
        "29a9d4a7b7044449bb576424cda8fe6e": {
          "model_module": "@jupyter-widgets/base",
          "model_name": "LayoutModel",
          "model_module_version": "1.2.0",
          "state": {
            "_model_module": "@jupyter-widgets/base",
            "_model_module_version": "1.2.0",
            "_model_name": "LayoutModel",
            "_view_count": null,
            "_view_module": "@jupyter-widgets/base",
            "_view_module_version": "1.2.0",
            "_view_name": "LayoutView",
            "align_content": null,
            "align_items": null,
            "align_self": null,
            "border": null,
            "bottom": null,
            "display": null,
            "flex": null,
            "flex_flow": null,
            "grid_area": null,
            "grid_auto_columns": null,
            "grid_auto_flow": null,
            "grid_auto_rows": null,
            "grid_column": null,
            "grid_gap": null,
            "grid_row": null,
            "grid_template_areas": null,
            "grid_template_columns": null,
            "grid_template_rows": null,
            "height": null,
            "justify_content": null,
            "justify_items": null,
            "left": null,
            "margin": null,
            "max_height": null,
            "max_width": null,
            "min_height": null,
            "min_width": null,
            "object_fit": null,
            "object_position": null,
            "order": null,
            "overflow": null,
            "overflow_x": null,
            "overflow_y": null,
            "padding": null,
            "right": null,
            "top": null,
            "visibility": null,
            "width": null
          }
        },
        "7d30b00ce0e441038bd428d76b3fa00f": {
          "model_module": "@jupyter-widgets/base",
          "model_name": "LayoutModel",
          "model_module_version": "1.2.0",
          "state": {
            "_model_module": "@jupyter-widgets/base",
            "_model_module_version": "1.2.0",
            "_model_name": "LayoutModel",
            "_view_count": null,
            "_view_module": "@jupyter-widgets/base",
            "_view_module_version": "1.2.0",
            "_view_name": "LayoutView",
            "align_content": null,
            "align_items": null,
            "align_self": null,
            "border": null,
            "bottom": null,
            "display": null,
            "flex": null,
            "flex_flow": null,
            "grid_area": null,
            "grid_auto_columns": null,
            "grid_auto_flow": null,
            "grid_auto_rows": null,
            "grid_column": null,
            "grid_gap": null,
            "grid_row": null,
            "grid_template_areas": null,
            "grid_template_columns": null,
            "grid_template_rows": null,
            "height": null,
            "justify_content": null,
            "justify_items": null,
            "left": null,
            "margin": null,
            "max_height": null,
            "max_width": null,
            "min_height": null,
            "min_width": null,
            "object_fit": null,
            "object_position": null,
            "order": null,
            "overflow": null,
            "overflow_x": null,
            "overflow_y": null,
            "padding": null,
            "right": null,
            "top": null,
            "visibility": null,
            "width": null
          }
        },
        "e68c3217c08f4f3b83143a5d0b2bc3bb": {
          "model_module": "@jupyter-widgets/controls",
          "model_name": "DescriptionStyleModel",
          "model_module_version": "1.5.0",
          "state": {
            "_model_module": "@jupyter-widgets/controls",
            "_model_module_version": "1.5.0",
            "_model_name": "DescriptionStyleModel",
            "_view_count": null,
            "_view_module": "@jupyter-widgets/base",
            "_view_module_version": "1.2.0",
            "_view_name": "StyleView",
            "description_width": ""
          }
        },
        "c12ed6a3692c439989b33c6b72f4c538": {
          "model_module": "@jupyter-widgets/base",
          "model_name": "LayoutModel",
          "model_module_version": "1.2.0",
          "state": {
            "_model_module": "@jupyter-widgets/base",
            "_model_module_version": "1.2.0",
            "_model_name": "LayoutModel",
            "_view_count": null,
            "_view_module": "@jupyter-widgets/base",
            "_view_module_version": "1.2.0",
            "_view_name": "LayoutView",
            "align_content": null,
            "align_items": null,
            "align_self": null,
            "border": null,
            "bottom": null,
            "display": null,
            "flex": null,
            "flex_flow": null,
            "grid_area": null,
            "grid_auto_columns": null,
            "grid_auto_flow": null,
            "grid_auto_rows": null,
            "grid_column": null,
            "grid_gap": null,
            "grid_row": null,
            "grid_template_areas": null,
            "grid_template_columns": null,
            "grid_template_rows": null,
            "height": null,
            "justify_content": null,
            "justify_items": null,
            "left": null,
            "margin": null,
            "max_height": null,
            "max_width": null,
            "min_height": null,
            "min_width": null,
            "object_fit": null,
            "object_position": null,
            "order": null,
            "overflow": null,
            "overflow_x": null,
            "overflow_y": null,
            "padding": null,
            "right": null,
            "top": null,
            "visibility": null,
            "width": null
          }
        },
        "4eeed210e18f40ddb7d50199cc8d2ca8": {
          "model_module": "@jupyter-widgets/controls",
          "model_name": "ProgressStyleModel",
          "model_module_version": "1.5.0",
          "state": {
            "_model_module": "@jupyter-widgets/controls",
            "_model_module_version": "1.5.0",
            "_model_name": "ProgressStyleModel",
            "_view_count": null,
            "_view_module": "@jupyter-widgets/base",
            "_view_module_version": "1.2.0",
            "_view_name": "StyleView",
            "bar_color": null,
            "description_width": ""
          }
        },
        "9c231951708e4b2ea140ebb45920ebee": {
          "model_module": "@jupyter-widgets/base",
          "model_name": "LayoutModel",
          "model_module_version": "1.2.0",
          "state": {
            "_model_module": "@jupyter-widgets/base",
            "_model_module_version": "1.2.0",
            "_model_name": "LayoutModel",
            "_view_count": null,
            "_view_module": "@jupyter-widgets/base",
            "_view_module_version": "1.2.0",
            "_view_name": "LayoutView",
            "align_content": null,
            "align_items": null,
            "align_self": null,
            "border": null,
            "bottom": null,
            "display": null,
            "flex": null,
            "flex_flow": null,
            "grid_area": null,
            "grid_auto_columns": null,
            "grid_auto_flow": null,
            "grid_auto_rows": null,
            "grid_column": null,
            "grid_gap": null,
            "grid_row": null,
            "grid_template_areas": null,
            "grid_template_columns": null,
            "grid_template_rows": null,
            "height": null,
            "justify_content": null,
            "justify_items": null,
            "left": null,
            "margin": null,
            "max_height": null,
            "max_width": null,
            "min_height": null,
            "min_width": null,
            "object_fit": null,
            "object_position": null,
            "order": null,
            "overflow": null,
            "overflow_x": null,
            "overflow_y": null,
            "padding": null,
            "right": null,
            "top": null,
            "visibility": null,
            "width": null
          }
        },
        "d455efdc27864e4eb00e1ef1b914130c": {
          "model_module": "@jupyter-widgets/controls",
          "model_name": "DescriptionStyleModel",
          "model_module_version": "1.5.0",
          "state": {
            "_model_module": "@jupyter-widgets/controls",
            "_model_module_version": "1.5.0",
            "_model_name": "DescriptionStyleModel",
            "_view_count": null,
            "_view_module": "@jupyter-widgets/base",
            "_view_module_version": "1.2.0",
            "_view_name": "StyleView",
            "description_width": ""
          }
        },
        "8af5b67f96a24b2488e2ed759c428d50": {
          "model_module": "@jupyter-widgets/controls",
          "model_name": "HBoxModel",
          "model_module_version": "1.5.0",
          "state": {
            "_dom_classes": [],
            "_model_module": "@jupyter-widgets/controls",
            "_model_module_version": "1.5.0",
            "_model_name": "HBoxModel",
            "_view_count": null,
            "_view_module": "@jupyter-widgets/controls",
            "_view_module_version": "1.5.0",
            "_view_name": "HBoxView",
            "box_style": "",
            "children": [
              "IPY_MODEL_0550f12aa40245e293b1ec553cb9b5e0",
              "IPY_MODEL_44a0ba571f8b4d5db234e8214538c863",
              "IPY_MODEL_135ba78036db4801929d95522b0bce8e"
            ],
            "layout": "IPY_MODEL_3a623663964742ea85c02c163621bb66"
          }
        },
        "0550f12aa40245e293b1ec553cb9b5e0": {
          "model_module": "@jupyter-widgets/controls",
          "model_name": "HTMLModel",
          "model_module_version": "1.5.0",
          "state": {
            "_dom_classes": [],
            "_model_module": "@jupyter-widgets/controls",
            "_model_module_version": "1.5.0",
            "_model_name": "HTMLModel",
            "_view_count": null,
            "_view_module": "@jupyter-widgets/controls",
            "_view_module_version": "1.5.0",
            "_view_name": "HTMLView",
            "description": "",
            "description_tooltip": null,
            "layout": "IPY_MODEL_b819cd57be3a4e5481718e05bdc6cb95",
            "placeholder": "​",
            "style": "IPY_MODEL_a5e541f1d20a40dc9cd79b93b4e17b73",
            "value": "(…)e2f80f3d3c277d6e90027e55de9125/vocab.txt: 100%"
          }
        },
        "44a0ba571f8b4d5db234e8214538c863": {
          "model_module": "@jupyter-widgets/controls",
          "model_name": "FloatProgressModel",
          "model_module_version": "1.5.0",
          "state": {
            "_dom_classes": [],
            "_model_module": "@jupyter-widgets/controls",
            "_model_module_version": "1.5.0",
            "_model_name": "FloatProgressModel",
            "_view_count": null,
            "_view_module": "@jupyter-widgets/controls",
            "_view_module_version": "1.5.0",
            "_view_name": "ProgressView",
            "bar_style": "success",
            "description": "",
            "description_tooltip": null,
            "layout": "IPY_MODEL_0a727ac800c34800bf7898178eee6af6",
            "max": 231508,
            "min": 0,
            "orientation": "horizontal",
            "style": "IPY_MODEL_5afe9191f54a43139ca01ef965680bbb",
            "value": 231508
          }
        },
        "135ba78036db4801929d95522b0bce8e": {
          "model_module": "@jupyter-widgets/controls",
          "model_name": "HTMLModel",
          "model_module_version": "1.5.0",
          "state": {
            "_dom_classes": [],
            "_model_module": "@jupyter-widgets/controls",
            "_model_module_version": "1.5.0",
            "_model_name": "HTMLModel",
            "_view_count": null,
            "_view_module": "@jupyter-widgets/controls",
            "_view_module_version": "1.5.0",
            "_view_name": "HTMLView",
            "description": "",
            "description_tooltip": null,
            "layout": "IPY_MODEL_3f5d8cad2ac74610a2b1c9c70d3f0708",
            "placeholder": "​",
            "style": "IPY_MODEL_258c8f1a1cb343acb18ab257d7646194",
            "value": " 232k/232k [00:00&lt;00:00, 8.19MB/s]"
          }
        },
        "3a623663964742ea85c02c163621bb66": {
          "model_module": "@jupyter-widgets/base",
          "model_name": "LayoutModel",
          "model_module_version": "1.2.0",
          "state": {
            "_model_module": "@jupyter-widgets/base",
            "_model_module_version": "1.2.0",
            "_model_name": "LayoutModel",
            "_view_count": null,
            "_view_module": "@jupyter-widgets/base",
            "_view_module_version": "1.2.0",
            "_view_name": "LayoutView",
            "align_content": null,
            "align_items": null,
            "align_self": null,
            "border": null,
            "bottom": null,
            "display": null,
            "flex": null,
            "flex_flow": null,
            "grid_area": null,
            "grid_auto_columns": null,
            "grid_auto_flow": null,
            "grid_auto_rows": null,
            "grid_column": null,
            "grid_gap": null,
            "grid_row": null,
            "grid_template_areas": null,
            "grid_template_columns": null,
            "grid_template_rows": null,
            "height": null,
            "justify_content": null,
            "justify_items": null,
            "left": null,
            "margin": null,
            "max_height": null,
            "max_width": null,
            "min_height": null,
            "min_width": null,
            "object_fit": null,
            "object_position": null,
            "order": null,
            "overflow": null,
            "overflow_x": null,
            "overflow_y": null,
            "padding": null,
            "right": null,
            "top": null,
            "visibility": null,
            "width": null
          }
        },
        "b819cd57be3a4e5481718e05bdc6cb95": {
          "model_module": "@jupyter-widgets/base",
          "model_name": "LayoutModel",
          "model_module_version": "1.2.0",
          "state": {
            "_model_module": "@jupyter-widgets/base",
            "_model_module_version": "1.2.0",
            "_model_name": "LayoutModel",
            "_view_count": null,
            "_view_module": "@jupyter-widgets/base",
            "_view_module_version": "1.2.0",
            "_view_name": "LayoutView",
            "align_content": null,
            "align_items": null,
            "align_self": null,
            "border": null,
            "bottom": null,
            "display": null,
            "flex": null,
            "flex_flow": null,
            "grid_area": null,
            "grid_auto_columns": null,
            "grid_auto_flow": null,
            "grid_auto_rows": null,
            "grid_column": null,
            "grid_gap": null,
            "grid_row": null,
            "grid_template_areas": null,
            "grid_template_columns": null,
            "grid_template_rows": null,
            "height": null,
            "justify_content": null,
            "justify_items": null,
            "left": null,
            "margin": null,
            "max_height": null,
            "max_width": null,
            "min_height": null,
            "min_width": null,
            "object_fit": null,
            "object_position": null,
            "order": null,
            "overflow": null,
            "overflow_x": null,
            "overflow_y": null,
            "padding": null,
            "right": null,
            "top": null,
            "visibility": null,
            "width": null
          }
        },
        "a5e541f1d20a40dc9cd79b93b4e17b73": {
          "model_module": "@jupyter-widgets/controls",
          "model_name": "DescriptionStyleModel",
          "model_module_version": "1.5.0",
          "state": {
            "_model_module": "@jupyter-widgets/controls",
            "_model_module_version": "1.5.0",
            "_model_name": "DescriptionStyleModel",
            "_view_count": null,
            "_view_module": "@jupyter-widgets/base",
            "_view_module_version": "1.2.0",
            "_view_name": "StyleView",
            "description_width": ""
          }
        },
        "0a727ac800c34800bf7898178eee6af6": {
          "model_module": "@jupyter-widgets/base",
          "model_name": "LayoutModel",
          "model_module_version": "1.2.0",
          "state": {
            "_model_module": "@jupyter-widgets/base",
            "_model_module_version": "1.2.0",
            "_model_name": "LayoutModel",
            "_view_count": null,
            "_view_module": "@jupyter-widgets/base",
            "_view_module_version": "1.2.0",
            "_view_name": "LayoutView",
            "align_content": null,
            "align_items": null,
            "align_self": null,
            "border": null,
            "bottom": null,
            "display": null,
            "flex": null,
            "flex_flow": null,
            "grid_area": null,
            "grid_auto_columns": null,
            "grid_auto_flow": null,
            "grid_auto_rows": null,
            "grid_column": null,
            "grid_gap": null,
            "grid_row": null,
            "grid_template_areas": null,
            "grid_template_columns": null,
            "grid_template_rows": null,
            "height": null,
            "justify_content": null,
            "justify_items": null,
            "left": null,
            "margin": null,
            "max_height": null,
            "max_width": null,
            "min_height": null,
            "min_width": null,
            "object_fit": null,
            "object_position": null,
            "order": null,
            "overflow": null,
            "overflow_x": null,
            "overflow_y": null,
            "padding": null,
            "right": null,
            "top": null,
            "visibility": null,
            "width": null
          }
        },
        "5afe9191f54a43139ca01ef965680bbb": {
          "model_module": "@jupyter-widgets/controls",
          "model_name": "ProgressStyleModel",
          "model_module_version": "1.5.0",
          "state": {
            "_model_module": "@jupyter-widgets/controls",
            "_model_module_version": "1.5.0",
            "_model_name": "ProgressStyleModel",
            "_view_count": null,
            "_view_module": "@jupyter-widgets/base",
            "_view_module_version": "1.2.0",
            "_view_name": "StyleView",
            "bar_color": null,
            "description_width": ""
          }
        },
        "3f5d8cad2ac74610a2b1c9c70d3f0708": {
          "model_module": "@jupyter-widgets/base",
          "model_name": "LayoutModel",
          "model_module_version": "1.2.0",
          "state": {
            "_model_module": "@jupyter-widgets/base",
            "_model_module_version": "1.2.0",
            "_model_name": "LayoutModel",
            "_view_count": null,
            "_view_module": "@jupyter-widgets/base",
            "_view_module_version": "1.2.0",
            "_view_name": "LayoutView",
            "align_content": null,
            "align_items": null,
            "align_self": null,
            "border": null,
            "bottom": null,
            "display": null,
            "flex": null,
            "flex_flow": null,
            "grid_area": null,
            "grid_auto_columns": null,
            "grid_auto_flow": null,
            "grid_auto_rows": null,
            "grid_column": null,
            "grid_gap": null,
            "grid_row": null,
            "grid_template_areas": null,
            "grid_template_columns": null,
            "grid_template_rows": null,
            "height": null,
            "justify_content": null,
            "justify_items": null,
            "left": null,
            "margin": null,
            "max_height": null,
            "max_width": null,
            "min_height": null,
            "min_width": null,
            "object_fit": null,
            "object_position": null,
            "order": null,
            "overflow": null,
            "overflow_x": null,
            "overflow_y": null,
            "padding": null,
            "right": null,
            "top": null,
            "visibility": null,
            "width": null
          }
        },
        "258c8f1a1cb343acb18ab257d7646194": {
          "model_module": "@jupyter-widgets/controls",
          "model_name": "DescriptionStyleModel",
          "model_module_version": "1.5.0",
          "state": {
            "_model_module": "@jupyter-widgets/controls",
            "_model_module_version": "1.5.0",
            "_model_name": "DescriptionStyleModel",
            "_view_count": null,
            "_view_module": "@jupyter-widgets/base",
            "_view_module_version": "1.2.0",
            "_view_name": "StyleView",
            "description_width": ""
          }
        },
        "ed8f18d3f7be48258ec3413d56e4ec39": {
          "model_module": "@jupyter-widgets/controls",
          "model_name": "HBoxModel",
          "model_module_version": "1.5.0",
          "state": {
            "_dom_classes": [],
            "_model_module": "@jupyter-widgets/controls",
            "_model_module_version": "1.5.0",
            "_model_name": "HBoxModel",
            "_view_count": null,
            "_view_module": "@jupyter-widgets/controls",
            "_view_module_version": "1.5.0",
            "_view_name": "HBoxView",
            "box_style": "",
            "children": [
              "IPY_MODEL_b89e97be66ac45058a1a482f0edcbcff",
              "IPY_MODEL_02d94fea96c04973b197c3f4968e57f4",
              "IPY_MODEL_bf526b48f117469586ffcd50c96b9947"
            ],
            "layout": "IPY_MODEL_04821e63074741f694bc616cc4a19745"
          }
        },
        "b89e97be66ac45058a1a482f0edcbcff": {
          "model_module": "@jupyter-widgets/controls",
          "model_name": "HTMLModel",
          "model_module_version": "1.5.0",
          "state": {
            "_dom_classes": [],
            "_model_module": "@jupyter-widgets/controls",
            "_model_module_version": "1.5.0",
            "_model_name": "HTMLModel",
            "_view_count": null,
            "_view_module": "@jupyter-widgets/controls",
            "_view_module_version": "1.5.0",
            "_view_name": "HTMLView",
            "description": "",
            "description_tooltip": null,
            "layout": "IPY_MODEL_52d04579674c47e8b4ba3fd26800a1c3",
            "placeholder": "​",
            "style": "IPY_MODEL_4253b3f49b7746f6a1dfced98383942d",
            "value": "(…)80f3d3c277d6e90027e55de9125/modules.json: 100%"
          }
        },
        "02d94fea96c04973b197c3f4968e57f4": {
          "model_module": "@jupyter-widgets/controls",
          "model_name": "FloatProgressModel",
          "model_module_version": "1.5.0",
          "state": {
            "_dom_classes": [],
            "_model_module": "@jupyter-widgets/controls",
            "_model_module_version": "1.5.0",
            "_model_name": "FloatProgressModel",
            "_view_count": null,
            "_view_module": "@jupyter-widgets/controls",
            "_view_module_version": "1.5.0",
            "_view_name": "ProgressView",
            "bar_style": "success",
            "description": "",
            "description_tooltip": null,
            "layout": "IPY_MODEL_1733d40462e3441abe9b99cd52fb6bd2",
            "max": 349,
            "min": 0,
            "orientation": "horizontal",
            "style": "IPY_MODEL_740f4a5890964fddbe5c382a1539cb51",
            "value": 349
          }
        },
        "bf526b48f117469586ffcd50c96b9947": {
          "model_module": "@jupyter-widgets/controls",
          "model_name": "HTMLModel",
          "model_module_version": "1.5.0",
          "state": {
            "_dom_classes": [],
            "_model_module": "@jupyter-widgets/controls",
            "_model_module_version": "1.5.0",
            "_model_name": "HTMLModel",
            "_view_count": null,
            "_view_module": "@jupyter-widgets/controls",
            "_view_module_version": "1.5.0",
            "_view_name": "HTMLView",
            "description": "",
            "description_tooltip": null,
            "layout": "IPY_MODEL_79635826573c4f169e02ab6d1626b760",
            "placeholder": "​",
            "style": "IPY_MODEL_4fb094db700a46b2b584ccd2925c761f",
            "value": " 349/349 [00:00&lt;00:00, 5.01kB/s]"
          }
        },
        "04821e63074741f694bc616cc4a19745": {
          "model_module": "@jupyter-widgets/base",
          "model_name": "LayoutModel",
          "model_module_version": "1.2.0",
          "state": {
            "_model_module": "@jupyter-widgets/base",
            "_model_module_version": "1.2.0",
            "_model_name": "LayoutModel",
            "_view_count": null,
            "_view_module": "@jupyter-widgets/base",
            "_view_module_version": "1.2.0",
            "_view_name": "LayoutView",
            "align_content": null,
            "align_items": null,
            "align_self": null,
            "border": null,
            "bottom": null,
            "display": null,
            "flex": null,
            "flex_flow": null,
            "grid_area": null,
            "grid_auto_columns": null,
            "grid_auto_flow": null,
            "grid_auto_rows": null,
            "grid_column": null,
            "grid_gap": null,
            "grid_row": null,
            "grid_template_areas": null,
            "grid_template_columns": null,
            "grid_template_rows": null,
            "height": null,
            "justify_content": null,
            "justify_items": null,
            "left": null,
            "margin": null,
            "max_height": null,
            "max_width": null,
            "min_height": null,
            "min_width": null,
            "object_fit": null,
            "object_position": null,
            "order": null,
            "overflow": null,
            "overflow_x": null,
            "overflow_y": null,
            "padding": null,
            "right": null,
            "top": null,
            "visibility": null,
            "width": null
          }
        },
        "52d04579674c47e8b4ba3fd26800a1c3": {
          "model_module": "@jupyter-widgets/base",
          "model_name": "LayoutModel",
          "model_module_version": "1.2.0",
          "state": {
            "_model_module": "@jupyter-widgets/base",
            "_model_module_version": "1.2.0",
            "_model_name": "LayoutModel",
            "_view_count": null,
            "_view_module": "@jupyter-widgets/base",
            "_view_module_version": "1.2.0",
            "_view_name": "LayoutView",
            "align_content": null,
            "align_items": null,
            "align_self": null,
            "border": null,
            "bottom": null,
            "display": null,
            "flex": null,
            "flex_flow": null,
            "grid_area": null,
            "grid_auto_columns": null,
            "grid_auto_flow": null,
            "grid_auto_rows": null,
            "grid_column": null,
            "grid_gap": null,
            "grid_row": null,
            "grid_template_areas": null,
            "grid_template_columns": null,
            "grid_template_rows": null,
            "height": null,
            "justify_content": null,
            "justify_items": null,
            "left": null,
            "margin": null,
            "max_height": null,
            "max_width": null,
            "min_height": null,
            "min_width": null,
            "object_fit": null,
            "object_position": null,
            "order": null,
            "overflow": null,
            "overflow_x": null,
            "overflow_y": null,
            "padding": null,
            "right": null,
            "top": null,
            "visibility": null,
            "width": null
          }
        },
        "4253b3f49b7746f6a1dfced98383942d": {
          "model_module": "@jupyter-widgets/controls",
          "model_name": "DescriptionStyleModel",
          "model_module_version": "1.5.0",
          "state": {
            "_model_module": "@jupyter-widgets/controls",
            "_model_module_version": "1.5.0",
            "_model_name": "DescriptionStyleModel",
            "_view_count": null,
            "_view_module": "@jupyter-widgets/base",
            "_view_module_version": "1.2.0",
            "_view_name": "StyleView",
            "description_width": ""
          }
        },
        "1733d40462e3441abe9b99cd52fb6bd2": {
          "model_module": "@jupyter-widgets/base",
          "model_name": "LayoutModel",
          "model_module_version": "1.2.0",
          "state": {
            "_model_module": "@jupyter-widgets/base",
            "_model_module_version": "1.2.0",
            "_model_name": "LayoutModel",
            "_view_count": null,
            "_view_module": "@jupyter-widgets/base",
            "_view_module_version": "1.2.0",
            "_view_name": "LayoutView",
            "align_content": null,
            "align_items": null,
            "align_self": null,
            "border": null,
            "bottom": null,
            "display": null,
            "flex": null,
            "flex_flow": null,
            "grid_area": null,
            "grid_auto_columns": null,
            "grid_auto_flow": null,
            "grid_auto_rows": null,
            "grid_column": null,
            "grid_gap": null,
            "grid_row": null,
            "grid_template_areas": null,
            "grid_template_columns": null,
            "grid_template_rows": null,
            "height": null,
            "justify_content": null,
            "justify_items": null,
            "left": null,
            "margin": null,
            "max_height": null,
            "max_width": null,
            "min_height": null,
            "min_width": null,
            "object_fit": null,
            "object_position": null,
            "order": null,
            "overflow": null,
            "overflow_x": null,
            "overflow_y": null,
            "padding": null,
            "right": null,
            "top": null,
            "visibility": null,
            "width": null
          }
        },
        "740f4a5890964fddbe5c382a1539cb51": {
          "model_module": "@jupyter-widgets/controls",
          "model_name": "ProgressStyleModel",
          "model_module_version": "1.5.0",
          "state": {
            "_model_module": "@jupyter-widgets/controls",
            "_model_module_version": "1.5.0",
            "_model_name": "ProgressStyleModel",
            "_view_count": null,
            "_view_module": "@jupyter-widgets/base",
            "_view_module_version": "1.2.0",
            "_view_name": "StyleView",
            "bar_color": null,
            "description_width": ""
          }
        },
        "79635826573c4f169e02ab6d1626b760": {
          "model_module": "@jupyter-widgets/base",
          "model_name": "LayoutModel",
          "model_module_version": "1.2.0",
          "state": {
            "_model_module": "@jupyter-widgets/base",
            "_model_module_version": "1.2.0",
            "_model_name": "LayoutModel",
            "_view_count": null,
            "_view_module": "@jupyter-widgets/base",
            "_view_module_version": "1.2.0",
            "_view_name": "LayoutView",
            "align_content": null,
            "align_items": null,
            "align_self": null,
            "border": null,
            "bottom": null,
            "display": null,
            "flex": null,
            "flex_flow": null,
            "grid_area": null,
            "grid_auto_columns": null,
            "grid_auto_flow": null,
            "grid_auto_rows": null,
            "grid_column": null,
            "grid_gap": null,
            "grid_row": null,
            "grid_template_areas": null,
            "grid_template_columns": null,
            "grid_template_rows": null,
            "height": null,
            "justify_content": null,
            "justify_items": null,
            "left": null,
            "margin": null,
            "max_height": null,
            "max_width": null,
            "min_height": null,
            "min_width": null,
            "object_fit": null,
            "object_position": null,
            "order": null,
            "overflow": null,
            "overflow_x": null,
            "overflow_y": null,
            "padding": null,
            "right": null,
            "top": null,
            "visibility": null,
            "width": null
          }
        },
        "4fb094db700a46b2b584ccd2925c761f": {
          "model_module": "@jupyter-widgets/controls",
          "model_name": "DescriptionStyleModel",
          "model_module_version": "1.5.0",
          "state": {
            "_model_module": "@jupyter-widgets/controls",
            "_model_module_version": "1.5.0",
            "_model_name": "DescriptionStyleModel",
            "_view_count": null,
            "_view_module": "@jupyter-widgets/base",
            "_view_module_version": "1.2.0",
            "_view_name": "StyleView",
            "description_width": ""
          }
        },
        "c6cf93ea47034e41899dd5acc8232ff1": {
          "model_module": "@jupyter-widgets/controls",
          "model_name": "HBoxModel",
          "model_module_version": "1.5.0",
          "state": {
            "_dom_classes": [],
            "_model_module": "@jupyter-widgets/controls",
            "_model_module_version": "1.5.0",
            "_model_name": "HBoxModel",
            "_view_count": null,
            "_view_module": "@jupyter-widgets/controls",
            "_view_module_version": "1.5.0",
            "_view_name": "HBoxView",
            "box_style": "",
            "children": [
              "IPY_MODEL_96b8c874ba354a8aa8000e6ddb1f11a7",
              "IPY_MODEL_d8e84b867a0f4df1bd6a1de6691dc333",
              "IPY_MODEL_e80076939843449293a5ca42b7a656ba"
            ],
            "layout": "IPY_MODEL_be10aa7110a64c569deae18e19dbd1b7"
          }
        },
        "96b8c874ba354a8aa8000e6ddb1f11a7": {
          "model_module": "@jupyter-widgets/controls",
          "model_name": "HTMLModel",
          "model_module_version": "1.5.0",
          "state": {
            "_dom_classes": [],
            "_model_module": "@jupyter-widgets/controls",
            "_model_module_version": "1.5.0",
            "_model_name": "HTMLModel",
            "_view_count": null,
            "_view_module": "@jupyter-widgets/controls",
            "_view_module_version": "1.5.0",
            "_view_name": "HTMLView",
            "description": "",
            "description_tooltip": null,
            "layout": "IPY_MODEL_06d7e6db3d8f4dc3938c8e4f684cc730",
            "placeholder": "​",
            "style": "IPY_MODEL_1af9a20564974ea891d5d2b792e8b616",
            "value": "Downloading readme: 100%"
          }
        },
        "d8e84b867a0f4df1bd6a1de6691dc333": {
          "model_module": "@jupyter-widgets/controls",
          "model_name": "FloatProgressModel",
          "model_module_version": "1.5.0",
          "state": {
            "_dom_classes": [],
            "_model_module": "@jupyter-widgets/controls",
            "_model_module_version": "1.5.0",
            "_model_name": "FloatProgressModel",
            "_view_count": null,
            "_view_module": "@jupyter-widgets/controls",
            "_view_module_version": "1.5.0",
            "_view_name": "ProgressView",
            "bar_style": "success",
            "description": "",
            "description_tooltip": null,
            "layout": "IPY_MODEL_3c3e7466a253478ea855173f27eba8c4",
            "max": 28,
            "min": 0,
            "orientation": "horizontal",
            "style": "IPY_MODEL_ca05a5015f0e45b7842e6bea40b91a63",
            "value": 28
          }
        },
        "e80076939843449293a5ca42b7a656ba": {
          "model_module": "@jupyter-widgets/controls",
          "model_name": "HTMLModel",
          "model_module_version": "1.5.0",
          "state": {
            "_dom_classes": [],
            "_model_module": "@jupyter-widgets/controls",
            "_model_module_version": "1.5.0",
            "_model_name": "HTMLModel",
            "_view_count": null,
            "_view_module": "@jupyter-widgets/controls",
            "_view_module_version": "1.5.0",
            "_view_name": "HTMLView",
            "description": "",
            "description_tooltip": null,
            "layout": "IPY_MODEL_72ad3444ca604f59a73f5469f4bf367c",
            "placeholder": "​",
            "style": "IPY_MODEL_2c9e9b71956d4c55bc0f45452800726d",
            "value": " 28.0/28.0 [00:00&lt;00:00, 1.75kB/s]"
          }
        },
        "be10aa7110a64c569deae18e19dbd1b7": {
          "model_module": "@jupyter-widgets/base",
          "model_name": "LayoutModel",
          "model_module_version": "1.2.0",
          "state": {
            "_model_module": "@jupyter-widgets/base",
            "_model_module_version": "1.2.0",
            "_model_name": "LayoutModel",
            "_view_count": null,
            "_view_module": "@jupyter-widgets/base",
            "_view_module_version": "1.2.0",
            "_view_name": "LayoutView",
            "align_content": null,
            "align_items": null,
            "align_self": null,
            "border": null,
            "bottom": null,
            "display": null,
            "flex": null,
            "flex_flow": null,
            "grid_area": null,
            "grid_auto_columns": null,
            "grid_auto_flow": null,
            "grid_auto_rows": null,
            "grid_column": null,
            "grid_gap": null,
            "grid_row": null,
            "grid_template_areas": null,
            "grid_template_columns": null,
            "grid_template_rows": null,
            "height": null,
            "justify_content": null,
            "justify_items": null,
            "left": null,
            "margin": null,
            "max_height": null,
            "max_width": null,
            "min_height": null,
            "min_width": null,
            "object_fit": null,
            "object_position": null,
            "order": null,
            "overflow": null,
            "overflow_x": null,
            "overflow_y": null,
            "padding": null,
            "right": null,
            "top": null,
            "visibility": null,
            "width": null
          }
        },
        "06d7e6db3d8f4dc3938c8e4f684cc730": {
          "model_module": "@jupyter-widgets/base",
          "model_name": "LayoutModel",
          "model_module_version": "1.2.0",
          "state": {
            "_model_module": "@jupyter-widgets/base",
            "_model_module_version": "1.2.0",
            "_model_name": "LayoutModel",
            "_view_count": null,
            "_view_module": "@jupyter-widgets/base",
            "_view_module_version": "1.2.0",
            "_view_name": "LayoutView",
            "align_content": null,
            "align_items": null,
            "align_self": null,
            "border": null,
            "bottom": null,
            "display": null,
            "flex": null,
            "flex_flow": null,
            "grid_area": null,
            "grid_auto_columns": null,
            "grid_auto_flow": null,
            "grid_auto_rows": null,
            "grid_column": null,
            "grid_gap": null,
            "grid_row": null,
            "grid_template_areas": null,
            "grid_template_columns": null,
            "grid_template_rows": null,
            "height": null,
            "justify_content": null,
            "justify_items": null,
            "left": null,
            "margin": null,
            "max_height": null,
            "max_width": null,
            "min_height": null,
            "min_width": null,
            "object_fit": null,
            "object_position": null,
            "order": null,
            "overflow": null,
            "overflow_x": null,
            "overflow_y": null,
            "padding": null,
            "right": null,
            "top": null,
            "visibility": null,
            "width": null
          }
        },
        "1af9a20564974ea891d5d2b792e8b616": {
          "model_module": "@jupyter-widgets/controls",
          "model_name": "DescriptionStyleModel",
          "model_module_version": "1.5.0",
          "state": {
            "_model_module": "@jupyter-widgets/controls",
            "_model_module_version": "1.5.0",
            "_model_name": "DescriptionStyleModel",
            "_view_count": null,
            "_view_module": "@jupyter-widgets/base",
            "_view_module_version": "1.2.0",
            "_view_name": "StyleView",
            "description_width": ""
          }
        },
        "3c3e7466a253478ea855173f27eba8c4": {
          "model_module": "@jupyter-widgets/base",
          "model_name": "LayoutModel",
          "model_module_version": "1.2.0",
          "state": {
            "_model_module": "@jupyter-widgets/base",
            "_model_module_version": "1.2.0",
            "_model_name": "LayoutModel",
            "_view_count": null,
            "_view_module": "@jupyter-widgets/base",
            "_view_module_version": "1.2.0",
            "_view_name": "LayoutView",
            "align_content": null,
            "align_items": null,
            "align_self": null,
            "border": null,
            "bottom": null,
            "display": null,
            "flex": null,
            "flex_flow": null,
            "grid_area": null,
            "grid_auto_columns": null,
            "grid_auto_flow": null,
            "grid_auto_rows": null,
            "grid_column": null,
            "grid_gap": null,
            "grid_row": null,
            "grid_template_areas": null,
            "grid_template_columns": null,
            "grid_template_rows": null,
            "height": null,
            "justify_content": null,
            "justify_items": null,
            "left": null,
            "margin": null,
            "max_height": null,
            "max_width": null,
            "min_height": null,
            "min_width": null,
            "object_fit": null,
            "object_position": null,
            "order": null,
            "overflow": null,
            "overflow_x": null,
            "overflow_y": null,
            "padding": null,
            "right": null,
            "top": null,
            "visibility": null,
            "width": null
          }
        },
        "ca05a5015f0e45b7842e6bea40b91a63": {
          "model_module": "@jupyter-widgets/controls",
          "model_name": "ProgressStyleModel",
          "model_module_version": "1.5.0",
          "state": {
            "_model_module": "@jupyter-widgets/controls",
            "_model_module_version": "1.5.0",
            "_model_name": "ProgressStyleModel",
            "_view_count": null,
            "_view_module": "@jupyter-widgets/base",
            "_view_module_version": "1.2.0",
            "_view_name": "StyleView",
            "bar_color": null,
            "description_width": ""
          }
        },
        "72ad3444ca604f59a73f5469f4bf367c": {
          "model_module": "@jupyter-widgets/base",
          "model_name": "LayoutModel",
          "model_module_version": "1.2.0",
          "state": {
            "_model_module": "@jupyter-widgets/base",
            "_model_module_version": "1.2.0",
            "_model_name": "LayoutModel",
            "_view_count": null,
            "_view_module": "@jupyter-widgets/base",
            "_view_module_version": "1.2.0",
            "_view_name": "LayoutView",
            "align_content": null,
            "align_items": null,
            "align_self": null,
            "border": null,
            "bottom": null,
            "display": null,
            "flex": null,
            "flex_flow": null,
            "grid_area": null,
            "grid_auto_columns": null,
            "grid_auto_flow": null,
            "grid_auto_rows": null,
            "grid_column": null,
            "grid_gap": null,
            "grid_row": null,
            "grid_template_areas": null,
            "grid_template_columns": null,
            "grid_template_rows": null,
            "height": null,
            "justify_content": null,
            "justify_items": null,
            "left": null,
            "margin": null,
            "max_height": null,
            "max_width": null,
            "min_height": null,
            "min_width": null,
            "object_fit": null,
            "object_position": null,
            "order": null,
            "overflow": null,
            "overflow_x": null,
            "overflow_y": null,
            "padding": null,
            "right": null,
            "top": null,
            "visibility": null,
            "width": null
          }
        },
        "2c9e9b71956d4c55bc0f45452800726d": {
          "model_module": "@jupyter-widgets/controls",
          "model_name": "DescriptionStyleModel",
          "model_module_version": "1.5.0",
          "state": {
            "_model_module": "@jupyter-widgets/controls",
            "_model_module_version": "1.5.0",
            "_model_name": "DescriptionStyleModel",
            "_view_count": null,
            "_view_module": "@jupyter-widgets/base",
            "_view_module_version": "1.2.0",
            "_view_name": "StyleView",
            "description_width": ""
          }
        },
        "5953cb2073c94ca7a6f5026b4d2f1301": {
          "model_module": "@jupyter-widgets/controls",
          "model_name": "HBoxModel",
          "model_module_version": "1.5.0",
          "state": {
            "_dom_classes": [],
            "_model_module": "@jupyter-widgets/controls",
            "_model_module_version": "1.5.0",
            "_model_name": "HBoxModel",
            "_view_count": null,
            "_view_module": "@jupyter-widgets/controls",
            "_view_module_version": "1.5.0",
            "_view_name": "HBoxView",
            "box_style": "",
            "children": [
              "IPY_MODEL_1fb57cdb93b04faba72c62aea8f920cf",
              "IPY_MODEL_cc5d504f052a4f299d839c06b8d36a4e",
              "IPY_MODEL_91e607b93fda47ecb6902dc77490fa2e"
            ],
            "layout": "IPY_MODEL_6c7a0843a7c947b490ae55a11aa67abb"
          }
        },
        "1fb57cdb93b04faba72c62aea8f920cf": {
          "model_module": "@jupyter-widgets/controls",
          "model_name": "HTMLModel",
          "model_module_version": "1.5.0",
          "state": {
            "_dom_classes": [],
            "_model_module": "@jupyter-widgets/controls",
            "_model_module_version": "1.5.0",
            "_model_name": "HTMLModel",
            "_view_count": null,
            "_view_module": "@jupyter-widgets/controls",
            "_view_module_version": "1.5.0",
            "_view_name": "HTMLView",
            "description": "",
            "description_tooltip": null,
            "layout": "IPY_MODEL_218d046e52c146d38a89cc329a288f02",
            "placeholder": "​",
            "style": "IPY_MODEL_28f5760f5b6c4fc19d39f867ee14621f",
            "value": "Downloading data files: 100%"
          }
        },
        "cc5d504f052a4f299d839c06b8d36a4e": {
          "model_module": "@jupyter-widgets/controls",
          "model_name": "FloatProgressModel",
          "model_module_version": "1.5.0",
          "state": {
            "_dom_classes": [],
            "_model_module": "@jupyter-widgets/controls",
            "_model_module_version": "1.5.0",
            "_model_name": "FloatProgressModel",
            "_view_count": null,
            "_view_module": "@jupyter-widgets/controls",
            "_view_module_version": "1.5.0",
            "_view_name": "ProgressView",
            "bar_style": "success",
            "description": "",
            "description_tooltip": null,
            "layout": "IPY_MODEL_56830500669f484a8d96dd13f5ae63ca",
            "max": 1,
            "min": 0,
            "orientation": "horizontal",
            "style": "IPY_MODEL_3641d520ce3643638acc1605e03fa8dc",
            "value": 1
          }
        },
        "91e607b93fda47ecb6902dc77490fa2e": {
          "model_module": "@jupyter-widgets/controls",
          "model_name": "HTMLModel",
          "model_module_version": "1.5.0",
          "state": {
            "_dom_classes": [],
            "_model_module": "@jupyter-widgets/controls",
            "_model_module_version": "1.5.0",
            "_model_name": "HTMLModel",
            "_view_count": null,
            "_view_module": "@jupyter-widgets/controls",
            "_view_module_version": "1.5.0",
            "_view_name": "HTMLView",
            "description": "",
            "description_tooltip": null,
            "layout": "IPY_MODEL_f4c7b48d80504b53a76ff2096734b61a",
            "placeholder": "​",
            "style": "IPY_MODEL_54870d74f740443ba247db929348c2e9",
            "value": " 1/1 [00:00&lt;00:00,  5.84it/s]"
          }
        },
        "6c7a0843a7c947b490ae55a11aa67abb": {
          "model_module": "@jupyter-widgets/base",
          "model_name": "LayoutModel",
          "model_module_version": "1.2.0",
          "state": {
            "_model_module": "@jupyter-widgets/base",
            "_model_module_version": "1.2.0",
            "_model_name": "LayoutModel",
            "_view_count": null,
            "_view_module": "@jupyter-widgets/base",
            "_view_module_version": "1.2.0",
            "_view_name": "LayoutView",
            "align_content": null,
            "align_items": null,
            "align_self": null,
            "border": null,
            "bottom": null,
            "display": null,
            "flex": null,
            "flex_flow": null,
            "grid_area": null,
            "grid_auto_columns": null,
            "grid_auto_flow": null,
            "grid_auto_rows": null,
            "grid_column": null,
            "grid_gap": null,
            "grid_row": null,
            "grid_template_areas": null,
            "grid_template_columns": null,
            "grid_template_rows": null,
            "height": null,
            "justify_content": null,
            "justify_items": null,
            "left": null,
            "margin": null,
            "max_height": null,
            "max_width": null,
            "min_height": null,
            "min_width": null,
            "object_fit": null,
            "object_position": null,
            "order": null,
            "overflow": null,
            "overflow_x": null,
            "overflow_y": null,
            "padding": null,
            "right": null,
            "top": null,
            "visibility": null,
            "width": null
          }
        },
        "218d046e52c146d38a89cc329a288f02": {
          "model_module": "@jupyter-widgets/base",
          "model_name": "LayoutModel",
          "model_module_version": "1.2.0",
          "state": {
            "_model_module": "@jupyter-widgets/base",
            "_model_module_version": "1.2.0",
            "_model_name": "LayoutModel",
            "_view_count": null,
            "_view_module": "@jupyter-widgets/base",
            "_view_module_version": "1.2.0",
            "_view_name": "LayoutView",
            "align_content": null,
            "align_items": null,
            "align_self": null,
            "border": null,
            "bottom": null,
            "display": null,
            "flex": null,
            "flex_flow": null,
            "grid_area": null,
            "grid_auto_columns": null,
            "grid_auto_flow": null,
            "grid_auto_rows": null,
            "grid_column": null,
            "grid_gap": null,
            "grid_row": null,
            "grid_template_areas": null,
            "grid_template_columns": null,
            "grid_template_rows": null,
            "height": null,
            "justify_content": null,
            "justify_items": null,
            "left": null,
            "margin": null,
            "max_height": null,
            "max_width": null,
            "min_height": null,
            "min_width": null,
            "object_fit": null,
            "object_position": null,
            "order": null,
            "overflow": null,
            "overflow_x": null,
            "overflow_y": null,
            "padding": null,
            "right": null,
            "top": null,
            "visibility": null,
            "width": null
          }
        },
        "28f5760f5b6c4fc19d39f867ee14621f": {
          "model_module": "@jupyter-widgets/controls",
          "model_name": "DescriptionStyleModel",
          "model_module_version": "1.5.0",
          "state": {
            "_model_module": "@jupyter-widgets/controls",
            "_model_module_version": "1.5.0",
            "_model_name": "DescriptionStyleModel",
            "_view_count": null,
            "_view_module": "@jupyter-widgets/base",
            "_view_module_version": "1.2.0",
            "_view_name": "StyleView",
            "description_width": ""
          }
        },
        "56830500669f484a8d96dd13f5ae63ca": {
          "model_module": "@jupyter-widgets/base",
          "model_name": "LayoutModel",
          "model_module_version": "1.2.0",
          "state": {
            "_model_module": "@jupyter-widgets/base",
            "_model_module_version": "1.2.0",
            "_model_name": "LayoutModel",
            "_view_count": null,
            "_view_module": "@jupyter-widgets/base",
            "_view_module_version": "1.2.0",
            "_view_name": "LayoutView",
            "align_content": null,
            "align_items": null,
            "align_self": null,
            "border": null,
            "bottom": null,
            "display": null,
            "flex": null,
            "flex_flow": null,
            "grid_area": null,
            "grid_auto_columns": null,
            "grid_auto_flow": null,
            "grid_auto_rows": null,
            "grid_column": null,
            "grid_gap": null,
            "grid_row": null,
            "grid_template_areas": null,
            "grid_template_columns": null,
            "grid_template_rows": null,
            "height": null,
            "justify_content": null,
            "justify_items": null,
            "left": null,
            "margin": null,
            "max_height": null,
            "max_width": null,
            "min_height": null,
            "min_width": null,
            "object_fit": null,
            "object_position": null,
            "order": null,
            "overflow": null,
            "overflow_x": null,
            "overflow_y": null,
            "padding": null,
            "right": null,
            "top": null,
            "visibility": null,
            "width": null
          }
        },
        "3641d520ce3643638acc1605e03fa8dc": {
          "model_module": "@jupyter-widgets/controls",
          "model_name": "ProgressStyleModel",
          "model_module_version": "1.5.0",
          "state": {
            "_model_module": "@jupyter-widgets/controls",
            "_model_module_version": "1.5.0",
            "_model_name": "ProgressStyleModel",
            "_view_count": null,
            "_view_module": "@jupyter-widgets/base",
            "_view_module_version": "1.2.0",
            "_view_name": "StyleView",
            "bar_color": null,
            "description_width": ""
          }
        },
        "f4c7b48d80504b53a76ff2096734b61a": {
          "model_module": "@jupyter-widgets/base",
          "model_name": "LayoutModel",
          "model_module_version": "1.2.0",
          "state": {
            "_model_module": "@jupyter-widgets/base",
            "_model_module_version": "1.2.0",
            "_model_name": "LayoutModel",
            "_view_count": null,
            "_view_module": "@jupyter-widgets/base",
            "_view_module_version": "1.2.0",
            "_view_name": "LayoutView",
            "align_content": null,
            "align_items": null,
            "align_self": null,
            "border": null,
            "bottom": null,
            "display": null,
            "flex": null,
            "flex_flow": null,
            "grid_area": null,
            "grid_auto_columns": null,
            "grid_auto_flow": null,
            "grid_auto_rows": null,
            "grid_column": null,
            "grid_gap": null,
            "grid_row": null,
            "grid_template_areas": null,
            "grid_template_columns": null,
            "grid_template_rows": null,
            "height": null,
            "justify_content": null,
            "justify_items": null,
            "left": null,
            "margin": null,
            "max_height": null,
            "max_width": null,
            "min_height": null,
            "min_width": null,
            "object_fit": null,
            "object_position": null,
            "order": null,
            "overflow": null,
            "overflow_x": null,
            "overflow_y": null,
            "padding": null,
            "right": null,
            "top": null,
            "visibility": null,
            "width": null
          }
        },
        "54870d74f740443ba247db929348c2e9": {
          "model_module": "@jupyter-widgets/controls",
          "model_name": "DescriptionStyleModel",
          "model_module_version": "1.5.0",
          "state": {
            "_model_module": "@jupyter-widgets/controls",
            "_model_module_version": "1.5.0",
            "_model_name": "DescriptionStyleModel",
            "_view_count": null,
            "_view_module": "@jupyter-widgets/base",
            "_view_module_version": "1.2.0",
            "_view_name": "StyleView",
            "description_width": ""
          }
        },
        "0d565485e0c74cde8947fb4d786f58ca": {
          "model_module": "@jupyter-widgets/controls",
          "model_name": "HBoxModel",
          "model_module_version": "1.5.0",
          "state": {
            "_dom_classes": [],
            "_model_module": "@jupyter-widgets/controls",
            "_model_module_version": "1.5.0",
            "_model_name": "HBoxModel",
            "_view_count": null,
            "_view_module": "@jupyter-widgets/controls",
            "_view_module_version": "1.5.0",
            "_view_name": "HBoxView",
            "box_style": "",
            "children": [
              "IPY_MODEL_2400c7362d274f1a9ca68bac547f1feb",
              "IPY_MODEL_d39158e6407645f2be669b9b7fa1ff5b",
              "IPY_MODEL_d7d2142f8eb041c585b27d318842d07d"
            ],
            "layout": "IPY_MODEL_b223aeb659fb49e0b64f57cca2760af9"
          }
        },
        "2400c7362d274f1a9ca68bac547f1feb": {
          "model_module": "@jupyter-widgets/controls",
          "model_name": "HTMLModel",
          "model_module_version": "1.5.0",
          "state": {
            "_dom_classes": [],
            "_model_module": "@jupyter-widgets/controls",
            "_model_module_version": "1.5.0",
            "_model_name": "HTMLModel",
            "_view_count": null,
            "_view_module": "@jupyter-widgets/controls",
            "_view_module_version": "1.5.0",
            "_view_name": "HTMLView",
            "description": "",
            "description_tooltip": null,
            "layout": "IPY_MODEL_ba4c06b94bce4d0baa0799a3914fdc60",
            "placeholder": "​",
            "style": "IPY_MODEL_ba4c1822d4f4449fb0793d2ab47670de",
            "value": "Downloading data: 100%"
          }
        },
        "d39158e6407645f2be669b9b7fa1ff5b": {
          "model_module": "@jupyter-widgets/controls",
          "model_name": "FloatProgressModel",
          "model_module_version": "1.5.0",
          "state": {
            "_dom_classes": [],
            "_model_module": "@jupyter-widgets/controls",
            "_model_module_version": "1.5.0",
            "_model_name": "FloatProgressModel",
            "_view_count": null,
            "_view_module": "@jupyter-widgets/controls",
            "_view_module_version": "1.5.0",
            "_view_name": "ProgressView",
            "bar_style": "success",
            "description": "",
            "description_tooltip": null,
            "layout": "IPY_MODEL_e7867406a7914a13bf3b2b918cc55170",
            "max": 346470,
            "min": 0,
            "orientation": "horizontal",
            "style": "IPY_MODEL_64aa1004c8c943e68a2b63f056257c2f",
            "value": 346470
          }
        },
        "d7d2142f8eb041c585b27d318842d07d": {
          "model_module": "@jupyter-widgets/controls",
          "model_name": "HTMLModel",
          "model_module_version": "1.5.0",
          "state": {
            "_dom_classes": [],
            "_model_module": "@jupyter-widgets/controls",
            "_model_module_version": "1.5.0",
            "_model_name": "HTMLModel",
            "_view_count": null,
            "_view_module": "@jupyter-widgets/controls",
            "_view_module_version": "1.5.0",
            "_view_name": "HTMLView",
            "description": "",
            "description_tooltip": null,
            "layout": "IPY_MODEL_6f9ee7d7be164f0aa858f7662b5e5e93",
            "placeholder": "​",
            "style": "IPY_MODEL_7acc8a5005ee4c59b565b66f2fcdae60",
            "value": " 346k/346k [00:00&lt;00:00, 2.45MB/s]"
          }
        },
        "b223aeb659fb49e0b64f57cca2760af9": {
          "model_module": "@jupyter-widgets/base",
          "model_name": "LayoutModel",
          "model_module_version": "1.2.0",
          "state": {
            "_model_module": "@jupyter-widgets/base",
            "_model_module_version": "1.2.0",
            "_model_name": "LayoutModel",
            "_view_count": null,
            "_view_module": "@jupyter-widgets/base",
            "_view_module_version": "1.2.0",
            "_view_name": "LayoutView",
            "align_content": null,
            "align_items": null,
            "align_self": null,
            "border": null,
            "bottom": null,
            "display": null,
            "flex": null,
            "flex_flow": null,
            "grid_area": null,
            "grid_auto_columns": null,
            "grid_auto_flow": null,
            "grid_auto_rows": null,
            "grid_column": null,
            "grid_gap": null,
            "grid_row": null,
            "grid_template_areas": null,
            "grid_template_columns": null,
            "grid_template_rows": null,
            "height": null,
            "justify_content": null,
            "justify_items": null,
            "left": null,
            "margin": null,
            "max_height": null,
            "max_width": null,
            "min_height": null,
            "min_width": null,
            "object_fit": null,
            "object_position": null,
            "order": null,
            "overflow": null,
            "overflow_x": null,
            "overflow_y": null,
            "padding": null,
            "right": null,
            "top": null,
            "visibility": null,
            "width": null
          }
        },
        "ba4c06b94bce4d0baa0799a3914fdc60": {
          "model_module": "@jupyter-widgets/base",
          "model_name": "LayoutModel",
          "model_module_version": "1.2.0",
          "state": {
            "_model_module": "@jupyter-widgets/base",
            "_model_module_version": "1.2.0",
            "_model_name": "LayoutModel",
            "_view_count": null,
            "_view_module": "@jupyter-widgets/base",
            "_view_module_version": "1.2.0",
            "_view_name": "LayoutView",
            "align_content": null,
            "align_items": null,
            "align_self": null,
            "border": null,
            "bottom": null,
            "display": null,
            "flex": null,
            "flex_flow": null,
            "grid_area": null,
            "grid_auto_columns": null,
            "grid_auto_flow": null,
            "grid_auto_rows": null,
            "grid_column": null,
            "grid_gap": null,
            "grid_row": null,
            "grid_template_areas": null,
            "grid_template_columns": null,
            "grid_template_rows": null,
            "height": null,
            "justify_content": null,
            "justify_items": null,
            "left": null,
            "margin": null,
            "max_height": null,
            "max_width": null,
            "min_height": null,
            "min_width": null,
            "object_fit": null,
            "object_position": null,
            "order": null,
            "overflow": null,
            "overflow_x": null,
            "overflow_y": null,
            "padding": null,
            "right": null,
            "top": null,
            "visibility": null,
            "width": null
          }
        },
        "ba4c1822d4f4449fb0793d2ab47670de": {
          "model_module": "@jupyter-widgets/controls",
          "model_name": "DescriptionStyleModel",
          "model_module_version": "1.5.0",
          "state": {
            "_model_module": "@jupyter-widgets/controls",
            "_model_module_version": "1.5.0",
            "_model_name": "DescriptionStyleModel",
            "_view_count": null,
            "_view_module": "@jupyter-widgets/base",
            "_view_module_version": "1.2.0",
            "_view_name": "StyleView",
            "description_width": ""
          }
        },
        "e7867406a7914a13bf3b2b918cc55170": {
          "model_module": "@jupyter-widgets/base",
          "model_name": "LayoutModel",
          "model_module_version": "1.2.0",
          "state": {
            "_model_module": "@jupyter-widgets/base",
            "_model_module_version": "1.2.0",
            "_model_name": "LayoutModel",
            "_view_count": null,
            "_view_module": "@jupyter-widgets/base",
            "_view_module_version": "1.2.0",
            "_view_name": "LayoutView",
            "align_content": null,
            "align_items": null,
            "align_self": null,
            "border": null,
            "bottom": null,
            "display": null,
            "flex": null,
            "flex_flow": null,
            "grid_area": null,
            "grid_auto_columns": null,
            "grid_auto_flow": null,
            "grid_auto_rows": null,
            "grid_column": null,
            "grid_gap": null,
            "grid_row": null,
            "grid_template_areas": null,
            "grid_template_columns": null,
            "grid_template_rows": null,
            "height": null,
            "justify_content": null,
            "justify_items": null,
            "left": null,
            "margin": null,
            "max_height": null,
            "max_width": null,
            "min_height": null,
            "min_width": null,
            "object_fit": null,
            "object_position": null,
            "order": null,
            "overflow": null,
            "overflow_x": null,
            "overflow_y": null,
            "padding": null,
            "right": null,
            "top": null,
            "visibility": null,
            "width": null
          }
        },
        "64aa1004c8c943e68a2b63f056257c2f": {
          "model_module": "@jupyter-widgets/controls",
          "model_name": "ProgressStyleModel",
          "model_module_version": "1.5.0",
          "state": {
            "_model_module": "@jupyter-widgets/controls",
            "_model_module_version": "1.5.0",
            "_model_name": "ProgressStyleModel",
            "_view_count": null,
            "_view_module": "@jupyter-widgets/base",
            "_view_module_version": "1.2.0",
            "_view_name": "StyleView",
            "bar_color": null,
            "description_width": ""
          }
        },
        "6f9ee7d7be164f0aa858f7662b5e5e93": {
          "model_module": "@jupyter-widgets/base",
          "model_name": "LayoutModel",
          "model_module_version": "1.2.0",
          "state": {
            "_model_module": "@jupyter-widgets/base",
            "_model_module_version": "1.2.0",
            "_model_name": "LayoutModel",
            "_view_count": null,
            "_view_module": "@jupyter-widgets/base",
            "_view_module_version": "1.2.0",
            "_view_name": "LayoutView",
            "align_content": null,
            "align_items": null,
            "align_self": null,
            "border": null,
            "bottom": null,
            "display": null,
            "flex": null,
            "flex_flow": null,
            "grid_area": null,
            "grid_auto_columns": null,
            "grid_auto_flow": null,
            "grid_auto_rows": null,
            "grid_column": null,
            "grid_gap": null,
            "grid_row": null,
            "grid_template_areas": null,
            "grid_template_columns": null,
            "grid_template_rows": null,
            "height": null,
            "justify_content": null,
            "justify_items": null,
            "left": null,
            "margin": null,
            "max_height": null,
            "max_width": null,
            "min_height": null,
            "min_width": null,
            "object_fit": null,
            "object_position": null,
            "order": null,
            "overflow": null,
            "overflow_x": null,
            "overflow_y": null,
            "padding": null,
            "right": null,
            "top": null,
            "visibility": null,
            "width": null
          }
        },
        "7acc8a5005ee4c59b565b66f2fcdae60": {
          "model_module": "@jupyter-widgets/controls",
          "model_name": "DescriptionStyleModel",
          "model_module_version": "1.5.0",
          "state": {
            "_model_module": "@jupyter-widgets/controls",
            "_model_module_version": "1.5.0",
            "_model_name": "DescriptionStyleModel",
            "_view_count": null,
            "_view_module": "@jupyter-widgets/base",
            "_view_module_version": "1.2.0",
            "_view_name": "StyleView",
            "description_width": ""
          }
        },
        "0413c4033b234485ac1188d7e4ccc1ae": {
          "model_module": "@jupyter-widgets/controls",
          "model_name": "HBoxModel",
          "model_module_version": "1.5.0",
          "state": {
            "_dom_classes": [],
            "_model_module": "@jupyter-widgets/controls",
            "_model_module_version": "1.5.0",
            "_model_name": "HBoxModel",
            "_view_count": null,
            "_view_module": "@jupyter-widgets/controls",
            "_view_module_version": "1.5.0",
            "_view_name": "HBoxView",
            "box_style": "",
            "children": [
              "IPY_MODEL_fdd54779530d47c39ec3a45a48bb0ade",
              "IPY_MODEL_7bc0149df9744ee4b1f87984ea350e39",
              "IPY_MODEL_b29e4b5c2f704c0ab2ca9bf7677a4901"
            ],
            "layout": "IPY_MODEL_34cae4c44a224caea908bafd597e5500"
          }
        },
        "fdd54779530d47c39ec3a45a48bb0ade": {
          "model_module": "@jupyter-widgets/controls",
          "model_name": "HTMLModel",
          "model_module_version": "1.5.0",
          "state": {
            "_dom_classes": [],
            "_model_module": "@jupyter-widgets/controls",
            "_model_module_version": "1.5.0",
            "_model_name": "HTMLModel",
            "_view_count": null,
            "_view_module": "@jupyter-widgets/controls",
            "_view_module_version": "1.5.0",
            "_view_name": "HTMLView",
            "description": "",
            "description_tooltip": null,
            "layout": "IPY_MODEL_4eee987cce50478c83348ec8dadbbe6d",
            "placeholder": "​",
            "style": "IPY_MODEL_2819fdaa83fb48f2b9b33340e311d2ca",
            "value": "Extracting data files: 100%"
          }
        },
        "7bc0149df9744ee4b1f87984ea350e39": {
          "model_module": "@jupyter-widgets/controls",
          "model_name": "FloatProgressModel",
          "model_module_version": "1.5.0",
          "state": {
            "_dom_classes": [],
            "_model_module": "@jupyter-widgets/controls",
            "_model_module_version": "1.5.0",
            "_model_name": "FloatProgressModel",
            "_view_count": null,
            "_view_module": "@jupyter-widgets/controls",
            "_view_module_version": "1.5.0",
            "_view_name": "ProgressView",
            "bar_style": "success",
            "description": "",
            "description_tooltip": null,
            "layout": "IPY_MODEL_4b694589f429427da7655d49a8553a24",
            "max": 1,
            "min": 0,
            "orientation": "horizontal",
            "style": "IPY_MODEL_68635925dabe4a6d994c7297bfd0f6d2",
            "value": 1
          }
        },
        "b29e4b5c2f704c0ab2ca9bf7677a4901": {
          "model_module": "@jupyter-widgets/controls",
          "model_name": "HTMLModel",
          "model_module_version": "1.5.0",
          "state": {
            "_dom_classes": [],
            "_model_module": "@jupyter-widgets/controls",
            "_model_module_version": "1.5.0",
            "_model_name": "HTMLModel",
            "_view_count": null,
            "_view_module": "@jupyter-widgets/controls",
            "_view_module_version": "1.5.0",
            "_view_name": "HTMLView",
            "description": "",
            "description_tooltip": null,
            "layout": "IPY_MODEL_ff5eacea2290452789c592a7093732c3",
            "placeholder": "​",
            "style": "IPY_MODEL_522f7b1ae9244f4a9ada366f01e842ca",
            "value": " 1/1 [00:00&lt;00:00, 36.72it/s]"
          }
        },
        "34cae4c44a224caea908bafd597e5500": {
          "model_module": "@jupyter-widgets/base",
          "model_name": "LayoutModel",
          "model_module_version": "1.2.0",
          "state": {
            "_model_module": "@jupyter-widgets/base",
            "_model_module_version": "1.2.0",
            "_model_name": "LayoutModel",
            "_view_count": null,
            "_view_module": "@jupyter-widgets/base",
            "_view_module_version": "1.2.0",
            "_view_name": "LayoutView",
            "align_content": null,
            "align_items": null,
            "align_self": null,
            "border": null,
            "bottom": null,
            "display": null,
            "flex": null,
            "flex_flow": null,
            "grid_area": null,
            "grid_auto_columns": null,
            "grid_auto_flow": null,
            "grid_auto_rows": null,
            "grid_column": null,
            "grid_gap": null,
            "grid_row": null,
            "grid_template_areas": null,
            "grid_template_columns": null,
            "grid_template_rows": null,
            "height": null,
            "justify_content": null,
            "justify_items": null,
            "left": null,
            "margin": null,
            "max_height": null,
            "max_width": null,
            "min_height": null,
            "min_width": null,
            "object_fit": null,
            "object_position": null,
            "order": null,
            "overflow": null,
            "overflow_x": null,
            "overflow_y": null,
            "padding": null,
            "right": null,
            "top": null,
            "visibility": null,
            "width": null
          }
        },
        "4eee987cce50478c83348ec8dadbbe6d": {
          "model_module": "@jupyter-widgets/base",
          "model_name": "LayoutModel",
          "model_module_version": "1.2.0",
          "state": {
            "_model_module": "@jupyter-widgets/base",
            "_model_module_version": "1.2.0",
            "_model_name": "LayoutModel",
            "_view_count": null,
            "_view_module": "@jupyter-widgets/base",
            "_view_module_version": "1.2.0",
            "_view_name": "LayoutView",
            "align_content": null,
            "align_items": null,
            "align_self": null,
            "border": null,
            "bottom": null,
            "display": null,
            "flex": null,
            "flex_flow": null,
            "grid_area": null,
            "grid_auto_columns": null,
            "grid_auto_flow": null,
            "grid_auto_rows": null,
            "grid_column": null,
            "grid_gap": null,
            "grid_row": null,
            "grid_template_areas": null,
            "grid_template_columns": null,
            "grid_template_rows": null,
            "height": null,
            "justify_content": null,
            "justify_items": null,
            "left": null,
            "margin": null,
            "max_height": null,
            "max_width": null,
            "min_height": null,
            "min_width": null,
            "object_fit": null,
            "object_position": null,
            "order": null,
            "overflow": null,
            "overflow_x": null,
            "overflow_y": null,
            "padding": null,
            "right": null,
            "top": null,
            "visibility": null,
            "width": null
          }
        },
        "2819fdaa83fb48f2b9b33340e311d2ca": {
          "model_module": "@jupyter-widgets/controls",
          "model_name": "DescriptionStyleModel",
          "model_module_version": "1.5.0",
          "state": {
            "_model_module": "@jupyter-widgets/controls",
            "_model_module_version": "1.5.0",
            "_model_name": "DescriptionStyleModel",
            "_view_count": null,
            "_view_module": "@jupyter-widgets/base",
            "_view_module_version": "1.2.0",
            "_view_name": "StyleView",
            "description_width": ""
          }
        },
        "4b694589f429427da7655d49a8553a24": {
          "model_module": "@jupyter-widgets/base",
          "model_name": "LayoutModel",
          "model_module_version": "1.2.0",
          "state": {
            "_model_module": "@jupyter-widgets/base",
            "_model_module_version": "1.2.0",
            "_model_name": "LayoutModel",
            "_view_count": null,
            "_view_module": "@jupyter-widgets/base",
            "_view_module_version": "1.2.0",
            "_view_name": "LayoutView",
            "align_content": null,
            "align_items": null,
            "align_self": null,
            "border": null,
            "bottom": null,
            "display": null,
            "flex": null,
            "flex_flow": null,
            "grid_area": null,
            "grid_auto_columns": null,
            "grid_auto_flow": null,
            "grid_auto_rows": null,
            "grid_column": null,
            "grid_gap": null,
            "grid_row": null,
            "grid_template_areas": null,
            "grid_template_columns": null,
            "grid_template_rows": null,
            "height": null,
            "justify_content": null,
            "justify_items": null,
            "left": null,
            "margin": null,
            "max_height": null,
            "max_width": null,
            "min_height": null,
            "min_width": null,
            "object_fit": null,
            "object_position": null,
            "order": null,
            "overflow": null,
            "overflow_x": null,
            "overflow_y": null,
            "padding": null,
            "right": null,
            "top": null,
            "visibility": null,
            "width": null
          }
        },
        "68635925dabe4a6d994c7297bfd0f6d2": {
          "model_module": "@jupyter-widgets/controls",
          "model_name": "ProgressStyleModel",
          "model_module_version": "1.5.0",
          "state": {
            "_model_module": "@jupyter-widgets/controls",
            "_model_module_version": "1.5.0",
            "_model_name": "ProgressStyleModel",
            "_view_count": null,
            "_view_module": "@jupyter-widgets/base",
            "_view_module_version": "1.2.0",
            "_view_name": "StyleView",
            "bar_color": null,
            "description_width": ""
          }
        },
        "ff5eacea2290452789c592a7093732c3": {
          "model_module": "@jupyter-widgets/base",
          "model_name": "LayoutModel",
          "model_module_version": "1.2.0",
          "state": {
            "_model_module": "@jupyter-widgets/base",
            "_model_module_version": "1.2.0",
            "_model_name": "LayoutModel",
            "_view_count": null,
            "_view_module": "@jupyter-widgets/base",
            "_view_module_version": "1.2.0",
            "_view_name": "LayoutView",
            "align_content": null,
            "align_items": null,
            "align_self": null,
            "border": null,
            "bottom": null,
            "display": null,
            "flex": null,
            "flex_flow": null,
            "grid_area": null,
            "grid_auto_columns": null,
            "grid_auto_flow": null,
            "grid_auto_rows": null,
            "grid_column": null,
            "grid_gap": null,
            "grid_row": null,
            "grid_template_areas": null,
            "grid_template_columns": null,
            "grid_template_rows": null,
            "height": null,
            "justify_content": null,
            "justify_items": null,
            "left": null,
            "margin": null,
            "max_height": null,
            "max_width": null,
            "min_height": null,
            "min_width": null,
            "object_fit": null,
            "object_position": null,
            "order": null,
            "overflow": null,
            "overflow_x": null,
            "overflow_y": null,
            "padding": null,
            "right": null,
            "top": null,
            "visibility": null,
            "width": null
          }
        },
        "522f7b1ae9244f4a9ada366f01e842ca": {
          "model_module": "@jupyter-widgets/controls",
          "model_name": "DescriptionStyleModel",
          "model_module_version": "1.5.0",
          "state": {
            "_model_module": "@jupyter-widgets/controls",
            "_model_module_version": "1.5.0",
            "_model_name": "DescriptionStyleModel",
            "_view_count": null,
            "_view_module": "@jupyter-widgets/base",
            "_view_module_version": "1.2.0",
            "_view_name": "StyleView",
            "description_width": ""
          }
        },
        "b45273979acf4a67bf37fa50efe383bd": {
          "model_module": "@jupyter-widgets/controls",
          "model_name": "HBoxModel",
          "model_module_version": "1.5.0",
          "state": {
            "_dom_classes": [],
            "_model_module": "@jupyter-widgets/controls",
            "_model_module_version": "1.5.0",
            "_model_name": "HBoxModel",
            "_view_count": null,
            "_view_module": "@jupyter-widgets/controls",
            "_view_module_version": "1.5.0",
            "_view_name": "HBoxView",
            "box_style": "",
            "children": [
              "IPY_MODEL_f78177d2859340e4b78b28a42996a069",
              "IPY_MODEL_b99ae2c0c16d439ca9b6dacc15b3723b",
              "IPY_MODEL_95310f87f4994174ba0dd71d84a049cf"
            ],
            "layout": "IPY_MODEL_93930f5a75bb401b892ab83a33a367c6"
          }
        },
        "f78177d2859340e4b78b28a42996a069": {
          "model_module": "@jupyter-widgets/controls",
          "model_name": "HTMLModel",
          "model_module_version": "1.5.0",
          "state": {
            "_dom_classes": [],
            "_model_module": "@jupyter-widgets/controls",
            "_model_module_version": "1.5.0",
            "_model_name": "HTMLModel",
            "_view_count": null,
            "_view_module": "@jupyter-widgets/controls",
            "_view_module_version": "1.5.0",
            "_view_name": "HTMLView",
            "description": "",
            "description_tooltip": null,
            "layout": "IPY_MODEL_718f439ecf61477f87c1c39ef55ea04b",
            "placeholder": "​",
            "style": "IPY_MODEL_01d43d39f62a45c78ba6548a0414597a",
            "value": "Generating train split: "
          }
        },
        "b99ae2c0c16d439ca9b6dacc15b3723b": {
          "model_module": "@jupyter-widgets/controls",
          "model_name": "FloatProgressModel",
          "model_module_version": "1.5.0",
          "state": {
            "_dom_classes": [],
            "_model_module": "@jupyter-widgets/controls",
            "_model_module_version": "1.5.0",
            "_model_name": "FloatProgressModel",
            "_view_count": null,
            "_view_module": "@jupyter-widgets/controls",
            "_view_module_version": "1.5.0",
            "_view_name": "ProgressView",
            "bar_style": "success",
            "description": "",
            "description_tooltip": null,
            "layout": "IPY_MODEL_eb236f0c1d644e199ca9d404f882e006",
            "max": 1,
            "min": 0,
            "orientation": "horizontal",
            "style": "IPY_MODEL_b647319b1d1245b4a5d94b530fcbfdde",
            "value": 1
          }
        },
        "95310f87f4994174ba0dd71d84a049cf": {
          "model_module": "@jupyter-widgets/controls",
          "model_name": "HTMLModel",
          "model_module_version": "1.5.0",
          "state": {
            "_dom_classes": [],
            "_model_module": "@jupyter-widgets/controls",
            "_model_module_version": "1.5.0",
            "_model_name": "HTMLModel",
            "_view_count": null,
            "_view_module": "@jupyter-widgets/controls",
            "_view_module_version": "1.5.0",
            "_view_name": "HTMLView",
            "description": "",
            "description_tooltip": null,
            "layout": "IPY_MODEL_77d292f028594aeeb05d529b49bc594e",
            "placeholder": "​",
            "style": "IPY_MODEL_b307e7f08c064131b76e7357afc7c887",
            "value": " 1081/0 [00:00&lt;00:00, 13687.22 examples/s]"
          }
        },
        "93930f5a75bb401b892ab83a33a367c6": {
          "model_module": "@jupyter-widgets/base",
          "model_name": "LayoutModel",
          "model_module_version": "1.2.0",
          "state": {
            "_model_module": "@jupyter-widgets/base",
            "_model_module_version": "1.2.0",
            "_model_name": "LayoutModel",
            "_view_count": null,
            "_view_module": "@jupyter-widgets/base",
            "_view_module_version": "1.2.0",
            "_view_name": "LayoutView",
            "align_content": null,
            "align_items": null,
            "align_self": null,
            "border": null,
            "bottom": null,
            "display": null,
            "flex": null,
            "flex_flow": null,
            "grid_area": null,
            "grid_auto_columns": null,
            "grid_auto_flow": null,
            "grid_auto_rows": null,
            "grid_column": null,
            "grid_gap": null,
            "grid_row": null,
            "grid_template_areas": null,
            "grid_template_columns": null,
            "grid_template_rows": null,
            "height": null,
            "justify_content": null,
            "justify_items": null,
            "left": null,
            "margin": null,
            "max_height": null,
            "max_width": null,
            "min_height": null,
            "min_width": null,
            "object_fit": null,
            "object_position": null,
            "order": null,
            "overflow": null,
            "overflow_x": null,
            "overflow_y": null,
            "padding": null,
            "right": null,
            "top": null,
            "visibility": null,
            "width": null
          }
        },
        "718f439ecf61477f87c1c39ef55ea04b": {
          "model_module": "@jupyter-widgets/base",
          "model_name": "LayoutModel",
          "model_module_version": "1.2.0",
          "state": {
            "_model_module": "@jupyter-widgets/base",
            "_model_module_version": "1.2.0",
            "_model_name": "LayoutModel",
            "_view_count": null,
            "_view_module": "@jupyter-widgets/base",
            "_view_module_version": "1.2.0",
            "_view_name": "LayoutView",
            "align_content": null,
            "align_items": null,
            "align_self": null,
            "border": null,
            "bottom": null,
            "display": null,
            "flex": null,
            "flex_flow": null,
            "grid_area": null,
            "grid_auto_columns": null,
            "grid_auto_flow": null,
            "grid_auto_rows": null,
            "grid_column": null,
            "grid_gap": null,
            "grid_row": null,
            "grid_template_areas": null,
            "grid_template_columns": null,
            "grid_template_rows": null,
            "height": null,
            "justify_content": null,
            "justify_items": null,
            "left": null,
            "margin": null,
            "max_height": null,
            "max_width": null,
            "min_height": null,
            "min_width": null,
            "object_fit": null,
            "object_position": null,
            "order": null,
            "overflow": null,
            "overflow_x": null,
            "overflow_y": null,
            "padding": null,
            "right": null,
            "top": null,
            "visibility": null,
            "width": null
          }
        },
        "01d43d39f62a45c78ba6548a0414597a": {
          "model_module": "@jupyter-widgets/controls",
          "model_name": "DescriptionStyleModel",
          "model_module_version": "1.5.0",
          "state": {
            "_model_module": "@jupyter-widgets/controls",
            "_model_module_version": "1.5.0",
            "_model_name": "DescriptionStyleModel",
            "_view_count": null,
            "_view_module": "@jupyter-widgets/base",
            "_view_module_version": "1.2.0",
            "_view_name": "StyleView",
            "description_width": ""
          }
        },
        "eb236f0c1d644e199ca9d404f882e006": {
          "model_module": "@jupyter-widgets/base",
          "model_name": "LayoutModel",
          "model_module_version": "1.2.0",
          "state": {
            "_model_module": "@jupyter-widgets/base",
            "_model_module_version": "1.2.0",
            "_model_name": "LayoutModel",
            "_view_count": null,
            "_view_module": "@jupyter-widgets/base",
            "_view_module_version": "1.2.0",
            "_view_name": "LayoutView",
            "align_content": null,
            "align_items": null,
            "align_self": null,
            "border": null,
            "bottom": null,
            "display": null,
            "flex": null,
            "flex_flow": null,
            "grid_area": null,
            "grid_auto_columns": null,
            "grid_auto_flow": null,
            "grid_auto_rows": null,
            "grid_column": null,
            "grid_gap": null,
            "grid_row": null,
            "grid_template_areas": null,
            "grid_template_columns": null,
            "grid_template_rows": null,
            "height": null,
            "justify_content": null,
            "justify_items": null,
            "left": null,
            "margin": null,
            "max_height": null,
            "max_width": null,
            "min_height": null,
            "min_width": null,
            "object_fit": null,
            "object_position": null,
            "order": null,
            "overflow": null,
            "overflow_x": null,
            "overflow_y": null,
            "padding": null,
            "right": null,
            "top": null,
            "visibility": null,
            "width": "20px"
          }
        },
        "b647319b1d1245b4a5d94b530fcbfdde": {
          "model_module": "@jupyter-widgets/controls",
          "model_name": "ProgressStyleModel",
          "model_module_version": "1.5.0",
          "state": {
            "_model_module": "@jupyter-widgets/controls",
            "_model_module_version": "1.5.0",
            "_model_name": "ProgressStyleModel",
            "_view_count": null,
            "_view_module": "@jupyter-widgets/base",
            "_view_module_version": "1.2.0",
            "_view_name": "StyleView",
            "bar_color": null,
            "description_width": ""
          }
        },
        "77d292f028594aeeb05d529b49bc594e": {
          "model_module": "@jupyter-widgets/base",
          "model_name": "LayoutModel",
          "model_module_version": "1.2.0",
          "state": {
            "_model_module": "@jupyter-widgets/base",
            "_model_module_version": "1.2.0",
            "_model_name": "LayoutModel",
            "_view_count": null,
            "_view_module": "@jupyter-widgets/base",
            "_view_module_version": "1.2.0",
            "_view_name": "LayoutView",
            "align_content": null,
            "align_items": null,
            "align_self": null,
            "border": null,
            "bottom": null,
            "display": null,
            "flex": null,
            "flex_flow": null,
            "grid_area": null,
            "grid_auto_columns": null,
            "grid_auto_flow": null,
            "grid_auto_rows": null,
            "grid_column": null,
            "grid_gap": null,
            "grid_row": null,
            "grid_template_areas": null,
            "grid_template_columns": null,
            "grid_template_rows": null,
            "height": null,
            "justify_content": null,
            "justify_items": null,
            "left": null,
            "margin": null,
            "max_height": null,
            "max_width": null,
            "min_height": null,
            "min_width": null,
            "object_fit": null,
            "object_position": null,
            "order": null,
            "overflow": null,
            "overflow_x": null,
            "overflow_y": null,
            "padding": null,
            "right": null,
            "top": null,
            "visibility": null,
            "width": null
          }
        },
        "b307e7f08c064131b76e7357afc7c887": {
          "model_module": "@jupyter-widgets/controls",
          "model_name": "DescriptionStyleModel",
          "model_module_version": "1.5.0",
          "state": {
            "_model_module": "@jupyter-widgets/controls",
            "_model_module_version": "1.5.0",
            "_model_name": "DescriptionStyleModel",
            "_view_count": null,
            "_view_module": "@jupyter-widgets/base",
            "_view_module_version": "1.2.0",
            "_view_name": "StyleView",
            "description_width": ""
          }
        }
      }
    }
  },
  "nbformat": 4,
  "nbformat_minor": 5
}